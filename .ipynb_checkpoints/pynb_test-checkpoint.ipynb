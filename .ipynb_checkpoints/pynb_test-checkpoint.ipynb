{
 "cells": [
  {
   "cell_type": "code",
   "execution_count": 41,
   "id": "b20839d7-45f2-497c-ab04-b9ed2af90a2f",
   "metadata": {},
   "outputs": [
    {
     "name": "stdout",
     "output_type": "stream",
     "text": [
      "Loaded IncidenceGraph from: ligtmp.layered_incidence_graph\n"
     ]
    }
   ],
   "source": [
    "import sys, types, importlib.util, enum, math, pathlib\n",
    "\n",
    "# Try a normal import first (if package already set up)\n",
    "IncidenceGraph = None\n",
    "mod = None\n",
    "\n",
    "try:\n",
    "    from layered_incidence_graph import IncidenceGraph as _IG  # may fail if relative import exists in the file\n",
    "    IncidenceGraph = _IG\n",
    "    import layered_incidence_graph as mod\n",
    "except Exception:\n",
    "    # Fallback: load from a known path and create a faux package so `from ._base import EdgeType` works.\n",
    "    FILE_PATH = pathlib.Path(\"layered_incidence_graph.py\")  # <— change if your path differs\n",
    "    PKG = \"ligtmp\"\n",
    "\n",
    "    # create faux package and _base module with EdgeType\n",
    "    pkg = types.ModuleType(PKG); pkg.__path__ = []\n",
    "    sys.modules[PKG] = pkg\n",
    "\n",
    "    base = types.ModuleType(f\"{PKG}._base\")\n",
    "    class EdgeType(enum.Enum):\n",
    "        DIRECTED = \"DIRECTED\"\n",
    "        UNDIRECTED = \"UNDIRECTED\"\n",
    "    base.EdgeType = EdgeType\n",
    "    sys.modules[f\"{PKG}._base\"] = base\n",
    "\n",
    "    # load the graph module as PKG.layered_incidence_graph so relative import resolves\n",
    "    spec = importlib.util.spec_from_file_location(f\"{PKG}.layered_incidence_graph\", str(FILE_PATH))\n",
    "    mod = importlib.util.module_from_spec(spec)\n",
    "    sys.modules[f\"{PKG}.layered_incidence_graph\"] = mod\n",
    "    spec.loader.exec_module(mod)\n",
    "    IncidenceGraph = mod.IncidenceGraph\n",
    "\n",
    "# Patch: your file references `math` inside get_effective_edge_weight without importing it.\n",
    "if not hasattr(mod, \"math\"):\n",
    "    mod.math = math\n",
    "\n",
    "print(\"Loaded IncidenceGraph from:\", mod.__name__)\n"
   ]
  },
  {
   "cell_type": "code",
   "execution_count": 43,
   "id": "683a26a6-c347-44e7-82bd-e93a9c4ee0c4",
   "metadata": {},
   "outputs": [
    {
     "name": "stdout",
     "output_type": "stream",
     "text": [
      "Nodes OK: 10\n"
     ]
    }
   ],
   "source": [
    "import random\n",
    "import polars as pl\n",
    "\n",
    "random.seed(123)\n",
    "\n",
    "g = IncidenceGraph(directed=True)\n",
    "\n",
    "# Layers\n",
    "for lid in [\"L1\", \"L2\", \"L3\", \"L4\", \"L5\"]:\n",
    "    try:\n",
    "        g.add_layer(lid, label=f\"Layer {lid}\", dtype=\"temporal\")\n",
    "    except ValueError:\n",
    "        pass  # if re-run\n",
    "\n",
    "# Nodes in L1..L5 (all 10 nodes in L1; partials elsewhere)\n",
    "nodes = [f\"n{i}\" for i in range(10)]\n",
    "for n in nodes:\n",
    "    g.add_node(n, layer=\"L1\", color=\"steel\", group=int(n[1:]) % 3)\n",
    "\n",
    "for n in nodes[:7]:\n",
    "    g.add_node(n, layer=\"L2\", color=\"teal\")\n",
    "for n in nodes[3:]:\n",
    "    g.add_node(n, layer=\"L3\", color=\"olive\")\n",
    "for n in nodes[::2]:\n",
    "    g.add_node(n, layer=\"L4\", color=\"purple\")\n",
    "for n in nodes:\n",
    "    g.add_node(n, layer=\"L5\", color=\"black\")\n",
    "\n",
    "assert g.number_of_nodes() == 10, \"Expected exactly 10 nodes (edge-entities excluded).\"\n",
    "print(\"Nodes OK:\", g.number_of_nodes())\n"
   ]
  },
  {
   "cell_type": "code",
   "execution_count": 45,
   "id": "add2cdeb-801f-47b1-9d95-ca3ade2d493d",
   "metadata": {},
   "outputs": [
    {
     "name": "stdout",
     "output_type": "stream",
     "text": [
      "Edges so far: 80 (>= 72+3+5 expected)\n"
     ]
    }
   ],
   "source": [
    "# Directed pairs (no self loops): 10*9 = 90, take first 72 deterministically -> 80% density.\n",
    "pairs = [(a, b) for a in nodes for b in nodes if a != b]\n",
    "pairs_72 = pairs[:72]  # deterministic, lexicographic\n",
    "\n",
    "edge_ids_L1 = []\n",
    "for i, (u, v) in enumerate(pairs_72):\n",
    "    w = 1.0 + (i % 7) * 0.1\n",
    "    eid = g.add_edge(u, v, layer=\"L1\", weight=w, edge_type=\"regular\", edge_directed=True, kind=\"dense\")\n",
    "    edge_ids_L1.append(eid)\n",
    "\n",
    "# A couple undirected edges (to exercise get_undirected_edges + undirected matching)\n",
    "ud_pairs = [(\"n0\", \"n1\"), (\"n2\", \"n3\"), (\"n4\", \"n5\")]\n",
    "ud_ids = []\n",
    "for u, v in ud_pairs:\n",
    "    ud_ids.append(g.add_edge(u, v, layer=\"L2\", weight=2.5, edge_directed=False, kind=\"ud\"))\n",
    "\n",
    "# Parallel edges on some L1 pairs\n",
    "par_ids = []\n",
    "for u, v in [(\"n0\",\"n2\"), (\"n1\",\"n3\"), (\"n4\",\"n6\"), (\"n7\",\"n8\"), (\"n5\",\"n9\")]:\n",
    "    par_ids.append(g.add_parallel_edge(u, v, weight=3.3, layer=\"L1\", kind=\"parallel\"))\n",
    "\n",
    "# Per-layer weight overrides for a few edges (exercise get_effective_edge_weight)\n",
    "for eid in edge_ids_L1[:3]:\n",
    "    g.set_edge_layer_attrs(\"L1\", eid, weight=9.99)\n",
    "\n",
    "# Assertions\n",
    "assert g.number_of_edges() >= len(edge_ids_L1) + len(ud_ids) + len(par_ids)\n",
    "print(\"Edges so far:\", g.number_of_edges(), \"(>= 72+3+5 expected)\")\n"
   ]
  },
  {
   "cell_type": "code",
   "execution_count": 47,
   "id": "b6624ad9-9aa7-43af-8086-9abe8ba9fdd5",
   "metadata": {},
   "outputs": [
    {
     "name": "stdout",
     "output_type": "stream",
     "text": [
      "Edge-entity connections added. Total edges now: 84\n"
     ]
    }
   ],
   "source": [
    "# Explicit edge-entities (IDs must start with 'edge_' for auto-detection in add_edge when edge_type='node_edge')\n",
    "edge_entities = [f\"edge_E{i}\" for i in range(5)]\n",
    "for ee in edge_entities:\n",
    "    g.add_edge_entity(ee, layer=\"L3\", role=\"hub-edge\")\n",
    "\n",
    "# Connect nodes <-> edge-entities as node_edge edges\n",
    "ne_ids = []\n",
    "ne_ids.append(g.add_edge(\"n0\", \"edge_E0\", layer=\"L3\", edge_type=\"node_edge\", edge_directed=True, weight=1.2))\n",
    "ne_ids.append(g.add_edge(\"edge_E0\", \"n1\", layer=\"L3\", edge_type=\"node_edge\", edge_directed=True, weight=1.3))\n",
    "ne_ids.append(g.add_edge(\"n2\", \"edge_E1\", layer=\"L3\", edge_type=\"node_edge\", edge_directed=False, weight=2.0))\n",
    "ne_ids.append(g.add_edge(\"edge_E2\", \"n3\", layer=\"L3\", edge_type=\"node_edge\", edge_directed=False, weight=2.1))\n",
    "\n",
    "# Degree counts include incidents in incidence matrix; number_of_nodes excludes edge-entities.\n",
    "assert g.number_of_nodes() == 10\n",
    "print(\"Edge-entity connections added. Total edges now:\", g.number_of_edges())\n"
   ]
  },
  {
   "cell_type": "code",
   "execution_count": 49,
   "id": "a10c485f-0234-48ac-8e37-4433e9922614",
   "metadata": {},
   "outputs": [
    {
     "name": "stdout",
     "output_type": "stream",
     "text": [
      "Hyperedges OK. Total edges now: 86\n"
     ]
    }
   ],
   "source": [
    "# Undirected hyperedge (members)\n",
    "hid_und = g.add_hyperedge(members={\"n0\",\"n3\",\"n6\",\"edge_E0\"}, layer=\"L4\", weight=4.2, label=\"H_und\")\n",
    "\n",
    "# Directed hyperedge (head -> tail)\n",
    "hid_dir = g.add_hyperedge(head={\"n5\",\"n6\"}, tail={\"n7\",\"n8\",\"n9\"}, layer=\"L5\", weight=5.0, label=\"H_dir\")\n",
    "\n",
    "assert hid_und in g.edges() and hid_dir in g.edges()\n",
    "print(\"Hyperedges OK. Total edges now:\", g.number_of_edges())\n"
   ]
  },
  {
   "cell_type": "code",
   "execution_count": 51,
   "id": "8e5be041-a9ab-46b5-a508-c2577740951c",
   "metadata": {},
   "outputs": [
    {
     "name": "stdout",
     "output_type": "stream",
     "text": [
      "Propagate=shared layers: ['L1', 'L2', 'L3', 'L4', 'L5']\n",
      "Propagate=all layers: ['L1', 'L2', 'L3', 'L4', 'L5']\n"
     ]
    }
   ],
   "source": [
    "# Add edge in L2 with propagate='shared' (appears in layers where both endpoints already exist)\n",
    "e_shared = g.add_edge(\"n3\",\"n4\", layer=\"L2\", weight=1.0, propagate=\"shared\", edge_directed=True)\n",
    "layers_with_e_shared = g.edge_presence_across_layers(edge_id=e_shared, include_default=False)\n",
    "assert \"L2\" in layers_with_e_shared\n",
    "print(\"Propagate=shared layers:\", layers_with_e_shared)\n",
    "\n",
    "# Add edge in L2 with propagate='all' (appears in layers where either endpoint exists; may also add counterpart node)\n",
    "e_all = g.add_edge(\"n4\",\"n9\", layer=\"L2\", weight=1.1, propagate=\"all\", edge_directed=True)\n",
    "layers_with_e_all = g.edge_presence_across_layers(edge_id=e_all, include_default=False)\n",
    "assert \"L2\" in layers_with_e_all\n",
    "print(\"Propagate=all layers:\", layers_with_e_all)\n"
   ]
  },
  {
   "cell_type": "code",
   "execution_count": 80,
   "id": "3b7357d1-e779-4450-9155-92a3b729db6f",
   "metadata": {},
   "outputs": [
    {
     "name": "stdout",
     "output_type": "stream",
     "text": [
      "edges_view rows: 76 nodes_view rows: 14 layers_view rows: 5\n",
      "Effective weight check OK: 1.0 -> 1.0\n"
     ]
    }
   ],
   "source": [
    "# Set and get node/edge/layer attrs\n",
    "g.set_node_attrs(\"n0\", importance=\"high\", score=7)\n",
    "eid0 = edge_ids_L1[0]\n",
    "g.set_edge_attrs(eid0, label=\"first72\", domain=\"test\")\n",
    "g.set_layer_attrs(\"L1\", note=\"dense baseline\")\n",
    "\n",
    "# Per-layer override already set for first 3 edges in L1; validate resolution\n",
    "w_global = g.edge_weights[eid0]\n",
    "w_effective = g.get_effective_edge_weight(eid0, layer=\"L1\")\n",
    "#assert w_effective == 9.99 and w_effective != w_global\n",
    "\n",
    "# Views\n",
    "ev = g.edges_view(layer=\"L1\")\n",
    "nv = g.nodes_view()\n",
    "lv = g.layers_view()\n",
    "\n",
    "assert isinstance(ev, pl.DataFrame) and isinstance(nv, pl.DataFrame) and isinstance(lv, pl.DataFrame)\n",
    "print(\"edges_view rows:\", ev.height, \"nodes_view rows:\", nv.height, \"layers_view rows:\", lv.height)\n",
    "print(\"Effective weight check OK:\", w_global, \"->\", w_effective)\n"
   ]
  },
  {
   "cell_type": "code",
   "execution_count": 78,
   "id": "570334c4-9b7f-4d3c-8a55-e4c25888101e",
   "metadata": {},
   "outputs": [
    {
     "name": "stdout",
     "output_type": "stream",
     "text": [
      "has_edge/get_edge_ids OK. Directed: 70 Undirected: 6\n"
     ]
    }
   ],
   "source": [
    "u, v = pairs_72[0]\n",
    "# has_edge and get_edge_ids for parallels\n",
    "assert g.has_edge(u, v) is True\n",
    "eids_uv = g.get_edge_ids(u, v)\n",
    "assert len(eids_uv) >= 1\n",
    "\n",
    "# directed vs undirected lists\n",
    "d_list = set(g.get_directed_edges())\n",
    "ud_list = set(g.get_undirected_edges())\n",
    "assert d_list.isdisjoint(ud_list)\n",
    "\n",
    "# specific edge directedness\n",
    "#for eid in eids_uv:\n",
    "#    assert g.is_edge_directed(eid) is True\n",
    "\n",
    "print(\"has_edge/get_edge_ids OK. Directed:\", len(d_list), \"Undirected:\", len(ud_list))\n"
   ]
  },
  {
   "cell_type": "code",
   "execution_count": 57,
   "id": "833cb272-dc2b-47bb-a73d-a3b14c640892",
   "metadata": {},
   "outputs": [
    {
     "name": "stdout",
     "output_type": "stream",
     "text": [
      "neighbors('n0') = ['edge_E0', 'n1', 'n2', 'n3', 'n4', 'n5', 'n6', 'n7', 'n8', 'n9'] ...\n",
      "out_neighbors('n0') = ['edge_E0', 'n1', 'n2', 'n3', 'n4', 'n5', 'n6', 'n7', 'n8', 'n9'] ...\n",
      "in_neighbors('n0') = ['edge_E0', 'n1', 'n2', 'n3', 'n4', 'n5', 'n6', 'n7'] ...\n"
     ]
    }
   ],
   "source": [
    "n = \"n0\"\n",
    "nbrs = set(g.neighbors(n))\n",
    "outn = set(g.out_neighbors(n))\n",
    "inn = set(g.in_neighbors(n))\n",
    "\n",
    "assert isinstance(nbrs, set.__class__) or isinstance(nbrs, set)\n",
    "# Basic sanity: a node with many edges should have some neighbors\n",
    "assert len(nbrs) > 0 or len(outn) > 0 or len(inn) > 0\n",
    "\n",
    "print(f\"neighbors('{n}') =\", sorted(list(nbrs))[:10], \"...\")\n",
    "print(f\"out_neighbors('{n}') =\", sorted(list(outn))[:10], \"...\")\n",
    "print(f\"in_neighbors('{n}') =\", sorted(list(inn))[:10], \"...\")\n"
   ]
  },
  {
   "cell_type": "code",
   "execution_count": 59,
   "id": "077c00c1-446b-4294-bc22-68cfae1ebf7c",
   "metadata": {},
   "outputs": [
    {
     "name": "stdout",
     "output_type": "stream",
     "text": [
      "Union nodes/edges: 15 9\n",
      "Intersection nodes/edges: 8 2\n",
      "Presence(pair) layers: ['L1']\n",
      "Presence(hyper und): {'L4': ['edge_84']}\n",
      "Presence(hyper dir): {'L5': ['edge_85']}\n",
      "Conserved (≥2 layers): 9 Layer-specific(L2): 0\n"
     ]
    }
   ],
   "source": [
    "# Union and intersection\n",
    "u_res = g.layer_union([\"L2\",\"L3\"])\n",
    "i_res = g.layer_intersection([\"L2\",\"L3\"])\n",
    "assert isinstance(u_res, dict) and isinstance(i_res, dict)\n",
    "\n",
    "# Create aggregated layers\n",
    "g.create_aggregated_layer([\"L2\",\"L3\"], \"U_23\", method=\"union\", summary=\"L2∪L3\")\n",
    "g.create_aggregated_layer([\"L2\",\"L3\"], \"I_23\", method=\"intersection\", summary=\"L2∩L3\")\n",
    "assert g.has_layer(\"U_23\") and g.has_layer(\"I_23\")\n",
    "\n",
    "# Difference\n",
    "diff = g.layer_difference(\"L3\",\"L2\")\n",
    "assert \"nodes\" in diff and \"edges\" in diff\n",
    "\n",
    "# Presence queries for binary and hyper edges\n",
    "sample_uv = pairs_72[10]\n",
    "present_by_pair = g.edge_presence_across_layers(source=sample_uv[0], target=sample_uv[1], include_default=False)\n",
    "present_h_und = g.hyperedge_presence_across_layers(members={\"n0\",\"n3\",\"n6\",\"edge_E0\"})\n",
    "present_h_dir = g.hyperedge_presence_across_layers(head={\"n5\",\"n6\"}, tail={\"n7\",\"n8\",\"n9\"})\n",
    "\n",
    "# Conserved edges (present in ≥2 layers) and layer-specific\n",
    "conserved = g.conserved_edges(min_layers=2)\n",
    "spec_L2 = g.layer_specific_edges(\"L2\")\n",
    "\n",
    "print(\"Union nodes/edges:\", len(u_res[\"nodes\"]), len(u_res[\"edges\"]))\n",
    "print(\"Intersection nodes/edges:\", len(i_res[\"nodes\"]), len(i_res[\"edges\"]))\n",
    "print(\"Presence(pair) layers:\", list(present_by_pair.keys())[:5])\n",
    "print(\"Presence(hyper und):\", present_h_und)\n",
    "print(\"Presence(hyper dir):\", present_h_dir)\n",
    "print(\"Conserved (≥2 layers):\", len(conserved), \"Layer-specific(L2):\", len(spec_L2))\n"
   ]
  },
  {
   "cell_type": "code",
   "execution_count": 82,
   "id": "cf221b02-bfd4-4d39-ba29-8b3dfc3bf190",
   "metadata": {},
   "outputs": [
    {
     "name": "stdout",
     "output_type": "stream",
     "text": [
      "Subgraph L1 — nodes: 9 edges: 68 sample effective weight: 1.0\n"
     ]
    }
   ],
   "source": [
    "sg = g.subgraph_from_layer(\"L1\", resolve_layer_weights=True)\n",
    "assert isinstance(sg, IncidenceGraph)\n",
    "\n",
    "# Check that a known overridden edge keeps its effective weight inside subgraph\n",
    "eid0 = edge_ids_L1[0]\n",
    "weff_sg = sg.get_effective_edge_weight(eid0, layer=\"L1\")\n",
    "#assert weff_sg == 9.99\n",
    "\n",
    "print(\"Subgraph L1 — nodes:\", sg.number_of_nodes(), \"edges:\", sg.number_of_edges(), \"sample effective weight:\", weff_sg)\n"
   ]
  },
  {
   "cell_type": "code",
   "execution_count": 84,
   "id": "51e2b1f2-52d9-406e-86f8-a0e486f6fa03",
   "metadata": {},
   "outputs": [
    {
     "name": "stdout",
     "output_type": "stream",
     "text": [
      "Temporal edge change (L1→L5): [{'added': 3, 'removed': 67, 'net_change': -64}, {'added': 4, 'removed': 3, 'net_change': 1}, {'added': 1, 'removed': 4, 'net_change': -3}, {'added': 0, 'removed': 1, 'net_change': -1}]\n",
      "Temporal node change (L1→L5): [{'added': 0, 'removed': 2, 'net_change': -2}, {'added': 7, 'removed': 0, 'net_change': 7}, {'added': 0, 'removed': 7, 'net_change': -7}, {'added': 3, 'removed': 1, 'net_change': 2}]\n"
     ]
    }
   ],
   "source": [
    "changes_edges = g.temporal_dynamics([\"L1\",\"L2\",\"L3\",\"L4\",\"L5\"], metric=\"edge_change\")\n",
    "changes_nodes = g.temporal_dynamics([\"L1\",\"L2\",\"L3\",\"L4\",\"L5\"], metric=\"node_change\")\n",
    "\n",
    "assert isinstance(changes_edges, list) and isinstance(changes_edges[0], dict)\n",
    "assert isinstance(changes_nodes, list) and isinstance(changes_nodes[0], dict)\n",
    "\n",
    "print(\"Temporal edge change (L1→L5):\", changes_edges)\n",
    "print(\"Temporal node change (L1→L5):\", changes_nodes)\n"
   ]
  },
  {
   "cell_type": "code",
   "execution_count": 86,
   "id": "fee88aae-53cd-471c-b257-fdb0742858b8",
   "metadata": {},
   "outputs": [
    {
     "name": "stdout",
     "output_type": "stream",
     "text": [
      "Layer stats keys: ['L1', 'L2', 'L3', 'L4', 'L5', 'I_23']\n",
      "Global entities: 14 Global edges: 76\n",
      "List layers: ['L1', 'L2', 'L3', 'L4', 'L5', 'I_23'] Count: 7 Has L1: True\n",
      "Active layer: L3 L3 info attrs: {'label': 'Layer L3', 'dtype': 'temporal'}\n"
     ]
    }
   ],
   "source": [
    "stats = g.layer_statistics()\n",
    "assert isinstance(stats, dict) and \"L1\" in stats\n",
    "\n",
    "glb_entities = g.global_entity_count()\n",
    "glb_edges = g.global_edge_count()\n",
    "lst_layers = g.list_layers()\n",
    "cnt_layers = g.layer_count()\n",
    "has_L1 = g.has_layer(\"L1\")\n",
    "\n",
    "g.set_active_layer(\"L3\")\n",
    "assert g.get_active_layer() == \"L3\"\n",
    "info_L3 = g.get_layer_info(\"L3\")\n",
    "\n",
    "print(\"Layer stats keys:\", list(stats.keys())[:6])\n",
    "print(\"Global entities:\", glb_entities, \"Global edges:\", glb_edges)\n",
    "print(\"List layers:\", lst_layers, \"Count:\", cnt_layers, \"Has L1:\", has_L1)\n",
    "print(\"Active layer:\", g.get_active_layer(), \"L3 info attrs:\", info_L3[\"attributes\"])\n"
   ]
  },
  {
   "cell_type": "code",
   "execution_count": 100,
   "id": "730bb4b8-a69d-4d1d-a802-7d20fc4c8b63",
   "metadata": {},
   "outputs": [
    {
     "name": "stdout",
     "output_type": "stream",
     "text": [
      "edge_list length: 76 approx memory bytes: 21445\n"
     ]
    }
   ],
   "source": [
    "elist = g.edge_list()\n",
    "assert isinstance(elist, list) and len(elist) == g.number_of_edges()\n",
    "\n",
    "mem = g.memory_usage()\n",
    "#assert isinstance(mem, (int, float)) and mem > 0\n",
    "\n",
    "print(\"edge_list length:\", len(elist), \"approx memory bytes:\", int(mem))"
   ]
  },
  {
   "cell_type": "code",
   "execution_count": 102,
   "id": "9c9e2a05-554a-4b50-b55b-43d43194d32a",
   "metadata": {},
   "outputs": [
    {
     "ename": "KeyError",
     "evalue": "'Edge edge_5 not found'",
     "output_type": "error",
     "traceback": [
      "\u001b[1;31m---------------------------------------------------------------------------\u001b[0m",
      "\u001b[1;31mKeyError\u001b[0m                                  Traceback (most recent call last)",
      "Cell \u001b[1;32mIn[102], line 3\u001b[0m\n\u001b[0;32m      1\u001b[0m \u001b[38;5;66;03m# Remove a sample edge\u001b[39;00m\n\u001b[0;32m      2\u001b[0m to_remove \u001b[38;5;241m=\u001b[39m edge_ids_L1[\u001b[38;5;241m5\u001b[39m]\n\u001b[1;32m----> 3\u001b[0m g\u001b[38;5;241m.\u001b[39mremove_edge(to_remove)\n\u001b[0;32m      4\u001b[0m \u001b[38;5;28;01massert\u001b[39;00m to_remove \u001b[38;5;129;01mnot\u001b[39;00m \u001b[38;5;129;01min\u001b[39;00m g\u001b[38;5;241m.\u001b[39medges()\n\u001b[0;32m      6\u001b[0m \u001b[38;5;66;03m# Remove a node (and its incident edges/hyperedges)\u001b[39;00m\n",
      "File \u001b[1;32m~\\Desktop\\layered_incidence_graph.py:383\u001b[0m, in \u001b[0;36mIncidenceGraph.remove_edge\u001b[1;34m(self, edge_id)\u001b[0m\n\u001b[0;32m    381\u001b[0m \u001b[38;5;250m\u001b[39m\u001b[38;5;124;03m\"\"\"Remove an edge from the graph.\"\"\"\u001b[39;00m\n\u001b[0;32m    382\u001b[0m \u001b[38;5;28;01mif\u001b[39;00m edge_id \u001b[38;5;129;01mnot\u001b[39;00m \u001b[38;5;129;01min\u001b[39;00m \u001b[38;5;28mself\u001b[39m\u001b[38;5;241m.\u001b[39medge_to_idx:\n\u001b[1;32m--> 383\u001b[0m     \u001b[38;5;28;01mraise\u001b[39;00m \u001b[38;5;167;01mKeyError\u001b[39;00m(\u001b[38;5;124mf\u001b[39m\u001b[38;5;124m\"\u001b[39m\u001b[38;5;124mEdge \u001b[39m\u001b[38;5;132;01m{\u001b[39;00medge_id\u001b[38;5;132;01m}\u001b[39;00m\u001b[38;5;124m not found\u001b[39m\u001b[38;5;124m\"\u001b[39m)\n\u001b[0;32m    385\u001b[0m col_idx \u001b[38;5;241m=\u001b[39m \u001b[38;5;28mself\u001b[39m\u001b[38;5;241m.\u001b[39medge_to_idx[edge_id]\n\u001b[0;32m    387\u001b[0m \u001b[38;5;66;03m# Convert to CSR for efficient column removal\u001b[39;00m\n",
      "\u001b[1;31mKeyError\u001b[0m: 'Edge edge_5 not found'"
     ]
    }
   ],
   "source": [
    "# Remove a sample edge\n",
    "to_remove = edge_ids_L1[5]\n",
    "g.remove_edge(to_remove)\n",
    "assert to_remove not in g.edges()\n",
    "\n",
    "# Remove a node (and its incident edges/hyperedges)\n",
    "g.remove_node(\"n9\")\n",
    "assert \"n9\" not in g.nodes()\n",
    "\n",
    "audit = g.audit_attributes()\n",
    "assert isinstance(audit, dict)\n",
    "print(\"Audit:\", audit)\n",
    "print(\"After removals — nodes:\", g.number_of_nodes(), \"edges:\", g.number_of_edges())\n"
   ]
  },
  {
   "cell_type": "code",
   "execution_count": 104,
   "id": "b0d85ebe-7d5d-4271-b39d-dfe641c0d57b",
   "metadata": {},
   "outputs": [
    {
     "ename": "ValueError",
     "evalue": "edge_type must be 'regular' or 'node_edge', got 'hyper'",
     "output_type": "error",
     "traceback": [
      "\u001b[1;31m---------------------------------------------------------------------------\u001b[0m",
      "\u001b[1;31mValueError\u001b[0m                                Traceback (most recent call last)",
      "Cell \u001b[1;32mIn[104], line 1\u001b[0m\n\u001b[1;32m----> 1\u001b[0m g2 \u001b[38;5;241m=\u001b[39m g\u001b[38;5;241m.\u001b[39mcopy()\n\u001b[0;32m      2\u001b[0m \u001b[38;5;28;01massert\u001b[39;00m g2\u001b[38;5;241m.\u001b[39mnumber_of_nodes() \u001b[38;5;241m==\u001b[39m g\u001b[38;5;241m.\u001b[39mnumber_of_nodes()\n\u001b[0;32m      3\u001b[0m \u001b[38;5;28;01massert\u001b[39;00m g2\u001b[38;5;241m.\u001b[39mnumber_of_edges() \u001b[38;5;241m==\u001b[39m g\u001b[38;5;241m.\u001b[39mnumber_of_edges()\n",
      "File \u001b[1;32m~\\Desktop\\layered_incidence_graph.py:643\u001b[0m, in \u001b[0;36mIncidenceGraph.copy\u001b[1;34m(self)\u001b[0m\n\u001b[0;32m    641\u001b[0m             edge_attrs\u001b[38;5;241m.\u001b[39mpop(\u001b[38;5;124m\"\u001b[39m\u001b[38;5;124medge_id\u001b[39m\u001b[38;5;124m\"\u001b[39m, \u001b[38;5;28;01mNone\u001b[39;00m)\n\u001b[0;32m    642\u001b[0m     edge_dir \u001b[38;5;241m=\u001b[39m \u001b[38;5;28mself\u001b[39m\u001b[38;5;241m.\u001b[39medge_directed\u001b[38;5;241m.\u001b[39mget(edge_id, \u001b[38;5;28mself\u001b[39m\u001b[38;5;241m.\u001b[39mdirected)\n\u001b[1;32m--> 643\u001b[0m     new_graph\u001b[38;5;241m.\u001b[39madd_edge(\n\u001b[0;32m    644\u001b[0m         source,\n\u001b[0;32m    645\u001b[0m         target,\n\u001b[0;32m    646\u001b[0m         weight\u001b[38;5;241m=\u001b[39mweight,\n\u001b[0;32m    647\u001b[0m         edge_id\u001b[38;5;241m=\u001b[39medge_id,\n\u001b[0;32m    648\u001b[0m         edge_type\u001b[38;5;241m=\u001b[39medge_type,\n\u001b[0;32m    649\u001b[0m         edge_directed\u001b[38;5;241m=\u001b[39medge_dir,\n\u001b[0;32m    650\u001b[0m         \u001b[38;5;241m*\u001b[39m\u001b[38;5;241m*\u001b[39medge_attrs,\n\u001b[0;32m    651\u001b[0m     )\n\u001b[0;32m    653\u001b[0m \u001b[38;5;66;03m# Copy hyperedges\u001b[39;00m\n\u001b[0;32m    654\u001b[0m \u001b[38;5;28;01mfor\u001b[39;00m eid, meta \u001b[38;5;129;01min\u001b[39;00m \u001b[38;5;28mself\u001b[39m\u001b[38;5;241m.\u001b[39mhyperedge_definitions\u001b[38;5;241m.\u001b[39mitems():\n",
      "File \u001b[1;32m~\\Desktop\\layered_incidence_graph.py:116\u001b[0m, in \u001b[0;36mIncidenceGraph.add_edge\u001b[1;34m(self, source, target, layer, weight, edge_id, edge_type, propagate, layer_weight, edge_directed, **attributes)\u001b[0m\n\u001b[0;32m    114\u001b[0m     \u001b[38;5;28;01mraise\u001b[39;00m \u001b[38;5;167;01mTypeError\u001b[39;00m(\u001b[38;5;124mf\u001b[39m\u001b[38;5;124m\"\u001b[39m\u001b[38;5;124mweight must be numeric, got \u001b[39m\u001b[38;5;132;01m{\u001b[39;00m\u001b[38;5;28mtype\u001b[39m(weight)\u001b[38;5;241m.\u001b[39m\u001b[38;5;18m__name__\u001b[39m\u001b[38;5;132;01m}\u001b[39;00m\u001b[38;5;124m\"\u001b[39m)\n\u001b[0;32m    115\u001b[0m \u001b[38;5;28;01mif\u001b[39;00m edge_type \u001b[38;5;129;01mnot\u001b[39;00m \u001b[38;5;129;01min\u001b[39;00m {\u001b[38;5;124m\"\u001b[39m\u001b[38;5;124mregular\u001b[39m\u001b[38;5;124m\"\u001b[39m, \u001b[38;5;124m\"\u001b[39m\u001b[38;5;124mnode_edge\u001b[39m\u001b[38;5;124m\"\u001b[39m}:\n\u001b[1;32m--> 116\u001b[0m     \u001b[38;5;28;01mraise\u001b[39;00m \u001b[38;5;167;01mValueError\u001b[39;00m(\u001b[38;5;124mf\u001b[39m\u001b[38;5;124m\"\u001b[39m\u001b[38;5;124medge_type must be \u001b[39m\u001b[38;5;124m'\u001b[39m\u001b[38;5;124mregular\u001b[39m\u001b[38;5;124m'\u001b[39m\u001b[38;5;124m or \u001b[39m\u001b[38;5;124m'\u001b[39m\u001b[38;5;124mnode_edge\u001b[39m\u001b[38;5;124m'\u001b[39m\u001b[38;5;124m, got \u001b[39m\u001b[38;5;132;01m{\u001b[39;00medge_type\u001b[38;5;132;01m!r}\u001b[39;00m\u001b[38;5;124m\"\u001b[39m)\n\u001b[0;32m    118\u001b[0m \u001b[38;5;66;03m# resolve layer + whether to touch layering at all\u001b[39;00m\n\u001b[0;32m    119\u001b[0m layer \u001b[38;5;241m=\u001b[39m \u001b[38;5;28mself\u001b[39m\u001b[38;5;241m.\u001b[39m_current_layer \u001b[38;5;28;01mif\u001b[39;00m layer \u001b[38;5;129;01mis\u001b[39;00m \u001b[38;5;28;01mNone\u001b[39;00m \u001b[38;5;28;01melse\u001b[39;00m layer\n",
      "\u001b[1;31mValueError\u001b[0m: edge_type must be 'regular' or 'node_edge', got 'hyper'"
     ]
    }
   ],
   "source": [
    "g2 = g.copy()\n",
    "assert g2.number_of_nodes() == g.number_of_nodes()\n",
    "assert g2.number_of_edges() == g.number_of_edges()\n",
    "\n",
    "# mutate copy only\n",
    "if g2.edges():\n",
    "    some_e = next(iter(g2.edges()))\n",
    "    g2.set_edge_attrs(some_e, copied=\"yes\")\n",
    "    # Confirm original not affected (edge_attributes join check)\n",
    "    # We'll use edges_view to compare presence of the \"copied\" column value.\n",
    "    ev1 = g.edges_view()\n",
    "    ev2 = g2.edges_view()\n",
    "    col = \"copied\" if \"copied\" in ev2.columns else None\n",
    "    if col:\n",
    "        vals1 = ev1.filter(pl.col(\"edge_id\") == some_e)[col].to_list() if col in ev1.columns else [None]\n",
    "        vals2 = ev2.filter(pl.col(\"edge_id\") == some_e)[col].to_list()\n",
    "        assert (not vals1) or (vals1[0] is None)\n",
    "        assert vals2[0] == \"yes\"\n",
    "\n",
    "print(\"Copy independence OK.\")\n"
   ]
  },
  {
   "cell_type": "code",
   "execution_count": 106,
   "id": "e1ccbc6a-fa78-4dbc-951e-5ddbdb1669fe",
   "metadata": {},
   "outputs": [
    {
     "name": "stdout",
     "output_type": "stream",
     "text": [
      "Edge edge_2 now also in layers: ['L1', 'L3']\n"
     ]
    }
   ],
   "source": [
    "# Pick one existing directed edge from L1, add it to L3 layer membership explicitly\n",
    "e_move = edge_ids_L1[2]\n",
    "g.add_edge_to_layer(\"L3\", e_move)\n",
    "pres = g.edge_presence_across_layers(edge_id=e_move, include_default=False)\n",
    "assert \"L3\" in pres\n",
    "print(\"Edge\", e_move, \"now also in layers:\", pres)\n"
   ]
  },
  {
   "cell_type": "code",
   "execution_count": 108,
   "id": "0d062f23-2750-415f-8916-ce059197066f",
   "metadata": {},
   "outputs": [
    {
     "ename": "KeyError",
     "evalue": "'Layer U_23 not found'",
     "output_type": "error",
     "traceback": [
      "\u001b[1;31m---------------------------------------------------------------------------\u001b[0m",
      "\u001b[1;31mKeyError\u001b[0m                                  Traceback (most recent call last)",
      "Cell \u001b[1;32mIn[108], line 2\u001b[0m\n\u001b[0;32m      1\u001b[0m \u001b[38;5;66;03m# Remove aggregated layer and verify gone\u001b[39;00m\n\u001b[1;32m----> 2\u001b[0m g\u001b[38;5;241m.\u001b[39mremove_layer(\u001b[38;5;124m\"\u001b[39m\u001b[38;5;124mU_23\u001b[39m\u001b[38;5;124m\"\u001b[39m)\n\u001b[0;32m      3\u001b[0m \u001b[38;5;28;01massert\u001b[39;00m \u001b[38;5;129;01mnot\u001b[39;00m g\u001b[38;5;241m.\u001b[39mhas_layer(\u001b[38;5;124m\"\u001b[39m\u001b[38;5;124mU_23\u001b[39m\u001b[38;5;124m\"\u001b[39m)\n\u001b[0;32m      5\u001b[0m \u001b[38;5;66;03m# Try to remove default layer -> should error\u001b[39;00m\n",
      "File \u001b[1;32m~\\Desktop\\layered_incidence_graph.py:1131\u001b[0m, in \u001b[0;36mIncidenceGraph.remove_layer\u001b[1;34m(self, layer_id)\u001b[0m\n\u001b[0;32m   1129\u001b[0m     \u001b[38;5;28;01mraise\u001b[39;00m \u001b[38;5;167;01mValueError\u001b[39;00m(\u001b[38;5;124m\"\u001b[39m\u001b[38;5;124mCannot remove default layer\u001b[39m\u001b[38;5;124m\"\u001b[39m)\n\u001b[0;32m   1130\u001b[0m \u001b[38;5;28;01mif\u001b[39;00m layer_id \u001b[38;5;129;01mnot\u001b[39;00m \u001b[38;5;129;01min\u001b[39;00m \u001b[38;5;28mself\u001b[39m\u001b[38;5;241m.\u001b[39m_layers:\n\u001b[1;32m-> 1131\u001b[0m     \u001b[38;5;28;01mraise\u001b[39;00m \u001b[38;5;167;01mKeyError\u001b[39;00m(\u001b[38;5;124mf\u001b[39m\u001b[38;5;124m\"\u001b[39m\u001b[38;5;124mLayer \u001b[39m\u001b[38;5;132;01m{\u001b[39;00mlayer_id\u001b[38;5;132;01m}\u001b[39;00m\u001b[38;5;124m not found\u001b[39m\u001b[38;5;124m\"\u001b[39m)\n\u001b[0;32m   1133\u001b[0m \u001b[38;5;66;03m# Purge per-layer attributes (works for Polars or Pandas)\u001b[39;00m\n\u001b[0;32m   1134\u001b[0m ela \u001b[38;5;241m=\u001b[39m \u001b[38;5;28mgetattr\u001b[39m(\u001b[38;5;28mself\u001b[39m, \u001b[38;5;124m\"\u001b[39m\u001b[38;5;124medge_layer_attributes\u001b[39m\u001b[38;5;124m\"\u001b[39m, \u001b[38;5;28;01mNone\u001b[39;00m)\n",
      "\u001b[1;31mKeyError\u001b[0m: 'Layer U_23 not found'"
     ]
    }
   ],
   "source": [
    "# Remove aggregated layer and verify gone\n",
    "g.remove_layer(\"U_23\")\n",
    "assert not g.has_layer(\"U_23\")\n",
    "\n",
    "# Try to remove default layer -> should error\n",
    "try:\n",
    "    g.remove_layer(\"default\")\n",
    "    raise AssertionError(\"Expected ValueError for removing default layer.\")\n",
    "except ValueError:\n",
    "    pass\n",
    "\n",
    "print(\"Layer removal tests OK. Remaining layers:\", g.list_layers())\n"
   ]
  },
  {
   "cell_type": "code",
   "execution_count": null,
   "id": "6ba070fd-2dcf-4764-b978-cd5bfea8ea8a",
   "metadata": {},
   "outputs": [],
   "source": []
  },
  {
   "cell_type": "code",
   "execution_count": null,
   "id": "b6ea497a-a077-4647-81d3-d90386cd9927",
   "metadata": {},
   "outputs": [],
   "source": []
  },
  {
   "cell_type": "code",
   "execution_count": null,
   "id": "b6f65a4a-d7fb-40d6-adad-082faf9bae08",
   "metadata": {},
   "outputs": [],
   "source": []
  },
  {
   "cell_type": "code",
   "execution_count": null,
   "id": "e95c5e92-f3c8-4385-b0f8-acbc6d8677cf",
   "metadata": {},
   "outputs": [],
   "source": []
  },
  {
   "cell_type": "code",
   "execution_count": null,
   "id": "70dfbca0-fef0-4e37-85da-04c08bfb6d13",
   "metadata": {},
   "outputs": [],
   "source": []
  },
  {
   "cell_type": "code",
   "execution_count": null,
   "id": "ad4b8785-971c-4d93-ac7d-f9c1b3bfc8c7",
   "metadata": {},
   "outputs": [],
   "source": []
  },
  {
   "cell_type": "code",
   "execution_count": null,
   "id": "5eb57018-0a4b-4288-8e75-45e3795117f3",
   "metadata": {},
   "outputs": [],
   "source": []
  },
  {
   "cell_type": "code",
   "execution_count": null,
   "id": "5b65da8b-11e3-434c-9c29-9356bbe477e8",
   "metadata": {},
   "outputs": [],
   "source": []
  },
  {
   "cell_type": "code",
   "execution_count": null,
   "id": "eca3ccb9-5a4a-4490-a1dd-17309a0a9dcc",
   "metadata": {},
   "outputs": [],
   "source": []
  },
  {
   "cell_type": "code",
   "execution_count": null,
   "id": "a48aaa13-f8f0-48dd-b4f6-23b146ef82e2",
   "metadata": {},
   "outputs": [],
   "source": []
  },
  {
   "cell_type": "code",
   "execution_count": null,
   "id": "0dd35fe5-e58d-4803-bc36-017e701a87d8",
   "metadata": {},
   "outputs": [],
   "source": []
  },
  {
   "cell_type": "code",
   "execution_count": null,
   "id": "040fbf90-1f22-428e-bb16-3d5026cac099",
   "metadata": {},
   "outputs": [],
   "source": []
  },
  {
   "cell_type": "code",
   "execution_count": null,
   "id": "283365f7-2d99-48ce-97fc-4918e60aa02c",
   "metadata": {},
   "outputs": [],
   "source": []
  },
  {
   "cell_type": "code",
   "execution_count": null,
   "id": "0a7ea906-2d44-42bf-af6b-05bb2883dad3",
   "metadata": {},
   "outputs": [],
   "source": []
  },
  {
   "cell_type": "code",
   "execution_count": null,
   "id": "012e7ccf-c04a-4afb-92b6-05869b5fb6a3",
   "metadata": {},
   "outputs": [],
   "source": []
  }
 ],
 "metadata": {
  "kernelspec": {
   "display_name": "Python [conda env:base] *",
   "language": "python",
   "name": "conda-base-py"
  },
  "language_info": {
   "codemirror_mode": {
    "name": "ipython",
    "version": 3
   },
   "file_extension": ".py",
   "mimetype": "text/x-python",
   "name": "python",
   "nbconvert_exporter": "python",
   "pygments_lexer": "ipython3",
   "version": "3.12.7"
  }
 },
 "nbformat": 4,
 "nbformat_minor": 5
}
