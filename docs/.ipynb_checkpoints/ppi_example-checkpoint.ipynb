{
 "cells": [
  {
   "cell_type": "code",
   "execution_count": 6,
   "id": "2dcdeb30-e714-4d65-86ca-855c07a6760d",
   "metadata": {},
   "outputs": [],
   "source": [
    "import sys\n",
    "sys.path.insert(0, r\"C:\\Users\\PC\\Desktop\\graphglue - Copie - Copie\")\n",
    "from graphglue.core.incgraph import IncidenceGraph\n"
   ]
  },
  {
   "cell_type": "code",
   "execution_count": 8,
   "id": "cf2037ef-99fb-4d18-957e-7eeb20ec9cfe",
   "metadata": {},
   "outputs": [],
   "source": [
    "# ---------- Setup ----------\n",
    "G = IncidenceGraph(directed=True)\n",
    "conditions = [\"Healthy\", \"Stressed\", \"Disease\"]\n",
    "for c in conditions:\n",
    "    G.add_layer(c, condition=c)\n",
    "\n",
    "# Entities\n",
    "proteins = [f\"P{i}\" for i in range(1, 151)]   # P1..P150\n",
    "transcripts = [f\"T{i}\" for i in range(1, 61)]  # T1..T60 (treat as nodes)\n",
    "enz_edge_entities = [f\"edge_rxn_{i}\" for i in range(1, 11)]  # edge-entities for reactions\n",
    "\n",
    "# Seed some node attributes\n",
    "for p in proteins[:10]:\n",
    "    G.add_node(p, layer=\"Healthy\", family=\"kinase\")\n",
    "for p in proteins[10:]:\n",
    "    G.add_node(p, layer=\"Healthy\")\n",
    "for t in transcripts:\n",
    "    G.add_node(t, layer=\"Healthy\", kind=\"transcript\")\n",
    "for ee in enz_edge_entities:\n",
    "    G.add_edge_entity(ee, layer=\"Healthy\", role=\"enzyme\")\n",
    "\n",
    "# Propagate initial nodes to all layers (cheaply)\n",
    "for lid in [\"Stressed\", \"Disease\"]:\n",
    "    G._layers[lid][\"nodes\"].update(G._layers[\"Healthy\"][\"nodes\"])"
   ]
  },
  {
   "cell_type": "code",
   "execution_count": 10,
   "id": "5a76d0ff-c7a1-421d-afc7-0f4de468c52f",
   "metadata": {},
   "outputs": [],
   "source": [
    "# ---------- Build PPI edges in all layers ----------\n",
    "import random\n",
    "\n",
    "def rand_weight(base=1.0, jitter=0.5):\n",
    "    return max(0.05, base + (random.random() - 0.5) * 2 * jitter)\n",
    "\n",
    "ppis = []\n",
    "for _ in range(320):\n",
    "    u, v = random.sample(proteins, 2)\n",
    "    w = rand_weight(1.2, 0.6)\n",
    "    e = G.add_edge(u, v, layer=\"Healthy\", weight=w, edge_directed=False)\n",
    "    ppis.append(e)\n",
    "\n",
    "# Stress/disease layer variants (override per-layer weights)\n",
    "for eid in ppis:\n",
    "    # Stressed: mostly +10% with jitter\n",
    "    G.add_edge_to_layer(\"Stressed\", eid)\n",
    "    G.set_edge_layer_attrs(\"Stressed\", eid, weight=G.edge_weights[eid] * rand_weight(1.10, 0.1))\n",
    "    # Disease: some edges get weaker; others stronger\n",
    "    G.add_edge_to_layer(\"Disease\", eid)\n",
    "    factor = 0.7 if random.random() < 0.4 else 1.3\n",
    "    G.set_edge_layer_attrs(\"Disease\", eid, weight=G.edge_weights[eid] * rand_weight(factor, 0.15))"
   ]
  },
  {
   "cell_type": "code",
   "execution_count": 12,
   "id": "f984ac51-9a21-4e8d-85c2-c0fafb0121f8",
   "metadata": {},
   "outputs": [],
   "source": [
    "# ---------- Complexes as undirected hyperedges ----------\n",
    "complexes = []\n",
    "for _ in range(12):\n",
    "    members = set(random.sample(proteins, random.choice([3, 4, 5])))\n",
    "    hid = G.add_hyperedge(members=members, layer=\"Healthy\", weight=rand_weight(1.0, 0.2))\n",
    "    complexes.append(hid)\n",
    "    # complex exists in all layers (same membership)\n",
    "    for lid in [\"Stressed\", \"Disease\"]:\n",
    "        G.add_edge_to_layer(lid, hid)"
   ]
  },
  {
   "cell_type": "code",
   "execution_count": 14,
   "id": "d846cbf1-c5ed-4a17-a65c-89bd8620ae50",
   "metadata": {},
   "outputs": [],
   "source": [
    "# ---------- Directed signaling cascades as hyperedges ----------\n",
    "cascades = []\n",
    "while len(cascades) < 8:\n",
    "    head = set(random.sample(proteins, random.choice([1, 2])))\n",
    "    tail = set(random.sample(proteins, random.choice([2, 3, 4])))\n",
    "    if head & tail:\n",
    "        continue  # resample until disjoint\n",
    "    hid = G.add_hyperedge(head=head, tail=tail, layer=\"Healthy\", weight=rand_weight(1.0, 0.4))\n",
    "    cascades.append(hid)\n",
    "    for lid in [\"Stressed\", \"Disease\"]:\n",
    "        G.add_edge_to_layer(lid, hid)"
   ]
  },
  {
   "cell_type": "code",
   "execution_count": 16,
   "id": "f4ccdd12-bedf-4270-99f6-ea0afe05f00e",
   "metadata": {},
   "outputs": [],
   "source": [
    "# ---------- Reactions connecting nodes to edge-entities ----------\n",
    "for ee in enz_edge_entities:\n",
    "    s, t = random.sample(proteins, 2)\n",
    "    G.add_edge(s, ee, layer=\"Healthy\", edge_type=\"node_edge\", weight=1.0 + random.random())\n",
    "    G.add_edge(ee, t, layer=\"Healthy\", edge_type=\"node_edge\", weight=1.0 + random.random())\n",
    "    # propagate across layers\n",
    "    for lid in [\"Stressed\", \"Disease\"]:\n",
    "        G._layers[lid][\"edges\"].update(G._layers[\"Healthy\"][\"edges\"])"
   ]
  },
  {
   "cell_type": "code",
   "execution_count": 18,
   "id": "b840d04f-0650-41e7-857c-05f9e057aa5b",
   "metadata": {},
   "outputs": [
    {
     "name": "stdout",
     "output_type": "stream",
     "text": [
      "Nodes: 210 Edges: 360\n"
     ]
    }
   ],
   "source": [
    "# ---------- Basic sanity ----------\n",
    "print(\"Nodes:\", G.number_of_nodes(), \"Edges:\", G.number_of_edges())\n",
    "\n",
    "# Only true \"nodes\" are counted by number_of_nodes() (proteins + transcripts)\n",
    "expected_nodes = len(set(proteins)) + len(set(transcripts))  # 150 + 60 = 210\n",
    "assert G.number_of_nodes() >= expected_nodes, f\"Expected ≥{expected_nodes}, got {G.number_of_nodes()}\"\n",
    "\n",
    "# Edge-entities are tracked as entity_type == 'edge' (not included in number_of_nodes)\n",
    "edge_entity_ids = set(enz_edge_entities)\n",
    "edge_entity_count = sum(1 for _id, et in G.entity_types.items() if et == \"edge\" and _id in edge_entity_ids)\n",
    "assert edge_entity_count == len(edge_entity_ids), f\"Expected {len(edge_entity_ids)} edge-entities, got {edge_entity_count}\"\n",
    "\n",
    "# Edges: PPIs (320) + complexes (12) + cascades (8) + reaction links (10*2) = 360 minimum\n",
    "assert G.number_of_edges() >= 320 + 12 + 8 + (10 * 2)\n"
   ]
  },
  {
   "cell_type": "code",
   "execution_count": 20,
   "id": "65e3e20e-0e21-43a2-a464-733819c326a8",
   "metadata": {},
   "outputs": [
    {
     "name": "stdout",
     "output_type": "stream",
     "text": [
      "[Healthy] edges_view rows = 360\n",
      "\n",
      "Top 5 binary edges by effective_weight in Healthy:\n",
      "shape: (5, 4)\n",
      "┌──────────┬─────────────┬────────┬──────────────────┐\n",
      "│ edge_id  ┆ source      ┆ target ┆ effective_weight │\n",
      "│ ---      ┆ ---         ┆ ---    ┆ ---              │\n",
      "│ str      ┆ str         ┆ str    ┆ f64              │\n",
      "╞══════════╪═════════════╪════════╪══════════════════╡\n",
      "│ edge_359 ┆ edge_rxn_10 ┆ P109   ┆ 1.999844         │\n",
      "│ edge_353 ┆ edge_rxn_7  ┆ P78    ┆ 1.948131         │\n",
      "│ edge_349 ┆ edge_rxn_5  ┆ P2     ┆ 1.937737         │\n",
      "│ edge_357 ┆ edge_rxn_9  ┆ P114   ┆ 1.842385         │\n",
      "│ edge_286 ┆ P29         ┆ P107   ┆ 1.797052         │\n",
      "└──────────┴─────────────┴────────┴──────────────────┘\n",
      "[Stressed] edges_view rows = 360\n",
      "\n",
      "Top 5 binary edges by effective_weight in Stressed:\n",
      "shape: (5, 4)\n",
      "┌──────────┬─────────────┬────────┬──────────────────┐\n",
      "│ edge_id  ┆ source      ┆ target ┆ effective_weight │\n",
      "│ ---      ┆ ---         ┆ ---    ┆ ---              │\n",
      "│ str      ┆ str         ┆ str    ┆ f64              │\n",
      "╞══════════╪═════════════╪════════╪══════════════════╡\n",
      "│ edge_359 ┆ edge_rxn_10 ┆ P109   ┆ 1.999844         │\n",
      "│ edge_353 ┆ edge_rxn_7  ┆ P78    ┆ 1.948131         │\n",
      "│ edge_349 ┆ edge_rxn_5  ┆ P2     ┆ 1.937737         │\n",
      "│ edge_357 ┆ edge_rxn_9  ┆ P114   ┆ 1.842385         │\n",
      "│ edge_286 ┆ P29         ┆ P107   ┆ 1.797052         │\n",
      "└──────────┴─────────────┴────────┴──────────────────┘\n",
      "[Disease] edges_view rows = 360\n",
      "\n",
      "Top 5 binary edges by effective_weight in Disease:\n",
      "shape: (5, 4)\n",
      "┌──────────┬─────────────┬────────┬──────────────────┐\n",
      "│ edge_id  ┆ source      ┆ target ┆ effective_weight │\n",
      "│ ---      ┆ ---         ┆ ---    ┆ ---              │\n",
      "│ str      ┆ str         ┆ str    ┆ f64              │\n",
      "╞══════════╪═════════════╪════════╪══════════════════╡\n",
      "│ edge_359 ┆ edge_rxn_10 ┆ P109   ┆ 1.999844         │\n",
      "│ edge_353 ┆ edge_rxn_7  ┆ P78    ┆ 1.948131         │\n",
      "│ edge_349 ┆ edge_rxn_5  ┆ P2     ┆ 1.937737         │\n",
      "│ edge_357 ┆ edge_rxn_9  ┆ P114   ┆ 1.842385         │\n",
      "│ edge_286 ┆ P29         ┆ P107   ┆ 1.797052         │\n",
      "└──────────┴─────────────┴────────┴──────────────────┘\n"
     ]
    }
   ],
   "source": [
    "# ---------- Views & top edges by condition ----------\n",
    "import polars as pl\n",
    "\n",
    "for cond in conditions:\n",
    "    EV = G.edges_view(layer=cond, resolved_weight=True)\n",
    "    print(f\"[{cond}] edges_view rows =\", EV.height)\n",
    "    top = (\n",
    "        EV\n",
    "        .filter(pl.col(\"kind\") == \"binary\")\n",
    "        .sort(\"effective_weight\", descending=True)\n",
    "        .select([\"edge_id\", \"source\", \"target\", \"effective_weight\"])\n",
    "        .head(5)\n",
    "    )\n",
    "    print(f\"\\nTop 5 binary edges by effective_weight in {cond}:\")\n",
    "    print(top)"
   ]
  },
  {
   "cell_type": "code",
   "execution_count": 22,
   "id": "cdb4c103-a4f3-4f12-9584-a738a76c7bbc",
   "metadata": {},
   "outputs": [
    {
     "name": "stdout",
     "output_type": "stream",
     "text": [
      "\n",
      "Layer stats: {'Healthy': {'nodes': 220, 'edges': 360, 'attributes': {'condition': 'Healthy'}}, 'Stressed': {'nodes': 220, 'edges': 360, 'attributes': {'condition': 'Stressed'}}, 'Disease': {'nodes': 220, 'edges': 360, 'attributes': {'condition': 'Disease'}}}\n",
      "\n",
      "Conserved edges (in all conditions): 360\n",
      "Disease-specific edges: 0\n",
      "\n",
      "Temporal edge changes (Healthy→Stressed→Disease): [{'added': 0, 'removed': 0, 'net_change': 0}, {'added': 0, 'removed': 0, 'net_change': 0}]\n"
     ]
    }
   ],
   "source": [
    "# ---------- Layer analytics ----------\n",
    "stats = G.layer_statistics()\n",
    "print(\"\\nLayer stats:\", stats)\n",
    "\n",
    "conserved = G.conserved_edges(min_layers=3)  # present in all 3 conditions\n",
    "print(\"\\nConserved edges (in all conditions):\", len(conserved))\n",
    "\n",
    "disease_specific = G.layer_specific_edges(\"Disease\")\n",
    "print(\"Disease-specific edges:\", len(disease_specific))\n",
    "\n",
    "changes = G.temporal_dynamics([\"Healthy\", \"Stressed\", \"Disease\"], metric=\"edge_change\")\n",
    "print(\"\\nTemporal edge changes (Healthy→Stressed→Disease):\", changes)\n",
    "assert len(changes) == 2"
   ]
  },
  {
   "cell_type": "code",
   "execution_count": 24,
   "id": "572a4375-daff-41eb-8a3c-833640143ea9",
   "metadata": {},
   "outputs": [
    {
     "name": "stdout",
     "output_type": "stream",
     "text": [
      "\n",
      "Edge presence for edge_0 : ['Healthy', 'Stressed', 'Disease']\n",
      "Node presence for P48 : ['Healthy', 'Stressed', 'Disease']\n"
     ]
    }
   ],
   "source": [
    "# ---------- Presence queries ----------\n",
    "some_e = next(iter(G.edge_to_idx.keys()))\n",
    "print(\"\\nEdge presence for\", some_e, \":\", G.edge_presence_across_layers(edge_id=some_e))\n",
    "some_p = random.choice(proteins)\n",
    "print(\"Node presence for\", some_p, \":\", G.node_presence_across_layers(some_p))"
   ]
  },
  {
   "cell_type": "code",
   "execution_count": 26,
   "id": "04da2d8f-d24f-4346-9716-3441f7180cb2",
   "metadata": {},
   "outputs": [
    {
     "name": "stdout",
     "output_type": "stream",
     "text": [
      "\n",
      "Neighbors(P22) => ['P96', 'P12', 'P64', 'P128']\n",
      "Out(P22) => ['P96', 'P12', 'P64', 'P128']\n",
      "In(P22) => ['P96', 'P12', 'P64', 'P128']\n"
     ]
    }
   ],
   "source": [
    "# ---------- Traversal checks ----------\n",
    "q = random.choice(proteins)\n",
    "print(f\"\\nNeighbors({q}) =>\", G.neighbors(q)[:10])\n",
    "print(f\"Out({q}) =>\", G.out_neighbors(q)[:10])\n",
    "print(f\"In({q}) =>\", G.in_neighbors(q)[:10])"
   ]
  },
  {
   "cell_type": "code",
   "execution_count": 28,
   "id": "13b50a3e-11d4-4e72-9172-c82884cabecd",
   "metadata": {},
   "outputs": [
    {
     "name": "stdout",
     "output_type": "stream",
     "text": [
      "\n",
      "Disease subgraph: nodes = 210 edges = 360\n",
      "copy() OK\n"
     ]
    }
   ],
   "source": [
    "# ---------- Subgraph slice & copy ----------\n",
    "H = G.subgraph_from_layer(\"Disease\", resolve_layer_weights=True)\n",
    "assert set(H.nodes()).issubset(set(G.nodes()))\n",
    "assert set(H.edges()).issubset(set(G.edges()))\n",
    "print(\"\\nDisease subgraph: nodes =\", H.number_of_nodes(), \"edges =\", H.number_of_edges())\n",
    "\n",
    "K = G.copy()\n",
    "assert set(K.nodes()) == set(G.nodes())\n",
    "assert set(K.edges()) == set(G.edges())\n",
    "# hyperedge shape preserved\n",
    "any_hyper = next(e for e,k in G.edge_kind.items() if k == \"hyper\")\n",
    "assert K.edge_kind.get(any_hyper) == \"hyper\"\n",
    "# layer sets preserved\n",
    "for lid in G.list_layers(include_default=True):\n",
    "    assert K._layers[lid][\"nodes\"] == G._layers[lid][\"nodes\"]\n",
    "    assert K._layers[lid][\"edges\"] == G._layers[lid][\"edges\"]\n",
    "print(\"copy() OK\")"
   ]
  },
  {
   "cell_type": "code",
   "execution_count": 29,
   "id": "8e623fd2-a05f-411b-8774-0070b0be84ca",
   "metadata": {},
   "outputs": [
    {
     "name": "stdout",
     "output_type": "stream",
     "text": [
      "\n",
      "After removing 5 proteins: nodes = 205 edges = 334\n",
      "After removing 10 edges: nodes = 205 edges = 324\n"
     ]
    }
   ],
   "source": [
    "# ---------- Remove operations stress ----------\n",
    "to_drop_nodes = random.sample(proteins, 5)\n",
    "for n in to_drop_nodes:\n",
    "    if n in G.entity_to_idx:\n",
    "        G.remove_node(n)\n",
    "print(\"\\nAfter removing 5 proteins: nodes =\", G.number_of_nodes(), \"edges =\", G.number_of_edges())\n",
    "\n",
    "to_drop_edges = list(G.edge_to_idx.keys())[:10]\n",
    "for eid in to_drop_edges:\n",
    "    if eid in G.edge_to_idx:\n",
    "        G.remove_edge(eid)\n",
    "print(\"After removing 10 edges: nodes =\", G.number_of_nodes(), \"edges =\", G.number_of_edges())"
   ]
  },
  {
   "cell_type": "code",
   "execution_count": 32,
   "id": "c37e303c-1f8b-452e-8df2-98f282382fd8",
   "metadata": {},
   "outputs": [
    {
     "name": "stdout",
     "output_type": "stream",
     "text": [
      "\n",
      "Audit: {'extra_node_rows': ['edge_rxn_7', 'edge_rxn_5', 'edge_rxn_9', 'edge_rxn_6', 'edge_rxn_1', 'edge_rxn_3', 'edge_rxn_10', 'edge_rxn_2', 'edge_rxn_4', 'edge_rxn_8'], 'extra_edge_rows': [], 'missing_node_rows': [], 'missing_edge_rows': ['edge_67', 'edge_273', 'edge_47', 'edge_156', 'edge_59', 'edge_16', 'edge_236', 'edge_221', 'edge_210', 'edge_287', 'edge_358', 'edge_34', 'edge_137', 'edge_316', 'edge_258', 'edge_302', 'edge_130', 'edge_38', 'edge_25', 'edge_209', 'edge_330', 'edge_95', 'edge_219', 'edge_271', 'edge_194', 'edge_169', 'edge_227', 'edge_60', 'edge_13', 'edge_310', 'edge_15', 'edge_99', 'edge_187', 'edge_20', 'edge_293', 'edge_136', 'edge_41', 'edge_94', 'edge_124', 'edge_107', 'edge_182', 'edge_249', 'edge_58', 'edge_281', 'edge_207', 'edge_279', 'edge_90', 'edge_81', 'edge_157', 'edge_345', 'edge_154', 'edge_202', 'edge_79', 'edge_175', 'edge_135', 'edge_88', 'edge_178', 'edge_21', 'edge_115', 'edge_225', 'edge_193', 'edge_346', 'edge_228', 'edge_28', 'edge_91', 'edge_180', 'edge_86', 'edge_264', 'edge_244', 'edge_128', 'edge_68', 'edge_240', 'edge_134', 'edge_61', 'edge_72', 'edge_153', 'edge_237', 'edge_286', 'edge_266', 'edge_71', 'edge_284', 'edge_112', 'edge_35', 'edge_57', 'edge_127', 'edge_108', 'edge_312', 'edge_334', 'edge_53', 'edge_65', 'edge_117', 'edge_123', 'edge_101', 'edge_64', 'edge_126', 'edge_247', 'edge_222', 'edge_351', 'edge_103', 'edge_344', 'edge_50', 'edge_140', 'edge_276', 'edge_318', 'edge_77', 'edge_231', 'edge_31', 'edge_250', 'edge_230', 'edge_19', 'edge_190', 'edge_335', 'edge_204', 'edge_304', 'edge_354', 'edge_192', 'edge_40', 'edge_211', 'edge_17', 'edge_353', 'edge_253', 'edge_97', 'edge_319', 'edge_277', 'edge_14', 'edge_299', 'edge_163', 'edge_73', 'edge_82', 'edge_85', 'edge_162', 'edge_133', 'edge_167', 'edge_184', 'edge_332', 'edge_270', 'edge_295', 'edge_317', 'edge_52', 'edge_337', 'edge_347', 'edge_298', 'edge_223', 'edge_100', 'edge_234', 'edge_274', 'edge_352', 'edge_357', 'edge_39', 'edge_329', 'edge_188', 'edge_143', 'edge_328', 'edge_350', 'edge_161', 'edge_291', 'edge_306', 'edge_116', 'edge_349', 'edge_165', 'edge_285', 'edge_98', 'edge_114', 'edge_333', 'edge_49', 'edge_18', 'edge_305', 'edge_289', 'edge_159', 'edge_268', 'edge_74', 'edge_104', 'edge_93', 'edge_22', 'edge_324', 'edge_48', 'edge_282', 'edge_343', 'edge_195', 'edge_131', 'edge_24', 'edge_146', 'edge_300', 'edge_218', 'edge_290', 'edge_321', 'edge_54', 'edge_172', 'edge_183', 'edge_239', 'edge_216', 'edge_255', 'edge_147', 'edge_327', 'edge_76', 'edge_138', 'edge_232', 'edge_320', 'edge_12', 'edge_241', 'edge_148', 'edge_331', 'edge_272', 'edge_145', 'edge_196', 'edge_26', 'edge_314', 'edge_257', 'edge_315', 'edge_29', 'edge_224', 'edge_215', 'edge_121', 'edge_212', 'edge_80', 'edge_323', 'edge_356', 'edge_339', 'edge_132', 'edge_301', 'edge_66', 'edge_173', 'edge_262', 'edge_150', 'edge_341', 'edge_110', 'edge_242', 'edge_181', 'edge_106', 'edge_226', 'edge_217', 'edge_309', 'edge_87', 'edge_235', 'edge_267', 'edge_269', 'edge_46', 'edge_275', 'edge_84', 'edge_288', 'edge_185', 'edge_203', 'edge_141', 'edge_151', 'edge_43', 'edge_120', 'edge_292', 'edge_256', 'edge_171', 'edge_158', 'edge_23', 'edge_186', 'edge_75', 'edge_45', 'edge_27', 'edge_313', 'edge_297', 'edge_201', 'edge_254', 'edge_260', 'edge_155', 'edge_111', 'edge_214', 'edge_109', 'edge_208', 'edge_102', 'edge_220', 'edge_296', 'edge_342', 'edge_160', 'edge_206', 'edge_125', 'edge_294', 'edge_174', 'edge_129', 'edge_177', 'edge_198', 'edge_62', 'edge_200', 'edge_78', 'edge_229', 'edge_340', 'edge_280', 'edge_36', 'edge_70', 'edge_89', 'edge_278', 'edge_259', 'edge_32', 'edge_42', 'edge_336', 'edge_355', 'edge_122', 'edge_322', 'edge_139', 'edge_263', 'edge_37', 'edge_142', 'edge_248', 'edge_96', 'edge_170', 'edge_205', 'edge_326', 'edge_33', 'edge_213', 'edge_164', 'edge_56', 'edge_261', 'edge_166', 'edge_92', 'edge_303', 'edge_189', 'edge_307', 'edge_149', 'edge_359', 'edge_245', 'edge_325', 'edge_118', 'edge_238', 'edge_246', 'edge_44', 'edge_243', 'edge_191', 'edge_51'], 'invalid_edge_layer_rows': []}\n",
      "Approx memory usage (bytes): 96025\n",
      "\n",
      "Reality-check finished ✅\n"
     ]
    }
   ],
   "source": [
    "# ---------- Audit & memory ----------\n",
    "audit = G.audit_attributes()\n",
    "print(\"\\nAudit:\", audit)\n",
    "mem_bytes = G.memory_usage()\n",
    "print(\"Approx memory usage (bytes):\", int(mem_bytes))\n",
    "assert mem_bytes > 0\n",
    "\n",
    "print(\"\\nReality-check finished ✅\")"
   ]
  },
  {
   "cell_type": "code",
   "execution_count": 34,
   "id": "e680db4e-a024-4ee0-afc6-f32759ba3ea7",
   "metadata": {},
   "outputs": [],
   "source": [
    "events = G.history()           # list[dict]\n",
    "df = G.history(as_df=True)     # Polars DF [DataFrame]"
   ]
  },
  {
   "cell_type": "code",
   "execution_count": 36,
   "id": "0f43c65f-803c-4901-bede-e67b6ca48768",
   "metadata": {},
   "outputs": [
    {
     "name": "stdout",
     "output_type": "stream",
     "text": [
      "shape: (5, 10)\n",
      "┌─────────┬─────────────────────────────┬──────────┬─────────────────┬───┬────────┬─────────┬─────────┬────────────┐\n",
      "│ version ┆ ts_utc                      ┆ mono_ns  ┆ op              ┆ … ┆ result ┆ node_id ┆ layer   ┆ attributes │\n",
      "│ ---     ┆ ---                         ┆ ---      ┆ ---             ┆   ┆ ---    ┆ ---     ┆ ---     ┆ ---        │\n",
      "│ i64     ┆ str                         ┆ i64      ┆ str             ┆   ┆ str    ┆ str     ┆ str     ┆ struct[1]  │\n",
      "╞═════════╪═════════════════════════════╪══════════╪═════════════════╪═══╪════════╪═════════╪═════════╪════════════╡\n",
      "│ 1       ┆ 2025-10-04T17:34:15.423054Z ┆ 11804400 ┆ set_layer_attrs ┆ … ┆ null   ┆ null    ┆ null    ┆ null       │\n",
      "│ 2       ┆ 2025-10-04T17:34:15.423054Z ┆ 12339700 ┆ set_layer_attrs ┆ … ┆ null   ┆ null    ┆ null    ┆ null       │\n",
      "│ 3       ┆ 2025-10-04T17:34:15.424095Z ┆ 12784000 ┆ set_layer_attrs ┆ … ┆ null   ┆ null    ┆ null    ┆ null       │\n",
      "│ 4       ┆ 2025-10-04T17:34:15.425063Z ┆ 14440700 ┆ add_node        ┆ … ┆ P1     ┆ P1      ┆ Healthy ┆ {\"kinase\"} │\n",
      "│ 5       ┆ 2025-10-04T17:34:15.427063Z ┆ 16262200 ┆ add_node        ┆ … ┆ P2     ┆ P2      ┆ Healthy ┆ {\"kinase\"} │\n",
      "└─────────┴─────────────────────────────┴──────────┴─────────────────┴───┴────────┴─────────┴─────────┴────────────┘\n"
     ]
    },
    {
     "data": {
      "text/plain": [
       "[{'version': 1,\n",
       "  'ts_utc': '2025-10-04T17:34:15.423054Z',\n",
       "  'mono_ns': 11804400,\n",
       "  'op': 'set_layer_attrs',\n",
       "  'layer_id': 'Healthy',\n",
       "  'attrs': {'condition': 'Healthy'},\n",
       "  'result': None},\n",
       " {'version': 2,\n",
       "  'ts_utc': '2025-10-04T17:34:15.423054Z',\n",
       "  'mono_ns': 12339700,\n",
       "  'op': 'set_layer_attrs',\n",
       "  'layer_id': 'Stressed',\n",
       "  'attrs': {'condition': 'Stressed'},\n",
       "  'result': None},\n",
       " {'version': 3,\n",
       "  'ts_utc': '2025-10-04T17:34:15.424095Z',\n",
       "  'mono_ns': 12784000,\n",
       "  'op': 'set_layer_attrs',\n",
       "  'layer_id': 'Disease',\n",
       "  'attrs': {'condition': 'Disease'},\n",
       "  'result': None}]"
      ]
     },
     "execution_count": 36,
     "metadata": {},
     "output_type": "execute_result"
    }
   ],
   "source": [
    "print(df.head())\n",
    "events[:3]"
   ]
  },
  {
   "cell_type": "code",
   "execution_count": 42,
   "id": "114cf8d8-e753-43dc-a22e-e676e2b98bbb",
   "metadata": {},
   "outputs": [],
   "source": [
    "import sys, pathlib\n",
    "\n",
    "# add repo root to Python path\n",
    "sys.path.append(str(pathlib.Path.cwd().parent))\n",
    "from graphglue.io import csv as graph_csv"
   ]
  },
  {
   "cell_type": "code",
   "execution_count": 68,
   "id": "2b8ccfbe-9531-4fa3-8422-849ae843f472",
   "metadata": {},
   "outputs": [
    {
     "data": {
      "text/html": [
       "<div><style>\n",
       ".dataframe > thead > tr,\n",
       ".dataframe > tbody > tr {\n",
       "  text-align: right;\n",
       "  white-space: pre-wrap;\n",
       "}\n",
       "</style>\n",
       "<small>shape: (5, 5)</small><table border=\"1\" class=\"dataframe\"><thead><tr><th>source</th><th>target</th><th>weight</th><th>directed</th><th>layer</th></tr><tr><td>str</td><td>str</td><td>i64</td><td>bool</td><td>str</td></tr></thead><tbody><tr><td>&quot;A&quot;</td><td>&quot;B&quot;</td><td>1</td><td>true</td><td>&quot;L1&quot;</td></tr><tr><td>&quot;A&quot;</td><td>&quot;C&quot;</td><td>2</td><td>true</td><td>&quot;L1&quot;</td></tr><tr><td>&quot;B&quot;</td><td>&quot;C&quot;</td><td>3</td><td>false</td><td>&quot;L1&quot;</td></tr><tr><td>&quot;C&quot;</td><td>&quot;D&quot;</td><td>1</td><td>true</td><td>&quot;L2&quot;</td></tr><tr><td>&quot;D&quot;</td><td>&quot;A&quot;</td><td>5</td><td>true</td><td>&quot;L2&quot;</td></tr></tbody></table></div>"
      ],
      "text/plain": [
       "shape: (5, 5)\n",
       "┌────────┬────────┬────────┬──────────┬───────┐\n",
       "│ source ┆ target ┆ weight ┆ directed ┆ layer │\n",
       "│ ---    ┆ ---    ┆ ---    ┆ ---      ┆ ---   │\n",
       "│ str    ┆ str    ┆ i64    ┆ bool     ┆ str   │\n",
       "╞════════╪════════╪════════╪══════════╪═══════╡\n",
       "│ A      ┆ B      ┆ 1      ┆ true     ┆ L1    │\n",
       "│ A      ┆ C      ┆ 2      ┆ true     ┆ L1    │\n",
       "│ B      ┆ C      ┆ 3      ┆ false    ┆ L1    │\n",
       "│ C      ┆ D      ┆ 1      ┆ true     ┆ L2    │\n",
       "│ D      ┆ A      ┆ 5      ┆ true     ┆ L2    │\n",
       "└────────┴────────┴────────┴──────────┴───────┘"
      ]
     },
     "execution_count": 68,
     "metadata": {},
     "output_type": "execute_result"
    }
   ],
   "source": [
    "csv1_path = \"csv1_edges.csv\"\n",
    "pl.DataFrame({\n",
    "    \"source\": [\"A\",\"A\",\"B\",\"C\",\"D\"],\n",
    "    \"target\": [\"B\",\"C\",\"C\",\"D\",\"A\"],\n",
    "    \"weight\": [1, 2, 3, 1, 5],\n",
    "    \"directed\": [True, True, False, True, True],\n",
    "    \"layer\": [\"L1\",\"L1\",\"L1\",\"L2\",\"L2\"],\n",
    "}) #.write_csv(csv1_path)\n",
    "\n",
    "#pl.read_csv(csv1_path).head()\n"
   ]
  },
  {
   "cell_type": "code",
   "execution_count": 46,
   "id": "75ff48e1-fe7f-4984-b545-6762c0fa8205",
   "metadata": {},
   "outputs": [
    {
     "data": {
      "text/html": [
       "<div><style>\n",
       ".dataframe > thead > tr,\n",
       ".dataframe > tbody > tr {\n",
       "  text-align: right;\n",
       "  white-space: pre-wrap;\n",
       "}\n",
       "</style>\n",
       "<small>shape: (5, 8)</small><table border=\"1\" class=\"dataframe\"><thead><tr><th>edge_id</th><th>kind</th><th>directed</th><th>global_weight</th><th>effective_weight</th><th>source</th><th>target</th><th>edge_type</th></tr><tr><td>str</td><td>str</td><td>bool</td><td>f64</td><td>f64</td><td>str</td><td>str</td><td>str</td></tr></thead><tbody><tr><td>&quot;edge_0&quot;</td><td>&quot;binary&quot;</td><td>true</td><td>1.0</td><td>1.0</td><td>&quot;A&quot;</td><td>&quot;B&quot;</td><td>&quot;regular&quot;</td></tr><tr><td>&quot;edge_1&quot;</td><td>&quot;binary&quot;</td><td>true</td><td>2.0</td><td>2.0</td><td>&quot;A&quot;</td><td>&quot;C&quot;</td><td>&quot;regular&quot;</td></tr><tr><td>&quot;edge_2&quot;</td><td>&quot;binary&quot;</td><td>true</td><td>3.0</td><td>3.0</td><td>&quot;B&quot;</td><td>&quot;C&quot;</td><td>&quot;regular&quot;</td></tr><tr><td>&quot;edge_3&quot;</td><td>&quot;binary&quot;</td><td>true</td><td>1.0</td><td>1.0</td><td>&quot;C&quot;</td><td>&quot;D&quot;</td><td>&quot;regular&quot;</td></tr><tr><td>&quot;edge_4&quot;</td><td>&quot;binary&quot;</td><td>true</td><td>5.0</td><td>5.0</td><td>&quot;D&quot;</td><td>&quot;A&quot;</td><td>&quot;regular&quot;</td></tr></tbody></table></div>"
      ],
      "text/plain": [
       "shape: (5, 8)\n",
       "┌─────────┬────────┬──────────┬───────────────┬──────────────────┬────────┬────────┬───────────┐\n",
       "│ edge_id ┆ kind   ┆ directed ┆ global_weight ┆ effective_weight ┆ source ┆ target ┆ edge_type │\n",
       "│ ---     ┆ ---    ┆ ---      ┆ ---           ┆ ---              ┆ ---    ┆ ---    ┆ ---       │\n",
       "│ str     ┆ str    ┆ bool     ┆ f64           ┆ f64              ┆ str    ┆ str    ┆ str       │\n",
       "╞═════════╪════════╪══════════╪═══════════════╪══════════════════╪════════╪════════╪═══════════╡\n",
       "│ edge_0  ┆ binary ┆ true     ┆ 1.0           ┆ 1.0              ┆ A      ┆ B      ┆ regular   │\n",
       "│ edge_1  ┆ binary ┆ true     ┆ 2.0           ┆ 2.0              ┆ A      ┆ C      ┆ regular   │\n",
       "│ edge_2  ┆ binary ┆ true     ┆ 3.0           ┆ 3.0              ┆ B      ┆ C      ┆ regular   │\n",
       "│ edge_3  ┆ binary ┆ true     ┆ 1.0           ┆ 1.0              ┆ C      ┆ D      ┆ regular   │\n",
       "│ edge_4  ┆ binary ┆ true     ┆ 5.0           ┆ 5.0              ┆ D      ┆ A      ┆ regular   │\n",
       "└─────────┴────────┴──────────┴───────────────┴──────────────────┴────────┴────────┴───────────┘"
      ]
     },
     "execution_count": 46,
     "metadata": {},
     "output_type": "execute_result"
    }
   ],
   "source": [
    "G = graph_csv.load_csv_to_graph(\n",
    "    csv1_path,\n",
    "    schema=\"auto\",            # or 'edge_list'/'incidence'/'adjacency'/'hyperedge'/'lil'\n",
    "    default_layer=None,       # fallback if no layer column is present\n",
    "    default_directed=None,    # fallback if no directed column and cannot infer\n",
    "    default_weight=1.0,\n",
    ")\n",
    "\n",
    "# Quick sanity: show first rows of an edges view (columns depend on your IncidenceGraph implementation)\n",
    "edges = G.edges_view(layer=None, include_directed=True, resolved_weight=True)\n",
    "edges.head()\n"
   ]
  },
  {
   "cell_type": "code",
   "execution_count": 54,
   "id": "1e5a569a-9453-4db7-bebd-5d5f95e3f44e",
   "metadata": {},
   "outputs": [
    {
     "name": "stdout",
     "output_type": "stream",
     "text": [
      "entities: <bound method IncidenceGraph.global_entity_count of <graphglue.core.incgraph.IncidenceGraph object at 0x000002838A0C3D70>> edges: <bound method IncidenceGraph.global_edge_count of <graphglue.core.incgraph.IncidenceGraph object at 0x000002838A0C3D70>>\n"
     ]
    },
    {
     "name": "stderr",
     "output_type": "stream",
     "text": [
      "C:\\Users\\pc\\AppData\\Local\\Temp\\ipykernel_24456\\502650617.py:20: DeprecationWarning: use of `how='outer'` should be replaced with `how='full'`.\n",
      "(Deprecated in version 0.20.29)\n",
      "  deg = out_deg.join(in_deg, on=\"node\", how=\"outer\").fill_null(0)\n"
     ]
    }
   ],
   "source": [
    "# Count entities and edges (attribute names based on your class; adjust if different)\n",
    "num_entities = G.global_entity_count        # nodes + edge-entities\n",
    "num_edges    = G.global_edge_count          # binary + hyper\n",
    "\n",
    "print(\"entities:\", num_entities, \"edges:\", num_edges)\n",
    "\n",
    "# A light “degree” summary from edges_view for binary edges only (skip hyper)\n",
    "df = G.edges_view(include_directed=True, resolved_weight=True)\n",
    "\n",
    "# Try to find endpoint column names robustly\n",
    "cols = {c.lower(): c for c in df.columns}\n",
    "# Common possibilities:\n",
    "src_col = next((cols[c] for c in [\"source\",\"src\",\"u\",\"from\"]), None)\n",
    "dst_col = next((cols[c] for c in [\"target\",\"dst\",\"v\",\"to\"]), None)\n",
    "\n",
    "if src_col and dst_col:\n",
    "    # out-degree (directed) / degree (undirected)\n",
    "    out_deg = df.group_by(src_col).len().rename({src_col: \"node\", \"len\": \"out_degree\"})\n",
    "    in_deg  = df.group_by(dst_col).len().rename({dst_col: \"node\", \"len\": \"in_degree\"})\n",
    "    deg = out_deg.join(in_deg, on=\"node\", how=\"outer\").fill_null(0)\n",
    "    deg = deg.with_columns((pl.col(\"out_degree\")+pl.col(\"in_degree\")).alias(\"total_degree\"))\n",
    "    deg.sort(\"total_degree\", descending=True).head(10)\n",
    "else:\n",
    "    print(\"Skip degree summary: endpoint columns not found in edges_view output (likely hyperedge-only or different schema).\")\n"
   ]
  },
  {
   "cell_type": "code",
   "execution_count": 56,
   "id": "e3e5fbcb-2a34-4072-9d7c-9c7f4c1bb8bb",
   "metadata": {},
   "outputs": [
    {
     "data": {
      "text/html": [
       "<div><style>\n",
       ".dataframe > thead > tr,\n",
       ".dataframe > tbody > tr {\n",
       "  text-align: right;\n",
       "  white-space: pre-wrap;\n",
       "}\n",
       "</style>\n",
       "<small>shape: (5, 8)</small><table border=\"1\" class=\"dataframe\"><thead><tr><th>edge_id</th><th>kind</th><th>directed</th><th>global_weight</th><th>effective_weight</th><th>source</th><th>target</th><th>edge_type</th></tr><tr><td>str</td><td>str</td><td>bool</td><td>f64</td><td>f64</td><td>str</td><td>str</td><td>str</td></tr></thead><tbody><tr><td>&quot;edge_1&quot;</td><td>&quot;binary&quot;</td><td>true</td><td>2.0</td><td>2.0</td><td>&quot;A&quot;</td><td>&quot;C&quot;</td><td>&quot;regular&quot;</td></tr><tr><td>&quot;edge_2&quot;</td><td>&quot;binary&quot;</td><td>true</td><td>3.0</td><td>3.0</td><td>&quot;B&quot;</td><td>&quot;C&quot;</td><td>&quot;regular&quot;</td></tr><tr><td>&quot;edge_3&quot;</td><td>&quot;binary&quot;</td><td>true</td><td>1.0</td><td>1.0</td><td>&quot;C&quot;</td><td>&quot;D&quot;</td><td>&quot;regular&quot;</td></tr><tr><td>&quot;edge_4&quot;</td><td>&quot;binary&quot;</td><td>true</td><td>5.0</td><td>5.0</td><td>&quot;D&quot;</td><td>&quot;A&quot;</td><td>&quot;regular&quot;</td></tr><tr><td>&quot;edge_5&quot;</td><td>&quot;binary&quot;</td><td>true</td><td>2.5</td><td>2.5</td><td>&quot;E&quot;</td><td>&quot;A&quot;</td><td>&quot;regular&quot;</td></tr></tbody></table></div>"
      ],
      "text/plain": [
       "shape: (5, 8)\n",
       "┌─────────┬────────┬──────────┬───────────────┬──────────────────┬────────┬────────┬───────────┐\n",
       "│ edge_id ┆ kind   ┆ directed ┆ global_weight ┆ effective_weight ┆ source ┆ target ┆ edge_type │\n",
       "│ ---     ┆ ---    ┆ ---      ┆ ---           ┆ ---              ┆ ---    ┆ ---    ┆ ---       │\n",
       "│ str     ┆ str    ┆ bool     ┆ f64           ┆ f64              ┆ str    ┆ str    ┆ str       │\n",
       "╞═════════╪════════╪══════════╪═══════════════╪══════════════════╪════════╪════════╪═══════════╡\n",
       "│ edge_1  ┆ binary ┆ true     ┆ 2.0           ┆ 2.0              ┆ A      ┆ C      ┆ regular   │\n",
       "│ edge_2  ┆ binary ┆ true     ┆ 3.0           ┆ 3.0              ┆ B      ┆ C      ┆ regular   │\n",
       "│ edge_3  ┆ binary ┆ true     ┆ 1.0           ┆ 1.0              ┆ C      ┆ D      ┆ regular   │\n",
       "│ edge_4  ┆ binary ┆ true     ┆ 5.0           ┆ 5.0              ┆ D      ┆ A      ┆ regular   │\n",
       "│ edge_5  ┆ binary ┆ true     ┆ 2.5           ┆ 2.5              ┆ E      ┆ A      ┆ regular   │\n",
       "└─────────┴────────┴──────────┴───────────────┴──────────────────┴────────┴────────┴───────────┘"
      ]
     },
     "execution_count": 56,
     "metadata": {},
     "output_type": "execute_result"
    }
   ],
   "source": [
    "# Add a new node and an edge on layer L3\n",
    "G.add_node(\"E\")\n",
    "eid = G.add_edge(\"E\", \"A\", layer=\"L3\", directed=True, weight=2.5)\n",
    "\n",
    "# Per-layer weight override example:\n",
    "G.set_edge_layer_attrs(\"L3\", eid, weight=3.0)\n",
    "\n",
    "# Inspect the updated edges\n",
    "G.edges_view(include_directed=True, resolved_weight=True).tail()\n"
   ]
  },
  {
   "cell_type": "code",
   "execution_count": 64,
   "id": "d4ef7aca-df81-4a77-a87a-47cd59fb7630",
   "metadata": {},
   "outputs": [
    {
     "data": {
      "text/plain": [
       "'csv2_edges_view.csv'"
      ]
     },
     "execution_count": 64,
     "metadata": {},
     "output_type": "execute_result"
    }
   ],
   "source": [
    "csv2_path = \"csv2_edges_view.csv\"\n",
    "G.edges_view(layer=None, include_directed=True, resolved_weight=True)\n",
    "csv2_path\n"
   ]
  },
  {
   "cell_type": "code",
   "execution_count": 72,
   "id": "a5dad730-682b-4732-a9b4-8c65b1027746",
   "metadata": {},
   "outputs": [
    {
     "data": {
      "text/plain": [
       "'csv2_edge_list.csv'"
      ]
     },
     "execution_count": 72,
     "metadata": {},
     "output_type": "execute_result"
    }
   ],
   "source": [
    "def export_edge_list_csv(G, path, layer=None):\n",
    "    df = G.edges_view(layer=layer, include_directed=True, resolved_weight=True)\n",
    "    cols = {c.lower(): c for c in df.columns}\n",
    "    src_col = next((cols[c] for c in [\"source\",\"src\",\"u\",\"from\"]), None)\n",
    "    dst_col = next((cols[c] for c in [\"target\",\"dst\",\"v\",\"to\"]), None)\n",
    "    dir_col = next((cols[c] for c in [\"directed\"]), None)\n",
    "    w_eff   = next((cols[c] for c in [\"effective_weight\",\"weight\",\"w\"]), None)\n",
    "\n",
    "    if not (src_col and dst_col):\n",
    "        raise ValueError(\"No binary endpoint columns found; the view may be hyperedge-only. Try the generic edges_view export.\")\n",
    "\n",
    "    out = pl.DataFrame({\n",
    "        \"source\": df[src_col],\n",
    "        \"target\": df[dst_col],\n",
    "        \"weight\": df[w_eff] if w_eff else pl.Series([1.0]*df.height),\n",
    "        \"directed\": df[dir_col] if dir_col in df.columns else pl.Series([None]*df.height),\n",
    "        \"layer\": pl.Series([layer]*df.height) if layer else pl.Series([None]*df.height),\n",
    "    })\n",
    "    out #.write_csv(path)\n",
    "\n",
    "# Usage:\n",
    "csv2_edge_list_path = \"csv2_edge_list.csv\"\n",
    "export_edge_list_csv(G, csv2_edge_list_path, layer=None)\n",
    "csv2_edge_list_path\n"
   ]
  },
  {
   "cell_type": "code",
   "execution_count": 62,
   "id": "92103630-b4d1-4701-9c82-57c949b5ecdb",
   "metadata": {},
   "outputs": [
    {
     "data": {
      "text/plain": [
       "24"
      ]
     },
     "execution_count": 62,
     "metadata": {},
     "output_type": "execute_result"
    }
   ],
   "source": [
    "# In-memory look at last few events\n",
    "hist = G.history(as_df=True)   # DF [DataFrame]\n",
    "hist.tail()\n",
    "\n",
    "# Save to Parquet/CSV/JSON [JavaScript Object Notation]/NDJSON [Newline-Delimited JSON]\n",
    "G.export_history(\"graph_history.parquet\")\n"
   ]
  },
  {
   "cell_type": "code",
   "execution_count": 76,
   "id": "6d6485cd-62c2-4d49-bf5a-6cf897345f7d",
   "metadata": {},
   "outputs": [
    {
     "ename": "ModuleNotFoundError",
     "evalue": "required package 'fastexcel' not found.\nPlease install using the command `pip install fastexcel`.",
     "output_type": "error",
     "traceback": [
      "\u001b[1;31m---------------------------------------------------------------------------\u001b[0m",
      "\u001b[1;31mModuleNotFoundError\u001b[0m                       Traceback (most recent call last)",
      "Cell \u001b[1;32mIn[76], line 8\u001b[0m\n\u001b[0;32m      5\u001b[0m \u001b[38;5;28;01mfrom\u001b[39;00m \u001b[38;5;21;01mgraphglue\u001b[39;00m\u001b[38;5;21;01m.\u001b[39;00m\u001b[38;5;21;01mcore\u001b[39;00m\u001b[38;5;21;01m.\u001b[39;00m\u001b[38;5;21;01mincgraph\u001b[39;00m \u001b[38;5;28;01mimport\u001b[39;00m IncidenceGraph\n\u001b[0;32m      7\u001b[0m \u001b[38;5;66;03m# Import from Excel\u001b[39;00m\n\u001b[1;32m----> 8\u001b[0m G \u001b[38;5;241m=\u001b[39m graph_excel\u001b[38;5;241m.\u001b[39mload_excel_to_graph(\u001b[38;5;124m\"\u001b[39m\u001b[38;5;124mgraph_input.xlsx\u001b[39m\u001b[38;5;124m\"\u001b[39m, schema\u001b[38;5;241m=\u001b[39m\u001b[38;5;124m\"\u001b[39m\u001b[38;5;124mauto\u001b[39m\u001b[38;5;124m\"\u001b[39m)\n\u001b[0;32m     10\u001b[0m \u001b[38;5;66;03m# Export back to Excel\u001b[39;00m\n\u001b[0;32m     11\u001b[0m graph_excel\u001b[38;5;241m.\u001b[39mexport_graph_to_excel(G, \u001b[38;5;124m\"\u001b[39m\u001b[38;5;124mgraph_output.xlsx\u001b[39m\u001b[38;5;124m\"\u001b[39m)\n",
      "File \u001b[1;32mC:\\Users\\PC\\Desktop\\graphglue - Copie - Copie\\graphglue\\io\\excel.py:52\u001b[0m, in \u001b[0;36mload_excel_to_graph\u001b[1;34m(path, graph, schema, sheet, default_layer, default_directed, default_weight, **kwargs)\u001b[0m\n\u001b[0;32m     18\u001b[0m \u001b[38;5;250m\u001b[39m\u001b[38;5;124;03m\"\"\"\u001b[39;00m\n\u001b[0;32m     19\u001b[0m \u001b[38;5;124;03mLoad an Excel file and construct/augment an IncidenceGraph.\u001b[39;00m\n\u001b[0;32m     20\u001b[0m \n\u001b[1;32m   (...)\u001b[0m\n\u001b[0;32m     49\u001b[0m \u001b[38;5;124;03m- Hybrid CSV-style mixing still requires multiple passes.\u001b[39;00m\n\u001b[0;32m     50\u001b[0m \u001b[38;5;124;03m\"\"\"\u001b[39;00m\n\u001b[0;32m     51\u001b[0m \u001b[38;5;66;03m# Read Excel into a Polars DF\u001b[39;00m\n\u001b[1;32m---> 52\u001b[0m df \u001b[38;5;241m=\u001b[39m pl\u001b[38;5;241m.\u001b[39mread_excel(path, sheet_name\u001b[38;5;241m=\u001b[39msheet)\n\u001b[0;32m     54\u001b[0m \u001b[38;5;66;03m# Reuse the from_dataframe logic from csv.py\u001b[39;00m\n\u001b[0;32m     55\u001b[0m \u001b[38;5;28;01mfrom\u001b[39;00m \u001b[38;5;21;01m.\u001b[39;00m\u001b[38;5;21;01mcsv\u001b[39;00m \u001b[38;5;28;01mimport\u001b[39;00m from_dataframe\n",
      "File \u001b[1;32m~\\anaconda3\\Lib\\site-packages\\polars\\_utils\\deprecation.py:128\u001b[0m, in \u001b[0;36mdeprecate_renamed_parameter.<locals>.decorate.<locals>.wrapper\u001b[1;34m(*args, **kwargs)\u001b[0m\n\u001b[0;32m    123\u001b[0m \u001b[38;5;129m@wraps\u001b[39m(function)\n\u001b[0;32m    124\u001b[0m \u001b[38;5;28;01mdef\u001b[39;00m \u001b[38;5;21mwrapper\u001b[39m(\u001b[38;5;241m*\u001b[39margs: P\u001b[38;5;241m.\u001b[39margs, \u001b[38;5;241m*\u001b[39m\u001b[38;5;241m*\u001b[39mkwargs: P\u001b[38;5;241m.\u001b[39mkwargs) \u001b[38;5;241m-\u001b[39m\u001b[38;5;241m>\u001b[39m T:\n\u001b[0;32m    125\u001b[0m     _rename_keyword_argument(\n\u001b[0;32m    126\u001b[0m         old_name, new_name, kwargs, function\u001b[38;5;241m.\u001b[39m\u001b[38;5;18m__qualname__\u001b[39m, version\n\u001b[0;32m    127\u001b[0m     )\n\u001b[1;32m--> 128\u001b[0m     \u001b[38;5;28;01mreturn\u001b[39;00m function(\u001b[38;5;241m*\u001b[39margs, \u001b[38;5;241m*\u001b[39m\u001b[38;5;241m*\u001b[39mkwargs)\n",
      "File \u001b[1;32m~\\anaconda3\\Lib\\site-packages\\polars\\_utils\\deprecation.py:128\u001b[0m, in \u001b[0;36mdeprecate_renamed_parameter.<locals>.decorate.<locals>.wrapper\u001b[1;34m(*args, **kwargs)\u001b[0m\n\u001b[0;32m    123\u001b[0m \u001b[38;5;129m@wraps\u001b[39m(function)\n\u001b[0;32m    124\u001b[0m \u001b[38;5;28;01mdef\u001b[39;00m \u001b[38;5;21mwrapper\u001b[39m(\u001b[38;5;241m*\u001b[39margs: P\u001b[38;5;241m.\u001b[39margs, \u001b[38;5;241m*\u001b[39m\u001b[38;5;241m*\u001b[39mkwargs: P\u001b[38;5;241m.\u001b[39mkwargs) \u001b[38;5;241m-\u001b[39m\u001b[38;5;241m>\u001b[39m T:\n\u001b[0;32m    125\u001b[0m     _rename_keyword_argument(\n\u001b[0;32m    126\u001b[0m         old_name, new_name, kwargs, function\u001b[38;5;241m.\u001b[39m\u001b[38;5;18m__qualname__\u001b[39m, version\n\u001b[0;32m    127\u001b[0m     )\n\u001b[1;32m--> 128\u001b[0m     \u001b[38;5;28;01mreturn\u001b[39;00m function(\u001b[38;5;241m*\u001b[39margs, \u001b[38;5;241m*\u001b[39m\u001b[38;5;241m*\u001b[39mkwargs)\n",
      "File \u001b[1;32m~\\anaconda3\\Lib\\site-packages\\polars\\io\\spreadsheet\\functions.py:403\u001b[0m, in \u001b[0;36mread_excel\u001b[1;34m(source, sheet_id, sheet_name, table_name, engine, engine_options, read_options, has_header, columns, schema_overrides, infer_schema_length, include_file_paths, drop_empty_rows, drop_empty_cols, raise_if_empty)\u001b[0m\n\u001b[0;32m    259\u001b[0m \u001b[38;5;250m\u001b[39m\u001b[38;5;124;03m\"\"\"\u001b[39;00m\n\u001b[0;32m    260\u001b[0m \u001b[38;5;124;03mRead Excel spreadsheet data into a DataFrame.\u001b[39;00m\n\u001b[0;32m    261\u001b[0m \n\u001b[1;32m   (...)\u001b[0m\n\u001b[0;32m    399\u001b[0m \u001b[38;5;124;03m... )  # doctest: +SKIP\u001b[39;00m\n\u001b[0;32m    400\u001b[0m \u001b[38;5;124;03m\"\"\"\u001b[39;00m\n\u001b[0;32m    401\u001b[0m sources, read_multiple_workbooks \u001b[38;5;241m=\u001b[39m _sources(source)\n\u001b[0;32m    402\u001b[0m frames: \u001b[38;5;28mlist\u001b[39m[pl\u001b[38;5;241m.\u001b[39mDataFrame] \u001b[38;5;241m|\u001b[39m \u001b[38;5;28mlist\u001b[39m[\u001b[38;5;28mdict\u001b[39m[\u001b[38;5;28mstr\u001b[39m, pl\u001b[38;5;241m.\u001b[39mDataFrame]] \u001b[38;5;241m=\u001b[39m [  \u001b[38;5;66;03m# type: ignore[assignment]\u001b[39;00m\n\u001b[1;32m--> 403\u001b[0m     _read_spreadsheet(\n\u001b[0;32m    404\u001b[0m         src,\n\u001b[0;32m    405\u001b[0m         sheet_id\u001b[38;5;241m=\u001b[39msheet_id,\n\u001b[0;32m    406\u001b[0m         sheet_name\u001b[38;5;241m=\u001b[39msheet_name,\n\u001b[0;32m    407\u001b[0m         table_name\u001b[38;5;241m=\u001b[39mtable_name,\n\u001b[0;32m    408\u001b[0m         engine\u001b[38;5;241m=\u001b[39mengine,\n\u001b[0;32m    409\u001b[0m         engine_options\u001b[38;5;241m=\u001b[39mengine_options,\n\u001b[0;32m    410\u001b[0m         read_options\u001b[38;5;241m=\u001b[39mread_options,\n\u001b[0;32m    411\u001b[0m         schema_overrides\u001b[38;5;241m=\u001b[39mschema_overrides,\n\u001b[0;32m    412\u001b[0m         infer_schema_length\u001b[38;5;241m=\u001b[39minfer_schema_length,\n\u001b[0;32m    413\u001b[0m         include_file_paths\u001b[38;5;241m=\u001b[39minclude_file_paths,\n\u001b[0;32m    414\u001b[0m         raise_if_empty\u001b[38;5;241m=\u001b[39mraise_if_empty,\n\u001b[0;32m    415\u001b[0m         has_header\u001b[38;5;241m=\u001b[39mhas_header,\n\u001b[0;32m    416\u001b[0m         columns\u001b[38;5;241m=\u001b[39mcolumns,\n\u001b[0;32m    417\u001b[0m         drop_empty_rows\u001b[38;5;241m=\u001b[39mdrop_empty_rows,\n\u001b[0;32m    418\u001b[0m         drop_empty_cols\u001b[38;5;241m=\u001b[39mdrop_empty_cols,\n\u001b[0;32m    419\u001b[0m     )\n\u001b[0;32m    420\u001b[0m     \u001b[38;5;28;01mfor\u001b[39;00m src \u001b[38;5;129;01min\u001b[39;00m sources\n\u001b[0;32m    421\u001b[0m ]\n\u001b[0;32m    422\u001b[0m \u001b[38;5;28;01mreturn\u001b[39;00m _unpack_read_results(\n\u001b[0;32m    423\u001b[0m     frames\u001b[38;5;241m=\u001b[39mframes,\n\u001b[0;32m    424\u001b[0m     read_multiple_workbooks\u001b[38;5;241m=\u001b[39mread_multiple_workbooks,\n\u001b[0;32m    425\u001b[0m )\n",
      "File \u001b[1;32m~\\anaconda3\\Lib\\site-packages\\polars\\io\\spreadsheet\\functions.py:675\u001b[0m, in \u001b[0;36m_read_spreadsheet\u001b[1;34m(source, sheet_id, sheet_name, table_name, engine, engine_options, read_options, schema_overrides, infer_schema_length, include_file_paths, columns, has_header, raise_if_empty, drop_empty_rows, drop_empty_cols)\u001b[0m\n\u001b[0;32m    672\u001b[0m schema_overrides \u001b[38;5;241m=\u001b[39m \u001b[38;5;28mdict\u001b[39m(schema_overrides \u001b[38;5;129;01mor\u001b[39;00m {})\n\u001b[0;32m    674\u001b[0m \u001b[38;5;66;03m# establish the reading function, parser, and available worksheets\u001b[39;00m\n\u001b[1;32m--> 675\u001b[0m reader_fn, parser, worksheets \u001b[38;5;241m=\u001b[39m _initialise_spreadsheet_parser(\n\u001b[0;32m    676\u001b[0m     engine, source, engine_options\n\u001b[0;32m    677\u001b[0m )\n\u001b[0;32m    678\u001b[0m \u001b[38;5;28;01mtry\u001b[39;00m:\n\u001b[0;32m    679\u001b[0m     \u001b[38;5;66;03m# parse data from the indicated sheet(s)\u001b[39;00m\n\u001b[0;32m    680\u001b[0m     sheet_names, return_multiple_sheets \u001b[38;5;241m=\u001b[39m _get_sheet_names(\n\u001b[0;32m    681\u001b[0m         sheet_id, sheet_name, table_name, worksheets\n\u001b[0;32m    682\u001b[0m     )\n",
      "File \u001b[1;32m~\\anaconda3\\Lib\\site-packages\\polars\\io\\spreadsheet\\functions.py:859\u001b[0m, in \u001b[0;36m_initialise_spreadsheet_parser\u001b[1;34m(engine, source, engine_options)\u001b[0m\n\u001b[0;32m    856\u001b[0m     \u001b[38;5;28;01mreturn\u001b[39;00m _read_spreadsheet_openpyxl, parser, sheets\n\u001b[0;32m    858\u001b[0m \u001b[38;5;28;01melif\u001b[39;00m engine \u001b[38;5;241m==\u001b[39m \u001b[38;5;124m\"\u001b[39m\u001b[38;5;124mcalamine\u001b[39m\u001b[38;5;124m\"\u001b[39m:\n\u001b[1;32m--> 859\u001b[0m     fastexcel \u001b[38;5;241m=\u001b[39m import_optional(\u001b[38;5;124m\"\u001b[39m\u001b[38;5;124mfastexcel\u001b[39m\u001b[38;5;124m\"\u001b[39m, min_version\u001b[38;5;241m=\u001b[39m\u001b[38;5;124m\"\u001b[39m\u001b[38;5;124m0.7.0\u001b[39m\u001b[38;5;124m\"\u001b[39m)\n\u001b[0;32m    860\u001b[0m     reading_bytesio, reading_bytes \u001b[38;5;241m=\u001b[39m (\n\u001b[0;32m    861\u001b[0m         \u001b[38;5;28misinstance\u001b[39m(source, BytesIO),\n\u001b[0;32m    862\u001b[0m         \u001b[38;5;28misinstance\u001b[39m(source, \u001b[38;5;28mbytes\u001b[39m),\n\u001b[0;32m    863\u001b[0m     )\n\u001b[0;32m    864\u001b[0m     \u001b[38;5;28;01mif\u001b[39;00m (reading_bytesio \u001b[38;5;129;01mor\u001b[39;00m reading_bytes) \u001b[38;5;129;01mand\u001b[39;00m parse_version(\n\u001b[0;32m    865\u001b[0m         module_version \u001b[38;5;241m:=\u001b[39m fastexcel\u001b[38;5;241m.\u001b[39m__version__\n\u001b[0;32m    866\u001b[0m     ) \u001b[38;5;241m<\u001b[39m (\u001b[38;5;241m0\u001b[39m, \u001b[38;5;241m10\u001b[39m):\n",
      "File \u001b[1;32m~\\anaconda3\\Lib\\site-packages\\polars\\dependencies.py:295\u001b[0m, in \u001b[0;36mimport_optional\u001b[1;34m(module_name, err_prefix, err_suffix, min_version, min_err_prefix, install_message)\u001b[0m\n\u001b[0;32m    290\u001b[0m     suffix \u001b[38;5;241m=\u001b[39m \u001b[38;5;124mf\u001b[39m\u001b[38;5;124m\"\u001b[39m\u001b[38;5;124m \u001b[39m\u001b[38;5;132;01m{\u001b[39;00merr_suffix\u001b[38;5;241m.\u001b[39mstrip(\u001b[38;5;124m'\u001b[39m\u001b[38;5;124m \u001b[39m\u001b[38;5;124m'\u001b[39m)\u001b[38;5;132;01m}\u001b[39;00m\u001b[38;5;124m\"\u001b[39m \u001b[38;5;28;01mif\u001b[39;00m err_suffix \u001b[38;5;28;01melse\u001b[39;00m \u001b[38;5;124m\"\u001b[39m\u001b[38;5;124m\"\u001b[39m\n\u001b[0;32m    291\u001b[0m     err_message \u001b[38;5;241m=\u001b[39m \u001b[38;5;124mf\u001b[39m\u001b[38;5;124m\"\u001b[39m\u001b[38;5;132;01m{\u001b[39;00mprefix\u001b[38;5;132;01m}\u001b[39;00m\u001b[38;5;124m'\u001b[39m\u001b[38;5;132;01m{\u001b[39;00mmodule_name\u001b[38;5;132;01m}\u001b[39;00m\u001b[38;5;124m'\u001b[39m\u001b[38;5;132;01m{\u001b[39;00msuffix\u001b[38;5;132;01m}\u001b[39;00m\u001b[38;5;124m.\u001b[39m\u001b[38;5;130;01m\\n\u001b[39;00m\u001b[38;5;124m\"\u001b[39m \u001b[38;5;241m+\u001b[39m (\n\u001b[0;32m    292\u001b[0m         install_message\n\u001b[0;32m    293\u001b[0m         \u001b[38;5;129;01mor\u001b[39;00m \u001b[38;5;124mf\u001b[39m\u001b[38;5;124m\"\u001b[39m\u001b[38;5;124mPlease install using the command `pip install \u001b[39m\u001b[38;5;132;01m{\u001b[39;00mmodule_root\u001b[38;5;132;01m}\u001b[39;00m\u001b[38;5;124m`.\u001b[39m\u001b[38;5;124m\"\u001b[39m\n\u001b[0;32m    294\u001b[0m     )\n\u001b[1;32m--> 295\u001b[0m     \u001b[38;5;28;01mraise\u001b[39;00m \u001b[38;5;167;01mModuleNotFoundError\u001b[39;00m(err_message) \u001b[38;5;28;01mfrom\u001b[39;00m \u001b[38;5;28;01mNone\u001b[39;00m\n\u001b[0;32m    297\u001b[0m \u001b[38;5;28;01mif\u001b[39;00m min_version:\n\u001b[0;32m    298\u001b[0m     min_version \u001b[38;5;241m=\u001b[39m parse_version(min_version)\n",
      "\u001b[1;31mModuleNotFoundError\u001b[0m: required package 'fastexcel' not found.\nPlease install using the command `pip install fastexcel`."
     ]
    }
   ],
   "source": [
    "import sys, pathlib\n",
    "sys.path.append(str(pathlib.Path.cwd().parent))\n",
    "\n",
    "from graphglue.io import excel as graph_excel\n",
    "from graphglue.core.incgraph import IncidenceGraph\n",
    "\n",
    "# Import from Excel\n",
    "G = graph_excel.load_excel_to_graph(\"graph_input.xlsx\", schema=\"auto\")\n",
    "\n",
    "# Export back to Excel\n",
    "graph_excel.export_graph_to_excel(G, \"graph_output.xlsx\")\n"
   ]
  },
  {
   "cell_type": "code",
   "execution_count": null,
   "id": "bf7f25bc-aa20-41b7-b67e-67558d0cbc0c",
   "metadata": {},
   "outputs": [],
   "source": []
  },
  {
   "cell_type": "code",
   "execution_count": null,
   "id": "7f4b25ae-d36e-47f0-97b1-7ed3e18cce92",
   "metadata": {},
   "outputs": [],
   "source": []
  },
  {
   "cell_type": "code",
   "execution_count": null,
   "id": "8ee21e50-62cf-4f7b-85f2-bc8b3ddb9603",
   "metadata": {},
   "outputs": [],
   "source": []
  },
  {
   "cell_type": "code",
   "execution_count": null,
   "id": "0763c570-7088-425a-9192-857cfbb4183a",
   "metadata": {},
   "outputs": [],
   "source": []
  },
  {
   "cell_type": "code",
   "execution_count": null,
   "id": "b7acef2a-c20a-4f4b-83d6-ee1987171234",
   "metadata": {},
   "outputs": [],
   "source": []
  },
  {
   "cell_type": "code",
   "execution_count": null,
   "id": "e07b1405-bebd-40ac-a88a-f0bfa5ef1350",
   "metadata": {},
   "outputs": [],
   "source": []
  }
 ],
 "metadata": {
  "kernelspec": {
   "display_name": "Python [conda env:base] *",
   "language": "python",
   "name": "conda-base-py"
  },
  "language_info": {
   "codemirror_mode": {
    "name": "ipython",
    "version": 3
   },
   "file_extension": ".py",
   "mimetype": "text/x-python",
   "name": "python",
   "nbconvert_exporter": "python",
   "pygments_lexer": "ipython3",
   "version": "3.12.7"
  }
 },
 "nbformat": 4,
 "nbformat_minor": 5
}
