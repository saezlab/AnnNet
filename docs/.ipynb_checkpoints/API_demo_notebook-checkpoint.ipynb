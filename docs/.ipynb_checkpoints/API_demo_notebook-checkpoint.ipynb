{
 "cells": [
  {
   "cell_type": "code",
   "execution_count": 1,
   "id": "72e1e402-9ac5-4233-8c50-d57b36f606f2",
   "metadata": {},
   "outputs": [],
   "source": [
    "# preferred public surface\n",
    "import os, sys\n",
    "sys.path.insert(0, os.path.abspath(\"..\"))  # adds .../src to sys.path\n",
    "from graphglue.core import Graph\n",
    "from graphglue.adapters.networkx import to_backend, to_nx, from_nx"
   ]
  },
  {
   "cell_type": "code",
   "execution_count": 3,
   "id": "b1d3c62c-1f93-4c54-989e-fb8c74cbb44b",
   "metadata": {},
   "outputs": [
    {
     "name": "stdout",
     "output_type": "stream",
     "text": [
      "=== Basic graph creation ===\n",
      "Vertices: ('A', 'B', 'D', 'C')\n",
      "Edges (index, (S,T)): [(0, (frozenset({'A'}), frozenset({'B'}))), (1, (frozenset({'D'}), frozenset({'C'})))]\n",
      "Number of vertices: 4\n",
      "Number of edges: 2\n",
      "Shape (|V|,|E|): (4, 2)\n",
      "\n",
      "=== Accessing edge info ===\n",
      "Edge definition: frozenset({'D'}) -> frozenset({'C'})\n",
      "\n",
      "=== Incidence matrix with per-vertex coefficients ===\n",
      "Vertices: ('X', 'Y', 'Xa', 'Ya')\n",
      "Incidence matrix:\n",
      " [[ 0.  1.]\n",
      " [ 0. -1.]\n",
      " [ 1.  0.]\n",
      " [-1.  0.]]\n",
      "\n",
      "=== Subgraph ===\n",
      "Edge-subgraph edges: [(0, (frozenset({'D'}), frozenset({'C'})))]\n",
      "\n",
      "=== Prune (if available) ===\n",
      "G.prune not implemented; skipping.\n",
      "\n",
      "=== Layers and per-layer weights ===\n",
      "Edge definitions: [('edge_0', ('A', 'B', 'regular'))]\n",
      "Global edge weight: 1.5\n",
      "Layer t0 weight: 2.0\n",
      "Layers containing edge: ['default', 't0']\n"
     ]
    }
   ],
   "source": [
    "print(\"=== Basic graph creation ===\")\n",
    "G = Graph()\n",
    "G.add_vertex(\"A\", color = \"red\", name = \"amine\")\n",
    "G.add_vertex(\"B\")\n",
    "\n",
    "\n",
    "eidx = G.add_edge({\"A\"}, {\"B\"})\n",
    "\n",
    "eidx = G.add_edge(\"D\", \"C\")\n",
    "\n",
    "print(\"Vertices:\", tuple(G.V))\n",
    "\n",
    "print(\"Edges (index, (S,T)):\", [(i, G.get_edge(i)) for i in range(G.num_edges)])\n",
    "print(\"Number of vertices:\", G.num_vertices)\n",
    "print(\"Number of edges:\", G.num_edges)\n",
    "print(\"Shape (|V|,|E|):\", G.shape)\n",
    "print()\n",
    "\n",
    "print(\"=== Accessing edge info ===\")\n",
    "S, T = G.get_edge(eidx)\n",
    "print(\"Edge definition:\", S, \"->\", T)\n",
    "print()\n",
    "\n",
    "print(\"=== Incidence matrix with per-vertex coefficients ===\")\n",
    "H = Graph()\n",
    "H.add_vertices([\"X\", \"Y\"])\n",
    "\n",
    "e2 = H.add_edge(\n",
    "     \"Xa\", \"Ya\",\n",
    "     edge_source_attr={\"Xa\": {\"__value\": 3}},\n",
    "     edge_target_attr={\"Ya\": {\"__value\": 2}}\n",
    ")\n",
    "\n",
    "e2 = H.add_edge(\"X\", \"Y\")\n",
    "attrs = H.get_edge_attrs(e2)\n",
    "src_map = dict(attrs.get(\"__source_attr\", {}))\n",
    "tgt_map = dict(attrs.get(\"__target_attr\", {}))\n",
    "src_map[\"X\"] = {\"__value\": 3}\n",
    "tgt_map[\"Y\"] = {\"__value\": 2}\n",
    "H.set_edge_attrs(e2, __source_attr=src_map, __target_attr=tgt_map)\n",
    "\n",
    "mat = H.vertex_incidence_matrix(values=True, sparse=False)\n",
    "print(\"Vertices:\", tuple(H.V))\n",
    "print(\"Incidence matrix:\\n\", mat)\n",
    "print()\n",
    "\n",
    "print(\"=== Subgraph ===\")\n",
    "SG = G.edge_subgraph([eidx])  # keep only that edge\n",
    "print(\"Edge-subgraph edges:\", [(i, SG.get_edge(i)) for i in range(SG.num_edges)])\n",
    "print()\n",
    "\n",
    "print(\"=== Prune (if available) ===\")\n",
    "if hasattr(G, \"prune\"):\n",
    "    P = G.prune(source=[\"A\"], target=[\"C\"])\n",
    "    print(\"Pruned graph edges:\", [(i, P.get_edge(i)) for i in range(P.num_edges)])\n",
    "else:\n",
    "    print(\"G.prune not implemented; skipping.\")\n",
    "print()\n",
    "\n",
    "print(\"=== Layers and per-layer weights ===\")\n",
    "D = Graph()\n",
    "D.add_vertex(\"A\"); D.add_vertex(\"B\")\n",
    "D.add_layer(\"t0\")\n",
    "\n",
    "e = D.add_edge(\"A\", \"B\", weight=1.5, label=\"ab\")\n",
    "eid = D.idx_to_edge[e] if isinstance(e, int) else e\n",
    "\n",
    "# Attach same edge to layer (preserve stable eid), set per-layer weight\n",
    "w = D.edge_weights.get(eid, None)\n",
    "D.add_edge(\"A\", \"B\", layer=\"t0\", edge_id=eid, edge_directed=True, weight=w)\n",
    "D.set_layer_edge_weight(\"t0\", eid, 2.0)\n",
    "\n",
    "print(\"Edge definitions:\", list(D.edge_definitions.items()))\n",
    "print(\"Global edge weight:\", D.edge_weights.get(eid))\n",
    "print(\"Layer t0 weight:\", D.get_effective_edge_weight(eid, layer=\"t0\"))\n",
    "print(\"Layers containing edge:\", D.edge_presence_across_layers(eid, include_default=True))\n"
   ]
  },
  {
   "cell_type": "code",
   "execution_count": 5,
   "id": "a45c1c8c-c0c6-429c-ba98-270ff7b6fb62",
   "metadata": {},
   "outputs": [
    {
     "name": "stdout",
     "output_type": "stream",
     "text": [
      "Nodes: [('A', {'color': 'red', 'name': 'amine'}), ('B', {'color': None, 'name': None}), ('D', {'color': None, 'name': None}), ('C', {'color': None, 'name': None})]\n",
      "Edges: [('A', 'B', {'__weight': 1.0}), ('D', 'C', {'__weight': 1.0})]\n"
     ]
    },
    {
     "data": {
      "image/png": "[encoded data removed]",
      "text/plain": [
       "<Figure size 640x480 with 1 Axes>"
      ]
     },
     "metadata": {},
     "output_type": "display_data"
    }
   ],
   "source": [
    "# convert to a networkx graph\n",
    "import networkx as nx\n",
    "nxG = to_backend(G, directed=True)  # or directed=False if you prefer\n",
    "\n",
    "print(\"Nodes:\", nxG.nodes(data=True))\n",
    "print(\"Edges:\", nxG.edges(data=True))\n",
    "\n",
    "# quick visualization\n",
    "import matplotlib.pyplot as plt\n",
    "pos = nx.spring_layout(nxG)\n",
    "nx.draw(nxG, pos, with_labels=True, node_color=\"lightblue\")\n",
    "nx.draw_networkx_edge_labels(nxG, pos, edge_labels=nx.get_edge_attributes(nxG, \"weight\"))\n",
    "plt.show()"
   ]
  },
  {
   "cell_type": "code",
   "execution_count": 6,
   "id": "2f88fba5-d73b-49c0-a0d3-c135a8ba54ea",
   "metadata": {},
   "outputs": [],
   "source": [
    "nxG, man = to_nx(G, directed=True, hyperedge_mode=\"skip\")\n"
   ]
  },
  {
   "cell_type": "code",
   "execution_count": 9,
   "id": "6bb28817-de91-4af4-b9fb-444c6bf96998",
   "metadata": {},
   "outputs": [
    {
     "name": "stdout",
     "output_type": "stream",
     "text": [
      "['edge_0', 'edge_1']\n"
     ]
    }
   ],
   "source": [
    "H2 = from_nx(nxG, man)\n",
    "print(list(H2.edges()))\n"
   ]
  },
  {
   "cell_type": "code",
   "execution_count": 11,
   "id": "b0b89e65-e565-4b06-baa3-b3c62eb66ea3",
   "metadata": {},
   "outputs": [
    {
     "name": "stdout",
     "output_type": "stream",
     "text": [
      "edge_0 frozenset({'A'}) frozenset({'B'}) {}\n",
      "edge_1 frozenset({'C'}) frozenset({'D'}) {}\n"
     ]
    }
   ],
   "source": [
    "for eid in H2.edges():                     # eid is a string\n",
    "    eidx = H2.edge_to_idx[eid]             # index (int), if you need it\n",
    "    S, T = H2.get_edge(eid)                # make sure get_edge accepts id OR index\n",
    "    attrs = H2.get_edge_attrs(eid)         # <-- use the dict getter you added\n",
    "    print(eid, S, T, attrs)\n"
   ]
  },
  {
   "cell_type": "code",
   "execution_count": 13,
   "id": "5e6a7583-600c-4efb-b9e8-abbb0270b5d6",
   "metadata": {},
   "outputs": [
    {
     "name": "stdout",
     "output_type": "stream",
     "text": [
      "shape: (4, 3)\n",
      "┌───────────┬───────┬───────┐\n",
      "│ vertex_id ┆ color ┆ name  │\n",
      "│ ---       ┆ ---   ┆ ---   │\n",
      "│ str       ┆ str   ┆ str   │\n",
      "╞═══════════╪═══════╪═══════╡\n",
      "│ A         ┆ red   ┆ amine │\n",
      "│ B         ┆ null  ┆ null  │\n",
      "│ D         ┆ null  ┆ null  │\n",
      "│ C         ┆ null  ┆ null  │\n",
      "└───────────┴───────┴───────┘\n",
      "shape: (0, 1)\n",
      "┌─────────┐\n",
      "│ edge_id │\n",
      "│ ---     │\n",
      "│ str     │\n",
      "╞═════════╡\n",
      "└─────────┘\n"
     ]
    }
   ],
   "source": [
    "print(H2.vertex_attributes.head())  # attrs present\n",
    "print(H2.edge_attributes.head())    # attrs present\n"
   ]
  },
  {
   "cell_type": "code",
   "execution_count": 15,
   "id": "c4dc066b-dd1b-4649-9a4b-3c1a519caa55",
   "metadata": {},
   "outputs": [
    {
     "data": {
      "text/html": [
       "<div><style>\n",
       ".dataframe > thead > tr,\n",
       ".dataframe > tbody > tr {\n",
       "  text-align: right;\n",
       "  white-space: pre-wrap;\n",
       "}\n",
       "</style>\n",
       "<small>shape: (4, 3)</small><table border=\"1\" class=\"dataframe\"><thead><tr><th>vertex_id</th><th>color</th><th>name</th></tr><tr><td>str</td><td>str</td><td>str</td></tr></thead><tbody><tr><td>&quot;A&quot;</td><td>&quot;red&quot;</td><td>&quot;amine&quot;</td></tr><tr><td>&quot;B&quot;</td><td>null</td><td>null</td></tr><tr><td>&quot;D&quot;</td><td>null</td><td>null</td></tr><tr><td>&quot;C&quot;</td><td>null</td><td>null</td></tr></tbody></table></div>"
      ],
      "text/plain": [
       "shape: (4, 3)\n",
       "┌───────────┬───────┬───────┐\n",
       "│ vertex_id ┆ color ┆ name  │\n",
       "│ ---       ┆ ---   ┆ ---   │\n",
       "│ str       ┆ str   ┆ str   │\n",
       "╞═══════════╪═══════╪═══════╡\n",
       "│ A         ┆ red   ┆ amine │\n",
       "│ B         ┆ null  ┆ null  │\n",
       "│ D         ┆ null  ┆ null  │\n",
       "│ C         ┆ null  ┆ null  │\n",
       "└───────────┴───────┴───────┘"
      ]
     },
     "execution_count": 15,
     "metadata": {},
     "output_type": "execute_result"
    }
   ],
   "source": [
    "G.vertex_attributes.head()"
   ]
  },
  {
   "cell_type": "markdown",
   "id": "a1492b57-4125-41fd-9670-a9875a8a0ee3",
   "metadata": {},
   "source": [
    "g"
   ]
  },
  {
   "cell_type": "code",
   "execution_count": 19,
   "id": "f5a84148-7cd0-4083-823f-a8219f3f2ec8",
   "metadata": {},
   "outputs": [],
   "source": [
    "from graphglue.adapters.igraph import to_igraph, from_igraph, save_manifest, load_manifest"
   ]
  },
  {
   "cell_type": "code",
   "execution_count": 27,
   "id": "e4f5429d-f993-44ee-82a2-12dc801fb6ad",
   "metadata": {},
   "outputs": [
    {
     "data": {
      "text/plain": [
       "<graphglue.core.graph.Graph at 0x1d001795ca0>"
      ]
     },
     "execution_count": 27,
     "metadata": {},
     "output_type": "execute_result"
    }
   ],
   "source": [
    "igG, manifest = to_igraph(G, directed=True, hyperedge_mode=\"skip\", public_only=False)\n",
    "H = from_igraph(igG, manifest)\n",
    "H"
   ]
  },
  {
   "cell_type": "code",
   "execution_count": 17,
   "id": "2a493bbb-94bb-4c1f-9bbf-e768f9182e4e",
   "metadata": {},
   "outputs": [
    {
     "ename": "ModuleNotFoundError",
     "evalue": "No module named 'graphglue.core._graph'",
     "output_type": "error",
     "traceback": [
      "\u001b[1;31m---------------------------------------------------------------------------\u001b[0m",
      "\u001b[1;31mModuleNotFoundError\u001b[0m                       Traceback (most recent call last)",
      "Cell \u001b[1;32mIn[17], line 1\u001b[0m\n\u001b[1;32m----> 1\u001b[0m \u001b[38;5;28;01mfrom\u001b[39;00m \u001b[38;5;21;01mgraphglue\u001b[39;00m\u001b[38;5;21;01m.\u001b[39;00m\u001b[38;5;21;01mutils\u001b[39;00m\u001b[38;5;21;01m.\u001b[39;00m\u001b[38;5;21;01mplotting\u001b[39;00m \u001b[38;5;28;01mimport\u001b[39;00m plot, render\n\u001b[0;32m      3\u001b[0m G \u001b[38;5;241m=\u001b[39m Graph()\n\u001b[0;32m      4\u001b[0m G\u001b[38;5;241m.\u001b[39madd_vertices([\u001b[38;5;124m\"\u001b[39m\u001b[38;5;124mA\u001b[39m\u001b[38;5;124m\"\u001b[39m,\u001b[38;5;124m\"\u001b[39m\u001b[38;5;124mB\u001b[39m\u001b[38;5;124m\"\u001b[39m,\u001b[38;5;124m\"\u001b[39m\u001b[38;5;124mC\u001b[39m\u001b[38;5;124m\"\u001b[39m])\n",
      "File \u001b[1;32m~\\Desktop\\graphglue - Copie - Copie\\graphglue\\utils\\plotting.py:7\u001b[0m\n\u001b[0;32m      3\u001b[0m \u001b[38;5;28;01mfrom\u001b[39;00m \u001b[38;5;21;01mtyping\u001b[39;00m \u001b[38;5;28;01mimport\u001b[39;00m Any, Dict, List, Literal, Optional, Union\n\u001b[0;32m      5\u001b[0m \u001b[38;5;28;01mimport\u001b[39;00m \u001b[38;5;21;01mnumpy\u001b[39;00m \u001b[38;5;28;01mas\u001b[39;00m \u001b[38;5;21;01mnp\u001b[39;00m\n\u001b[1;32m----> 7\u001b[0m \u001b[38;5;28;01mfrom\u001b[39;00m \u001b[38;5;21;01m.\u001b[39;00m\u001b[38;5;21;01m.\u001b[39;00m\u001b[38;5;21;01mcore\u001b[39;00m\u001b[38;5;21;01m.\u001b[39;00m\u001b[38;5;21;01m_graph\u001b[39;00m \u001b[38;5;28;01mimport\u001b[39;00m Attr, BaseGraph, EdgeType\n\u001b[0;32m      9\u001b[0m \u001b[38;5;66;03m# tiny colormap & normalize utilities\u001b[39;00m\n\u001b[0;32m     10\u001b[0m \u001b[38;5;28;01mdef\u001b[39;00m \u001b[38;5;21m_normalize\u001b[39m(values, lo\u001b[38;5;241m=\u001b[39m\u001b[38;5;28;01mNone\u001b[39;00m, hi\u001b[38;5;241m=\u001b[39m\u001b[38;5;28;01mNone\u001b[39;00m, eps\u001b[38;5;241m=\u001b[39m\u001b[38;5;241m1e-12\u001b[39m):\n",
      "\u001b[1;31mModuleNotFoundError\u001b[0m: No module named 'graphglue.core._graph'"
     ]
    }
   ],
   "source": [
    "from graphglue.utils.plotting import plot, render\n",
    "\n",
    "G = Graph()\n",
    "G.add_vertices([\"A\",\"B\",\"C\"])\n",
    "G.add_edge({\"A\"}, {\"B\"}, weight=2.5, label=\"ab\")\n",
    "G.add_edge({\"B\"}, {\"C\"}, weight=-1.3, label=\"bc\")\n",
    "G.add_layer(\"L1\")\n",
    "# attach AB to L1 with heavier per-layer weight\n",
    "eid = G.idx_to_edge[0]\n",
    "G.add_edge(\"A\",\"B\", layer=\"L1\", edge_id=eid, edge_directed=True)\n",
    "G.set_layer_edge_weight(\"L1\", eid, 4.0)\n",
    "\n",
    "\n"
   ]
  },
  {
   "cell_type": "code",
   "execution_count": 23,
   "id": "89a4eb47-4e44-43bc-b422-83e23b25a9dc",
   "metadata": {},
   "outputs": [],
   "source": [
    "import os\n",
    "graphviz_path = r\"C:\\Program Files\\Graphviz\\bin\"\n",
    "if graphviz_path not in os.environ[\"PATH\"]:\n",
    "    os.environ[\"PATH\"] += os.pathsep + graphviz_path\n",
    "\n",
    "from graphviz import Digraph"
   ]
  },
  {
   "cell_type": "code",
   "execution_count": 25,
   "id": "89dedfaf-a25a-4983-8b71-ff270340c2e0",
   "metadata": {},
   "outputs": [],
   "source": [
    "# 1) quick graphviz view (layer-aware weights, with edge labels)\n",
    "g = plot(G, backend=\"graphviz\", layer=\"L1\",\n",
    "         show_edge_labels=True, edge_label_keys=[\"label\"],\n",
    "         show_vertex_labels=True, use_weight_style=True)\n"
   ]
  },
  {
   "cell_type": "code",
   "execution_count": 23,
   "id": "48dd250c-6788-42ed-bcf0-89a350a79368",
   "metadata": {},
   "outputs": [
    {
     "ename": "NameError",
     "evalue": "name 'plot' is not defined",
     "output_type": "error",
     "traceback": [
      "\u001b[1;31m---------------------------------------------------------------------------\u001b[0m",
      "\u001b[1;31mNameError\u001b[0m                                 Traceback (most recent call last)",
      "Cell \u001b[1;32mIn[23], line 1\u001b[0m\n\u001b[1;32m----> 1\u001b[0m igGp \u001b[38;5;241m=\u001b[39m plot(H, backend\u001b[38;5;241m=\u001b[39m\u001b[38;5;124m\"\u001b[39m\u001b[38;5;124mgraphviz\u001b[39m\u001b[38;5;124m\"\u001b[39m, layer\u001b[38;5;241m=\u001b[39m\u001b[38;5;124m\"\u001b[39m\u001b[38;5;124mL1\u001b[39m\u001b[38;5;124m\"\u001b[39m,\n\u001b[0;32m      2\u001b[0m          show_edge_labels\u001b[38;5;241m=\u001b[39m\u001b[38;5;28;01mTrue\u001b[39;00m, edge_label_keys\u001b[38;5;241m=\u001b[39m[\u001b[38;5;124m\"\u001b[39m\u001b[38;5;124mlabel\u001b[39m\u001b[38;5;124m\"\u001b[39m],\n\u001b[0;32m      3\u001b[0m          show_vertex_labels\u001b[38;5;241m=\u001b[39m\u001b[38;5;28;01mTrue\u001b[39;00m, use_weight_style\u001b[38;5;241m=\u001b[39m\u001b[38;5;28;01mTrue\u001b[39;00m)\n",
      "\u001b[1;31mNameError\u001b[0m: name 'plot' is not defined"
     ]
    }
   ],
   "source": [
    "igGp = plot(H, backend=\"graphviz\", layer=\"L1\",\n",
    "         show_edge_labels=True, edge_label_keys=[\"label\"],\n",
    "         show_vertex_labels=True, use_weight_style=True)\n"
   ]
  }
 ],
 "metadata": {
  "kernelspec": {
   "display_name": "Python [conda env:base] *",
   "language": "python",
   "name": "conda-base-py"
  },
  "language_info": {
   "codemirror_mode": {
    "name": "ipython",
    "version": 3
   },
   "file_extension": ".py",
   "mimetype": "text/x-python",
   "name": "python",
   "nbconvert_exporter": "python",
   "pygments_lexer": "ipython3",
   "version": "3.12.7"
  }
 },
 "nbformat": 4,
 "nbformat_minor": 5
}
