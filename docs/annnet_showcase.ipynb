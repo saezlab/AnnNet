{
 "cells": [
  {
   "cell_type": "markdown",
   "id": "e261625b",
   "metadata": {},
   "source": [
    "# AnnNet Showcase — edges, interop, SBML, and `.annnet` I/O\n",
    "\n",
    "This notebook demonstrates:\n",
    "- constructing a graph with **all edge types** supported (binary directed/undirected, self-loops, parallel edges, vertex–edge links, and k‑ary hyperedges),\n",
    "- quick inspection & visualization,\n",
    "- running algorithms in **NetworkX (NX)** via the lazy proxy,\n",
    "- importing a repressilator (Elowitz) model from **SBML (Systems Biology Markup Language)**,\n",
    "- and saving/loading the lossless **`.annnet`** format.\n",
    "\n",
    "> Tip: the `G.nx.<algo>(G, ...)` proxy builds a cached NX view of `G` on‑demand, and supports knobs like `_nx_simple=True` (collapse parallel edges) and `_nx_directed=False` (undirected view).\n"
   ]
  },
  {
   "cell_type": "code",
   "execution_count": 2,
   "id": "d238b0b5",
   "metadata": {},
   "outputs": [
    {
     "name": "stdout",
     "output_type": "stream",
     "text": [
      "annnet version: 0.1.0\n"
     ]
    }
   ],
   "source": [
    "import annnet as an\n",
    "\n",
    "print('annnet version:', an.__version__)"
   ]
  },
  {
   "cell_type": "markdown",
   "id": "919b1afd",
   "metadata": {},
   "source": [
    "## 1) Build a demo graph with all edge types, layers and metadata + AnnData like API"
   ]
  },
  {
   "cell_type": "code",
   "execution_count": 5,
   "id": "570e8929",
   "metadata": {},
   "outputs": [
    {
     "name": "stdout",
     "output_type": "stream",
     "text": [
      "Vertices: 4 Edges: 7\n"
     ]
    }
   ],
   "source": [
    "G = an.Graph(directed=True)  # default direction; can be overridden per-edge\n",
    "\n",
    "# Add vertices with attributes\n",
    "G.add_vertices([\n",
    "    ('A', {'name': 'a'}),\n",
    "    ('B', {'name': 'b'}),\n",
    "    ('C', {'name': 'c'}),\n",
    "    ('D', {'name': 'd'}),\n",
    "])\n",
    "\n",
    "# Create layers and set active\n",
    "G.add_layer(\"toy\")\n",
    "G.add_layer(\"train\")\n",
    "G.add_layer(\"eval\")\n",
    "G.layers.active = \"toy\"   # same effect as set_active_layer(\"toy\")\n",
    "\n",
    "# Add vertices (with attributes) in 'toy'\n",
    "for v in [\"A\",\"B\",\"C\",\"D\"]:\n",
    "    G.add_vertex(v, label=v, kind=\"gene\")\n",
    "\n",
    "# 1) Binary directed\n",
    "e_dir = G.add_edge(\"A\", \"B\", weight=2.0, edge_directed=True, relation=\"activates\")\n",
    "\n",
    "# 2) Binary undirected\n",
    "e_undir = G.add_edge(\"B\", \"C\", weight=1.0, edge_directed=False, relation=\"binds\")\n",
    "\n",
    "# 3) Self-loop\n",
    "e_loop = G.add_edge(\"D\", \"D\", weight=0.5, edge_directed=True, relation=\"self\")\n",
    "\n",
    "# 4) Parallel edge\n",
    "e_parallel = G.add_parallel_edge(\"A\", \"B\", weight=5.0, relation=\"alternative\")\n",
    "\n",
    "# 5) Vertex–edge (hybrid) edges\n",
    "G.add_edge_entity(\"edge_e1\", description=\"signal\")\n",
    "e_vx = G.add_edge(\"edge_e1\", \"C\", edge_type=\"vertex_edge\", edge_directed=True, channel=\"edge->vertex\")\n",
    "\n",
    "# 6) Hyperedge (undirected, 3-way membership)\n",
    "e_hyper_undir = G.add_hyperedge(members=[\"A\",\"C\",\"D\"], weight=1.0, tag=\"complex\")\n",
    "\n",
    "# 7) Hyperedge (directed head→tail)\n",
    "e_hyper_dir = G.add_hyperedge(head=[\"A\",\"B\"], tail=[\"C\",\"D\"], weight=1.0, reaction=\"A+B->C+D\")\n",
    "\n",
    "print(\"Vertices:\", G.num_vertices, \"Edges:\", G.num_edges)\n"
   ]
  },
  {
   "cell_type": "markdown",
   "id": "2184890f-3f8a-4b3a-a946-09f7e7b56e78",
   "metadata": {},
   "source": [
    "### AnnData-style access: `.X`, `.obs`, `.var`, `.layers`"
   ]
  },
  {
   "cell_type": "code",
   "execution_count": 8,
   "id": "10ff6600-f993-4523-8205-91b8fad48f97",
   "metadata": {},
   "outputs": [
    {
     "name": "stdout",
     "output_type": "stream",
     "text": [
      "X shape: <bound method Graph.X of <annnet.core.graph.Graph object at 0x000001DFFF7B5B80>> type: method\n",
      "obs schema: Schema({'vertex_id': String, 'name': String, 'label': String, 'kind': String, 'description': String})\n"
     ]
    },
    {
     "data": {
      "text/html": [
       "<div><style>\n",
       ".dataframe > thead > tr,\n",
       ".dataframe > tbody > tr {\n",
       "  text-align: right;\n",
       "  white-space: pre-wrap;\n",
       "}\n",
       "</style>\n",
       "<small>shape: (5, 5)</small><table border=\"1\" class=\"dataframe\"><thead><tr><th>vertex_id</th><th>name</th><th>label</th><th>kind</th><th>description</th></tr><tr><td>str</td><td>str</td><td>str</td><td>str</td><td>str</td></tr></thead><tbody><tr><td>&quot;A&quot;</td><td>&quot;a&quot;</td><td>&quot;A&quot;</td><td>&quot;gene&quot;</td><td>null</td></tr><tr><td>&quot;B&quot;</td><td>&quot;b&quot;</td><td>&quot;B&quot;</td><td>&quot;gene&quot;</td><td>null</td></tr><tr><td>&quot;C&quot;</td><td>&quot;c&quot;</td><td>&quot;C&quot;</td><td>&quot;gene&quot;</td><td>null</td></tr><tr><td>&quot;D&quot;</td><td>&quot;d&quot;</td><td>&quot;D&quot;</td><td>&quot;gene&quot;</td><td>null</td></tr><tr><td>&quot;edge_e1&quot;</td><td>null</td><td>null</td><td>null</td><td>&quot;signal&quot;</td></tr></tbody></table></div>"
      ],
      "text/plain": [
       "shape: (5, 5)\n",
       "┌───────────┬──────┬───────┬──────┬─────────────┐\n",
       "│ vertex_id ┆ name ┆ label ┆ kind ┆ description │\n",
       "│ ---       ┆ ---  ┆ ---   ┆ ---  ┆ ---         │\n",
       "│ str       ┆ str  ┆ str   ┆ str  ┆ str         │\n",
       "╞═══════════╪══════╪═══════╪══════╪═════════════╡\n",
       "│ A         ┆ a    ┆ A     ┆ gene ┆ null        │\n",
       "│ B         ┆ b    ┆ B     ┆ gene ┆ null        │\n",
       "│ C         ┆ c    ┆ C     ┆ gene ┆ null        │\n",
       "│ D         ┆ d    ┆ D     ┆ gene ┆ null        │\n",
       "│ edge_e1   ┆ null ┆ null  ┆ null ┆ signal      │\n",
       "└───────────┴──────┴───────┴──────┴─────────────┘"
      ]
     },
     "metadata": {},
     "output_type": "display_data"
    },
    {
     "name": "stdout",
     "output_type": "stream",
     "text": [
      "var schema: Schema({'edge_id': String, 'relation': String, 'channel': String, 'tag': String, 'reaction': String})\n"
     ]
    },
    {
     "data": {
      "text/html": [
       "<div><style>\n",
       ".dataframe > thead > tr,\n",
       ".dataframe > tbody > tr {\n",
       "  text-align: right;\n",
       "  white-space: pre-wrap;\n",
       "}\n",
       "</style>\n",
       "<small>shape: (7, 5)</small><table border=\"1\" class=\"dataframe\"><thead><tr><th>edge_id</th><th>relation</th><th>channel</th><th>tag</th><th>reaction</th></tr><tr><td>str</td><td>str</td><td>str</td><td>str</td><td>str</td></tr></thead><tbody><tr><td>&quot;edge_0&quot;</td><td>&quot;activates&quot;</td><td>null</td><td>null</td><td>null</td></tr><tr><td>&quot;edge_1&quot;</td><td>&quot;binds&quot;</td><td>null</td><td>null</td><td>null</td></tr><tr><td>&quot;edge_2&quot;</td><td>&quot;self&quot;</td><td>null</td><td>null</td><td>null</td></tr><tr><td>&quot;edge_3&quot;</td><td>&quot;alternative&quot;</td><td>null</td><td>null</td><td>null</td></tr><tr><td>&quot;edge_4&quot;</td><td>null</td><td>&quot;edge-&gt;vertex&quot;</td><td>null</td><td>null</td></tr><tr><td>&quot;edge_5&quot;</td><td>null</td><td>null</td><td>&quot;complex&quot;</td><td>null</td></tr><tr><td>&quot;edge_6&quot;</td><td>null</td><td>null</td><td>null</td><td>&quot;A+B-&gt;C+D&quot;</td></tr></tbody></table></div>"
      ],
      "text/plain": [
       "shape: (7, 5)\n",
       "┌─────────┬─────────────┬──────────────┬─────────┬──────────┐\n",
       "│ edge_id ┆ relation    ┆ channel      ┆ tag     ┆ reaction │\n",
       "│ ---     ┆ ---         ┆ ---          ┆ ---     ┆ ---      │\n",
       "│ str     ┆ str         ┆ str          ┆ str     ┆ str      │\n",
       "╞═════════╪═════════════╪══════════════╪═════════╪══════════╡\n",
       "│ edge_0  ┆ activates   ┆ null         ┆ null    ┆ null     │\n",
       "│ edge_1  ┆ binds       ┆ null         ┆ null    ┆ null     │\n",
       "│ edge_2  ┆ self        ┆ null         ┆ null    ┆ null     │\n",
       "│ edge_3  ┆ alternative ┆ null         ┆ null    ┆ null     │\n",
       "│ edge_4  ┆ null        ┆ edge->vertex ┆ null    ┆ null     │\n",
       "│ edge_5  ┆ null        ┆ null         ┆ complex ┆ null     │\n",
       "│ edge_6  ┆ null        ┆ null         ┆ null    ┆ A+B->C+D │\n",
       "└─────────┴─────────────┴──────────────┴─────────┴──────────┘"
      ]
     },
     "metadata": {},
     "output_type": "display_data"
    },
    {
     "name": "stdout",
     "output_type": "stream",
     "text": [
      "All layers: ['default', 'toy', 'train', 'eval']\n",
      "Active layer: toy\n"
     ]
    }
   ],
   "source": [
    "# Sparse incidence matrix (SciPy)\n",
    "X = G.X\n",
    "print(\"X shape:\", X, \"type:\", type(X).__name__)\n",
    "\n",
    "# Node attributes (Polars DF (DataFrame))\n",
    "obs = G.obs\n",
    "print(\"obs schema:\", obs.schema)\n",
    "display(obs.head(8))\n",
    "\n",
    "# Edge attributes (Polars DF (DataFrame))\n",
    "var = G.var\n",
    "print(\"var schema:\", var.schema)\n",
    "display(var.head(10))\n",
    "\n",
    "# Layers manager\n",
    "print(\"All layers:\", G.layers.list(include_default=True))\n",
    "print(\"Active layer:\", G.layers.active)\n"
   ]
  },
  {
   "cell_type": "code",
   "execution_count": 10,
   "id": "f27664ca-2e4d-406f-9357-b3a8de8de8fd",
   "metadata": {},
   "outputs": [
    {
     "data": {
      "text/plain": [
       "array([[ 31.  , -28.  ,   0.  ,   0.  ,   0.  ,   0.  ,   0.  ,   0.  ],\n",
       "       [-28.  ,  31.  ,   0.  ,  -1.  ,   0.  ,   0.  ,   0.  ,   0.  ],\n",
       "       [  0.  ,   0.  ,   4.  ,   2.  ,  -1.  ,   0.  ,   0.  ,   0.  ],\n",
       "       [  0.  ,  -1.  ,   2.  ,   2.25,   0.  ,   0.  ,   0.  ,   0.  ],\n",
       "       [  0.  ,   0.  ,  -1.  ,   0.  ,   1.  ,   0.  ,   0.  ,   0.  ],\n",
       "       [  0.  ,   0.  ,   0.  ,   0.  ,   0.  ,   0.  ,   0.  ,   0.  ],\n",
       "       [  0.  ,   0.  ,   0.  ,   0.  ,   0.  ,   0.  ,   0.  ,   0.  ],\n",
       "       [  0.  ,   0.  ,   0.  ,   0.  ,   0.  ,   0.  ,   0.  ,   0.  ]],\n",
       "      dtype=float32)"
      ]
     },
     "execution_count": 10,
     "metadata": {},
     "output_type": "execute_result"
    }
   ],
   "source": [
    "# Adjacency cache\n",
    "\n",
    "A = G.cache.adjacency\n",
    "\n",
    "A.toarray()"
   ]
  },
  {
   "cell_type": "markdown",
   "id": "97025f67-4d68-423a-9993-b62817a62607",
   "metadata": {},
   "source": [
    "### Layers API (application programming interface) demo — attach + set operations"
   ]
  },
  {
   "cell_type": "code",
   "execution_count": 13,
   "id": "56f4ccc9-d07a-459c-ba99-64bca1fc1586",
   "metadata": {},
   "outputs": [
    {
     "name": "stdout",
     "output_type": "stream",
     "text": [
      "Union sizes: {'vertices': 4, 'edges': 2}\n",
      "Intersection sizes: {'vertices': 0, 'edges': 0}\n",
      "Train \\ Eval sizes: {'vertices': 2, 'edges': 1}\n"
     ]
    }
   ],
   "source": [
    "# Put different content in other layers\n",
    "G.layers.active = \"train\"\n",
    "G.add_vertex(\"X\", phase=\"train\")\n",
    "ex = G.add_edge(\"X\", \"A\", weight=1.0, relation=\"train_edge\")\n",
    "\n",
    "G.layers.active = \"eval\"\n",
    "G.add_vertex(\"Y\", phase=\"eval\")\n",
    "ey = G.add_edge(\"Y\", \"B\", weight=1.0, relation=\"eval_edge\")\n",
    "\n",
    "# Compute set operations (no new layers created)\n",
    "U = G.layer_union([\"train\",\"eval\"])          # {'vertices': set[str], 'edges': set[str]}\n",
    "I = G.layer_intersection([\"train\",\"eval\"])\n",
    "D = G.layer_difference(\"train\", \"eval\")\n",
    "\n",
    "print(\"Union sizes:\", {k: len(v) for k,v in U.items()})\n",
    "print(\"Intersection sizes:\", {k: len(v) for k,v in I.items()})\n",
    "print(\"Train \\\\ Eval sizes:\", {k: len(v) for k,v in D.items()})\n"
   ]
  },
  {
   "cell_type": "markdown",
   "id": "90f47260",
   "metadata": {},
   "source": [
    "### Inspect edges (structured view)"
   ]
  },
  {
   "cell_type": "code",
   "execution_count": 16,
   "id": "64cf1955",
   "metadata": {},
   "outputs": [
    {
     "data": {
      "text/html": [
       "<div><style>\n",
       ".dataframe > thead > tr,\n",
       ".dataframe > tbody > tr {\n",
       "  text-align: right;\n",
       "  white-space: pre-wrap;\n",
       "}\n",
       "</style>\n",
       "<small>shape: (9, 15)</small><table border=\"1\" class=\"dataframe\"><thead><tr><th>edge_id</th><th>kind</th><th>directed</th><th>global_weight</th><th>source</th><th>target</th><th>edge_type</th><th>head</th><th>tail</th><th>members</th><th>relation</th><th>channel</th><th>tag</th><th>reaction</th><th>effective_weight</th></tr><tr><td>str</td><td>str</td><td>bool</td><td>f64</td><td>str</td><td>str</td><td>str</td><td>list[str]</td><td>list[str]</td><td>list[str]</td><td>str</td><td>str</td><td>str</td><td>str</td><td>f64</td></tr></thead><tbody><tr><td>&quot;edge_0&quot;</td><td>&quot;binary&quot;</td><td>true</td><td>2.0</td><td>&quot;A&quot;</td><td>&quot;B&quot;</td><td>&quot;regular&quot;</td><td>null</td><td>null</td><td>null</td><td>&quot;activates&quot;</td><td>null</td><td>null</td><td>null</td><td>2.0</td></tr><tr><td>&quot;edge_1&quot;</td><td>&quot;binary&quot;</td><td>false</td><td>1.0</td><td>&quot;B&quot;</td><td>&quot;C&quot;</td><td>&quot;regular&quot;</td><td>null</td><td>null</td><td>null</td><td>&quot;binds&quot;</td><td>null</td><td>null</td><td>null</td><td>1.0</td></tr><tr><td>&quot;edge_2&quot;</td><td>&quot;binary&quot;</td><td>true</td><td>0.5</td><td>&quot;D&quot;</td><td>&quot;D&quot;</td><td>&quot;regular&quot;</td><td>null</td><td>null</td><td>null</td><td>&quot;self&quot;</td><td>null</td><td>null</td><td>null</td><td>0.5</td></tr><tr><td>&quot;edge_3&quot;</td><td>&quot;binary&quot;</td><td>true</td><td>5.0</td><td>&quot;A&quot;</td><td>&quot;B&quot;</td><td>&quot;regular&quot;</td><td>null</td><td>null</td><td>null</td><td>&quot;alternative&quot;</td><td>null</td><td>null</td><td>null</td><td>5.0</td></tr><tr><td>&quot;edge_4&quot;</td><td>&quot;binary&quot;</td><td>true</td><td>1.0</td><td>&quot;edge_e1&quot;</td><td>&quot;C&quot;</td><td>&quot;vertex_edge&quot;</td><td>null</td><td>null</td><td>null</td><td>null</td><td>&quot;edge-&gt;vertex&quot;</td><td>null</td><td>null</td><td>1.0</td></tr><tr><td>&quot;edge_5&quot;</td><td>&quot;hyper&quot;</td><td>false</td><td>1.0</td><td>null</td><td>null</td><td>null</td><td>null</td><td>null</td><td>[&quot;A&quot;, &quot;C&quot;, &quot;D&quot;]</td><td>null</td><td>null</td><td>&quot;complex&quot;</td><td>null</td><td>1.0</td></tr><tr><td>&quot;edge_6&quot;</td><td>&quot;hyper&quot;</td><td>true</td><td>1.0</td><td>null</td><td>null</td><td>null</td><td>[&quot;A&quot;, &quot;B&quot;]</td><td>[&quot;C&quot;, &quot;D&quot;]</td><td>null</td><td>null</td><td>null</td><td>null</td><td>&quot;A+B-&gt;C+D&quot;</td><td>1.0</td></tr><tr><td>&quot;edge_7&quot;</td><td>&quot;binary&quot;</td><td>true</td><td>1.0</td><td>&quot;X&quot;</td><td>&quot;A&quot;</td><td>&quot;regular&quot;</td><td>null</td><td>null</td><td>null</td><td>&quot;train_edge&quot;</td><td>null</td><td>null</td><td>null</td><td>1.0</td></tr><tr><td>&quot;edge_8&quot;</td><td>&quot;binary&quot;</td><td>true</td><td>1.0</td><td>&quot;Y&quot;</td><td>&quot;B&quot;</td><td>&quot;regular&quot;</td><td>null</td><td>null</td><td>null</td><td>&quot;eval_edge&quot;</td><td>null</td><td>null</td><td>null</td><td>1.0</td></tr></tbody></table></div>"
      ],
      "text/plain": [
       "shape: (9, 15)\n",
       "┌─────────┬────────┬──────────┬───────────────┬───┬──────────────┬─────────┬──────────┬──────────────────┐\n",
       "│ edge_id ┆ kind   ┆ directed ┆ global_weight ┆ … ┆ channel      ┆ tag     ┆ reaction ┆ effective_weight │\n",
       "│ ---     ┆ ---    ┆ ---      ┆ ---           ┆   ┆ ---          ┆ ---     ┆ ---      ┆ ---              │\n",
       "│ str     ┆ str    ┆ bool     ┆ f64           ┆   ┆ str          ┆ str     ┆ str      ┆ f64              │\n",
       "╞═════════╪════════╪══════════╪═══════════════╪═══╪══════════════╪═════════╪══════════╪══════════════════╡\n",
       "│ edge_0  ┆ binary ┆ true     ┆ 2.0           ┆ … ┆ null         ┆ null    ┆ null     ┆ 2.0              │\n",
       "│ edge_1  ┆ binary ┆ false    ┆ 1.0           ┆ … ┆ null         ┆ null    ┆ null     ┆ 1.0              │\n",
       "│ edge_2  ┆ binary ┆ true     ┆ 0.5           ┆ … ┆ null         ┆ null    ┆ null     ┆ 0.5              │\n",
       "│ edge_3  ┆ binary ┆ true     ┆ 5.0           ┆ … ┆ null         ┆ null    ┆ null     ┆ 5.0              │\n",
       "│ edge_4  ┆ binary ┆ true     ┆ 1.0           ┆ … ┆ edge->vertex ┆ null    ┆ null     ┆ 1.0              │\n",
       "│ edge_5  ┆ hyper  ┆ false    ┆ 1.0           ┆ … ┆ null         ┆ complex ┆ null     ┆ 1.0              │\n",
       "│ edge_6  ┆ hyper  ┆ true     ┆ 1.0           ┆ … ┆ null         ┆ null    ┆ A+B->C+D ┆ 1.0              │\n",
       "│ edge_7  ┆ binary ┆ true     ┆ 1.0           ┆ … ┆ null         ┆ null    ┆ null     ┆ 1.0              │\n",
       "│ edge_8  ┆ binary ┆ true     ┆ 1.0           ┆ … ┆ null         ┆ null    ┆ null     ┆ 1.0              │\n",
       "└─────────┴────────┴──────────┴───────────────┴───┴──────────────┴─────────┴──────────┴──────────────────┘"
      ]
     },
     "execution_count": 16,
     "metadata": {},
     "output_type": "execute_result"
    }
   ],
   "source": [
    "ev = G.edges_view(include_directed=True, include_weight=True, resolved_weight=True)\n",
    "ev"
   ]
  },
  {
   "cell_type": "markdown",
   "id": "aeead424",
   "metadata": {},
   "source": [
    "### Quick visualization via NX (NetworkX)"
   ]
  },
  {
   "cell_type": "code",
   "execution_count": 23,
   "id": "8298355c",
   "metadata": {},
   "outputs": [
    {
     "data": {
      "image/png": "[encoded data removed]",
      "text/plain": [
       "<Figure size 600x400 with 1 Axes>"
      ]
     },
     "metadata": {},
     "output_type": "display_data"
    }
   ],
   "source": [
    "import matplotlib.pyplot as plt\n",
    "import networkx as nx\n",
    "\n",
    "# Obtain a simple NX view (collapse Multi* edges with sensible aggregations)\n",
    "nxG, manifest = an.to_nx(G, directed=True, hyperedge_mode=\"skip\") # skip, expand or reify\n",
    "pos = nx.spring_layout(nxG, seed=42)\n",
    "plt.figure(figsize=(6,4))\n",
    "nx.draw(nxG, pos, with_labels=True, node_size=800)\n",
    "nx.draw_networkx_edge_labels(nxG, pos, edge_labels=nx.get_edge_attributes(nxG, 'weight'))\n",
    "plt.title('Demo graph (simple NX view)')\n",
    "plt.show()"
   ]
  },
  {
   "cell_type": "markdown",
   "id": "6e700552",
   "metadata": {},
   "source": [
    "## 2) Run a few NX (NetworkX) algorithms via the proxy"
   ]
  },
  {
   "cell_type": "code",
   "execution_count": 26,
   "id": "f94eb4b8",
   "metadata": {},
   "outputs": [
    {
     "name": "stdout",
     "output_type": "stream",
     "text": [
      "Shortest path length A→D: 1.0\n",
      "Shortest path A→D: ['A', 'D']\n"
     ]
    },
    {
     "name": "stderr",
     "output_type": "stream",
     "text": [
      "C:\\Users\\pc\\anaconda3\\Lib\\site-packages\\annnet\\core\\graph.py:6857: RuntimeWarning: Graph→NX conversion is lossy: multiple layers flattened into single NX graph.\n",
      "  nxG = self._convert_to_nx(\n"
     ]
    },
    {
     "data": {
      "text/plain": [
       "{'A': 0.1,\n",
       " 'B': 0.1,\n",
       " 'C': 0.2,\n",
       " 'D': 0.03333333333333333,\n",
       " 'X': 0.0,\n",
       " 'Y': 0.0,\n",
       " 'edge_e1': 0.0}"
      ]
     },
     "execution_count": 26,
     "metadata": {},
     "output_type": "execute_result"
    }
   ],
   "source": [
    "# Shortest path over weights (collapse parallel edges first)\n",
    "sp_len = G.nx.shortest_path_length(G, source='A', target='D', weight='weight', _nx_simple=True)\n",
    "sp = G.nx.shortest_path(G, source='A', target='D', weight='weight', _nx_simple=True)\n",
    "print('Shortest path length A→D:', sp_len)\n",
    "print('Shortest path A→D:', sp)\n",
    "\n",
    "# Betweenness centrality (weighted)\n",
    "bc = G.nx.betweenness_centrality(G, weight='weight', _nx_simple=True)\n",
    "bc"
   ]
  },
  {
   "cell_type": "code",
   "execution_count": 28,
   "id": "07fe31dc",
   "metadata": {},
   "outputs": [
    {
     "data": {
      "text/plain": [
       "[{'A', 'B', 'C', 'D', 'X', 'Y', 'edge_e1'}]"
      ]
     },
     "execution_count": 28,
     "metadata": {},
     "output_type": "execute_result"
    }
   ],
   "source": [
    "# Community detection using Label Propagation (works on undirected views)\n",
    "comms = list(G.nx.asyn_lpa_communities(G, weight='weight', _nx_directed=False, _nx_simple=True))\n",
    "comms"
   ]
  },
  {
   "cell_type": "markdown",
   "id": "8c2abfbf",
   "metadata": {},
   "source": [
    "## 3) Interoperability (adapters)"
   ]
  },
  {
   "cell_type": "code",
   "execution_count": 33,
   "id": "ea950270",
   "metadata": {},
   "outputs": [
    {
     "data": {
      "text/plain": [
       "'C:\\\\Users\\\\pc\\\\_VIXYN\\\\TST\\\\showcase'"
      ]
     },
     "execution_count": 33,
     "metadata": {},
     "output_type": "execute_result"
    }
   ],
   "source": [
    "# Top-level adapter function (returns NX graph; may also return a manifest)\n",
    "from pathlib import Path\n",
    "\n",
    "nx_out = an.to_nx(G, directed=True, hyperedge_mode='expand')\n",
    "nxG2 = nx_out[0] if isinstance(nx_out, tuple) else nx_out\n",
    "assert isinstance(nxG2, (nx.Graph, nx.DiGraph, nx.MultiGraph, nx.MultiDiGraph))\n",
    "\n",
    "# Optional: export to GraphML and SIF for demonstration\n",
    "assets = Path('showcase'); assets.mkdir(exist_ok=True, parents=True)\n",
    "an.to_graphml(G, assets/'demo.graphml')\n",
    "an.to_sif(G, assets/'demo.sif')\n",
    "str(assets.resolve())"
   ]
  },
  {
   "cell_type": "markdown",
   "id": "258637b6",
   "metadata": {},
   "source": [
    "## 4) Import repressilator (Elowitz) from SBML"
   ]
  },
  {
   "cell_type": "code",
   "execution_count": 36,
   "id": "f3aa23b7",
   "metadata": {},
   "outputs": [
    {
     "name": "stdout",
     "output_type": "stream",
     "text": [
      "SBML file: Elowitz.sbml.xml\n"
     ]
    },
    {
     "name": "stderr",
     "output_type": "stream",
     "text": [
      "Model does not contain SBML fbc package information.\n",
      "SBML package 'layout' not supported by cobrapy, information is not parsed\n",
      "SBML package 'render' not supported by cobrapy, information is not parsed\n",
      "Missing lower flux bound set to '-1000.0' for reaction: '<Reaction Reaction1 \"degradation of LacI transcripts\">'\n",
      "Missing upper flux bound set to '1000.0' for reaction: '<Reaction Reaction1 \"degradation of LacI transcripts\">'\n",
      "Missing lower flux bound set to '-1000.0' for reaction: '<Reaction Reaction2 \"degradation of TetR transcripts\">'\n",
      "Missing upper flux bound set to '1000.0' for reaction: '<Reaction Reaction2 \"degradation of TetR transcripts\">'\n",
      "Missing lower flux bound set to '-1000.0' for reaction: '<Reaction Reaction3 \"degradation of CI transcripts\">'\n",
      "Missing upper flux bound set to '1000.0' for reaction: '<Reaction Reaction3 \"degradation of CI transcripts\">'\n",
      "Missing lower flux bound set to '-1000.0' for reaction: '<Reaction Reaction4 \"translation of LacI\">'\n",
      "Missing upper flux bound set to '1000.0' for reaction: '<Reaction Reaction4 \"translation of LacI\">'\n",
      "Missing lower flux bound set to '-1000.0' for reaction: '<Reaction Reaction5 \"translation of TetR\">'\n",
      "Missing upper flux bound set to '1000.0' for reaction: '<Reaction Reaction5 \"translation of TetR\">'\n",
      "Missing lower flux bound set to '-1000.0' for reaction: '<Reaction Reaction6 \"translation of CI\">'\n",
      "Missing upper flux bound set to '1000.0' for reaction: '<Reaction Reaction6 \"translation of CI\">'\n",
      "Missing lower flux bound set to '-1000.0' for reaction: '<Reaction Reaction7 \"degradation of LacI\">'\n",
      "Missing upper flux bound set to '1000.0' for reaction: '<Reaction Reaction7 \"degradation of LacI\">'\n",
      "Missing lower flux bound set to '-1000.0' for reaction: '<Reaction Reaction8 \"degradation of TetR\">'\n",
      "Missing upper flux bound set to '1000.0' for reaction: '<Reaction Reaction8 \"degradation of TetR\">'\n",
      "Missing lower flux bound set to '-1000.0' for reaction: '<Reaction Reaction9 \"degradation of CI\">'\n",
      "Missing upper flux bound set to '1000.0' for reaction: '<Reaction Reaction9 \"degradation of CI\">'\n",
      "Missing lower flux bound set to '-1000.0' for reaction: '<Reaction Reaction10 \"transcription of LacI\">'\n",
      "Missing upper flux bound set to '1000.0' for reaction: '<Reaction Reaction10 \"transcription of LacI\">'\n",
      "Missing lower flux bound set to '-1000.0' for reaction: '<Reaction Reaction11 \"transcription of TetR\">'\n",
      "Missing upper flux bound set to '1000.0' for reaction: '<Reaction Reaction11 \"transcription of TetR\">'\n",
      "Missing lower flux bound set to '-1000.0' for reaction: '<Reaction Reaction12 \"transcription of CI\">'\n",
      "Missing upper flux bound set to '1000.0' for reaction: '<Reaction Reaction12 \"transcription of CI\">'\n",
      "No objective coefficients in model. Unclear what should be optimized\n",
      "Missing flux bounds on reactions set to default bounds.As best practise and to avoid confusion flux bounds should be set explicitly on all reactions.\n"
     ]
    },
    {
     "data": {
      "text/plain": [
       "<annnet.core.graph.Graph at 0x1dfc1493ec0>"
      ]
     },
     "execution_count": 36,
     "metadata": {},
     "output_type": "execute_result"
    }
   ],
   "source": [
    "# Path relative to this notebook (the repo includes docs/Elowitz.sbml.xml)\n",
    "sbml_path = 'Elowitz.sbml.xml'\n",
    "print('SBML file:', sbml_path)\n",
    "R = an.from_sbml(str(sbml_path)) if sbml_path else None\n",
    "R"
   ]
  },
  {
   "cell_type": "code",
   "execution_count": 38,
   "id": "4763a0bc",
   "metadata": {},
   "outputs": [
    {
     "name": "stdout",
     "output_type": "stream",
     "text": [
      "Repressilator — vertices: 8 edges: 12\n"
     ]
    }
   ],
   "source": [
    "if R is not None:\n",
    "    print('Repressilator — vertices:', R.num_vertices, 'edges:', R.num_edges)\n",
    "    R.edges_view().head(10)"
   ]
  },
  {
   "cell_type": "markdown",
   "id": "e189e340",
   "metadata": {},
   "source": [
    "## 5) Save & load the lossless `.annnet` format"
   ]
  },
  {
   "cell_type": "code",
   "execution_count": 41,
   "id": "f517816e",
   "metadata": {},
   "outputs": [
    {
     "name": "stdout",
     "output_type": "stream",
     "text": [
      "Wrote: showcase\\demo.annnet\n",
      "Round-trip OK? True\n",
      "Saved repressilator to: showcase\\repressilator.annnet\n"
     ]
    }
   ],
   "source": [
    "out_dir = Path('showcase'); out_dir.mkdir(exist_ok=True, parents=True)\n",
    "demo_path = out_dir/'demo.annnet'\n",
    "sbml_path_out = out_dir/'repressilator.annnet'\n",
    "\n",
    "G.write(demo_path, overwrite=True)  # lossless save\n",
    "print('Wrote:', demo_path)\n",
    "\n",
    "# Round-trip check\n",
    "G2 = an.Graph.read(demo_path)\n",
    "print('Round-trip OK?', (G2.num_vertices, G2.num_edges) == (G.num_vertices, G.num_edges))\n",
    "\n",
    "if R is not None:\n",
    "    R.write(sbml_path_out, overwrite=True)\n",
    "    print('Saved repressilator to:', sbml_path_out)"
   ]
  },
  {
   "cell_type": "code",
   "execution_count": null,
   "id": "d494d19b-bd04-48ff-9ccb-1af4b61824a9",
   "metadata": {},
   "outputs": [],
   "source": []
  }
 ],
 "metadata": {
  "kernelspec": {
   "display_name": "Python [conda env:base] *",
   "language": "python",
   "name": "conda-base-py"
  },
  "language_info": {
   "codemirror_mode": {
    "name": "ipython",
    "version": 3
   },
   "file_extension": ".py",
   "mimetype": "text/x-python",
   "name": "python",
   "nbconvert_exporter": "python",
   "pygments_lexer": "ipython3",
   "version": "3.12.7"
  }
 },
 "nbformat": 4,
 "nbformat_minor": 5
}
