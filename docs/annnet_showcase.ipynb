{
 "cells": [
  {
   "cell_type": "markdown",
   "id": "e261625b",
   "metadata": {},
   "source": [
    "# AnnNet Showcase — edges, interop, SBML, and `.annnet` I/O\n",
    "\n",
    "This notebook demonstrates:\n",
    "- constructing a graph with **all edge types** supported (binary directed/undirected, self-loops, parallel edges, vertex–edge links, and k‑ary hyperedges),\n",
    "- quick inspection & visualization,\n",
    "- running algorithms in **NetworkX (NX)** via the lazy proxy,\n",
    "- importing a repressilator (Elowitz) model from **SBML (Systems Biology Markup Language)**,\n",
    "- and saving/loading the lossless **`.annnet`** format.\n",
    "\n",
    "> Tip: the `G.nx.<algo>(G, ...)` proxy builds a cached NX view of `G` on‑demand, and supports knobs like `_nx_simple=True` (collapse parallel edges) and `_nx_directed=False` (undirected view).\n"
   ]
  },
  {
   "cell_type": "code",
   "execution_count": 2,
   "id": "d238b0b5",
   "metadata": {},
   "outputs": [
    {
     "name": "stdout",
     "output_type": "stream",
     "text": [
      "annnet version: 0.1.0\n"
     ]
    }
   ],
   "source": [
    "import os\n",
    "import sys\n",
    "sys.path.insert(0, os.path.abspath(\"..\"))\n",
    "\n",
    "import annnet as an\n",
    "import networkx as nx  # NX (NetworkX) algorithms\n",
    "from pathlib import Path\n",
    "\n",
    "print('annnet version:', an.__version__)"
   ]
  },
  {
   "cell_type": "markdown",
   "id": "919b1afd",
   "metadata": {},
   "source": [
    "## 1) Build a demo graph with all edge types"
   ]
  },
  {
   "cell_type": "code",
   "execution_count": 5,
   "id": "570e8929",
   "metadata": {},
   "outputs": [
    {
     "name": "stdout",
     "output_type": "stream",
     "text": [
      "Vertices: 4 Edges: 7\n"
     ]
    }
   ],
   "source": [
    "G = an.Graph(directed=True)  # default direction; can be overridden per-edge\n",
    "\n",
    "# Add vertices with attributes\n",
    "G.add_vertices([\n",
    "    ('A', {'name': 'a'}),\n",
    "    ('B', {'name': 'b'}),\n",
    "    ('C', {'name': 'c'}),\n",
    "    ('D', {'name': 'd'}),\n",
    "])\n",
    "\n",
    "# 1) Binary directed\n",
    "e_dir = G.add_edge('A', 'B', weight=2.0, edge_directed=True, relation='activates')\n",
    "\n",
    "# 2) Binary undirected\n",
    "e_undir = G.add_edge('B', 'C', weight=1.0, edge_directed=False, relation='binds')\n",
    "\n",
    "# 3) Self-loop\n",
    "e_loop = G.add_edge('D', 'D', weight=0.5, edge_directed=True, relation='self')\n",
    "\n",
    "# 4) Parallel edge (same endpoints, different ID)\n",
    "e_parallel = G.add_parallel_edge('A', 'B', weight=5.0, relation='alternative')\n",
    "\n",
    "# 5) Vertex–edge link (edge-entity)\n",
    "G.add_edge_entity('edge_e1', description='signal')\n",
    "e_vx = G.add_edge('edge_e1', 'C', edge_type='vertex_edge', edge_directed=True, channel='edge->vertex')\n",
    "\n",
    "# 6) Hyperedge (undirected, 3‑way)\n",
    "e_hyper_undir = G.add_hyperedge(members=['A','C','D'], weight=1.0, tag='complex')\n",
    "\n",
    "# 7) Hyperedge (directed, head->tail)\n",
    "e_hyper_dir = G.add_hyperedge(head=['A','B'], tail=['C','D'], weight=1.0, reaction='A+B->C+D')\n",
    "\n",
    "print('Vertices:', G.num_vertices, 'Edges:', G.num_edges)"
   ]
  },
  {
   "cell_type": "markdown",
   "id": "90f47260",
   "metadata": {},
   "source": [
    "### Inspect edges (structured view)"
   ]
  },
  {
   "cell_type": "code",
   "execution_count": 8,
   "id": "64cf1955",
   "metadata": {},
   "outputs": [
    {
     "data": {
      "text/html": [
       "<div><style>\n",
       ".dataframe > thead > tr,\n",
       ".dataframe > tbody > tr {\n",
       "  text-align: right;\n",
       "  white-space: pre-wrap;\n",
       "}\n",
       "</style>\n",
       "<small>shape: (7, 15)</small><table border=\"1\" class=\"dataframe\"><thead><tr><th>edge_id</th><th>kind</th><th>directed</th><th>global_weight</th><th>source</th><th>target</th><th>edge_type</th><th>head</th><th>tail</th><th>members</th><th>relation</th><th>channel</th><th>tag</th><th>reaction</th><th>effective_weight</th></tr><tr><td>str</td><td>str</td><td>bool</td><td>f64</td><td>str</td><td>str</td><td>str</td><td>list[str]</td><td>list[str]</td><td>list[str]</td><td>str</td><td>str</td><td>str</td><td>str</td><td>f64</td></tr></thead><tbody><tr><td>&quot;edge_0&quot;</td><td>&quot;binary&quot;</td><td>true</td><td>2.0</td><td>&quot;A&quot;</td><td>&quot;B&quot;</td><td>&quot;regular&quot;</td><td>null</td><td>null</td><td>null</td><td>&quot;activates&quot;</td><td>null</td><td>null</td><td>null</td><td>2.0</td></tr><tr><td>&quot;edge_1&quot;</td><td>&quot;binary&quot;</td><td>false</td><td>1.0</td><td>&quot;B&quot;</td><td>&quot;C&quot;</td><td>&quot;regular&quot;</td><td>null</td><td>null</td><td>null</td><td>&quot;binds&quot;</td><td>null</td><td>null</td><td>null</td><td>1.0</td></tr><tr><td>&quot;edge_2&quot;</td><td>&quot;binary&quot;</td><td>true</td><td>0.5</td><td>&quot;D&quot;</td><td>&quot;D&quot;</td><td>&quot;regular&quot;</td><td>null</td><td>null</td><td>null</td><td>&quot;self&quot;</td><td>null</td><td>null</td><td>null</td><td>0.5</td></tr><tr><td>&quot;edge_3&quot;</td><td>&quot;binary&quot;</td><td>true</td><td>5.0</td><td>&quot;A&quot;</td><td>&quot;B&quot;</td><td>&quot;regular&quot;</td><td>null</td><td>null</td><td>null</td><td>&quot;alternative&quot;</td><td>null</td><td>null</td><td>null</td><td>5.0</td></tr><tr><td>&quot;edge_4&quot;</td><td>&quot;binary&quot;</td><td>true</td><td>1.0</td><td>&quot;edge_e1&quot;</td><td>&quot;C&quot;</td><td>&quot;vertex_edge&quot;</td><td>null</td><td>null</td><td>null</td><td>null</td><td>&quot;edge-&gt;vertex&quot;</td><td>null</td><td>null</td><td>1.0</td></tr><tr><td>&quot;edge_5&quot;</td><td>&quot;hyper&quot;</td><td>false</td><td>1.0</td><td>null</td><td>null</td><td>null</td><td>null</td><td>null</td><td>[&quot;A&quot;, &quot;C&quot;, &quot;D&quot;]</td><td>null</td><td>null</td><td>&quot;complex&quot;</td><td>null</td><td>1.0</td></tr><tr><td>&quot;edge_6&quot;</td><td>&quot;hyper&quot;</td><td>true</td><td>1.0</td><td>null</td><td>null</td><td>null</td><td>[&quot;A&quot;, &quot;B&quot;]</td><td>[&quot;C&quot;, &quot;D&quot;]</td><td>null</td><td>null</td><td>null</td><td>null</td><td>&quot;A+B-&gt;C+D&quot;</td><td>1.0</td></tr></tbody></table></div>"
      ],
      "text/plain": [
       "shape: (7, 15)\n",
       "┌─────────┬────────┬──────────┬───────────────┬───┬──────────────┬─────────┬──────────┬──────────────────┐\n",
       "│ edge_id ┆ kind   ┆ directed ┆ global_weight ┆ … ┆ channel      ┆ tag     ┆ reaction ┆ effective_weight │\n",
       "│ ---     ┆ ---    ┆ ---      ┆ ---           ┆   ┆ ---          ┆ ---     ┆ ---      ┆ ---              │\n",
       "│ str     ┆ str    ┆ bool     ┆ f64           ┆   ┆ str          ┆ str     ┆ str      ┆ f64              │\n",
       "╞═════════╪════════╪══════════╪═══════════════╪═══╪══════════════╪═════════╪══════════╪══════════════════╡\n",
       "│ edge_0  ┆ binary ┆ true     ┆ 2.0           ┆ … ┆ null         ┆ null    ┆ null     ┆ 2.0              │\n",
       "│ edge_1  ┆ binary ┆ false    ┆ 1.0           ┆ … ┆ null         ┆ null    ┆ null     ┆ 1.0              │\n",
       "│ edge_2  ┆ binary ┆ true     ┆ 0.5           ┆ … ┆ null         ┆ null    ┆ null     ┆ 0.5              │\n",
       "│ edge_3  ┆ binary ┆ true     ┆ 5.0           ┆ … ┆ null         ┆ null    ┆ null     ┆ 5.0              │\n",
       "│ edge_4  ┆ binary ┆ true     ┆ 1.0           ┆ … ┆ edge->vertex ┆ null    ┆ null     ┆ 1.0              │\n",
       "│ edge_5  ┆ hyper  ┆ false    ┆ 1.0           ┆ … ┆ null         ┆ complex ┆ null     ┆ 1.0              │\n",
       "│ edge_6  ┆ hyper  ┆ true     ┆ 1.0           ┆ … ┆ null         ┆ null    ┆ A+B->C+D ┆ 1.0              │\n",
       "└─────────┴────────┴──────────┴───────────────┴───┴──────────────┴─────────┴──────────┴──────────────────┘"
      ]
     },
     "execution_count": 8,
     "metadata": {},
     "output_type": "execute_result"
    }
   ],
   "source": [
    "ev = G.edges_view(include_directed=True, include_weight=True, resolved_weight=True)\n",
    "ev"
   ]
  },
  {
   "cell_type": "markdown",
   "id": "aeead424",
   "metadata": {},
   "source": [
    "### Quick visualization via NX (NetworkX)"
   ]
  },
  {
   "cell_type": "code",
   "execution_count": 11,
   "id": "8298355c",
   "metadata": {},
   "outputs": [
    {
     "data": {
      "image/png": "[encoded data removed]",
      "text/plain": [
       "<Figure size 600x400 with 1 Axes>"
      ]
     },
     "metadata": {},
     "output_type": "display_data"
    }
   ],
   "source": [
    "import matplotlib.pyplot as plt\n",
    "\n",
    "# Obtain a simple NX view (collapse Multi* edges with sensible aggregations)\n",
    "nxG, manifest = an.to_nx(G, directed=True, hyperedge_mode=\"skip\")\n",
    "pos = nx.spring_layout(nxG, seed=42)\n",
    "plt.figure(figsize=(6,4))\n",
    "nx.draw(nxG, pos, with_labels=True, node_size=800)\n",
    "nx.draw_networkx_edge_labels(nxG, pos, edge_labels=nx.get_edge_attributes(nxG, 'weight'))\n",
    "plt.title('Demo graph (simple NX view)')\n",
    "plt.show()"
   ]
  },
  {
   "cell_type": "markdown",
   "id": "6e700552",
   "metadata": {},
   "source": [
    "## 2) Run a few NX (NetworkX) algorithms via the proxy"
   ]
  },
  {
   "cell_type": "code",
   "execution_count": 14,
   "id": "f94eb4b8",
   "metadata": {},
   "outputs": [
    {
     "name": "stdout",
     "output_type": "stream",
     "text": [
      "Shortest path length A→D: 1.0\n",
      "Shortest path A→D: ['A', 'D']\n"
     ]
    },
    {
     "data": {
      "text/plain": [
       "{'A': 0.0,\n",
       " 'B': 0.0,\n",
       " 'C': 0.41666666666666663,\n",
       " 'D': 0.041666666666666664,\n",
       " 'edge_e1': 0.0}"
      ]
     },
     "execution_count": 14,
     "metadata": {},
     "output_type": "execute_result"
    }
   ],
   "source": [
    "# Shortest path over weights (collapse parallel edges first)\n",
    "sp_len = G.nx.shortest_path_length(G, source='A', target='D', weight='weight', _nx_simple=True)\n",
    "sp = G.nx.shortest_path(G, source='A', target='D', weight='weight', _nx_simple=True)\n",
    "print('Shortest path length A→D:', sp_len)\n",
    "print('Shortest path A→D:', sp)\n",
    "\n",
    "# Betweenness centrality (weighted)\n",
    "bc = G.nx.betweenness_centrality(G, weight='weight', _nx_simple=True)\n",
    "bc"
   ]
  },
  {
   "cell_type": "code",
   "execution_count": 16,
   "id": "07fe31dc",
   "metadata": {},
   "outputs": [
    {
     "data": {
      "text/plain": [
       "[{'A', 'B', 'C', 'D', 'edge_e1'}]"
      ]
     },
     "execution_count": 16,
     "metadata": {},
     "output_type": "execute_result"
    }
   ],
   "source": [
    "# Community detection using Label Propagation (works on undirected views)\n",
    "comms = list(G.nx.asyn_lpa_communities(G, weight='weight', _nx_directed=False, _nx_simple=True))\n",
    "comms"
   ]
  },
  {
   "cell_type": "markdown",
   "id": "8c2abfbf",
   "metadata": {},
   "source": [
    "## 3) Interoperability (adapters)"
   ]
  },
  {
   "cell_type": "code",
   "execution_count": 21,
   "id": "ea950270",
   "metadata": {},
   "outputs": [
    {
     "data": {
      "text/plain": [
       "'C:\\\\Users\\\\pc\\\\AnnNet\\\\docs\\\\showcase'"
      ]
     },
     "execution_count": 21,
     "metadata": {},
     "output_type": "execute_result"
    }
   ],
   "source": [
    "# Top-level adapter function (returns NX graph; may also return a manifest in future)\n",
    "nx_out = an.to_nx(G, directed=True, hyperedge_mode='expand')\n",
    "nxG2 = nx_out[0] if isinstance(nx_out, tuple) else nx_out\n",
    "assert isinstance(nxG2, (nx.Graph, nx.DiGraph, nx.MultiGraph, nx.MultiDiGraph))\n",
    "\n",
    "# Optional: export to GraphML and SIF for demonstration\n",
    "assets = Path('showcase'); assets.mkdir(exist_ok=True, parents=True)\n",
    "an.to_graphml(G, assets/'demo.graphml')\n",
    "an.to_sif(G, assets/'demo.sif')\n",
    "str(assets.resolve())"
   ]
  },
  {
   "cell_type": "markdown",
   "id": "258637b6",
   "metadata": {},
   "source": [
    "## 4) Import repressilator (Elowitz) from SBML"
   ]
  },
  {
   "cell_type": "code",
   "execution_count": null,
   "id": "f3aa23b7",
   "metadata": {},
   "outputs": [],
   "source": [
    "# Path relative to this notebook (the repo includes docs/Elowitz.sbml.xml)\n",
    "candidate_paths = [\n",
    "    Path('Elowitz.sbml.xml'),\n",
    "    Path('../Elowitz.sbml.xml'),\n",
    "    Path('../../Elowitz.sbml.xml'),\n",
    "    Path('../assets/Elowitz.sbml.xml'),\n",
    "]\n",
    "sbml_path = None\n",
    "for p in candidate_paths:\n",
    "    if p.exists():\n",
    "        sbml_path = p; break\n",
    "if sbml_path is None:\n",
    "    # Fallback to repo root path when running notebook from project root\n",
    "    alt = Path('docs/Elowitz.sbml.xml')\n",
    "    sbml_path = alt if alt.exists() else None\n",
    "\n",
    "print('SBML file:', sbml_path)\n",
    "R = an.from_sbml(str(sbml_path)) if sbml_path else None\n",
    "R"
   ]
  },
  {
   "cell_type": "code",
   "execution_count": null,
   "id": "4763a0bc",
   "metadata": {},
   "outputs": [],
   "source": [
    "if R is not None:\n",
    "    print('Repressilator — vertices:', R.num_vertices, 'edges:', R.num_edges)\n",
    "    R.edges_view().head(10)"
   ]
  },
  {
   "cell_type": "markdown",
   "id": "e189e340",
   "metadata": {},
   "source": [
    "## 5) Save & load the lossless `.annnet` format"
   ]
  },
  {
   "cell_type": "code",
   "execution_count": null,
   "id": "f517816e",
   "metadata": {},
   "outputs": [],
   "source": [
    "out_dir = Path('assets'); out_dir.mkdir(exist_ok=True, parents=True)\n",
    "demo_path = out_dir/'demo.annnet'\n",
    "sbml_path_out = out_dir/'repressilator.annnet'\n",
    "\n",
    "G.write(demo_path)  # lossless save\n",
    "print('Wrote:', demo_path)\n",
    "\n",
    "# Round-trip check\n",
    "G2 = an.Graph.read(demo_path)\n",
    "print('Round-trip OK?', (G2.num_vertices, G2.num_edges) == (G.num_vertices, G.num_edges))\n",
    "\n",
    "if R is not None:\n",
    "    R.write(sbml_path_out)\n",
    "    print('Saved repressilator to:', sbml_path_out)"
   ]
  },
  {
   "cell_type": "markdown",
   "id": "fe2c29b0",
   "metadata": {},
   "source": [
    "---\n",
    "\n",
    "### Notes\n",
    "- `edges_view()` yields a compact, vectorized table of edges (including hyperedge metadata).\n",
    "- For NX functions that require a **simple** graph (no parallel edges), pass `_nx_simple=True` and optionally `_nx_edge_aggs={'weight':'min','capacity':'sum'}`.\n",
    "- You can also access an igraph view via `G.ig.<algo>(G, ...)` if **igraph** is installed.\n",
    "- Lossless `.annnet` I/O: `Graph.write(path)` and `Graph.read(path)`.\n"
   ]
  }
 ],
 "metadata": {
  "kernelspec": {
   "display_name": "Python [conda env:base] *",
   "language": "python",
   "name": "conda-base-py"
  },
  "language_info": {
   "codemirror_mode": {
    "name": "ipython",
    "version": 3
   },
   "file_extension": ".py",
   "mimetype": "text/x-python",
   "name": "python",
   "nbconvert_exporter": "python",
   "pygments_lexer": "ipython3",
   "version": "3.12.7"
  }
 },
 "nbformat": 4,
 "nbformat_minor": 5
}
