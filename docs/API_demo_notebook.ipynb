{
 "cells": [
  {
   "cell_type": "code",
   "execution_count": 2,
   "id": "72e1e402-9ac5-4233-8c50-d57b36f606f2",
   "metadata": {},
   "outputs": [],
   "source": [
    "# preferred public surface\n",
    "import os\n",
    "import sys\n",
    "\n",
    "sys.path.insert(0, os.path.abspath(\"..\"))  # adds .../src to sys.path\n",
    "from graphglue.adapters.networkx_adapter import from_nx, to_backend, to_nx\n",
    "from graphglue.core import Graph"
   ]
  },
  {
   "cell_type": "code",
   "execution_count": 4,
   "id": "b1d3c62c-1f93-4c54-989e-fb8c74cbb44b",
   "metadata": {},
   "outputs": [
    {
     "name": "stdout",
     "output_type": "stream",
     "text": [
      "=== Basic graph creation ===\n",
      "Vertices: ('A', 'B', 'D', 'C')\n",
      "Edges (index, (S,T)): [(0, (frozenset({'A'}), frozenset({'B'}))), (1, (frozenset({'D'}), frozenset({'C'})))]\n",
      "Number of vertices: 4\n",
      "Number of edges: 2\n",
      "Shape (|V|,|E|): (4, 2)\n",
      "\n",
      "=== Accessing edge info ===\n",
      "Edge definition: frozenset({'D'}) -> frozenset({'C'})\n",
      "\n",
      "=== Incidence matrix with per-vertex coefficients ===\n",
      "Vertices: ('X', 'Y', 'Xa', 'Ya')\n",
      "Incidence matrix:\n",
      " [[ 0.  1.  0.  0.  0.  0.  0.  0.]\n",
      " [ 0. -1.  0.  0.  0.  0.  0.  0.]\n",
      " [ 1.  0.  0.  0.  0.  0.  0.  0.]\n",
      " [-1.  0.  0.  0.  0.  0.  0.  0.]\n",
      " [ 0.  0.  0.  0.  0.  0.  0.  0.]\n",
      " [ 0.  0.  0.  0.  0.  0.  0.  0.]\n",
      " [ 0.  0.  0.  0.  0.  0.  0.  0.]\n",
      " [ 0.  0.  0.  0.  0.  0.  0.  0.]]\n",
      "\n",
      "=== Subgraph ===\n",
      "Edge-subgraph edges: [(0, (frozenset({'D'}), frozenset({'C'})))]\n",
      "\n",
      "=== Prune (if available) ===\n",
      "G.prune not implemented; skipping.\n",
      "\n",
      "=== Layers and per-layer weights ===\n",
      "Edge definitions: [('edge_0', ('A', 'B', 'regular'))]\n",
      "Global edge weight: 1.5\n",
      "Layer t0 weight: 2.0\n",
      "Layers containing edge: ['default', 't0']\n"
     ]
    }
   ],
   "source": [
    "print(\"=== Basic graph creation ===\")\n",
    "G = Graph()\n",
    "G.add_vertex(\"A\", color=\"red\", name=\"amine\")\n",
    "G.add_vertex(\"B\")\n",
    "\n",
    "\n",
    "eidx = G.add_edge({\"A\"}, {\"B\"})\n",
    "\n",
    "eidx = G.add_edge(\"D\", \"C\")\n",
    "\n",
    "print(\"Vertices:\", tuple(G.V))\n",
    "\n",
    "print(\"Edges (index, (S,T)):\", [(i, G.get_edge(i)) for i in range(G.num_edges)])\n",
    "print(\"Number of vertices:\", G.num_vertices)\n",
    "print(\"Number of edges:\", G.num_edges)\n",
    "print(\"Shape (|V|,|E|):\", G.shape)\n",
    "print()\n",
    "\n",
    "print(\"=== Accessing edge info ===\")\n",
    "S, T = G.get_edge(eidx)\n",
    "print(\"Edge definition:\", S, \"->\", T)\n",
    "print()\n",
    "\n",
    "print(\"=== Incidence matrix with per-vertex coefficients ===\")\n",
    "H = Graph()\n",
    "H.add_vertices([\"X\", \"Y\"])\n",
    "\n",
    "e2 = H.add_edge(\n",
    "    \"Xa\", \"Ya\", edge_source_attr={\"Xa\": {\"__value\": 3}}, edge_target_attr={\"Ya\": {\"__value\": 2}}\n",
    ")\n",
    "\n",
    "e2 = H.add_edge(\"X\", \"Y\")\n",
    "attrs = H.get_edge_attrs(e2)\n",
    "src_map = dict(attrs.get(\"__source_attr\", {}))\n",
    "tgt_map = dict(attrs.get(\"__target_attr\", {}))\n",
    "src_map[\"X\"] = {\"__value\": 3}\n",
    "tgt_map[\"Y\"] = {\"__value\": 2}\n",
    "H.set_edge_attrs(e2, __source_attr=src_map, __target_attr=tgt_map)\n",
    "\n",
    "mat = H.vertex_incidence_matrix(values=True, sparse=False)\n",
    "print(\"Vertices:\", tuple(H.V))\n",
    "print(\"Incidence matrix:\\n\", mat)\n",
    "print()\n",
    "\n",
    "print(\"=== Subgraph ===\")\n",
    "SG = G.edge_subgraph([eidx])  # keep only that edge\n",
    "print(\"Edge-subgraph edges:\", [(i, SG.get_edge(i)) for i in range(SG.num_edges)])\n",
    "print()\n",
    "\n",
    "print(\"=== Prune (if available) ===\")\n",
    "if hasattr(G, \"prune\"):\n",
    "    P = G.prune(source=[\"A\"], target=[\"C\"])\n",
    "    print(\"Pruned graph edges:\", [(i, P.get_edge(i)) for i in range(P.num_edges)])\n",
    "else:\n",
    "    print(\"G.prune not implemented; skipping.\")\n",
    "print()\n",
    "\n",
    "print(\"=== Layers and per-layer weights ===\")\n",
    "D = Graph()\n",
    "D.add_vertex(\"A\")\n",
    "D.add_vertex(\"B\")\n",
    "D.add_layer(\"t0\")\n",
    "\n",
    "e = D.add_edge(\"A\", \"B\", weight=1.5, label=\"ab\")\n",
    "eid = D.idx_to_edge[e] if isinstance(e, int) else e\n",
    "\n",
    "# Attach same edge to layer (preserve stable eid), set per-layer weight\n",
    "w = D.edge_weights.get(eid, None)\n",
    "D.add_edge(\"A\", \"B\", layer=\"t0\", edge_id=eid, edge_directed=True, weight=w)\n",
    "D.set_layer_edge_weight(\"t0\", eid, 2.0)\n",
    "\n",
    "print(\"Edge definitions:\", list(D.edge_definitions.items()))\n",
    "print(\"Global edge weight:\", D.edge_weights.get(eid))\n",
    "print(\"Layer t0 weight:\", D.get_effective_edge_weight(eid, layer=\"t0\"))\n",
    "print(\"Layers containing edge:\", D.edge_presence_across_layers(eid, include_default=True))"
   ]
  },
  {
   "cell_type": "code",
   "execution_count": 6,
   "id": "a45c1c8c-c0c6-429c-ba98-270ff7b6fb62",
   "metadata": {},
   "outputs": [
    {
     "name": "stdout",
     "output_type": "stream",
     "text": [
      "Nodes: [('A', {'color': 'red', 'name': 'amine'}), ('B', {'color': None, 'name': None}), ('D', {'color': None, 'name': None}), ('C', {'color': None, 'name': None})]\n",
      "Edges: [('A', 'B', {'__weight': 1.0}), ('D', 'C', {'__weight': 1.0})]\n"
     ]
    },
    {
     "data": {
      "image/png": "[encoded data removed]",
      "text/plain": [
       "<Figure size 640x480 with 1 Axes>"
      ]
     },
     "metadata": {},
     "output_type": "display_data"
    }
   ],
   "source": [
    "# convert to a networkx graph\n",
    "import networkx as nx\n",
    "\n",
    "nxG = to_backend(G, directed=True)  # or directed=False if you prefer\n",
    "\n",
    "print(\"Nodes:\", nxG.nodes(data=True))\n",
    "print(\"Edges:\", nxG.edges(data=True))\n",
    "\n",
    "# quick visualization\n",
    "import matplotlib.pyplot as plt\n",
    "\n",
    "pos = nx.spring_layout(nxG)\n",
    "nx.draw(nxG, pos, with_labels=True, node_color=\"lightblue\")\n",
    "nx.draw_networkx_edge_labels(nxG, pos, edge_labels=nx.get_edge_attributes(nxG, \"weight\"))\n",
    "plt.show()"
   ]
  },
  {
   "cell_type": "code",
   "execution_count": 8,
   "id": "2f88fba5-d73b-49c0-a0d3-c135a8ba54ea",
   "metadata": {},
   "outputs": [],
   "source": [
    "nxG, man = to_nx(G, directed=True, hyperedge_mode=\"skip\")"
   ]
  },
  {
   "cell_type": "code",
   "execution_count": 10,
   "id": "6bb28817-de91-4af4-b9fb-444c6bf96998",
   "metadata": {},
   "outputs": [
    {
     "name": "stdout",
     "output_type": "stream",
     "text": [
      "['edge_0', 'edge_1']\n"
     ]
    }
   ],
   "source": [
    "H2 = from_nx(nxG, man)\n",
    "print(list(H2.edges()))"
   ]
  },
  {
   "cell_type": "code",
   "execution_count": 12,
   "id": "b0b89e65-e565-4b06-baa3-b3c62eb66ea3",
   "metadata": {},
   "outputs": [
    {
     "name": "stdout",
     "output_type": "stream",
     "text": [
      "edge_0 frozenset({'A'}) frozenset({'B'}) {}\n",
      "edge_1 frozenset({'C'}) frozenset({'D'}) {}\n"
     ]
    }
   ],
   "source": [
    "for eid in H2.edges():  # eid is a string\n",
    "    eidx = H2.edge_to_idx[eid]  # index (int), if you need it\n",
    "    S, T = H2.get_edge(eid)  # make sure get_edge accepts id OR index\n",
    "    attrs = H2.get_edge_attrs(eid)  # <-- use the dict getter you added\n",
    "    print(eid, S, T, attrs)"
   ]
  },
  {
   "cell_type": "code",
   "execution_count": 14,
   "id": "5e6a7583-600c-4efb-b9e8-abbb0270b5d6",
   "metadata": {},
   "outputs": [
    {
     "name": "stdout",
     "output_type": "stream",
     "text": [
      "shape: (4, 3)\n",
      "┌───────────┬───────┬───────┐\n",
      "│ vertex_id ┆ color ┆ name  │\n",
      "│ ---       ┆ ---   ┆ ---   │\n",
      "│ str       ┆ str   ┆ str   │\n",
      "╞═══════════╪═══════╪═══════╡\n",
      "│ A         ┆ red   ┆ amine │\n",
      "│ B         ┆ null  ┆ null  │\n",
      "│ D         ┆ null  ┆ null  │\n",
      "│ C         ┆ null  ┆ null  │\n",
      "└───────────┴───────┴───────┘\n",
      "shape: (0, 1)\n",
      "┌─────────┐\n",
      "│ edge_id │\n",
      "│ ---     │\n",
      "│ str     │\n",
      "╞═════════╡\n",
      "└─────────┘\n"
     ]
    }
   ],
   "source": [
    "print(H2.vertex_attributes.head())  # attrs present\n",
    "print(H2.edge_attributes.head())  # attrs present"
   ]
  },
  {
   "cell_type": "code",
   "execution_count": 16,
   "id": "c4dc066b-dd1b-4649-9a4b-3c1a519caa55",
   "metadata": {},
   "outputs": [
    {
     "data": {
      "text/html": [
       "<div><style>\n",
       ".dataframe > thead > tr,\n",
       ".dataframe > tbody > tr {\n",
       "  text-align: right;\n",
       "  white-space: pre-wrap;\n",
       "}\n",
       "</style>\n",
       "<small>shape: (4, 3)</small><table border=\"1\" class=\"dataframe\"><thead><tr><th>vertex_id</th><th>color</th><th>name</th></tr><tr><td>str</td><td>str</td><td>str</td></tr></thead><tbody><tr><td>&quot;A&quot;</td><td>&quot;red&quot;</td><td>&quot;amine&quot;</td></tr><tr><td>&quot;B&quot;</td><td>null</td><td>null</td></tr><tr><td>&quot;D&quot;</td><td>null</td><td>null</td></tr><tr><td>&quot;C&quot;</td><td>null</td><td>null</td></tr></tbody></table></div>"
      ],
      "text/plain": [
       "shape: (4, 3)\n",
       "┌───────────┬───────┬───────┐\n",
       "│ vertex_id ┆ color ┆ name  │\n",
       "│ ---       ┆ ---   ┆ ---   │\n",
       "│ str       ┆ str   ┆ str   │\n",
       "╞═══════════╪═══════╪═══════╡\n",
       "│ A         ┆ red   ┆ amine │\n",
       "│ B         ┆ null  ┆ null  │\n",
       "│ D         ┆ null  ┆ null  │\n",
       "│ C         ┆ null  ┆ null  │\n",
       "└───────────┴───────┴───────┘"
      ]
     },
     "execution_count": 16,
     "metadata": {},
     "output_type": "execute_result"
    }
   ],
   "source": [
    "G.vertex_attributes.head()"
   ]
  },
  {
   "cell_type": "markdown",
   "id": "a1492b57-4125-41fd-9670-a9875a8a0ee3",
   "metadata": {},
   "source": [
    "g"
   ]
  },
  {
   "cell_type": "code",
   "execution_count": 23,
   "id": "f5a84148-7cd0-4083-823f-a8219f3f2ec8",
   "metadata": {},
   "outputs": [],
   "source": [
    "from graphglue.adapters.igraph_adapter import from_igraph, to_igraph"
   ]
  },
  {
   "cell_type": "code",
   "execution_count": 29,
   "id": "e4f5429d-f993-44ee-82a2-12dc801fb6ad",
   "metadata": {},
   "outputs": [
    {
     "data": {
      "text/plain": [
       "<graphglue.core.graph.Graph at 0x1cbe13a4320>"
      ]
     },
     "execution_count": 29,
     "metadata": {},
     "output_type": "execute_result"
    }
   ],
   "source": [
    "igG, manifest = to_igraph(G, directed=True, hyperedge_mode=\"skip\", public_only=False)\n",
    "H = from_igraph(igG, manifest)\n",
    "H"
   ]
  },
  {
   "cell_type": "code",
   "execution_count": 31,
   "id": "a0c2ad1b-7ce7-4f61-9e1e-31e6418e4cf9",
   "metadata": {},
   "outputs": [
    {
     "data": {
      "image/png": "[encoded data removed]",
      "text/plain": [
       "<Figure size 640x480 with 1 Axes>"
      ]
     },
     "metadata": {},
     "output_type": "display_data"
    }
   ],
   "source": [
    "nxG, _ = to_nx(G, directed=True, hyperedge_mode=\"skip\")\n",
    "\n",
    "pos = nx.spring_layout(nxG)\n",
    "nx.draw(nxG, pos, with_labels=True, node_color=\"lightblue\")\n",
    "nx.draw_networkx_edge_labels(nxG, pos, edge_labels=nx.get_edge_attributes(nxG, \"weight\"))\n",
    "plt.show()"
   ]
  },
  {
   "cell_type": "code",
   "execution_count": 53,
   "id": "e81c911a-b5cc-42b9-815c-ad278684823f",
   "metadata": {},
   "outputs": [
    {
     "data": {
      "image/svg+xml": [
       "<svg xmlns=\"http://www.w3.org/2000/svg\" xmlns:xlink=\"http://www.w3.org/1999/xlink\" width=\"105pt\" height=\"133pt\" viewBox=\"0.00 0.00 105.00 133.00\">\n",
       "<g id=\"graph0\" class=\"graph\" transform=\"scale(1 1) rotate(0) translate(4 128.5)\">\n",
       "<polygon fill=\"white\" stroke=\"none\" points=\"-4,4 -4,-128.5 100.75,-128.5 100.75,4 -4,4\"/>\n",
       "<!-- A -->\n",
       "<g id=\"node1\" class=\"node\">\n",
       "<title>A</title>\n",
       "<ellipse fill=\"none\" stroke=\"black\" cx=\"18\" cy=\"-106.5\" rx=\"18\" ry=\"18\"/>\n",
       "<text xml:space=\"preserve\" text-anchor=\"middle\" x=\"18\" y=\"-101.45\" font-family=\"Times New Roman,serif\" font-size=\"14.00\">A</text>\n",
       "</g>\n",
       "<!-- B -->\n",
       "<g id=\"node2\" class=\"node\">\n",
       "<title>B</title>\n",
       "<ellipse fill=\"none\" stroke=\"black\" cx=\"18\" cy=\"-18\" rx=\"18\" ry=\"18\"/>\n",
       "<text xml:space=\"preserve\" text-anchor=\"middle\" x=\"18\" y=\"-12.95\" font-family=\"Times New Roman,serif\" font-size=\"14.00\">B</text>\n",
       "</g>\n",
       "<!-- A&#45;&gt;B -->\n",
       "<g id=\"edge1\" class=\"edge\">\n",
       "<title>A-&gt;B</title>\n",
       "<path fill=\"none\" stroke=\"black\" stroke-width=\"3\" d=\"M18,-88.41C18,-77.7 18,-63.56 18,-50.84\"/>\n",
       "<polygon fill=\"black\" stroke=\"black\" stroke-width=\"3\" points=\"21.5,-50.89 18,-40.89 14.5,-50.89 21.5,-50.89\"/>\n",
       "<text xml:space=\"preserve\" text-anchor=\"middle\" x=\"30.38\" y=\"-57.2\" font-family=\"Times New Roman,serif\" font-size=\"14.00\">w=1</text>\n",
       "</g>\n",
       "<!-- C -->\n",
       "<g id=\"node3\" class=\"node\">\n",
       "<title>C</title>\n",
       "<ellipse fill=\"none\" stroke=\"black\" cx=\"72\" cy=\"-18\" rx=\"18\" ry=\"18\"/>\n",
       "<text xml:space=\"preserve\" text-anchor=\"middle\" x=\"72\" y=\"-12.95\" font-family=\"Times New Roman,serif\" font-size=\"14.00\">C</text>\n",
       "</g>\n",
       "<!-- D -->\n",
       "<g id=\"node4\" class=\"node\">\n",
       "<title>D</title>\n",
       "<ellipse fill=\"none\" stroke=\"black\" cx=\"72\" cy=\"-106.5\" rx=\"18\" ry=\"18\"/>\n",
       "<text xml:space=\"preserve\" text-anchor=\"middle\" x=\"72\" y=\"-101.45\" font-family=\"Times New Roman,serif\" font-size=\"14.00\">D</text>\n",
       "</g>\n",
       "<!-- D&#45;&gt;C -->\n",
       "<g id=\"edge2\" class=\"edge\">\n",
       "<title>D-&gt;C</title>\n",
       "<path fill=\"none\" stroke=\"black\" stroke-width=\"3\" d=\"M72,-88.41C72,-77.7 72,-63.56 72,-50.84\"/>\n",
       "<polygon fill=\"black\" stroke=\"black\" stroke-width=\"3\" points=\"75.5,-50.89 72,-40.89 68.5,-50.89 75.5,-50.89\"/>\n",
       "<text xml:space=\"preserve\" text-anchor=\"middle\" x=\"84.38\" y=\"-57.2\" font-family=\"Times New Roman,serif\" font-size=\"14.00\">w=1</text>\n",
       "</g>\n",
       "</g>\n",
       "</svg>"
      ],
      "text/plain": [
       "<IPython.core.display.SVG object>"
      ]
     },
     "metadata": {},
     "output_type": "display_data"
    }
   ],
   "source": [
    "from IPython.display import SVG, display\n",
    "\n",
    "from graphglue.utils.plotting import plot\n",
    "\n",
    "obj = plot(\n",
    "    G,\n",
    "    backend=\"graphviz\",\n",
    "    layout=\"dot\",\n",
    "    use_weight_style=False,\n",
    "    show_edge_labels=True,\n",
    "    **{\n",
    "        \"graph_attr\": {\"bgcolor\": \"white\"},\n",
    "        \"node_attr\": {\"shape\": \"circle\", \"fixedsize\": \"true\"},\n",
    "        \"edge_attr\": {\"color\": \"black\", \"penwidth\": \"3.0\"},\n",
    "    },\n",
    ")\n",
    "\n",
    "svg_data = obj.pipe(format=\"svg\").decode(\"utf-8\")\n",
    "display(SVG(svg_data))"
   ]
  },
  {
   "cell_type": "code",
   "execution_count": null,
   "id": "01ab1fe7-beda-4510-94ab-133d43f73054",
   "metadata": {},
   "outputs": [],
   "source": []
  }
 ],
 "metadata": {
  "kernelspec": {
   "display_name": "Python [conda env:base] *",
   "language": "python",
   "name": "conda-base-py"
  },
  "language_info": {
   "codemirror_mode": {
    "name": "ipython",
    "version": 3
   },
   "file_extension": ".py",
   "mimetype": "text/x-python",
   "name": "python",
   "nbconvert_exporter": "python",
   "pygments_lexer": "ipython3",
   "version": "3.12.7"
  }
 },
 "nbformat": 4,
 "nbformat_minor": 5
}
