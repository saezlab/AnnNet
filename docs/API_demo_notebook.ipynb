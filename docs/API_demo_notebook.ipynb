{
 "cells": [
  {
   "cell_type": "code",
   "execution_count": 5,
   "id": "72e1e402-9ac5-4233-8c50-d57b36f606f2",
   "metadata": {},
   "outputs": [],
   "source": [
    "# preferred public surface\n",
    "import os, sys\n",
    "sys.path.insert(0, os.path.abspath(\"..\"))  # adds .../src to sys.path\n",
    "from graphglue.core import Graph\n",
    "from graphglue.adapters.networkx import to_backend, to_nx, from_nx"
   ]
  },
  {
   "cell_type": "code",
   "execution_count": 9,
   "id": "3eb48902-63d8-4c4b-85db-06f844a4b2b1",
   "metadata": {},
   "outputs": [
    {
     "ename": "TypeError",
     "evalue": "unhashable type: 'set'",
     "output_type": "error",
     "traceback": [
      "\u001b[1;31m---------------------------------------------------------------------------\u001b[0m",
      "\u001b[1;31mTypeError\u001b[0m                                 Traceback (most recent call last)",
      "Cell \u001b[1;32mIn[9], line 4\u001b[0m\n\u001b[0;32m      2\u001b[0m G\u001b[38;5;241m.\u001b[39madd_vertex(\u001b[38;5;124m\"\u001b[39m\u001b[38;5;124mA\u001b[39m\u001b[38;5;124m\"\u001b[39m)\n\u001b[0;32m      3\u001b[0m G\u001b[38;5;241m.\u001b[39madd_vertex(\u001b[38;5;124m\"\u001b[39m\u001b[38;5;124mB\u001b[39m\u001b[38;5;124m\"\u001b[39m)\n\u001b[1;32m----> 4\u001b[0m G\u001b[38;5;241m.\u001b[39madd_edge({\u001b[38;5;124m\"\u001b[39m\u001b[38;5;124mA\u001b[39m\u001b[38;5;124m\"\u001b[39m}, {\u001b[38;5;124m\"\u001b[39m\u001b[38;5;124mB\u001b[39m\u001b[38;5;124m\"\u001b[39m})  \u001b[38;5;66;03m# uses BaseGraph semantics\u001b[39;00m\n\u001b[0;32m      5\u001b[0m \u001b[38;5;28mlist\u001b[39m(G\u001b[38;5;241m.\u001b[39mdeep\u001b[38;5;241m.\u001b[39medge_definitions\u001b[38;5;241m.\u001b[39mitems())\n\u001b[0;32m      6\u001b[0m G\u001b[38;5;241m.\u001b[39mdeep\u001b[38;5;241m.\u001b[39madd_layer(\u001b[38;5;124m\"\u001b[39m\u001b[38;5;124mt0\u001b[39m\u001b[38;5;124m\"\u001b[39m)\n",
      "File \u001b[1;32m~\\Desktop\\graphglue - Copie - Copie\\graphglue\\core\\graph.py:3581\u001b[0m, in \u001b[0;36mGraph._log_mutation.<locals>.deco.<locals>.wrapper\u001b[1;34m(*args, **kwargs)\u001b[0m\n\u001b[0;32m   3579\u001b[0m bound \u001b[38;5;241m=\u001b[39m sig\u001b[38;5;241m.\u001b[39mbind(\u001b[38;5;241m*\u001b[39margs, \u001b[38;5;241m*\u001b[39m\u001b[38;5;241m*\u001b[39mkwargs)\n\u001b[0;32m   3580\u001b[0m bound\u001b[38;5;241m.\u001b[39mapply_defaults()\n\u001b[1;32m-> 3581\u001b[0m result \u001b[38;5;241m=\u001b[39m fn(\u001b[38;5;241m*\u001b[39margs, \u001b[38;5;241m*\u001b[39m\u001b[38;5;241m*\u001b[39mkwargs)\n\u001b[0;32m   3582\u001b[0m payload \u001b[38;5;241m=\u001b[39m {}\n\u001b[0;32m   3583\u001b[0m \u001b[38;5;66;03m# record all call args except 'self'\u001b[39;00m\n",
      "File \u001b[1;32m~\\Desktop\\graphglue - Copie - Copie\\graphglue\\core\\graph.py:556\u001b[0m, in \u001b[0;36mGraph.add_edge\u001b[1;34m(self, source, target, layer, weight, edge_id, edge_type, propagate, layer_weight, edge_directed, **attributes)\u001b[0m\n\u001b[0;32m    553\u001b[0m     \u001b[38;5;28;01melse\u001b[39;00m:\n\u001b[0;32m    554\u001b[0m         \u001b[38;5;28mself\u001b[39m\u001b[38;5;241m.\u001b[39madd_vertex(x, layer\u001b[38;5;241m=\u001b[39mlayer)\n\u001b[1;32m--> 556\u001b[0m _ensure_vertex_or_edge_entity(source)\n\u001b[0;32m    557\u001b[0m _ensure_vertex_or_edge_entity(target)\n\u001b[0;32m    559\u001b[0m \u001b[38;5;66;03m# indices (after potential vertex creation)\u001b[39;00m\n",
      "File \u001b[1;32m~\\Desktop\\graphglue - Copie - Copie\\graphglue\\core\\graph.py:549\u001b[0m, in \u001b[0;36mGraph.add_edge.<locals>._ensure_vertex_or_edge_entity\u001b[1;34m(x)\u001b[0m\n\u001b[0;32m    548\u001b[0m \u001b[38;5;28;01mdef\u001b[39;00m \u001b[38;5;21m_ensure_vertex_or_edge_entity\u001b[39m(x):\n\u001b[1;32m--> 549\u001b[0m     \u001b[38;5;28;01mif\u001b[39;00m x \u001b[38;5;129;01min\u001b[39;00m \u001b[38;5;28mself\u001b[39m\u001b[38;5;241m.\u001b[39mentity_to_idx:\n\u001b[0;32m    550\u001b[0m         \u001b[38;5;28;01mreturn\u001b[39;00m\n\u001b[0;32m    551\u001b[0m     \u001b[38;5;28;01mif\u001b[39;00m edge_type \u001b[38;5;241m==\u001b[39m \u001b[38;5;124m\"\u001b[39m\u001b[38;5;124mvertex_edge\u001b[39m\u001b[38;5;124m\"\u001b[39m \u001b[38;5;129;01mand\u001b[39;00m \u001b[38;5;28misinstance\u001b[39m(x, \u001b[38;5;28mstr\u001b[39m) \u001b[38;5;129;01mand\u001b[39;00m x\u001b[38;5;241m.\u001b[39mstartswith(\u001b[38;5;124m\"\u001b[39m\u001b[38;5;124medge_\u001b[39m\u001b[38;5;124m\"\u001b[39m):\n",
      "\u001b[1;31mTypeError\u001b[0m: unhashable type: 'set'"
     ]
    }
   ],
   "source": [
    "G = Graph()\n",
    "G.add_vertex(\"A\")\n",
    "G.add_vertex(\"B\")\n",
    "G.add_edge({\"A\"}, {\"B\"})\n",
    "list(G.deep.edge_definitions.items())\n",
    "G.deep.add_layer(\"t0\")\n",
    "G.deep.set_layer_edge_weight(\"t0\", \"edge_0\", 2.0)"
   ]
  },
  {
   "cell_type": "code",
   "execution_count": 5,
   "id": "b1d3c62c-1f93-4c54-989e-fb8c74cbb44b",
   "metadata": {
    "scrolled": true
   },
   "outputs": [
    {
     "name": "stdout",
     "output_type": "stream",
     "text": [
      "=== Basic graph creation ===\n",
      "Vertices: ['A', 'B']\n",
      "Edges (index, (s,t)): [(0, (frozenset({'A'}), frozenset({'B'})))]\n",
      "Number of vertices: 2\n",
      "Number of edges: 1\n",
      "Shape (|V|,|E|): (2, 1)\n",
      "\n",
      "=== Accessing edge info ===\n",
      "Edge definition: frozenset({'A'}) -> frozenset({'B'})\n",
      "\n",
      "=== BFS / Successors / Neighbors ===\n",
      "BFS layers from A: {'A': 0, 'B': 1, 'C': 2}\n",
      "Successors(A): ['B']\n",
      "Predecessors(C): ['B']\n",
      "Neighbors(B): ['A', 'C']\n",
      "\n",
      "=== Incidence matrix with per-vertex coefficients ===\n"
     ]
    },
    {
     "ename": "KeyError",
     "evalue": "'__source_attr'",
     "output_type": "error",
     "traceback": [
      "\u001b[1;31m---------------------------------------------------------------------------\u001b[0m",
      "\u001b[1;31mKeyError\u001b[0m                                  Traceback (most recent call last)",
      "Cell \u001b[1;32mIn[5], line 34\u001b[0m\n\u001b[0;32m     32\u001b[0m H\u001b[38;5;241m.\u001b[39madd_vertices([\u001b[38;5;124m\"\u001b[39m\u001b[38;5;124mX\u001b[39m\u001b[38;5;124m\"\u001b[39m, \u001b[38;5;124m\"\u001b[39m\u001b[38;5;124mY\u001b[39m\u001b[38;5;124m\"\u001b[39m])\n\u001b[0;32m     33\u001b[0m H\u001b[38;5;241m.\u001b[39madd_edge({\u001b[38;5;124m\"\u001b[39m\u001b[38;5;124mX\u001b[39m\u001b[38;5;124m\"\u001b[39m: \u001b[38;5;241m3\u001b[39m}, {\u001b[38;5;124m\"\u001b[39m\u001b[38;5;124mY\u001b[39m\u001b[38;5;124m\"\u001b[39m: \u001b[38;5;241m2\u001b[39m})\n\u001b[1;32m---> 34\u001b[0m mat \u001b[38;5;241m=\u001b[39m H\u001b[38;5;241m.\u001b[39mvertex_incidence_matrix(values\u001b[38;5;241m=\u001b[39m\u001b[38;5;28;01mTrue\u001b[39;00m, sparse\u001b[38;5;241m=\u001b[39m\u001b[38;5;28;01mFalse\u001b[39;00m)\n\u001b[0;32m     35\u001b[0m \u001b[38;5;28mprint\u001b[39m(\u001b[38;5;124m\"\u001b[39m\u001b[38;5;124mVertices:\u001b[39m\u001b[38;5;124m\"\u001b[39m, \u001b[38;5;28mlist\u001b[39m(H\u001b[38;5;241m.\u001b[39mV))\n\u001b[0;32m     36\u001b[0m \u001b[38;5;28mprint\u001b[39m(\u001b[38;5;124m\"\u001b[39m\u001b[38;5;124mIncidence matrix:\u001b[39m\u001b[38;5;130;01m\\n\u001b[39;00m\u001b[38;5;124m\"\u001b[39m, mat)\n",
      "File \u001b[1;32m~\\Desktop\\graphglue - Copie - Copie\\graphglue\\core\\_base.py:844\u001b[0m, in \u001b[0;36mBaseGraph.vertex_incidence_matrix\u001b[1;34m(self, values, sparse)\u001b[0m\n\u001b[0;32m    834\u001b[0m \u001b[38;5;28;01mdef\u001b[39;00m \u001b[38;5;21mvertex_incidence_matrix\u001b[39m(\u001b[38;5;28mself\u001b[39m, values: \u001b[38;5;28mbool\u001b[39m \u001b[38;5;241m=\u001b[39m \u001b[38;5;28;01mFalse\u001b[39;00m, sparse: \u001b[38;5;28mbool\u001b[39m \u001b[38;5;241m=\u001b[39m \u001b[38;5;28;01mFalse\u001b[39;00m):\n\u001b[0;32m    835\u001b[0m \u001b[38;5;250m    \u001b[39m\u001b[38;5;124;03m\"\"\"Get vertex incidence matrix.\u001b[39;00m\n\u001b[0;32m    836\u001b[0m \n\u001b[0;32m    837\u001b[0m \u001b[38;5;124;03m    Args:\u001b[39;00m\n\u001b[1;32m   (...)\u001b[0m\n\u001b[0;32m    842\u001b[0m \u001b[38;5;124;03m        Vertex incidence matrix as a numpy array or a sparse matrix.\u001b[39;00m\n\u001b[0;32m    843\u001b[0m \u001b[38;5;124;03m    \"\"\"\u001b[39;00m\n\u001b[1;32m--> 844\u001b[0m     data, (row_ind, col_ind) \u001b[38;5;241m=\u001b[39m \u001b[38;5;28mself\u001b[39m\u001b[38;5;241m.\u001b[39mget_vertex_incidence_matrix_as_lists(values)\n\u001b[0;32m    846\u001b[0m     \u001b[38;5;28;01mif\u001b[39;00m sparse:\n\u001b[0;32m    847\u001b[0m         \u001b[38;5;28;01mfrom\u001b[39;00m \u001b[38;5;21;01mscipy\u001b[39;00m\u001b[38;5;21;01m.\u001b[39;00m\u001b[38;5;21;01msparse\u001b[39;00m \u001b[38;5;28;01mimport\u001b[39;00m csr_matrix\n",
      "File \u001b[1;32m~\\Desktop\\graphglue - Copie - Copie\\graphglue\\core\\_base.py:805\u001b[0m, in \u001b[0;36mBaseGraph.get_vertex_incidence_matrix_as_lists\u001b[1;34m(self, values)\u001b[0m\n\u001b[0;32m    803\u001b[0m value \u001b[38;5;241m=\u001b[39m \u001b[38;5;241m-\u001b[39m\u001b[38;5;241m1\u001b[39m\n\u001b[0;32m    804\u001b[0m \u001b[38;5;28;01mif\u001b[39;00m values:\n\u001b[1;32m--> 805\u001b[0m     v_attr \u001b[38;5;241m=\u001b[39m attr\u001b[38;5;241m.\u001b[39mget_attr(Attr\u001b[38;5;241m.\u001b[39mSOURCE_ATTR)\n\u001b[0;32m    806\u001b[0m     \u001b[38;5;28;01mif\u001b[39;00m v \u001b[38;5;129;01min\u001b[39;00m v_attr:\n\u001b[0;32m    807\u001b[0m         \u001b[38;5;28;01mif\u001b[39;00m Attr\u001b[38;5;241m.\u001b[39mVALUE\u001b[38;5;241m.\u001b[39mvalue \u001b[38;5;129;01min\u001b[39;00m v_attr[v]:\n",
      "File \u001b[1;32m~\\Desktop\\graphglue - Copie - Copie\\graphglue\\utils\\typing.py:116\u001b[0m, in \u001b[0;36mAttributes.get_attr\u001b[1;34m(self, key, default)\u001b[0m\n\u001b[0;32m    114\u001b[0m \u001b[38;5;28;01mif\u001b[39;00m default \u001b[38;5;129;01mis\u001b[39;00m \u001b[38;5;129;01mnot\u001b[39;00m \u001b[38;5;28;01mNone\u001b[39;00m:\n\u001b[0;32m    115\u001b[0m     \u001b[38;5;28;01mreturn\u001b[39;00m \u001b[38;5;28mself\u001b[39m\u001b[38;5;241m.\u001b[39mget(key\u001b[38;5;241m.\u001b[39mvalue, default)\n\u001b[1;32m--> 116\u001b[0m \u001b[38;5;28;01mreturn\u001b[39;00m \u001b[38;5;28mself\u001b[39m[key\u001b[38;5;241m.\u001b[39mvalue]\n",
      "\u001b[1;31mKeyError\u001b[0m: '__source_attr'"
     ]
    }
   ],
   "source": [
    "# demo_adapter.py\n",
    "\n",
    "print(\"=== Basic graph creation ===\")\n",
    "G = IncidenceAdapter()\n",
    "G.add_vertex(\"A\")\n",
    "G.add_vertex(\"B\")\n",
    "eidx = G.add_edge({\"A\"}, {\"B\"})\n",
    "print(\"Vertices:\", list(G.V))\n",
    "print(\"Edges (index, (s,t)):\", list(G.edges()))\n",
    "print(\"Number of vertices:\", G.num_vertices)\n",
    "print(\"Number of edges:\", G.num_edges)\n",
    "print(\"Shape (|V|,|E|):\", G.shape)\n",
    "print()\n",
    "\n",
    "print(\"=== Accessing edge info ===\")\n",
    "s, t = G.get_edge(eidx)\n",
    "print(\"Edge definition:\", s, \"->\", t)\n",
    "print()\n",
    "\n",
    "print(\"=== BFS / Successors / Neighbors ===\")\n",
    "G.add_vertex(\"C\")\n",
    "G.add_edge({\"B\"}, {\"C\"})\n",
    "layers = G.bfs(\"A\")\n",
    "print(\"BFS layers from A:\", layers)\n",
    "print(\"Successors(A):\", list(G.successors(\"A\")))\n",
    "print(\"Predecessors(C):\", list(G.predecessors(\"C\")))\n",
    "print(\"Neighbors(B):\", list(G.neighbors_exclusive(\"B\")))\n",
    "print()\n",
    "\n",
    "print(\"=== Incidence matrix with per-vertex coefficients ===\")\n",
    "H = IncidenceAdapter()\n",
    "H.add_vertices([\"X\", \"Y\"])\n",
    "H.add_edge({\"X\": 3}, {\"Y\": 2})\n",
    "mat = H.vertex_incidence_matrix(values=True, sparse=False)\n",
    "print(\"Vertices:\", list(H.V))\n",
    "print(\"Incidence matrix:\\n\", mat)\n",
    "print()\n",
    "\n",
    "print(\"=== Subgraph and prune ===\")\n",
    "SG = G.edge_subgraph([0])  # keep only first edge\n",
    "print(\"Edge-subgraph edges:\", list(SG.edges()))\n",
    "P = G.prune(source=[\"A\"], target=[\"C\"])\n",
    "print(\"Pruned graph edges:\", list(P.edges()))\n",
    "print()\n",
    "\n",
    "print(\"=== Deep access: layers and per-layer weights ===\")\n",
    "D = IncidenceAdapter()\n",
    "D.deep.add_layer(\"t0\")\n",
    "e = D.add_edge({\"A\"}, {\"B\"}, weight=1.5, label=\"ab\")\n",
    "eid = D.deep.idx_to_edge[e]\n",
    "# attach same edge to layer\n",
    "w = D.deep.edge_weights[eid]\n",
    "D.deep.add_edge(\"A\", \"B\", layer=\"t0\", edge_id=eid, edge_directed=True, weight = w)\n",
    "D.deep.set_layer_edge_weight(\"t0\", eid, 2.0)\n",
    "\n",
    "print(\"Edge definitions:\", list(D.deep.edge_definitions.items()))\n",
    "print(\"Global edge weight:\", D.deep.edge_weights[eid])\n",
    "print(\"Layer t0 weight:\", D.deep.get_effective_edge_weight(eid, layer=\"t0\"))\n",
    "print(\"Layers containing edge:\", D.deep.edge_presence_across_layers(eid, include_default=True))\n"
   ]
  },
  {
   "cell_type": "code",
   "execution_count": 7,
   "id": "ce2d65d6-e2cb-4d39-888f-6208ef34155d",
   "metadata": {},
   "outputs": [
    {
     "data": {
      "text/plain": [
       "1"
      ]
     },
     "execution_count": 7,
     "metadata": {},
     "output_type": "execute_result"
    }
   ],
   "source": [
    "G = IncidenceAdapter()\n",
    "G.add_vertices([\"A\", \"B\", \"C\"])\n",
    "G.add_edge({\"A\"}, {\"B\"}, weight=2.0)\n",
    "G.add_edge({\"B\"}, {\"C\"}, weight=3.0)"
   ]
  },
  {
   "cell_type": "code",
   "execution_count": 9,
   "id": "a45c1c8c-c0c6-429c-ba98-270ff7b6fb62",
   "metadata": {},
   "outputs": [
    {
     "name": "stdout",
     "output_type": "stream",
     "text": [
      "Nodes: [('A', {}), ('B', {}), ('C', {})]\n",
      "Edges: [('A', 'B', {'__edge_type': 'DIRECTED', '__weight': 2.0}), ('B', 'C', {'__edge_type': 'DIRECTED', '__weight': 3.0})]\n"
     ]
    },
    {
     "data": {
      "image/png": "[encoded data removed]",
      "text/plain": [
       "<Figure size 640x480 with 1 Axes>"
      ]
     },
     "metadata": {},
     "output_type": "display_data"
    }
   ],
   "source": [
    "# convert to a networkx graph\n",
    "import networkx as nx\n",
    "nxG = to_backend(G, directed=True)  # or directed=False if you prefer\n",
    "\n",
    "print(\"Nodes:\", nxG.nodes(data=True))\n",
    "print(\"Edges:\", nxG.edges(data=True))\n",
    "\n",
    "# quick visualization\n",
    "import matplotlib.pyplot as plt\n",
    "pos = nx.spring_layout(nxG)\n",
    "nx.draw(nxG, pos, with_labels=True, node_color=\"lightblue\")\n",
    "nx.draw_networkx_edge_labels(nxG, pos, edge_labels=nx.get_edge_attributes(nxG, \"weight\"))\n",
    "plt.show()"
   ]
  },
  {
   "cell_type": "code",
   "execution_count": 11,
   "id": "2f88fba5-d73b-49c0-a0d3-c135a8ba54ea",
   "metadata": {},
   "outputs": [],
   "source": [
    "nxG, man = to_nx(G, directed=True, hyperedge_mode=\"skip\")\n"
   ]
  },
  {
   "cell_type": "code",
   "execution_count": 13,
   "id": "6bb28817-de91-4af4-b9fb-444c6bf96998",
   "metadata": {},
   "outputs": [
    {
     "name": "stdout",
     "output_type": "stream",
     "text": [
      "[(0, (frozenset({'A'}), frozenset({'B'}))), (1, (frozenset({'B'}), frozenset({'C'})))]\n"
     ]
    }
   ],
   "source": [
    "\n",
    "H2 = from_nx(nxG, man)\n",
    "print(list(H2.edges()))\n"
   ]
  },
  {
   "cell_type": "code",
   "execution_count": 15,
   "id": "b0b89e65-e565-4b06-baa3-b3c62eb66ea3",
   "metadata": {},
   "outputs": [
    {
     "name": "stdout",
     "output_type": "stream",
     "text": [
      "0 frozenset({'A'}) frozenset({'B'}) {'__edge_type': 'DIRECTED', '__weight': 2.0}\n",
      "1 frozenset({'B'}) frozenset({'C'}) {'__edge_type': 'DIRECTED', '__weight': 3.0}\n"
     ]
    }
   ],
   "source": [
    "for eid, (s, t) in H2.edges():\n",
    "    print(eid, s, t, H2.get_attr_edge(eid))\n"
   ]
  },
  {
   "cell_type": "code",
   "execution_count": 17,
   "id": "5e6a7583-600c-4efb-b9e8-abbb0270b5d6",
   "metadata": {},
   "outputs": [
    {
     "name": "stdout",
     "output_type": "stream",
     "text": [
      "shape: (3, 1)\n",
      "┌─────────┐\n",
      "│ node_id │\n",
      "│ ---     │\n",
      "│ str     │\n",
      "╞═════════╡\n",
      "│ A       │\n",
      "│ B       │\n",
      "│ C       │\n",
      "└─────────┘\n",
      "shape: (2, 3)\n",
      "┌─────────┬─────────────┬──────────┐\n",
      "│ edge_id ┆ __edge_type ┆ __weight │\n",
      "│ ---     ┆ ---         ┆ ---      │\n",
      "│ str     ┆ str         ┆ f64      │\n",
      "╞═════════╪═════════════╪══════════╡\n",
      "│ edge_0  ┆ DIRECTED    ┆ 2.0      │\n",
      "│ edge_1  ┆ DIRECTED    ┆ 3.0      │\n",
      "└─────────┴─────────────┴──────────┘\n"
     ]
    }
   ],
   "source": [
    "print(H2.deep.node_attributes.head())  # attrs present\n",
    "print(H2.deep.edge_attributes.head())    # attrs present\n"
   ]
  },
  {
   "cell_type": "code",
   "execution_count": 19,
   "id": "c4dc066b-dd1b-4649-9a4b-3c1a519caa55",
   "metadata": {},
   "outputs": [
    {
     "data": {
      "text/html": [
       "<div><style>\n",
       ".dataframe > thead > tr,\n",
       ".dataframe > tbody > tr {\n",
       "  text-align: right;\n",
       "  white-space: pre-wrap;\n",
       "}\n",
       "</style>\n",
       "<small>shape: (2, 3)</small><table border=\"1\" class=\"dataframe\"><thead><tr><th>edge_id</th><th>__edge_type</th><th>__weight</th></tr><tr><td>str</td><td>str</td><td>f64</td></tr></thead><tbody><tr><td>&quot;edge_0&quot;</td><td>&quot;DIRECTED&quot;</td><td>2.0</td></tr><tr><td>&quot;edge_1&quot;</td><td>&quot;DIRECTED&quot;</td><td>3.0</td></tr></tbody></table></div>"
      ],
      "text/plain": [
       "shape: (2, 3)\n",
       "┌─────────┬─────────────┬──────────┐\n",
       "│ edge_id ┆ __edge_type ┆ __weight │\n",
       "│ ---     ┆ ---         ┆ ---      │\n",
       "│ str     ┆ str         ┆ f64      │\n",
       "╞═════════╪═════════════╪══════════╡\n",
       "│ edge_0  ┆ DIRECTED    ┆ 2.0      │\n",
       "│ edge_1  ┆ DIRECTED    ┆ 3.0      │\n",
       "└─────────┴─────────────┴──────────┘"
      ]
     },
     "execution_count": 19,
     "metadata": {},
     "output_type": "execute_result"
    }
   ],
   "source": [
    "H2.deep.edge_attributes.head()"
   ]
  },
  {
   "cell_type": "code",
   "execution_count": 21,
   "id": "2a493bbb-94bb-4c1f-9bbf-e768f9182e4e",
   "metadata": {},
   "outputs": [],
   "source": [
    "from graphglue.utils.plotting import plot, render\n",
    "\n",
    "G = IncidenceAdapter()\n",
    "G.add_vertices([\"A\",\"B\",\"C\"])\n",
    "G.add_edge({\"A\"}, {\"B\"}, weight=2.5, label=\"ab\")\n",
    "G.add_edge({\"B\"}, {\"C\"}, weight=-1.3, label=\"bc\")\n",
    "G.deep.add_layer(\"L1\")\n",
    "# attach AB to L1 with heavier per-layer weight\n",
    "eid = G.deep.idx_to_edge[0]\n",
    "G.deep.add_edge(\"A\",\"B\", layer=\"L1\", edge_id=eid, edge_directed=True)\n",
    "G.deep.set_layer_edge_weight(\"L1\", eid, 4.0)\n",
    "\n",
    "\n"
   ]
  },
  {
   "cell_type": "code",
   "execution_count": 23,
   "id": "89a4eb47-4e44-43bc-b422-83e23b25a9dc",
   "metadata": {},
   "outputs": [],
   "source": [
    "import os\n",
    "graphviz_path = r\"C:\\Program Files\\Graphviz\\bin\"\n",
    "if graphviz_path not in os.environ[\"PATH\"]:\n",
    "    os.environ[\"PATH\"] += os.pathsep + graphviz_path\n",
    "\n",
    "from graphviz import Digraph"
   ]
  },
  {
   "cell_type": "code",
   "execution_count": 25,
   "id": "89dedfaf-a25a-4983-8b71-ff270340c2e0",
   "metadata": {},
   "outputs": [],
   "source": [
    "# 1) quick graphviz view (layer-aware weights, with edge labels)\n",
    "g = plot(G, backend=\"graphviz\", layer=\"L1\",\n",
    "         show_edge_labels=True, edge_label_keys=[\"label\"],\n",
    "         show_vertex_labels=True, use_weight_style=True)\n"
   ]
  },
  {
   "cell_type": "markdown",
   "id": "a1492b57-4125-41fd-9670-a9875a8a0ee3",
   "metadata": {},
   "source": [
    "g"
   ]
  },
  {
   "cell_type": "code",
   "execution_count": 29,
   "id": "f5a84148-7cd0-4083-823f-a8219f3f2ec8",
   "metadata": {},
   "outputs": [],
   "source": [
    "from graphglue.adapters.igraph import to_igraph, from_igraph, save_manifest, load_manifest"
   ]
  },
  {
   "cell_type": "code",
   "execution_count": 31,
   "id": "e4f5429d-f993-44ee-82a2-12dc801fb6ad",
   "metadata": {},
   "outputs": [],
   "source": [
    "igG, manifest = to_igraph(G, directed=True, hyperedge_mode=\"skip\", public_only=False)\n",
    "H = from_igraph(igG, manifest)"
   ]
  },
  {
   "cell_type": "code",
   "execution_count": 33,
   "id": "48dd250c-6788-42ed-bcf0-89a350a79368",
   "metadata": {},
   "outputs": [],
   "source": [
    "igGp = plot(H, backend=\"graphviz\", layer=\"L1\",\n",
    "         show_edge_labels=True, edge_label_keys=[\"label\"],\n",
    "         show_vertex_labels=True, use_weight_style=True)\n"
   ]
  },
  {
   "cell_type": "code",
   "execution_count": 35,
   "id": "5dc3ff3a-e2d9-4486-95f8-4a8a33517297",
   "metadata": {},
   "outputs": [
    {
     "data": {
      "text/plain": [
       "<graphglue.core.adapter.IncidenceAdapter at 0x1fa6ce4bfb0>"
      ]
     },
     "execution_count": 35,
     "metadata": {},
     "output_type": "execute_result"
    }
   ],
   "source": [
    "H"
   ]
  },
  {
   "cell_type": "markdown",
   "id": "351e8c61-8eee-45c3-9a51-61408d9a2c18",
   "metadata": {},
   "source": [
    "##### CSV io"
   ]
  },
  {
   "cell_type": "code",
   "execution_count": 43,
   "id": "a5cacd89-09e7-4e7c-8c5d-1bdf7741edfa",
   "metadata": {},
   "outputs": [],
   "source": [
    "sys.path.append(\"..\")\n",
    "from graphglue.io import csv as graph_csv"
   ]
  },
  {
   "cell_type": "code",
   "execution_count": null,
   "id": "4efec2df-21e3-4fbe-a3a4-46a301175c88",
   "metadata": {},
   "outputs": [],
   "source": []
  }
 ],
 "metadata": {
  "kernelspec": {
   "display_name": "Python [conda env:base] *",
   "language": "python",
   "name": "conda-base-py"
  },
  "language_info": {
   "codemirror_mode": {
    "name": "ipython",
    "version": 3
   },
   "file_extension": ".py",
   "mimetype": "text/x-python",
   "name": "python",
   "nbconvert_exporter": "python",
   "pygments_lexer": "ipython3",
   "version": "3.12.7"
  }
 },
 "nbformat": 4,
 "nbformat_minor": 5
}
