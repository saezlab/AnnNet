{
 "cells": [
  {
   "cell_type": "code",
   "execution_count": 1,
   "id": "2dcdeb30-e714-4d65-86ca-855c07a6760d",
   "metadata": {},
   "outputs": [],
   "source": [
    "import sys\n",
    "sys.path.insert(0, r\"C:\\Users\\PC\\Desktop\\graphglue - Copie - Copie\")\n",
    "from graphglue.core.graph import Graph\n"
   ]
  },
  {
   "cell_type": "code",
   "execution_count": 3,
   "id": "cf2037ef-99fb-4d18-957e-7eeb20ec9cfe",
   "metadata": {},
   "outputs": [],
   "source": [
    "# ---------- Setup ----------\n",
    "G = Graph(directed=True)\n",
    "conditions = [\"Healthy\", \"Stressed\", \"Disease\"]\n",
    "for c in conditions:\n",
    "    G.add_layer(c, condition=c)\n",
    "\n",
    "# Entities\n",
    "proteins = [f\"P{i}\" for i in range(1, 151)]   # P1..P150\n",
    "transcripts = [f\"T{i}\" for i in range(1, 61)]  # T1..T60 (treat as vertices)\n",
    "enz_edge_entities = [f\"edge_rxn_{i}\" for i in range(1, 11)]  # edge-entities for reactions\n",
    "\n",
    "# Seed some vertex attributes\n",
    "for p in proteins[:10]:\n",
    "    G.add_vertex(p, layer=\"Healthy\", family=\"kinase\")\n",
    "for p in proteins[10:]:\n",
    "    G.add_vertex(p, layer=\"Healthy\")\n",
    "for t in transcripts:\n",
    "    G.add_vertex(t, layer=\"Healthy\", kind=\"transcript\")\n",
    "for ee in enz_edge_entities:\n",
    "    G.add_edge_entity(ee, layer=\"Healthy\", role=\"enzyme\")\n",
    "\n",
    "# Propagate initial vertices to all layers (cheaply)\n",
    "for lid in [\"Stressed\", \"Disease\"]:\n",
    "    G._layers[lid][\"vertices\"].update(G._layers[\"Healthy\"][\"vertices\"])"
   ]
  },
  {
   "cell_type": "code",
   "execution_count": 5,
   "id": "5a76d0ff-c7a1-421d-afc7-0f4de468c52f",
   "metadata": {},
   "outputs": [],
   "source": [
    "# ---------- Build PPI edges in all layers ----------\n",
    "import random\n",
    "\n",
    "def rand_weight(base=1.0, jitter=0.5):\n",
    "    return max(0.05, base + (random.random() - 0.5) * 2 * jitter)\n",
    "\n",
    "ppis = []\n",
    "for _ in range(320):\n",
    "    u, v = random.sample(proteins, 2)\n",
    "    w = rand_weight(1.2, 0.6)\n",
    "    e = G.add_edge(u, v, layer=\"Healthy\", weight=w, edge_directed=False)\n",
    "    ppis.append(e)\n",
    "\n",
    "# Stress/disease layer variants (override per-layer weights)\n",
    "for eid in ppis:\n",
    "    # Stressed: mostly +10% with jitter\n",
    "    G.add_edge_to_layer(\"Stressed\", eid)\n",
    "    G.set_edge_layer_attrs(\"Stressed\", eid, weight=G.edge_weights[eid] * rand_weight(1.10, 0.1))\n",
    "    # Disease: some edges get weaker; others stronger\n",
    "    G.add_edge_to_layer(\"Disease\", eid)\n",
    "    factor = 0.7 if random.random() < 0.4 else 1.3\n",
    "    G.set_edge_layer_attrs(\"Disease\", eid, weight=G.edge_weights[eid] * rand_weight(factor, 0.15))"
   ]
  },
  {
   "cell_type": "code",
   "execution_count": 7,
   "id": "f984ac51-9a21-4e8d-85c2-c0fafb0121f8",
   "metadata": {},
   "outputs": [],
   "source": [
    "# ---------- Complexes as undirected hyperedges ----------\n",
    "complexes = []\n",
    "for _ in range(12):\n",
    "    members = set(random.sample(proteins, random.choice([3, 4, 5])))\n",
    "    hid = G.add_hyperedge(members=members, layer=\"Healthy\", weight=rand_weight(1.0, 0.2))\n",
    "    complexes.append(hid)\n",
    "    # complex exists in all layers (same membership)\n",
    "    for lid in [\"Stressed\", \"Disease\"]:\n",
    "        G.add_edge_to_layer(lid, hid)"
   ]
  },
  {
   "cell_type": "code",
   "execution_count": 9,
   "id": "d846cbf1-c5ed-4a17-a65c-89bd8620ae50",
   "metadata": {},
   "outputs": [],
   "source": [
    "# ---------- Directed signaling cascades as hyperedges ----------\n",
    "cascades = []\n",
    "while len(cascades) < 8:\n",
    "    head = set(random.sample(proteins, random.choice([1, 2])))\n",
    "    tail = set(random.sample(proteins, random.choice([2, 3, 4])))\n",
    "    if head & tail:\n",
    "        continue  # resample until disjoint\n",
    "    hid = G.add_hyperedge(head=head, tail=tail, layer=\"Healthy\", weight=rand_weight(1.0, 0.4))\n",
    "    cascades.append(hid)\n",
    "    for lid in [\"Stressed\", \"Disease\"]:\n",
    "        G.add_edge_to_layer(lid, hid)"
   ]
  },
  {
   "cell_type": "code",
   "execution_count": 11,
   "id": "f4ccdd12-bedf-4270-99f6-ea0afe05f00e",
   "metadata": {},
   "outputs": [],
   "source": [
    "# ---------- Reactions connecting vertices to edge-entities ----------\n",
    "for ee in enz_edge_entities:\n",
    "    s, t = random.sample(proteins, 2)\n",
    "    G.add_edge(s, ee, layer=\"Healthy\", edge_type=\"vertex_edge\", weight=1.0 + random.random())\n",
    "    G.add_edge(ee, t, layer=\"Healthy\", edge_type=\"vertex_edge\", weight=1.0 + random.random())\n",
    "    # propagate across layers\n",
    "    for lid in [\"Stressed\", \"Disease\"]:\n",
    "        G._layers[lid][\"edges\"].update(G._layers[\"Healthy\"][\"edges\"])"
   ]
  },
  {
   "cell_type": "code",
   "execution_count": 13,
   "id": "b840d04f-0650-41e7-857c-05f9e057aa5b",
   "metadata": {},
   "outputs": [
    {
     "name": "stdout",
     "output_type": "stream",
     "text": [
      "vertices: 210 Edges: 360\n"
     ]
    }
   ],
   "source": [
    "# ---------- Basic sanity ----------\n",
    "print(\"vertices:\", G.number_of_vertices(), \"Edges:\", G.number_of_edges())\n",
    "\n",
    "# Only true \"vertices\" are counted by number_of_vertices() (proteins + transcripts)\n",
    "expected_vertices = len(set(proteins)) + len(set(transcripts))  # 150 + 60 = 210\n",
    "assert G.number_of_vertices() >= expected_vertices, f\"Expected ≥{expected_vertices}, got {G.number_of_vertices()}\"\n",
    "\n",
    "# Edge-entities are tracked as entity_type == 'edge' (not included in number_of_vertices)\n",
    "edge_entity_ids = set(enz_edge_entities)\n",
    "edge_entity_count = sum(1 for _id, et in G.entity_types.items() if et == \"edge\" and _id in edge_entity_ids)\n",
    "assert edge_entity_count == len(edge_entity_ids), f\"Expected {len(edge_entity_ids)} edge-entities, got {edge_entity_count}\"\n",
    "\n",
    "# Edges: PPIs (320) + complexes (12) + cascades (8) + reaction links (10*2) = 360 minimum\n",
    "assert G.number_of_edges() >= 320 + 12 + 8 + (10 * 2)\n"
   ]
  },
  {
   "cell_type": "code",
   "execution_count": 15,
   "id": "65e3e20e-0e21-43a2-a464-733819c326a8",
   "metadata": {},
   "outputs": [
    {
     "name": "stdout",
     "output_type": "stream",
     "text": [
      "[Healthy] edges_view rows = 360\n",
      "\n",
      "Top 5 binary edges by effective_weight in Healthy:\n",
      "shape: (5, 4)\n",
      "┌──────────┬────────────┬────────────┬──────────────────┐\n",
      "│ edge_id  ┆ source     ┆ target     ┆ effective_weight │\n",
      "│ ---      ┆ ---        ┆ ---        ┆ ---              │\n",
      "│ str      ┆ str        ┆ str        ┆ f64              │\n",
      "╞══════════╪════════════╪════════════╪══════════════════╡\n",
      "│ edge_356 ┆ P19        ┆ edge_rxn_9 ┆ 1.952197         │\n",
      "│ edge_354 ┆ P92        ┆ edge_rxn_8 ┆ 1.943664         │\n",
      "│ edge_348 ┆ P143       ┆ edge_rxn_5 ┆ 1.936892         │\n",
      "│ edge_342 ┆ P8         ┆ edge_rxn_2 ┆ 1.906609         │\n",
      "│ edge_347 ┆ edge_rxn_4 ┆ P105       ┆ 1.867855         │\n",
      "└──────────┴────────────┴────────────┴──────────────────┘\n",
      "[Stressed] edges_view rows = 360\n",
      "\n",
      "Top 5 binary edges by effective_weight in Stressed:\n",
      "shape: (5, 4)\n",
      "┌──────────┬────────────┬────────────┬──────────────────┐\n",
      "│ edge_id  ┆ source     ┆ target     ┆ effective_weight │\n",
      "│ ---      ┆ ---        ┆ ---        ┆ ---              │\n",
      "│ str      ┆ str        ┆ str        ┆ f64              │\n",
      "╞══════════╪════════════╪════════════╪══════════════════╡\n",
      "│ edge_356 ┆ P19        ┆ edge_rxn_9 ┆ 1.952197         │\n",
      "│ edge_354 ┆ P92        ┆ edge_rxn_8 ┆ 1.943664         │\n",
      "│ edge_348 ┆ P143       ┆ edge_rxn_5 ┆ 1.936892         │\n",
      "│ edge_342 ┆ P8         ┆ edge_rxn_2 ┆ 1.906609         │\n",
      "│ edge_347 ┆ edge_rxn_4 ┆ P105       ┆ 1.867855         │\n",
      "└──────────┴────────────┴────────────┴──────────────────┘\n",
      "[Disease] edges_view rows = 360\n",
      "\n",
      "Top 5 binary edges by effective_weight in Disease:\n",
      "shape: (5, 4)\n",
      "┌──────────┬────────────┬────────────┬──────────────────┐\n",
      "│ edge_id  ┆ source     ┆ target     ┆ effective_weight │\n",
      "│ ---      ┆ ---        ┆ ---        ┆ ---              │\n",
      "│ str      ┆ str        ┆ str        ┆ f64              │\n",
      "╞══════════╪════════════╪════════════╪══════════════════╡\n",
      "│ edge_356 ┆ P19        ┆ edge_rxn_9 ┆ 1.952197         │\n",
      "│ edge_354 ┆ P92        ┆ edge_rxn_8 ┆ 1.943664         │\n",
      "│ edge_348 ┆ P143       ┆ edge_rxn_5 ┆ 1.936892         │\n",
      "│ edge_342 ┆ P8         ┆ edge_rxn_2 ┆ 1.906609         │\n",
      "│ edge_347 ┆ edge_rxn_4 ┆ P105       ┆ 1.867855         │\n",
      "└──────────┴────────────┴────────────┴──────────────────┘\n"
     ]
    }
   ],
   "source": [
    "# ---------- Views & top edges by condition ----------\n",
    "import polars as pl\n",
    "\n",
    "for cond in conditions:\n",
    "    EV = G.edges_view(layer=cond, resolved_weight=True)\n",
    "    print(f\"[{cond}] edges_view rows =\", EV.height)\n",
    "    top = (\n",
    "        EV\n",
    "        .filter(pl.col(\"kind\") == \"binary\")\n",
    "        .sort(\"effective_weight\", descending=True)\n",
    "        .select([\"edge_id\", \"source\", \"target\", \"effective_weight\"])\n",
    "        .head(5)\n",
    "    )\n",
    "    print(f\"\\nTop 5 binary edges by effective_weight in {cond}:\")\n",
    "    print(top)"
   ]
  },
  {
   "cell_type": "code",
   "execution_count": 17,
   "id": "cdb4c103-a4f3-4f12-9584-a738a76c7bbc",
   "metadata": {},
   "outputs": [
    {
     "name": "stdout",
     "output_type": "stream",
     "text": [
      "\n",
      "Layer stats: {'Healthy': {'vertices': 220, 'edges': 360, 'attributes': {'condition': 'Healthy'}}, 'Stressed': {'vertices': 220, 'edges': 360, 'attributes': {'condition': 'Stressed'}}, 'Disease': {'vertices': 220, 'edges': 360, 'attributes': {'condition': 'Disease'}}}\n",
      "\n",
      "Conserved edges (in all conditions): 360\n",
      "Disease-specific edges: 0\n",
      "\n",
      "Temporal edge changes (Healthy→Stressed→Disease): [{'added': 0, 'removed': 0, 'net_change': 0}, {'added': 0, 'removed': 0, 'net_change': 0}]\n"
     ]
    }
   ],
   "source": [
    "# ---------- Layer analytics ----------\n",
    "stats = G.layer_statistics()\n",
    "print(\"\\nLayer stats:\", stats)\n",
    "\n",
    "conserved = G.conserved_edges(min_layers=3)  # present in all 3 conditions\n",
    "print(\"\\nConserved edges (in all conditions):\", len(conserved))\n",
    "\n",
    "disease_specific = G.layer_specific_edges(\"Disease\")\n",
    "print(\"Disease-specific edges:\", len(disease_specific))\n",
    "\n",
    "changes = G.temporal_dynamics([\"Healthy\", \"Stressed\", \"Disease\"], metric=\"edge_change\")\n",
    "print(\"\\nTemporal edge changes (Healthy→Stressed→Disease):\", changes)\n",
    "assert len(changes) == 2"
   ]
  },
  {
   "cell_type": "code",
   "execution_count": 19,
   "id": "572a4375-daff-41eb-8a3c-833640143ea9",
   "metadata": {},
   "outputs": [
    {
     "name": "stdout",
     "output_type": "stream",
     "text": [
      "\n",
      "Edge presence for edge_0 : ['Healthy', 'Stressed', 'Disease']\n",
      "vertex presence for P101 : ['Healthy', 'Stressed', 'Disease']\n"
     ]
    }
   ],
   "source": [
    "# ---------- Presence queries ----------\n",
    "some_e = next(iter(G.edge_to_idx.keys()))\n",
    "print(\"\\nEdge presence for\", some_e, \":\", G.edge_presence_across_layers(edge_id=some_e))\n",
    "some_p = random.choice(proteins)\n",
    "print(\"vertex presence for\", some_p, \":\", G.vertex_presence_across_layers(some_p))"
   ]
  },
  {
   "cell_type": "code",
   "execution_count": 21,
   "id": "04da2d8f-d24f-4346-9716-3441f7180cb2",
   "metadata": {},
   "outputs": [
    {
     "name": "stdout",
     "output_type": "stream",
     "text": [
      "\n",
      "Neighbors(P141) => ['P48', 'P56', 'P53', 'P149', 'P139', 'P64', 'P82', 'P143', 'P1', 'P127']\n",
      "Out(P141) => ['P48', 'P56', 'P53', 'P149', 'P139', 'P64', 'P1', 'P127']\n",
      "In(P141) => ['P48', 'P56', 'P53', 'P149', 'P139', 'P64', 'P82', 'P143', 'P1', 'P127']\n"
     ]
    }
   ],
   "source": [
    "# ---------- Traversal checks ----------\n",
    "q = random.choice(proteins)\n",
    "print(f\"\\nNeighbors({q}) =>\", G.neighbors(q)[:10])\n",
    "print(f\"Out({q}) =>\", G.out_neighbors(q)[:10])\n",
    "print(f\"In({q}) =>\", G.in_neighbors(q)[:10])"
   ]
  },
  {
   "cell_type": "code",
   "execution_count": 23,
   "id": "13b50a3e-11d4-4e72-9172-c82884cabecd",
   "metadata": {},
   "outputs": [
    {
     "name": "stdout",
     "output_type": "stream",
     "text": [
      "\n",
      "Disease subgraph: vertices = 210 edges = 360\n",
      "copy() OK\n"
     ]
    }
   ],
   "source": [
    "# ---------- Subgraph slice & copy ----------\n",
    "H = G.subgraph_from_layer(\"Disease\", resolve_layer_weights=True)\n",
    "assert set(H.vertices()).issubset(set(G.vertices()))\n",
    "assert set(H.edges()).issubset(set(G.edges()))\n",
    "print(\"\\nDisease subgraph: vertices =\", H.number_of_vertices(), \"edges =\", H.number_of_edges())\n",
    "\n",
    "K = G.copy()\n",
    "assert set(K.vertices()) == set(G.vertices())\n",
    "assert set(K.edges()) == set(G.edges())\n",
    "# hyperedge shape preserved\n",
    "any_hyper = next(e for e,k in G.edge_kind.items() if k == \"hyper\")\n",
    "assert K.edge_kind.get(any_hyper) == \"hyper\"\n",
    "# layer sets preserved\n",
    "for lid in G.list_layers(include_default=True):\n",
    "    assert K._layers[lid][\"vertices\"] == G._layers[lid][\"vertices\"]\n",
    "    assert K._layers[lid][\"edges\"] == G._layers[lid][\"edges\"]\n",
    "print(\"copy() OK\")"
   ]
  },
  {
   "cell_type": "code",
   "execution_count": 24,
   "id": "8e623fd2-a05f-411b-8774-0070b0be84ca",
   "metadata": {},
   "outputs": [
    {
     "name": "stdout",
     "output_type": "stream",
     "text": [
      "\n",
      "After removing 5 proteins: vertices = 205 edges = 335\n",
      "After removing 10 edges: vertices = 205 edges = 325\n"
     ]
    }
   ],
   "source": [
    "# ---------- Remove operations stress ----------\n",
    "to_drop_vertices = random.sample(proteins, 5)\n",
    "for n in to_drop_vertices:\n",
    "    if n in G.entity_to_idx:\n",
    "        G.remove_vertex(n)\n",
    "print(\"\\nAfter removing 5 proteins: vertices =\", G.number_of_vertices(), \"edges =\", G.number_of_edges())\n",
    "\n",
    "to_drop_edges = list(G.edge_to_idx.keys())[:10]\n",
    "for eid in to_drop_edges:\n",
    "    if eid in G.edge_to_idx:\n",
    "        G.remove_edge(eid)\n",
    "print(\"After removing 10 edges: vertices =\", G.number_of_vertices(), \"edges =\", G.number_of_edges())"
   ]
  },
  {
   "cell_type": "code",
   "execution_count": 27,
   "id": "c37e303c-1f8b-452e-8df2-98f282382fd8",
   "metadata": {},
   "outputs": [
    {
     "name": "stdout",
     "output_type": "stream",
     "text": [
      "\n",
      "Audit: {'extra_vertex_rows': ['edge_rxn_7', 'edge_rxn_5', 'edge_rxn_1', 'edge_rxn_8', 'edge_rxn_6', 'edge_rxn_3', 'edge_rxn_4', 'edge_rxn_10', 'edge_rxn_2', 'edge_rxn_9'], 'extra_edge_rows': [], 'missing_vertex_rows': [], 'missing_edge_rows': ['edge_249', 'edge_345', 'edge_16', 'edge_278', 'edge_236', 'edge_169', 'edge_107', 'edge_21', 'edge_304', 'edge_232', 'edge_352', 'edge_18', 'edge_106', 'edge_153', 'edge_55', 'edge_85', 'edge_243', 'edge_276', 'edge_295', 'edge_357', 'edge_161', 'edge_290', 'edge_359', 'edge_289', 'edge_256', 'edge_59', 'edge_288', 'edge_239', 'edge_32', 'edge_268', 'edge_132', 'edge_318', 'edge_212', 'edge_358', 'edge_137', 'edge_326', 'edge_130', 'edge_353', 'edge_22', 'edge_71', 'edge_124', 'edge_47', 'edge_317', 'edge_155', 'edge_96', 'edge_252', 'edge_248', 'edge_41', 'edge_303', 'edge_125', 'edge_313', 'edge_351', 'edge_95', 'edge_211', 'edge_216', 'edge_115', 'edge_156', 'edge_13', 'edge_37', 'edge_168', 'edge_103', 'edge_140', 'edge_233', 'edge_301', 'edge_197', 'edge_300', 'edge_280', 'edge_58', 'edge_228', 'edge_126', 'edge_195', 'edge_188', 'edge_62', 'edge_105', 'edge_108', 'edge_194', 'edge_127', 'edge_286', 'edge_82', 'edge_189', 'edge_220', 'edge_38', 'edge_61', 'edge_20', 'edge_135', 'edge_141', 'edge_159', 'edge_53', 'edge_266', 'edge_191', 'edge_166', 'edge_238', 'edge_218', 'edge_157', 'edge_51', 'edge_80', 'edge_181', 'edge_163', 'edge_68', 'edge_221', 'edge_207', 'edge_308', 'edge_34', 'edge_312', 'edge_83', 'edge_297', 'edge_314', 'edge_305', 'edge_292', 'edge_119', 'edge_294', 'edge_244', 'edge_25', 'edge_151', 'edge_293', 'edge_334', 'edge_122', 'edge_235', 'edge_117', 'edge_17', 'edge_273', 'edge_174', 'edge_30', 'edge_178', 'edge_337', 'edge_44', 'edge_325', 'edge_193', 'edge_265', 'edge_343', 'edge_57', 'edge_323', 'edge_134', 'edge_296', 'edge_72', 'edge_311', 'edge_116', 'edge_210', 'edge_15', 'edge_112', 'edge_206', 'edge_114', 'edge_24', 'edge_230', 'edge_331', 'edge_42', 'edge_330', 'edge_93', 'edge_250', 'edge_336', 'edge_79', 'edge_328', 'edge_167', 'edge_110', 'edge_284', 'edge_89', 'edge_142', 'edge_251', 'edge_78', 'edge_176', 'edge_205', 'edge_29', 'edge_50', 'edge_175', 'edge_307', 'edge_109', 'edge_270', 'edge_201', 'edge_177', 'edge_349', 'edge_332', 'edge_346', 'edge_247', 'edge_242', 'edge_75', 'edge_101', 'edge_136', 'edge_60', 'edge_190', 'edge_342', 'edge_81', 'edge_184', 'edge_52', 'edge_302', 'edge_321', 'edge_23', 'edge_172', 'edge_111', 'edge_319', 'edge_27', 'edge_139', 'edge_260', 'edge_70', 'edge_87', 'edge_204', 'edge_48', 'edge_350', 'edge_179', 'edge_354', 'edge_202', 'edge_158', 'edge_240', 'edge_192', 'edge_185', 'edge_262', 'edge_214', 'edge_217', 'edge_341', 'edge_146', 'edge_150', 'edge_226', 'edge_258', 'edge_283', 'edge_338', 'edge_231', 'edge_315', 'edge_183', 'edge_272', 'edge_267', 'edge_49', 'edge_148', 'edge_128', 'edge_63', 'edge_222', 'edge_245', 'edge_170', 'edge_339', 'edge_246', 'edge_282', 'edge_199', 'edge_121', 'edge_162', 'edge_88', 'edge_310', 'edge_306', 'edge_36', 'edge_261', 'edge_84', 'edge_229', 'edge_213', 'edge_209', 'edge_340', 'edge_335', 'edge_344', 'edge_198', 'edge_196', 'edge_279', 'edge_237', 'edge_200', 'edge_138', 'edge_171', 'edge_133', 'edge_69', 'edge_322', 'edge_99', 'edge_104', 'edge_223', 'edge_173', 'edge_43', 'edge_19', 'edge_118', 'edge_154', 'edge_92', 'edge_241', 'edge_31', 'edge_255', 'edge_28', 'edge_329', 'edge_152', 'edge_259', 'edge_287', 'edge_224', 'edge_264', 'edge_285', 'edge_298', 'edge_257', 'edge_355', 'edge_91', 'edge_26', 'edge_208', 'edge_120', 'edge_54', 'edge_149', 'edge_269', 'edge_131', 'edge_66', 'edge_180', 'edge_129', 'edge_219', 'edge_182', 'edge_160', 'edge_98', 'edge_263', 'edge_100', 'edge_73', 'edge_35', 'edge_165', 'edge_234', 'edge_102', 'edge_309', 'edge_281', 'edge_316', 'edge_143', 'edge_277', 'edge_97', 'edge_145', 'edge_347', 'edge_144', 'edge_12', 'edge_123', 'edge_76', 'edge_14', 'edge_56', 'edge_275', 'edge_356', 'edge_164', 'edge_94', 'edge_215', 'edge_271', 'edge_40', 'edge_77', 'edge_327', 'edge_253', 'edge_227', 'edge_45'], 'invalid_edge_layer_rows': []}\n",
      "Approx memory usage (bytes): 96211\n",
      "\n",
      "Reality-check finished ✅\n"
     ]
    }
   ],
   "source": [
    "# ---------- Audit & memory ----------\n",
    "audit = G.audit_attributes()\n",
    "print(\"\\nAudit:\", audit)\n",
    "mem_bytes = G.memory_usage()\n",
    "print(\"Approx memory usage (bytes):\", int(mem_bytes))\n",
    "assert mem_bytes > 0\n",
    "\n",
    "print(\"\\nReality-check finished ✅\")"
   ]
  },
  {
   "cell_type": "code",
   "execution_count": 29,
   "id": "e680db4e-a024-4ee0-afc6-f32759ba3ea7",
   "metadata": {},
   "outputs": [],
   "source": [
    "events = G.history()           # list[dict]\n",
    "df = G.history(as_df=True)     # Polars DF [DataFrame]"
   ]
  },
  {
   "cell_type": "code",
   "execution_count": 31,
   "id": "0f43c65f-803c-4901-bede-e67b6ca48768",
   "metadata": {},
   "outputs": [
    {
     "name": "stdout",
     "output_type": "stream",
     "text": [
      "shape: (5, 10)\n",
      "┌─────────┬─────────────────────────────┬─────────┬─────────────────┬───┬────────┬───────────┬─────────┬────────────┐\n",
      "│ version ┆ ts_utc                      ┆ mono_ns ┆ op              ┆ … ┆ result ┆ vertex_id ┆ layer   ┆ attributes │\n",
      "│ ---     ┆ ---                         ┆ ---     ┆ ---             ┆   ┆ ---    ┆ ---       ┆ ---     ┆ ---        │\n",
      "│ i64     ┆ str                         ┆ i64     ┆ str             ┆   ┆ str    ┆ str       ┆ str     ┆ struct[1]  │\n",
      "╞═════════╪═════════════════════════════╪═════════╪═════════════════╪═══╪════════╪═══════════╪═════════╪════════════╡\n",
      "│ 1       ┆ 2025-10-04T21:12:50.341772Z ┆ 2803400 ┆ set_layer_attrs ┆ … ┆ null   ┆ null      ┆ null    ┆ null       │\n",
      "│ 2       ┆ 2025-10-04T21:12:50.342772Z ┆ 3174500 ┆ set_layer_attrs ┆ … ┆ null   ┆ null      ┆ null    ┆ null       │\n",
      "│ 3       ┆ 2025-10-04T21:12:50.342772Z ┆ 3560300 ┆ set_layer_attrs ┆ … ┆ null   ┆ null      ┆ null    ┆ null       │\n",
      "│ 4       ┆ 2025-10-04T21:12:50.343773Z ┆ 4655400 ┆ add_vertex      ┆ … ┆ P1     ┆ P1        ┆ Healthy ┆ {\"kinase\"} │\n",
      "│ 5       ┆ 2025-10-04T21:12:50.345782Z ┆ 5889300 ┆ add_vertex      ┆ … ┆ P2     ┆ P2        ┆ Healthy ┆ {\"kinase\"} │\n",
      "└─────────┴─────────────────────────────┴─────────┴─────────────────┴───┴────────┴───────────┴─────────┴────────────┘\n"
     ]
    },
    {
     "data": {
      "text/plain": [
       "[{'version': 1,\n",
       "  'ts_utc': '2025-10-04T21:12:50.341772Z',\n",
       "  'mono_ns': 2803400,\n",
       "  'op': 'set_layer_attrs',\n",
       "  'layer_id': 'Healthy',\n",
       "  'attrs': {'condition': 'Healthy'},\n",
       "  'result': None},\n",
       " {'version': 2,\n",
       "  'ts_utc': '2025-10-04T21:12:50.342772Z',\n",
       "  'mono_ns': 3174500,\n",
       "  'op': 'set_layer_attrs',\n",
       "  'layer_id': 'Stressed',\n",
       "  'attrs': {'condition': 'Stressed'},\n",
       "  'result': None},\n",
       " {'version': 3,\n",
       "  'ts_utc': '2025-10-04T21:12:50.342772Z',\n",
       "  'mono_ns': 3560300,\n",
       "  'op': 'set_layer_attrs',\n",
       "  'layer_id': 'Disease',\n",
       "  'attrs': {'condition': 'Disease'},\n",
       "  'result': None}]"
      ]
     },
     "execution_count": 31,
     "metadata": {},
     "output_type": "execute_result"
    }
   ],
   "source": [
    "print(df.head())\n",
    "events[:3]"
   ]
  },
  {
   "cell_type": "code",
   "execution_count": 33,
   "id": "114cf8d8-e753-43dc-a22e-e676e2b98bbb",
   "metadata": {},
   "outputs": [],
   "source": [
    "import sys, pathlib\n",
    "\n",
    "# add repo root to Python path\n",
    "sys.path.append(str(pathlib.Path.cwd().parent))\n",
    "from graphglue.io import csv as graph_csv"
   ]
  },
  {
   "cell_type": "code",
   "execution_count": 35,
   "id": "2b8ccfbe-9531-4fa3-8422-849ae843f472",
   "metadata": {},
   "outputs": [
    {
     "data": {
      "text/html": [
       "<div><style>\n",
       ".dataframe > thead > tr,\n",
       ".dataframe > tbody > tr {\n",
       "  text-align: right;\n",
       "  white-space: pre-wrap;\n",
       "}\n",
       "</style>\n",
       "<small>shape: (5, 5)</small><table border=\"1\" class=\"dataframe\"><thead><tr><th>source</th><th>target</th><th>weight</th><th>directed</th><th>layer</th></tr><tr><td>str</td><td>str</td><td>i64</td><td>bool</td><td>str</td></tr></thead><tbody><tr><td>&quot;A&quot;</td><td>&quot;B&quot;</td><td>1</td><td>true</td><td>&quot;L1&quot;</td></tr><tr><td>&quot;A&quot;</td><td>&quot;C&quot;</td><td>2</td><td>true</td><td>&quot;L1&quot;</td></tr><tr><td>&quot;B&quot;</td><td>&quot;C&quot;</td><td>3</td><td>false</td><td>&quot;L1&quot;</td></tr><tr><td>&quot;C&quot;</td><td>&quot;D&quot;</td><td>1</td><td>true</td><td>&quot;L2&quot;</td></tr><tr><td>&quot;D&quot;</td><td>&quot;A&quot;</td><td>5</td><td>true</td><td>&quot;L2&quot;</td></tr></tbody></table></div>"
      ],
      "text/plain": [
       "shape: (5, 5)\n",
       "┌────────┬────────┬────────┬──────────┬───────┐\n",
       "│ source ┆ target ┆ weight ┆ directed ┆ layer │\n",
       "│ ---    ┆ ---    ┆ ---    ┆ ---      ┆ ---   │\n",
       "│ str    ┆ str    ┆ i64    ┆ bool     ┆ str   │\n",
       "╞════════╪════════╪════════╪══════════╪═══════╡\n",
       "│ A      ┆ B      ┆ 1      ┆ true     ┆ L1    │\n",
       "│ A      ┆ C      ┆ 2      ┆ true     ┆ L1    │\n",
       "│ B      ┆ C      ┆ 3      ┆ false    ┆ L1    │\n",
       "│ C      ┆ D      ┆ 1      ┆ true     ┆ L2    │\n",
       "│ D      ┆ A      ┆ 5      ┆ true     ┆ L2    │\n",
       "└────────┴────────┴────────┴──────────┴───────┘"
      ]
     },
     "execution_count": 35,
     "metadata": {},
     "output_type": "execute_result"
    }
   ],
   "source": [
    "csv1_path = \"csv1_edges.csv\"\n",
    "pl.DataFrame({\n",
    "    \"source\": [\"A\",\"A\",\"B\",\"C\",\"D\"],\n",
    "    \"target\": [\"B\",\"C\",\"C\",\"D\",\"A\"],\n",
    "    \"weight\": [1, 2, 3, 1, 5],\n",
    "    \"directed\": [True, True, False, True, True],\n",
    "    \"layer\": [\"L1\",\"L1\",\"L1\",\"L2\",\"L2\"],\n",
    "}) #.write_csv(csv1_path)\n",
    "\n",
    "#pl.read_csv(csv1_path).head()\n"
   ]
  },
  {
   "cell_type": "code",
   "execution_count": 37,
   "id": "75ff48e1-fe7f-4984-b545-6762c0fa8205",
   "metadata": {},
   "outputs": [
    {
     "ename": "FileNotFoundError",
     "evalue": "Le fichier spécifié est introuvable. (os error 2): csv1_edges.csv",
     "output_type": "error",
     "traceback": [
      "\u001b[1;31m---------------------------------------------------------------------------\u001b[0m",
      "\u001b[1;31mFileNotFoundError\u001b[0m                         Traceback (most recent call last)",
      "Cell \u001b[1;32mIn[37], line 1\u001b[0m\n\u001b[1;32m----> 1\u001b[0m G \u001b[38;5;241m=\u001b[39m graph_csv\u001b[38;5;241m.\u001b[39mload_csv_to_graph(\n\u001b[0;32m      2\u001b[0m     csv1_path,\n\u001b[0;32m      3\u001b[0m     schema\u001b[38;5;241m=\u001b[39m\u001b[38;5;124m\"\u001b[39m\u001b[38;5;124mauto\u001b[39m\u001b[38;5;124m\"\u001b[39m,            \u001b[38;5;66;03m# or 'edge_list'/'incidence'/'adjacency'/'hyperedge'/'lil'\u001b[39;00m\n\u001b[0;32m      4\u001b[0m     default_layer\u001b[38;5;241m=\u001b[39m\u001b[38;5;28;01mNone\u001b[39;00m,       \u001b[38;5;66;03m# fallback if no layer column is present\u001b[39;00m\n\u001b[0;32m      5\u001b[0m     default_directed\u001b[38;5;241m=\u001b[39m\u001b[38;5;28;01mNone\u001b[39;00m,    \u001b[38;5;66;03m# fallback if no directed column and cannot infer\u001b[39;00m\n\u001b[0;32m      6\u001b[0m     default_weight\u001b[38;5;241m=\u001b[39m\u001b[38;5;241m1.0\u001b[39m,\n\u001b[0;32m      7\u001b[0m )\n\u001b[0;32m      9\u001b[0m \u001b[38;5;66;03m# Quick sanity: show first rows of an edges view (columns depend on your Graph implementation)\u001b[39;00m\n\u001b[0;32m     10\u001b[0m edges \u001b[38;5;241m=\u001b[39m G\u001b[38;5;241m.\u001b[39medges_view(layer\u001b[38;5;241m=\u001b[39m\u001b[38;5;28;01mNone\u001b[39;00m, include_directed\u001b[38;5;241m=\u001b[39m\u001b[38;5;28;01mTrue\u001b[39;00m, resolved_weight\u001b[38;5;241m=\u001b[39m\u001b[38;5;28;01mTrue\u001b[39;00m)\n",
      "File \u001b[1;32mC:\\Users\\PC\\Desktop\\graphglue - Copie - Copie\\graphglue\\io\\csv.py:254\u001b[0m, in \u001b[0;36mload_csv_to_graph\u001b[1;34m(path, graph, schema, default_layer, default_directed, default_weight, infer_schema_length, encoding, null_values, low_memory, **kwargs)\u001b[0m\n\u001b[0;32m    199\u001b[0m \u001b[38;5;28;01mdef\u001b[39;00m \u001b[38;5;21mload_csv_to_graph\u001b[39m(\n\u001b[0;32m    200\u001b[0m     path: \u001b[38;5;28mstr\u001b[39m,\n\u001b[0;32m    201\u001b[0m     \u001b[38;5;241m*\u001b[39m,\n\u001b[1;32m   (...)\u001b[0m\n\u001b[0;32m    211\u001b[0m     \u001b[38;5;241m*\u001b[39m\u001b[38;5;241m*\u001b[39mkwargs: Any,\n\u001b[0;32m    212\u001b[0m ):\n\u001b[0;32m    213\u001b[0m \u001b[38;5;250m    \u001b[39m\u001b[38;5;124;03m\"\"\"\u001b[39;00m\n\u001b[0;32m    214\u001b[0m \u001b[38;5;124;03m    Load a CSV and construct/augment an Graph.\u001b[39;00m\n\u001b[0;32m    215\u001b[0m \n\u001b[1;32m   (...)\u001b[0m\n\u001b[0;32m    252\u001b[0m \u001b[38;5;124;03m        If schema is unknown or parsing fails.\u001b[39;00m\n\u001b[0;32m    253\u001b[0m \u001b[38;5;124;03m    \"\"\"\u001b[39;00m\n\u001b[1;32m--> 254\u001b[0m     df \u001b[38;5;241m=\u001b[39m pl\u001b[38;5;241m.\u001b[39mread_csv(\n\u001b[0;32m    255\u001b[0m         path,\n\u001b[0;32m    256\u001b[0m         infer_schema_length\u001b[38;5;241m=\u001b[39minfer_schema_length,\n\u001b[0;32m    257\u001b[0m         encoding\u001b[38;5;241m=\u001b[39mencoding,\n\u001b[0;32m    258\u001b[0m         null_values\u001b[38;5;241m=\u001b[39mnull_values,\n\u001b[0;32m    259\u001b[0m         low_memory\u001b[38;5;241m=\u001b[39mlow_memory,\n\u001b[0;32m    260\u001b[0m     )\n\u001b[0;32m    261\u001b[0m     \u001b[38;5;28;01mreturn\u001b[39;00m from_dataframe(\n\u001b[0;32m    262\u001b[0m         df,\n\u001b[0;32m    263\u001b[0m         graph\u001b[38;5;241m=\u001b[39mgraph,\n\u001b[1;32m   (...)\u001b[0m\n\u001b[0;32m    268\u001b[0m         \u001b[38;5;241m*\u001b[39m\u001b[38;5;241m*\u001b[39mkwargs,\n\u001b[0;32m    269\u001b[0m     )\n",
      "File \u001b[1;32m~\\anaconda3\\Lib\\site-packages\\polars\\_utils\\deprecation.py:128\u001b[0m, in \u001b[0;36mdeprecate_renamed_parameter.<locals>.decorate.<locals>.wrapper\u001b[1;34m(*args, **kwargs)\u001b[0m\n\u001b[0;32m    123\u001b[0m \u001b[38;5;129m@wraps\u001b[39m(function)\n\u001b[0;32m    124\u001b[0m \u001b[38;5;28;01mdef\u001b[39;00m \u001b[38;5;21mwrapper\u001b[39m(\u001b[38;5;241m*\u001b[39margs: P\u001b[38;5;241m.\u001b[39margs, \u001b[38;5;241m*\u001b[39m\u001b[38;5;241m*\u001b[39mkwargs: P\u001b[38;5;241m.\u001b[39mkwargs) \u001b[38;5;241m-\u001b[39m\u001b[38;5;241m>\u001b[39m T:\n\u001b[0;32m    125\u001b[0m     _rename_keyword_argument(\n\u001b[0;32m    126\u001b[0m         old_name, new_name, kwargs, function\u001b[38;5;241m.\u001b[39m\u001b[38;5;18m__qualname__\u001b[39m, version\n\u001b[0;32m    127\u001b[0m     )\n\u001b[1;32m--> 128\u001b[0m     \u001b[38;5;28;01mreturn\u001b[39;00m function(\u001b[38;5;241m*\u001b[39margs, \u001b[38;5;241m*\u001b[39m\u001b[38;5;241m*\u001b[39mkwargs)\n",
      "File \u001b[1;32m~\\anaconda3\\Lib\\site-packages\\polars\\_utils\\deprecation.py:128\u001b[0m, in \u001b[0;36mdeprecate_renamed_parameter.<locals>.decorate.<locals>.wrapper\u001b[1;34m(*args, **kwargs)\u001b[0m\n\u001b[0;32m    123\u001b[0m \u001b[38;5;129m@wraps\u001b[39m(function)\n\u001b[0;32m    124\u001b[0m \u001b[38;5;28;01mdef\u001b[39;00m \u001b[38;5;21mwrapper\u001b[39m(\u001b[38;5;241m*\u001b[39margs: P\u001b[38;5;241m.\u001b[39margs, \u001b[38;5;241m*\u001b[39m\u001b[38;5;241m*\u001b[39mkwargs: P\u001b[38;5;241m.\u001b[39mkwargs) \u001b[38;5;241m-\u001b[39m\u001b[38;5;241m>\u001b[39m T:\n\u001b[0;32m    125\u001b[0m     _rename_keyword_argument(\n\u001b[0;32m    126\u001b[0m         old_name, new_name, kwargs, function\u001b[38;5;241m.\u001b[39m\u001b[38;5;18m__qualname__\u001b[39m, version\n\u001b[0;32m    127\u001b[0m     )\n\u001b[1;32m--> 128\u001b[0m     \u001b[38;5;28;01mreturn\u001b[39;00m function(\u001b[38;5;241m*\u001b[39margs, \u001b[38;5;241m*\u001b[39m\u001b[38;5;241m*\u001b[39mkwargs)\n",
      "File \u001b[1;32m~\\anaconda3\\Lib\\site-packages\\polars\\_utils\\deprecation.py:128\u001b[0m, in \u001b[0;36mdeprecate_renamed_parameter.<locals>.decorate.<locals>.wrapper\u001b[1;34m(*args, **kwargs)\u001b[0m\n\u001b[0;32m    123\u001b[0m \u001b[38;5;129m@wraps\u001b[39m(function)\n\u001b[0;32m    124\u001b[0m \u001b[38;5;28;01mdef\u001b[39;00m \u001b[38;5;21mwrapper\u001b[39m(\u001b[38;5;241m*\u001b[39margs: P\u001b[38;5;241m.\u001b[39margs, \u001b[38;5;241m*\u001b[39m\u001b[38;5;241m*\u001b[39mkwargs: P\u001b[38;5;241m.\u001b[39mkwargs) \u001b[38;5;241m-\u001b[39m\u001b[38;5;241m>\u001b[39m T:\n\u001b[0;32m    125\u001b[0m     _rename_keyword_argument(\n\u001b[0;32m    126\u001b[0m         old_name, new_name, kwargs, function\u001b[38;5;241m.\u001b[39m\u001b[38;5;18m__qualname__\u001b[39m, version\n\u001b[0;32m    127\u001b[0m     )\n\u001b[1;32m--> 128\u001b[0m     \u001b[38;5;28;01mreturn\u001b[39;00m function(\u001b[38;5;241m*\u001b[39margs, \u001b[38;5;241m*\u001b[39m\u001b[38;5;241m*\u001b[39mkwargs)\n",
      "File \u001b[1;32m~\\anaconda3\\Lib\\site-packages\\polars\\io\\csv\\functions.py:549\u001b[0m, in \u001b[0;36mread_csv\u001b[1;34m(source, has_header, columns, new_columns, separator, comment_prefix, quote_char, skip_rows, skip_lines, schema, schema_overrides, null_values, missing_utf8_is_empty_string, ignore_errors, try_parse_dates, n_threads, infer_schema, infer_schema_length, batch_size, n_rows, encoding, low_memory, rechunk, use_pyarrow, storage_options, skip_rows_after_header, row_index_name, row_index_offset, sample_size, eol_char, raise_if_empty, truncate_ragged_lines, decimal_comma, glob)\u001b[0m\n\u001b[0;32m    541\u001b[0m \u001b[38;5;28;01melse\u001b[39;00m:\n\u001b[0;32m    542\u001b[0m     \u001b[38;5;28;01mwith\u001b[39;00m prepare_file_arg(\n\u001b[0;32m    543\u001b[0m         source,\n\u001b[0;32m    544\u001b[0m         encoding\u001b[38;5;241m=\u001b[39mencoding,\n\u001b[1;32m   (...)\u001b[0m\n\u001b[0;32m    547\u001b[0m         storage_options\u001b[38;5;241m=\u001b[39mstorage_options,\n\u001b[0;32m    548\u001b[0m     ) \u001b[38;5;28;01mas\u001b[39;00m data:\n\u001b[1;32m--> 549\u001b[0m         df \u001b[38;5;241m=\u001b[39m _read_csv_impl(\n\u001b[0;32m    550\u001b[0m             data,\n\u001b[0;32m    551\u001b[0m             has_header\u001b[38;5;241m=\u001b[39mhas_header,\n\u001b[0;32m    552\u001b[0m             columns\u001b[38;5;241m=\u001b[39mcolumns \u001b[38;5;28;01mif\u001b[39;00m columns \u001b[38;5;28;01melse\u001b[39;00m projection,\n\u001b[0;32m    553\u001b[0m             separator\u001b[38;5;241m=\u001b[39mseparator,\n\u001b[0;32m    554\u001b[0m             comment_prefix\u001b[38;5;241m=\u001b[39mcomment_prefix,\n\u001b[0;32m    555\u001b[0m             quote_char\u001b[38;5;241m=\u001b[39mquote_char,\n\u001b[0;32m    556\u001b[0m             skip_rows\u001b[38;5;241m=\u001b[39mskip_rows,\n\u001b[0;32m    557\u001b[0m             skip_lines\u001b[38;5;241m=\u001b[39mskip_lines,\n\u001b[0;32m    558\u001b[0m             schema_overrides\u001b[38;5;241m=\u001b[39mschema_overrides,\n\u001b[0;32m    559\u001b[0m             schema\u001b[38;5;241m=\u001b[39mschema,\n\u001b[0;32m    560\u001b[0m             null_values\u001b[38;5;241m=\u001b[39mnull_values,\n\u001b[0;32m    561\u001b[0m             missing_utf8_is_empty_string\u001b[38;5;241m=\u001b[39mmissing_utf8_is_empty_string,\n\u001b[0;32m    562\u001b[0m             ignore_errors\u001b[38;5;241m=\u001b[39mignore_errors,\n\u001b[0;32m    563\u001b[0m             try_parse_dates\u001b[38;5;241m=\u001b[39mtry_parse_dates,\n\u001b[0;32m    564\u001b[0m             n_threads\u001b[38;5;241m=\u001b[39mn_threads,\n\u001b[0;32m    565\u001b[0m             infer_schema_length\u001b[38;5;241m=\u001b[39minfer_schema_length,\n\u001b[0;32m    566\u001b[0m             batch_size\u001b[38;5;241m=\u001b[39mbatch_size,\n\u001b[0;32m    567\u001b[0m             n_rows\u001b[38;5;241m=\u001b[39mn_rows,\n\u001b[0;32m    568\u001b[0m             encoding\u001b[38;5;241m=\u001b[39mencoding \u001b[38;5;28;01mif\u001b[39;00m encoding \u001b[38;5;241m==\u001b[39m \u001b[38;5;124m\"\u001b[39m\u001b[38;5;124mutf8-lossy\u001b[39m\u001b[38;5;124m\"\u001b[39m \u001b[38;5;28;01melse\u001b[39;00m \u001b[38;5;124m\"\u001b[39m\u001b[38;5;124mutf8\u001b[39m\u001b[38;5;124m\"\u001b[39m,\n\u001b[0;32m    569\u001b[0m             low_memory\u001b[38;5;241m=\u001b[39mlow_memory,\n\u001b[0;32m    570\u001b[0m             rechunk\u001b[38;5;241m=\u001b[39mrechunk,\n\u001b[0;32m    571\u001b[0m             skip_rows_after_header\u001b[38;5;241m=\u001b[39mskip_rows_after_header,\n\u001b[0;32m    572\u001b[0m             row_index_name\u001b[38;5;241m=\u001b[39mrow_index_name,\n\u001b[0;32m    573\u001b[0m             row_index_offset\u001b[38;5;241m=\u001b[39mrow_index_offset,\n\u001b[0;32m    574\u001b[0m             eol_char\u001b[38;5;241m=\u001b[39meol_char,\n\u001b[0;32m    575\u001b[0m             raise_if_empty\u001b[38;5;241m=\u001b[39mraise_if_empty,\n\u001b[0;32m    576\u001b[0m             truncate_ragged_lines\u001b[38;5;241m=\u001b[39mtruncate_ragged_lines,\n\u001b[0;32m    577\u001b[0m             decimal_comma\u001b[38;5;241m=\u001b[39mdecimal_comma,\n\u001b[0;32m    578\u001b[0m             glob\u001b[38;5;241m=\u001b[39mglob,\n\u001b[0;32m    579\u001b[0m         )\n\u001b[0;32m    581\u001b[0m \u001b[38;5;28;01mif\u001b[39;00m new_columns:\n\u001b[0;32m    582\u001b[0m     \u001b[38;5;28;01mreturn\u001b[39;00m _update_columns(df, new_columns)\n",
      "File \u001b[1;32m~\\anaconda3\\Lib\\site-packages\\polars\\io\\csv\\functions.py:697\u001b[0m, in \u001b[0;36m_read_csv_impl\u001b[1;34m(source, has_header, columns, separator, comment_prefix, quote_char, skip_rows, skip_lines, schema, schema_overrides, null_values, missing_utf8_is_empty_string, ignore_errors, try_parse_dates, n_threads, infer_schema_length, batch_size, n_rows, encoding, low_memory, rechunk, skip_rows_after_header, row_index_name, row_index_offset, sample_size, eol_char, raise_if_empty, truncate_ragged_lines, decimal_comma, glob)\u001b[0m\n\u001b[0;32m    693\u001b[0m         \u001b[38;5;28;01mraise\u001b[39;00m \u001b[38;5;167;01mValueError\u001b[39;00m(msg)\n\u001b[0;32m    695\u001b[0m projection, columns \u001b[38;5;241m=\u001b[39m parse_columns_arg(columns)\n\u001b[1;32m--> 697\u001b[0m pydf \u001b[38;5;241m=\u001b[39m PyDataFrame\u001b[38;5;241m.\u001b[39mread_csv(\n\u001b[0;32m    698\u001b[0m     source,\n\u001b[0;32m    699\u001b[0m     infer_schema_length,\n\u001b[0;32m    700\u001b[0m     batch_size,\n\u001b[0;32m    701\u001b[0m     has_header,\n\u001b[0;32m    702\u001b[0m     ignore_errors,\n\u001b[0;32m    703\u001b[0m     n_rows,\n\u001b[0;32m    704\u001b[0m     skip_rows,\n\u001b[0;32m    705\u001b[0m     skip_lines,\n\u001b[0;32m    706\u001b[0m     projection,\n\u001b[0;32m    707\u001b[0m     separator,\n\u001b[0;32m    708\u001b[0m     rechunk,\n\u001b[0;32m    709\u001b[0m     columns,\n\u001b[0;32m    710\u001b[0m     encoding,\n\u001b[0;32m    711\u001b[0m     n_threads,\n\u001b[0;32m    712\u001b[0m     path,\n\u001b[0;32m    713\u001b[0m     dtype_list,\n\u001b[0;32m    714\u001b[0m     dtype_slice,\n\u001b[0;32m    715\u001b[0m     low_memory,\n\u001b[0;32m    716\u001b[0m     comment_prefix,\n\u001b[0;32m    717\u001b[0m     quote_char,\n\u001b[0;32m    718\u001b[0m     processed_null_values,\n\u001b[0;32m    719\u001b[0m     missing_utf8_is_empty_string,\n\u001b[0;32m    720\u001b[0m     try_parse_dates,\n\u001b[0;32m    721\u001b[0m     skip_rows_after_header,\n\u001b[0;32m    722\u001b[0m     parse_row_index_args(row_index_name, row_index_offset),\n\u001b[0;32m    723\u001b[0m     eol_char\u001b[38;5;241m=\u001b[39meol_char,\n\u001b[0;32m    724\u001b[0m     raise_if_empty\u001b[38;5;241m=\u001b[39mraise_if_empty,\n\u001b[0;32m    725\u001b[0m     truncate_ragged_lines\u001b[38;5;241m=\u001b[39mtruncate_ragged_lines,\n\u001b[0;32m    726\u001b[0m     decimal_comma\u001b[38;5;241m=\u001b[39mdecimal_comma,\n\u001b[0;32m    727\u001b[0m     schema\u001b[38;5;241m=\u001b[39mschema,\n\u001b[0;32m    728\u001b[0m )\n\u001b[0;32m    729\u001b[0m \u001b[38;5;28;01mreturn\u001b[39;00m wrap_df(pydf)\n",
      "\u001b[1;31mFileNotFoundError\u001b[0m: Le fichier spécifié est introuvable. (os error 2): csv1_edges.csv"
     ]
    }
   ],
   "source": [
    "G = graph_csv.load_csv_to_graph(\n",
    "    csv1_path,\n",
    "    schema=\"auto\",            # or 'edge_list'/'incidence'/'adjacency'/'hyperedge'/'lil'\n",
    "    default_layer=None,       # fallback if no layer column is present\n",
    "    default_directed=None,    # fallback if no directed column and cannot infer\n",
    "    default_weight=1.0,\n",
    ")\n",
    "\n",
    "# Quick sanity: show first rows of an edges view (columns depend on your Graph implementation)\n",
    "edges = G.edges_view(layer=None, include_directed=True, resolved_weight=True)\n",
    "edges.head()\n"
   ]
  },
  {
   "cell_type": "code",
   "execution_count": 39,
   "id": "1e5a569a-9453-4db7-bebd-5d5f95e3f44e",
   "metadata": {},
   "outputs": [
    {
     "name": "stdout",
     "output_type": "stream",
     "text": [
      "entities: <bound method Graph.global_entity_count of <graphglue.core.graph.Graph object at 0x00000203A16635C0>> edges: <bound method Graph.global_edge_count of <graphglue.core.graph.Graph object at 0x00000203A16635C0>>\n"
     ]
    },
    {
     "name": "stderr",
     "output_type": "stream",
     "text": [
      "C:\\Users\\pc\\AppData\\Local\\Temp\\ipykernel_2840\\2468729116.py:20: DeprecationWarning: use of `how='outer'` should be replaced with `how='full'`.\n",
      "(Deprecated in version 0.20.29)\n",
      "  deg = out_deg.join(in_deg, on=\"vertex\", how=\"outer\").fill_null(0)\n"
     ]
    }
   ],
   "source": [
    "# Count entities and edges (attribute names based on your class; adjust if different)\n",
    "num_entities = G.global_entity_count        # vertices + edge-entities\n",
    "num_edges    = G.global_edge_count          # binary + hyper\n",
    "\n",
    "print(\"entities:\", num_entities, \"edges:\", num_edges)\n",
    "\n",
    "# A light “degree” summary from edges_view for binary edges only (skip hyper)\n",
    "df = G.edges_view(include_directed=True, resolved_weight=True)\n",
    "\n",
    "# Try to find endpoint column names robustly\n",
    "cols = {c.lower(): c for c in df.columns}\n",
    "# Common possibilities:\n",
    "src_col = next((cols[c] for c in [\"source\",\"src\",\"u\",\"from\"]), None)\n",
    "dst_col = next((cols[c] for c in [\"target\",\"dst\",\"v\",\"to\"]), None)\n",
    "\n",
    "if src_col and dst_col:\n",
    "    # out-degree (directed) / degree (undirected)\n",
    "    out_deg = df.group_by(src_col).len().rename({src_col: \"vertex\", \"len\": \"out_degree\"})\n",
    "    in_deg  = df.group_by(dst_col).len().rename({dst_col: \"vertex\", \"len\": \"in_degree\"})\n",
    "    deg = out_deg.join(in_deg, on=\"vertex\", how=\"outer\").fill_null(0)\n",
    "    deg = deg.with_columns((pl.col(\"out_degree\")+pl.col(\"in_degree\")).alias(\"total_degree\"))\n",
    "    deg.sort(\"total_degree\", descending=True).head(10)\n",
    "else:\n",
    "    print(\"Skip degree summary: endpoint columns not found in edges_view output (likely hyperedge-only or different schema).\")\n"
   ]
  },
  {
   "cell_type": "code",
   "execution_count": 41,
   "id": "e3e5fbcb-2a34-4072-9d7c-9c7f4c1bb8bb",
   "metadata": {},
   "outputs": [
    {
     "data": {
      "text/html": [
       "<div><style>\n",
       ".dataframe > thead > tr,\n",
       ".dataframe > tbody > tr {\n",
       "  text-align: right;\n",
       "  white-space: pre-wrap;\n",
       "}\n",
       "</style>\n",
       "<small>shape: (5, 8)</small><table border=\"1\" class=\"dataframe\"><thead><tr><th>edge_id</th><th>kind</th><th>directed</th><th>global_weight</th><th>effective_weight</th><th>source</th><th>target</th><th>edge_type</th></tr><tr><td>str</td><td>str</td><td>bool</td><td>f64</td><td>f64</td><td>str</td><td>str</td><td>str</td></tr></thead><tbody><tr><td>&quot;edge_356&quot;</td><td>&quot;binary&quot;</td><td>true</td><td>1.952197</td><td>1.952197</td><td>&quot;P19&quot;</td><td>&quot;edge_rxn_9&quot;</td><td>&quot;vertex_edge&quot;</td></tr><tr><td>&quot;edge_357&quot;</td><td>&quot;binary&quot;</td><td>true</td><td>1.279399</td><td>1.279399</td><td>&quot;edge_rxn_9&quot;</td><td>&quot;P130&quot;</td><td>&quot;vertex_edge&quot;</td></tr><tr><td>&quot;edge_358&quot;</td><td>&quot;binary&quot;</td><td>true</td><td>1.437897</td><td>1.437897</td><td>&quot;P91&quot;</td><td>&quot;edge_rxn_10&quot;</td><td>&quot;vertex_edge&quot;</td></tr><tr><td>&quot;edge_359&quot;</td><td>&quot;binary&quot;</td><td>true</td><td>1.376339</td><td>1.376339</td><td>&quot;edge_rxn_10&quot;</td><td>&quot;P94&quot;</td><td>&quot;vertex_edge&quot;</td></tr><tr><td>&quot;edge_360&quot;</td><td>&quot;binary&quot;</td><td>true</td><td>2.5</td><td>2.5</td><td>&quot;E&quot;</td><td>&quot;A&quot;</td><td>&quot;regular&quot;</td></tr></tbody></table></div>"
      ],
      "text/plain": [
       "shape: (5, 8)\n",
       "┌──────────┬────────┬──────────┬───────────────┬──────────────────┬─────────────┬─────────────┬─────────────┐\n",
       "│ edge_id  ┆ kind   ┆ directed ┆ global_weight ┆ effective_weight ┆ source      ┆ target      ┆ edge_type   │\n",
       "│ ---      ┆ ---    ┆ ---      ┆ ---           ┆ ---              ┆ ---         ┆ ---         ┆ ---         │\n",
       "│ str      ┆ str    ┆ bool     ┆ f64           ┆ f64              ┆ str         ┆ str         ┆ str         │\n",
       "╞══════════╪════════╪══════════╪═══════════════╪══════════════════╪═════════════╪═════════════╪═════════════╡\n",
       "│ edge_356 ┆ binary ┆ true     ┆ 1.952197      ┆ 1.952197         ┆ P19         ┆ edge_rxn_9  ┆ vertex_edge │\n",
       "│ edge_357 ┆ binary ┆ true     ┆ 1.279399      ┆ 1.279399         ┆ edge_rxn_9  ┆ P130        ┆ vertex_edge │\n",
       "│ edge_358 ┆ binary ┆ true     ┆ 1.437897      ┆ 1.437897         ┆ P91         ┆ edge_rxn_10 ┆ vertex_edge │\n",
       "│ edge_359 ┆ binary ┆ true     ┆ 1.376339      ┆ 1.376339         ┆ edge_rxn_10 ┆ P94         ┆ vertex_edge │\n",
       "│ edge_360 ┆ binary ┆ true     ┆ 2.5           ┆ 2.5              ┆ E           ┆ A           ┆ regular     │\n",
       "└──────────┴────────┴──────────┴───────────────┴──────────────────┴─────────────┴─────────────┴─────────────┘"
      ]
     },
     "execution_count": 41,
     "metadata": {},
     "output_type": "execute_result"
    }
   ],
   "source": [
    "# Add a new vertex and an edge on layer L3\n",
    "G.add_vertex(\"E\")\n",
    "eid = G.add_edge(\"E\", \"A\", layer=\"L3\", directed=True, weight=2.5)\n",
    "\n",
    "# Per-layer weight override example:\n",
    "G.set_edge_layer_attrs(\"L3\", eid, weight=3.0)\n",
    "\n",
    "# Inspect the updated edges\n",
    "G.edges_view(include_directed=True, resolved_weight=True).tail()\n"
   ]
  },
  {
   "cell_type": "code",
   "execution_count": 43,
   "id": "d4ef7aca-df81-4a77-a87a-47cd59fb7630",
   "metadata": {},
   "outputs": [
    {
     "data": {
      "text/plain": [
       "'csv2_edges_view.csv'"
      ]
     },
     "execution_count": 43,
     "metadata": {},
     "output_type": "execute_result"
    }
   ],
   "source": [
    "csv2_path = \"csv2_edges_view.csv\"\n",
    "G.edges_view(layer=None, include_directed=True, resolved_weight=True)\n",
    "csv2_path\n"
   ]
  },
  {
   "cell_type": "code",
   "execution_count": 45,
   "id": "a5dad730-682b-4732-a9b4-8c65b1027746",
   "metadata": {},
   "outputs": [
    {
     "data": {
      "text/plain": [
       "'csv2_edge_list.csv'"
      ]
     },
     "execution_count": 45,
     "metadata": {},
     "output_type": "execute_result"
    }
   ],
   "source": [
    "def export_edge_list_csv(G, path, layer=None):\n",
    "    df = G.edges_view(layer=layer, include_directed=True, resolved_weight=True)\n",
    "    cols = {c.lower(): c for c in df.columns}\n",
    "    src_col = next((cols[c] for c in [\"source\",\"src\",\"u\",\"from\"]), None)\n",
    "    dst_col = next((cols[c] for c in [\"target\",\"dst\",\"v\",\"to\"]), None)\n",
    "    dir_col = next((cols[c] for c in [\"directed\"]), None)\n",
    "    w_eff   = next((cols[c] for c in [\"effective_weight\",\"weight\",\"w\"]), None)\n",
    "\n",
    "    if not (src_col and dst_col):\n",
    "        raise ValueError(\"No binary endpoint columns found; the view may be hyperedge-only. Try the generic edges_view export.\")\n",
    "\n",
    "    out = pl.DataFrame({\n",
    "        \"source\": df[src_col],\n",
    "        \"target\": df[dst_col],\n",
    "        \"weight\": df[w_eff] if w_eff else pl.Series([1.0]*df.height),\n",
    "        \"directed\": df[dir_col] if dir_col in df.columns else pl.Series([None]*df.height),\n",
    "        \"layer\": pl.Series([layer]*df.height) if layer else pl.Series([None]*df.height),\n",
    "    })\n",
    "    out #.write_csv(path)\n",
    "\n",
    "# Usage:\n",
    "csv2_edge_list_path = \"csv2_edge_list.csv\"\n",
    "export_edge_list_csv(G, csv2_edge_list_path, layer=None)\n",
    "csv2_edge_list_path\n"
   ]
  },
  {
   "cell_type": "code",
   "execution_count": 47,
   "id": "92103630-b4d1-4701-9c82-57c949b5ecdb",
   "metadata": {},
   "outputs": [
    {
     "data": {
      "text/plain": [
       "1278"
      ]
     },
     "execution_count": 47,
     "metadata": {},
     "output_type": "execute_result"
    }
   ],
   "source": [
    "# In-memory look at last few events\n",
    "hist = G.history(as_df=True)   # DF [DataFrame]\n",
    "hist.tail()\n",
    "\n",
    "# Save to Parquet/CSV/JSON [JavaScript Object Notation]/NDJSON [Newline-Delimited JSON]\n",
    "G.export_history(\"graph_history.parquet\")\n"
   ]
  },
  {
   "cell_type": "code",
   "execution_count": 49,
   "id": "6d6485cd-62c2-4d49-bf5a-6cf897345f7d",
   "metadata": {},
   "outputs": [],
   "source": [
    "import sys, pathlib\n",
    "sys.path.append(str(pathlib.Path.cwd().parent))\n",
    "\n",
    "from graphglue.io import excel as graph_excel\n",
    "from graphglue.core.graph import Graph\n"
   ]
  },
  {
   "cell_type": "code",
   "execution_count": 51,
   "id": "bf7f25bc-aa20-41b7-b67e-67558d0cbc0c",
   "metadata": {},
   "outputs": [],
   "source": [
    "G = graph_excel.load_excel_to_graph(\"graph_input.xlsx\", schema=\"auto\")"
   ]
  },
  {
   "cell_type": "code",
   "execution_count": 52,
   "id": "fed58738-643c-4281-9656-d42e9e88d264",
   "metadata": {},
   "outputs": [
    {
     "data": {
      "text/plain": [
       "60"
      ]
     },
     "execution_count": 52,
     "metadata": {},
     "output_type": "execute_result"
    }
   ],
   "source": [
    "G.global_entity_count()"
   ]
  },
  {
   "cell_type": "code",
   "execution_count": null,
   "id": "88e0bc86-7831-4197-9813-eac86aec9000",
   "metadata": {},
   "outputs": [],
   "source": []
  },
  {
   "cell_type": "code",
   "execution_count": null,
   "id": "d9d23e92-f587-40dd-84c6-cb7d48554f22",
   "metadata": {},
   "outputs": [],
   "source": []
  },
  {
   "cell_type": "code",
   "execution_count": null,
   "id": "17293373-5b9e-4dea-8370-181b54c7652d",
   "metadata": {},
   "outputs": [],
   "source": []
  },
  {
   "cell_type": "code",
   "execution_count": null,
   "id": "250df3d6-8b4c-4e5f-8931-536a68ea5dfc",
   "metadata": {},
   "outputs": [],
   "source": []
  },
  {
   "cell_type": "code",
   "execution_count": 59,
   "id": "8ee21e50-62cf-4f7b-85f2-bc8b3ddb9603",
   "metadata": {},
   "outputs": [],
   "source": [
    "from graphglue.adapters.networkx import to_backend, to_nx, from_nx"
   ]
  },
  {
   "cell_type": "code",
   "execution_count": 61,
   "id": "0763c570-7088-425a-9192-857cfbb4183a",
   "metadata": {},
   "outputs": [
    {
     "ename": "TypeError",
     "evalue": "Graph.get_attr_vertex() missing 1 required positional argument: 'key'",
     "output_type": "error",
     "traceback": [
      "\u001b[1;31m---------------------------------------------------------------------------\u001b[0m",
      "\u001b[1;31mTypeError\u001b[0m                                 Traceback (most recent call last)",
      "Cell \u001b[1;32mIn[61], line 1\u001b[0m\n\u001b[1;32m----> 1\u001b[0m nxG, man \u001b[38;5;241m=\u001b[39m to_nx(G, directed\u001b[38;5;241m=\u001b[39m\u001b[38;5;28;01mTrue\u001b[39;00m, hyperedge_mode\u001b[38;5;241m=\u001b[39m\u001b[38;5;124m\"\u001b[39m\u001b[38;5;124mskip\u001b[39m\u001b[38;5;124m\"\u001b[39m)\n",
      "File \u001b[1;32mC:\\Users\\PC\\Desktop\\graphglue - Copie - Copie\\graphglue\\adapters\\networkx.py:226\u001b[0m, in \u001b[0;36mto_nx\u001b[1;34m(adapter_graph, directed, hyperedge_mode, layer, layers, public_only)\u001b[0m\n\u001b[0;32m    218\u001b[0m \u001b[38;5;28;01mdef\u001b[39;00m \u001b[38;5;21mto_nx\u001b[39m(adapter_graph: Graph, directed\u001b[38;5;241m=\u001b[39m\u001b[38;5;28;01mTrue\u001b[39;00m,\n\u001b[0;32m    219\u001b[0m           hyperedge_mode\u001b[38;5;241m=\u001b[39m\u001b[38;5;124m\"\u001b[39m\u001b[38;5;124mskip\u001b[39m\u001b[38;5;124m\"\u001b[39m, layer\u001b[38;5;241m=\u001b[39m\u001b[38;5;28;01mNone\u001b[39;00m, layers\u001b[38;5;241m=\u001b[39m\u001b[38;5;28;01mNone\u001b[39;00m,\n\u001b[0;32m    220\u001b[0m           public_only\u001b[38;5;241m=\u001b[39m\u001b[38;5;28;01mFalse\u001b[39;00m):\n\u001b[0;32m    221\u001b[0m \u001b[38;5;250m    \u001b[39m\u001b[38;5;124;03m\"\"\"\u001b[39;00m\n\u001b[0;32m    222\u001b[0m \u001b[38;5;124;03m    Export Graph → (networkx.Graph, manifest).\u001b[39;00m\n\u001b[0;32m    223\u001b[0m \u001b[38;5;124;03m    Manifest preserves hyperedges (with per-endpoint coefficients), layers,\u001b[39;00m\n\u001b[0;32m    224\u001b[0m \u001b[38;5;124;03m    vertex/edge attrs, and stable edge IDs.\u001b[39;00m\n\u001b[0;32m    225\u001b[0m \u001b[38;5;124;03m    \"\"\"\u001b[39;00m\n\u001b[1;32m--> 226\u001b[0m     nxG \u001b[38;5;241m=\u001b[39m _export_legacy(\n\u001b[0;32m    227\u001b[0m         adapter_graph,\n\u001b[0;32m    228\u001b[0m         directed\u001b[38;5;241m=\u001b[39mdirected,\n\u001b[0;32m    229\u001b[0m         skip_hyperedges\u001b[38;5;241m=\u001b[39m(hyperedge_mode \u001b[38;5;241m==\u001b[39m \u001b[38;5;124m\"\u001b[39m\u001b[38;5;124mskip\u001b[39m\u001b[38;5;124m\"\u001b[39m),\n\u001b[0;32m    230\u001b[0m         public_only\u001b[38;5;241m=\u001b[39mpublic_only\n\u001b[0;32m    231\u001b[0m     )\n\u001b[0;32m    233\u001b[0m     deep \u001b[38;5;241m=\u001b[39m \u001b[38;5;28mgetattr\u001b[39m(adapter_graph, \u001b[38;5;124m\"\u001b[39m\u001b[38;5;124mdeep\u001b[39m\u001b[38;5;124m\"\u001b[39m, \u001b[38;5;28;01mNone\u001b[39;00m)\n\u001b[0;32m    235\u001b[0m     \u001b[38;5;66;03m# ---- helpers to pull per-endpoint coefficients from edge attrs\u001b[39;00m\n",
      "File \u001b[1;32mC:\\Users\\PC\\Desktop\\graphglue - Copie - Copie\\graphglue\\adapters\\networkx.py:119\u001b[0m, in \u001b[0;36m_export_legacy\u001b[1;34m(graph, directed, skip_hyperedges, public_only, **kwargs)\u001b[0m\n\u001b[0;32m    117\u001b[0m \u001b[38;5;66;03m# -- nodes --\u001b[39;00m\n\u001b[0;32m    118\u001b[0m \u001b[38;5;28;01mfor\u001b[39;00m v \u001b[38;5;129;01min\u001b[39;00m graph\u001b[38;5;241m.\u001b[39mV:\n\u001b[1;32m--> 119\u001b[0m     v_attr \u001b[38;5;241m=\u001b[39m _serialize_attrs(graph\u001b[38;5;241m.\u001b[39mget_attr_vertex(v), public_only\u001b[38;5;241m=\u001b[39mpublic_only)\n\u001b[0;32m    120\u001b[0m     G\u001b[38;5;241m.\u001b[39madd_node(v, \u001b[38;5;241m*\u001b[39m\u001b[38;5;241m*\u001b[39mv_attr)\n\u001b[0;32m    122\u001b[0m \u001b[38;5;66;03m# Helper: directedness per edge-id\u001b[39;00m\n",
      "\u001b[1;31mTypeError\u001b[0m: Graph.get_attr_vertex() missing 1 required positional argument: 'key'"
     ]
    }
   ],
   "source": [
    "nxG, man = to_nx(G, directed=True, hyperedge_mode=\"skip\")"
   ]
  },
  {
   "cell_type": "code",
   "execution_count": null,
   "id": "b7acef2a-c20a-4f4b-83d6-ee1987171234",
   "metadata": {},
   "outputs": [],
   "source": []
  },
  {
   "cell_type": "code",
   "execution_count": null,
   "id": "e07b1405-bebd-40ac-a88a-f0bfa5ef1350",
   "metadata": {},
   "outputs": [],
   "source": []
  }
 ],
 "metadata": {
  "kernelspec": {
   "display_name": "Python [conda env:base] *",
   "language": "python",
   "name": "conda-base-py"
  },
  "language_info": {
   "codemirror_mode": {
    "name": "ipython",
    "version": 3
   },
   "file_extension": ".py",
   "mimetype": "text/x-python",
   "name": "python",
   "nbconvert_exporter": "python",
   "pygments_lexer": "ipython3",
   "version": "3.12.7"
  }
 },
 "nbformat": 4,
 "nbformat_minor": 5
}
