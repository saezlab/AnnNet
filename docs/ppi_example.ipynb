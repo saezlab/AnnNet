{
 "cells": [
  {
   "cell_type": "code",
   "execution_count": 5,
   "id": "2dcdeb30-e714-4d65-86ca-855c07a6760d",
   "metadata": {},
   "outputs": [],
   "source": [
    "import sys\n",
    "sys.path.insert(0, r\"C:\\Users\\PC\\Desktop\\graphglue\")\n",
    "from graphglue.core.graph import Graph\n"
   ]
  },
  {
   "cell_type": "code",
   "execution_count": 7,
   "id": "cf2037ef-99fb-4d18-957e-7eeb20ec9cfe",
   "metadata": {},
   "outputs": [],
   "source": [
    "# ---------- Setup ----------\n",
    "G = Graph(directed=True)\n",
    "conditions = [\"Healthy\", \"Stressed\", \"Disease\"]\n",
    "for c in conditions:\n",
    "    G.add_layer(c, condition=c)\n",
    "\n",
    "# Entities\n",
    "proteins = [f\"P{i}\" for i in range(1, 151)]   # P1..P150\n",
    "transcripts = [f\"T{i}\" for i in range(1, 61)]  # T1..T60 (treat as vertices)\n",
    "enz_edge_entities = [f\"edge_rxn_{i}\" for i in range(1, 11)]  # edge-entities for reactions\n",
    "\n",
    "# Seed some vertex attributes\n",
    "for p in proteins[:10]:\n",
    "    G.add_vertex(p, layer=\"Healthy\", family=\"kinase\")\n",
    "for p in proteins[10:]:\n",
    "    G.add_vertex(p, layer=\"Healthy\")\n",
    "for t in transcripts:\n",
    "    G.add_vertex(t, layer=\"Healthy\", kind=\"transcript\")\n",
    "for ee in enz_edge_entities:\n",
    "    G.add_edge_entity(ee, layer=\"Healthy\", role=\"enzyme\")\n",
    "\n",
    "# Propagate initial vertices to all layers (cheaply)\n",
    "for lid in [\"Stressed\", \"Disease\"]:\n",
    "    G._layers[lid][\"vertices\"].update(G._layers[\"Healthy\"][\"vertices\"])"
   ]
  },
  {
   "cell_type": "code",
   "execution_count": 9,
   "id": "5a76d0ff-c7a1-421d-afc7-0f4de468c52f",
   "metadata": {},
   "outputs": [],
   "source": [
    "# ---------- Build PPI edges in all layers ----------\n",
    "import random\n",
    "\n",
    "def rand_weight(base=1.0, jitter=0.5):\n",
    "    return max(0.05, base + (random.random() - 0.5) * 2 * jitter)\n",
    "\n",
    "ppis = []\n",
    "for _ in range(320):\n",
    "    u, v = random.sample(proteins, 2)\n",
    "    w = rand_weight(1.2, 0.6)\n",
    "    e = G.add_edge(u, v, layer=\"Healthy\", weight=w, edge_directed=False)\n",
    "    ppis.append(e)\n",
    "\n",
    "# Stress/disease layer variants (override per-layer weights)\n",
    "for eid in ppis:\n",
    "    # Stressed: mostly +10% with jitter\n",
    "    G.add_edge_to_layer(\"Stressed\", eid)\n",
    "    G.set_edge_layer_attrs(\"Stressed\", eid, weight=G.edge_weights[eid] * rand_weight(1.10, 0.1))\n",
    "    # Disease: some edges get weaker; others stronger\n",
    "    G.add_edge_to_layer(\"Disease\", eid)\n",
    "    factor = 0.7 if random.random() < 0.4 else 1.3\n",
    "    G.set_edge_layer_attrs(\"Disease\", eid, weight=G.edge_weights[eid] * rand_weight(factor, 0.15))"
   ]
  },
  {
   "cell_type": "code",
   "execution_count": 11,
   "id": "f984ac51-9a21-4e8d-85c2-c0fafb0121f8",
   "metadata": {},
   "outputs": [],
   "source": [
    "# ---------- Complexes as undirected hyperedges ----------\n",
    "complexes = []\n",
    "for _ in range(12):\n",
    "    members = set(random.sample(proteins, random.choice([3, 4, 5])))\n",
    "    hid = G.add_hyperedge(members=members, layer=\"Healthy\", weight=rand_weight(1.0, 0.2))\n",
    "    complexes.append(hid)\n",
    "    # complex exists in all layers (same membership)\n",
    "    for lid in [\"Stressed\", \"Disease\"]:\n",
    "        G.add_edge_to_layer(lid, hid)"
   ]
  },
  {
   "cell_type": "code",
   "execution_count": 13,
   "id": "d846cbf1-c5ed-4a17-a65c-89bd8620ae50",
   "metadata": {},
   "outputs": [],
   "source": [
    "# ---------- Directed signaling cascades as hyperedges ----------\n",
    "cascades = []\n",
    "while len(cascades) < 8:\n",
    "    head = set(random.sample(proteins, random.choice([1, 2])))\n",
    "    tail = set(random.sample(proteins, random.choice([2, 3, 4])))\n",
    "    if head & tail:\n",
    "        continue  # resample until disjoint\n",
    "    hid = G.add_hyperedge(head=head, tail=tail, layer=\"Healthy\", weight=rand_weight(1.0, 0.4))\n",
    "    cascades.append(hid)\n",
    "    for lid in [\"Stressed\", \"Disease\"]:\n",
    "        G.add_edge_to_layer(lid, hid)"
   ]
  },
  {
   "cell_type": "code",
   "execution_count": 15,
   "id": "f4ccdd12-bedf-4270-99f6-ea0afe05f00e",
   "metadata": {},
   "outputs": [],
   "source": [
    "# ---------- Reactions connecting vertices to edge-entities ----------\n",
    "for ee in enz_edge_entities:\n",
    "    s, t = random.sample(proteins, 2)\n",
    "    G.add_edge(s, ee, layer=\"Healthy\", edge_type=\"vertex_edge\", weight=1.0 + random.random())\n",
    "    G.add_edge(ee, t, layer=\"Healthy\", edge_type=\"vertex_edge\", weight=1.0 + random.random())\n",
    "    # propagate across layers\n",
    "    for lid in [\"Stressed\", \"Disease\"]:\n",
    "        G._layers[lid][\"edges\"].update(G._layers[\"Healthy\"][\"edges\"])"
   ]
  },
  {
   "cell_type": "code",
   "execution_count": 17,
   "id": "b840d04f-0650-41e7-857c-05f9e057aa5b",
   "metadata": {},
   "outputs": [
    {
     "name": "stdout",
     "output_type": "stream",
     "text": [
      "vertices: 210 Edges: 360\n"
     ]
    }
   ],
   "source": [
    "# ---------- Basic sanity ----------\n",
    "print(\"vertices:\", G.number_of_vertices(), \"Edges:\", G.number_of_edges())\n",
    "\n",
    "# Only true \"vertices\" are counted by number_of_vertices() (proteins + transcripts)\n",
    "expected_vertices = len(set(proteins)) + len(set(transcripts))  # 150 + 60 = 210\n",
    "assert G.number_of_vertices() >= expected_vertices, f\"Expected ≥{expected_vertices}, got {G.number_of_vertices()}\"\n",
    "\n",
    "# Edge-entities are tracked as entity_type == 'edge' (not included in number_of_vertices)\n",
    "edge_entity_ids = set(enz_edge_entities)\n",
    "edge_entity_count = sum(1 for _id, et in G.entity_types.items() if et == \"edge\" and _id in edge_entity_ids)\n",
    "assert edge_entity_count == len(edge_entity_ids), f\"Expected {len(edge_entity_ids)} edge-entities, got {edge_entity_count}\"\n",
    "\n",
    "# Edges: PPIs (320) + complexes (12) + cascades (8) + reaction links (10*2) = 360 minimum\n",
    "assert G.number_of_edges() >= 320 + 12 + 8 + (10 * 2)\n"
   ]
  },
  {
   "cell_type": "code",
   "execution_count": 19,
   "id": "65e3e20e-0e21-43a2-a464-733819c326a8",
   "metadata": {},
   "outputs": [
    {
     "name": "stdout",
     "output_type": "stream",
     "text": [
      "[Healthy] edges_view rows = 360\n",
      "\n",
      "Top 5 binary edges by effective_weight in Healthy:\n",
      "shape: (5, 4)\n",
      "┌──────────┬────────────┬────────────┬──────────────────┐\n",
      "│ edge_id  ┆ source     ┆ target     ┆ effective_weight │\n",
      "│ ---      ┆ ---        ┆ ---        ┆ ---              │\n",
      "│ str      ┆ str        ┆ str        ┆ f64              │\n",
      "╞══════════╪════════════╪════════════╪══════════════════╡\n",
      "│ edge_350 ┆ P75        ┆ edge_rxn_6 ┆ 1.985889         │\n",
      "│ edge_352 ┆ P138       ┆ edge_rxn_7 ┆ 1.970894         │\n",
      "│ edge_344 ┆ P140       ┆ edge_rxn_3 ┆ 1.942072         │\n",
      "│ edge_355 ┆ edge_rxn_8 ┆ P135       ┆ 1.863431         │\n",
      "│ edge_342 ┆ P54        ┆ edge_rxn_2 ┆ 1.793103         │\n",
      "└──────────┴────────────┴────────────┴──────────────────┘\n",
      "[Stressed] edges_view rows = 360\n",
      "\n",
      "Top 5 binary edges by effective_weight in Stressed:\n",
      "shape: (5, 4)\n",
      "┌──────────┬────────┬────────┬──────────────────┐\n",
      "│ edge_id  ┆ source ┆ target ┆ effective_weight │\n",
      "│ ---      ┆ ---    ┆ ---    ┆ ---              │\n",
      "│ str      ┆ str    ┆ str    ┆ f64              │\n",
      "╞══════════╪════════╪════════╪══════════════════╡\n",
      "│ edge_298 ┆ P7     ┆ P127   ┆ 2.055261         │\n",
      "│ edge_88  ┆ P46    ┆ P40    ┆ 2.050504         │\n",
      "│ edge_173 ┆ P91    ┆ P150   ┆ 2.012581         │\n",
      "│ edge_242 ┆ P124   ┆ P32    ┆ 2.009871         │\n",
      "│ edge_72  ┆ P88    ┆ P141   ┆ 2.006093         │\n",
      "└──────────┴────────┴────────┴──────────────────┘\n",
      "[Disease] edges_view rows = 360\n",
      "\n",
      "Top 5 binary edges by effective_weight in Disease:\n",
      "shape: (5, 4)\n",
      "┌──────────┬────────┬────────┬──────────────────┐\n",
      "│ edge_id  ┆ source ┆ target ┆ effective_weight │\n",
      "│ ---      ┆ ---    ┆ ---    ┆ ---              │\n",
      "│ str      ┆ str    ┆ str    ┆ f64              │\n",
      "╞══════════╪════════╪════════╪══════════════════╡\n",
      "│ edge_77  ┆ P106   ┆ P126   ┆ 2.526027         │\n",
      "│ edge_255 ┆ P13    ┆ P2     ┆ 2.472528         │\n",
      "│ edge_99  ┆ P104   ┆ P86    ┆ 2.47099          │\n",
      "│ edge_115 ┆ P4     ┆ P74    ┆ 2.391078         │\n",
      "│ edge_67  ┆ P60    ┆ P105   ┆ 2.361317         │\n",
      "└──────────┴────────┴────────┴──────────────────┘\n"
     ]
    }
   ],
   "source": [
    "# ---------- Views & top edges by condition ----------\n",
    "import polars as pl\n",
    "\n",
    "for cond in conditions:\n",
    "    EV = G.edges_view(layer=cond, resolved_weight=True)\n",
    "    print(f\"[{cond}] edges_view rows =\", EV.height)\n",
    "    top = (\n",
    "        EV\n",
    "        .filter(pl.col(\"kind\") == \"binary\")\n",
    "        .sort(\"effective_weight\", descending=True)\n",
    "        .select([\"edge_id\", \"source\", \"target\", \"effective_weight\"])\n",
    "        .head(5)\n",
    "    )\n",
    "    print(f\"\\nTop 5 binary edges by effective_weight in {cond}:\")\n",
    "    print(top)"
   ]
  },
  {
   "cell_type": "code",
   "execution_count": 20,
   "id": "cdb4c103-a4f3-4f12-9584-a738a76c7bbc",
   "metadata": {},
   "outputs": [
    {
     "name": "stdout",
     "output_type": "stream",
     "text": [
      "\n",
      "Layer stats: {'Healthy': {'vertices': 220, 'edges': 360, 'attributes': {'condition': 'Healthy'}}, 'Stressed': {'vertices': 220, 'edges': 360, 'attributes': {'condition': 'Stressed'}}, 'Disease': {'vertices': 220, 'edges': 360, 'attributes': {'condition': 'Disease'}}}\n",
      "\n",
      "Conserved edges (in all conditions): 360\n",
      "Disease-specific edges: 0\n",
      "\n",
      "Temporal edge changes (Healthy→Stressed→Disease): [{'added': 0, 'removed': 0, 'net_change': 0}, {'added': 0, 'removed': 0, 'net_change': 0}]\n"
     ]
    }
   ],
   "source": [
    "# ---------- Layer analytics ----------\n",
    "stats = G.layer_statistics()\n",
    "print(\"\\nLayer stats:\", stats)\n",
    "\n",
    "conserved = G.conserved_edges(min_layers=3)  # present in all 3 conditions\n",
    "print(\"\\nConserved edges (in all conditions):\", len(conserved))\n",
    "\n",
    "disease_specific = G.layer_specific_edges(\"Disease\")\n",
    "print(\"Disease-specific edges:\", len(disease_specific))\n",
    "\n",
    "changes = G.temporal_dynamics([\"Healthy\", \"Stressed\", \"Disease\"], metric=\"edge_change\")\n",
    "print(\"\\nTemporal edge changes (Healthy→Stressed→Disease):\", changes)\n",
    "assert len(changes) == 2"
   ]
  },
  {
   "cell_type": "code",
   "execution_count": 23,
   "id": "572a4375-daff-41eb-8a3c-833640143ea9",
   "metadata": {},
   "outputs": [
    {
     "name": "stdout",
     "output_type": "stream",
     "text": [
      "\n",
      "Edge presence for edge_0 : ['Healthy', 'Stressed', 'Disease']\n",
      "vertex presence for P84 : ['Healthy', 'Stressed', 'Disease']\n"
     ]
    }
   ],
   "source": [
    "# ---------- Presence queries ----------\n",
    "some_e = next(iter(G.edge_to_idx.keys()))\n",
    "print(\"\\nEdge presence for\", some_e, \":\", G.edge_presence_across_layers(edge_id=some_e))\n",
    "some_p = random.choice(proteins)\n",
    "print(\"vertex presence for\", some_p, \":\", G.vertex_presence_across_layers(some_p))"
   ]
  },
  {
   "cell_type": "code",
   "execution_count": 25,
   "id": "04da2d8f-d24f-4346-9716-3441f7180cb2",
   "metadata": {},
   "outputs": [
    {
     "name": "stdout",
     "output_type": "stream",
     "text": [
      "\n",
      "Neighbors(P38) => ['P126', 'P48', 'P149', 'P129', 'P150', 'P41', 'P95']\n",
      "Out(P38) => ['P126', 'P48', 'P149', 'P129', 'P150', 'P41', 'P95']\n",
      "In(P38) => ['P126', 'P48', 'P149', 'P129', 'P150', 'P41', 'P95']\n"
     ]
    }
   ],
   "source": [
    "# ---------- Traversal checks ----------\n",
    "q = random.choice(proteins)\n",
    "print(f\"\\nNeighbors({q}) =>\", G.neighbors(q)[:10])\n",
    "print(f\"Out({q}) =>\", G.out_neighbors(q)[:10])\n",
    "print(f\"In({q}) =>\", G.in_neighbors(q)[:10])"
   ]
  },
  {
   "cell_type": "code",
   "execution_count": 27,
   "id": "13b50a3e-11d4-4e72-9172-c82884cabecd",
   "metadata": {},
   "outputs": [
    {
     "name": "stdout",
     "output_type": "stream",
     "text": [
      "\n",
      "Disease subgraph: vertices = 210 edges = 360\n",
      "copy() OK\n"
     ]
    }
   ],
   "source": [
    "# ---------- Subgraph slice & copy ----------\n",
    "H = G.subgraph_from_layer(\"Disease\", resolve_layer_weights=True)\n",
    "assert set(H.vertices()).issubset(set(G.vertices()))\n",
    "assert set(H.edges()).issubset(set(G.edges()))\n",
    "print(\"\\nDisease subgraph: vertices =\", H.number_of_vertices(), \"edges =\", H.number_of_edges())\n",
    "\n",
    "K = G.copy()\n",
    "assert set(K.vertices()) == set(G.vertices())\n",
    "assert set(K.edges()) == set(G.edges())\n",
    "# hyperedge shape preserved\n",
    "any_hyper = next(e for e,k in G.edge_kind.items() if k == \"hyper\")\n",
    "assert K.edge_kind.get(any_hyper) == \"hyper\"\n",
    "# layer sets preserved\n",
    "for lid in G.list_layers(include_default=True):\n",
    "    assert K._layers[lid][\"vertices\"] == G._layers[lid][\"vertices\"]\n",
    "    assert K._layers[lid][\"edges\"] == G._layers[lid][\"edges\"]\n",
    "print(\"copy() OK\")"
   ]
  },
  {
   "cell_type": "code",
   "execution_count": 29,
   "id": "8e623fd2-a05f-411b-8774-0070b0be84ca",
   "metadata": {},
   "outputs": [
    {
     "name": "stdout",
     "output_type": "stream",
     "text": [
      "\n",
      "After removing 5 proteins: vertices = 205 edges = 336\n",
      "After removing 10 edges: vertices = 205 edges = 326\n"
     ]
    }
   ],
   "source": [
    "# ---------- Remove operations stress ----------\n",
    "to_drop_vertices = random.sample(proteins, 5)\n",
    "for n in to_drop_vertices:\n",
    "    if n in G.entity_to_idx:\n",
    "        G.remove_vertex(n)\n",
    "print(\"\\nAfter removing 5 proteins: vertices =\", G.number_of_vertices(), \"edges =\", G.number_of_edges())\n",
    "\n",
    "to_drop_edges = list(G.edge_to_idx.keys())[:10]\n",
    "for eid in to_drop_edges:\n",
    "    if eid in G.edge_to_idx:\n",
    "        G.remove_edge(eid)\n",
    "print(\"After removing 10 edges: vertices =\", G.number_of_vertices(), \"edges =\", G.number_of_edges())"
   ]
  },
  {
   "cell_type": "code",
   "execution_count": 31,
   "id": "c37e303c-1f8b-452e-8df2-98f282382fd8",
   "metadata": {},
   "outputs": [
    {
     "name": "stdout",
     "output_type": "stream",
     "text": [
      "\n",
      "Audit: {'extra_vertex_rows': ['edge_rxn_5', 'edge_rxn_8', 'edge_rxn_10', 'edge_rxn_1', 'edge_rxn_7', 'edge_rxn_3', 'edge_rxn_4', 'edge_rxn_6', 'edge_rxn_9', 'edge_rxn_2'], 'extra_edge_rows': [], 'missing_vertex_rows': [], 'missing_edge_rows': ['edge_175', 'edge_183', 'edge_233', 'edge_88', 'edge_195', 'edge_15', 'edge_13', 'edge_46', 'edge_332', 'edge_178', 'edge_355', 'edge_119', 'edge_266', 'edge_229', 'edge_63', 'edge_148', 'edge_143', 'edge_282', 'edge_238', 'edge_95', 'edge_170', 'edge_226', 'edge_10', 'edge_230', 'edge_191', 'edge_29', 'edge_26', 'edge_61', 'edge_49', 'edge_51', 'edge_20', 'edge_160', 'edge_260', 'edge_125', 'edge_349', 'edge_218', 'edge_11', 'edge_87', 'edge_244', 'edge_59', 'edge_217', 'edge_263', 'edge_269', 'edge_80', 'edge_156', 'edge_335', 'edge_169', 'edge_272', 'edge_157', 'edge_243', 'edge_340', 'edge_352', 'edge_253', 'edge_339', 'edge_99', 'edge_50', 'edge_318', 'edge_245', 'edge_304', 'edge_141', 'edge_82', 'edge_159', 'edge_337', 'edge_242', 'edge_137', 'edge_102', 'edge_204', 'edge_257', 'edge_150', 'edge_47', 'edge_134', 'edge_197', 'edge_205', 'edge_213', 'edge_211', 'edge_241', 'edge_247', 'edge_270', 'edge_181', 'edge_127', 'edge_294', 'edge_34', 'edge_221', 'edge_65', 'edge_273', 'edge_316', 'edge_327', 'edge_151', 'edge_315', 'edge_109', 'edge_271', 'edge_84', 'edge_85', 'edge_214', 'edge_182', 'edge_285', 'edge_232', 'edge_92', 'edge_36', 'edge_341', 'edge_239', 'edge_279', 'edge_288', 'edge_291', 'edge_136', 'edge_139', 'edge_190', 'edge_94', 'edge_22', 'edge_16', 'edge_66', 'edge_346', 'edge_86', 'edge_126', 'edge_329', 'edge_114', 'edge_303', 'edge_17', 'edge_280', 'edge_201', 'edge_248', 'edge_292', 'edge_333', 'edge_167', 'edge_78', 'edge_299', 'edge_354', 'edge_35', 'edge_342', 'edge_72', 'edge_171', 'edge_189', 'edge_71', 'edge_45', 'edge_231', 'edge_101', 'edge_98', 'edge_185', 'edge_74', 'edge_130', 'edge_133', 'edge_246', 'edge_357', 'edge_118', 'edge_140', 'edge_142', 'edge_359', 'edge_58', 'edge_52', 'edge_96', 'edge_212', 'edge_91', 'edge_225', 'edge_73', 'edge_293', 'edge_135', 'edge_300', 'edge_152', 'edge_281', 'edge_240', 'edge_153', 'edge_128', 'edge_123', 'edge_320', 'edge_100', 'edge_188', 'edge_194', 'edge_220', 'edge_14', 'edge_207', 'edge_97', 'edge_330', 'edge_307', 'edge_24', 'edge_236', 'edge_353', 'edge_90', 'edge_289', 'edge_144', 'edge_57', 'edge_235', 'edge_262', 'edge_132', 'edge_32', 'edge_249', 'edge_172', 'edge_309', 'edge_105', 'edge_313', 'edge_228', 'edge_344', 'edge_308', 'edge_70', 'edge_67', 'edge_69', 'edge_208', 'edge_54', 'edge_305', 'edge_216', 'edge_116', 'edge_227', 'edge_250', 'edge_187', 'edge_113', 'edge_55', 'edge_290', 'edge_210', 'edge_38', 'edge_164', 'edge_19', 'edge_258', 'edge_165', 'edge_177', 'edge_321', 'edge_252', 'edge_298', 'edge_53', 'edge_274', 'edge_166', 'edge_348', 'edge_68', 'edge_255', 'edge_259', 'edge_25', 'edge_173', 'edge_184', 'edge_75', 'edge_323', 'edge_81', 'edge_331', 'edge_199', 'edge_28', 'edge_358', 'edge_219', 'edge_295', 'edge_198', 'edge_276', 'edge_328', 'edge_93', 'edge_324', 'edge_196', 'edge_18', 'edge_237', 'edge_277', 'edge_115', 'edge_44', 'edge_149', 'edge_147', 'edge_163', 'edge_334', 'edge_203', 'edge_317', 'edge_193', 'edge_301', 'edge_267', 'edge_192', 'edge_179', 'edge_176', 'edge_89', 'edge_206', 'edge_310', 'edge_319', 'edge_287', 'edge_347', 'edge_48', 'edge_146', 'edge_256', 'edge_202', 'edge_325', 'edge_131', 'edge_155', 'edge_200', 'edge_39', 'edge_62', 'edge_215', 'edge_234', 'edge_112', 'edge_120', 'edge_124', 'edge_186', 'edge_111', 'edge_306', 'edge_261', 'edge_326', 'edge_106', 'edge_110', 'edge_158', 'edge_108', 'edge_79', 'edge_223', 'edge_30', 'edge_107', 'edge_343', 'edge_312', 'edge_275', 'edge_265', 'edge_224', 'edge_350', 'edge_351', 'edge_104', 'edge_154', 'edge_21', 'edge_297', 'edge_302', 'edge_64', 'edge_31', 'edge_180', 'edge_117', 'edge_145', 'edge_40', 'edge_284', 'edge_56', 'edge_254', 'edge_77', 'edge_27', 'edge_209', 'edge_41', 'edge_311', 'edge_33', 'edge_83', 'edge_23', 'edge_314', 'edge_121', 'edge_222', 'edge_162', 'edge_345'], 'invalid_edge_layer_rows': []}\n",
      "Approx memory usage (bytes): 96409\n",
      "\n",
      "Reality-check finished ✅\n"
     ]
    }
   ],
   "source": [
    "# ---------- Audit & memory ----------\n",
    "audit = G.audit_attributes()\n",
    "print(\"\\nAudit:\", audit)\n",
    "mem_bytes = G.memory_usage()\n",
    "print(\"Approx memory usage (bytes):\", int(mem_bytes))\n",
    "assert mem_bytes > 0\n",
    "\n",
    "print(\"\\nReality-check finished ✅\")"
   ]
  },
  {
   "cell_type": "code",
   "execution_count": 33,
   "id": "e680db4e-a024-4ee0-afc6-f32759ba3ea7",
   "metadata": {},
   "outputs": [],
   "source": [
    "events = G.history()           # list[dict]\n",
    "df = G.history(as_df=True)     # Polars DF [DataFrame]"
   ]
  },
  {
   "cell_type": "code",
   "execution_count": 35,
   "id": "0f43c65f-803c-4901-bede-e67b6ca48768",
   "metadata": {},
   "outputs": [
    {
     "name": "stdout",
     "output_type": "stream",
     "text": [
      "shape: (5, 10)\n",
      "┌─────────┬─────────────────────────────┬──────────┬─────────────────┬───┬────────┬───────────┬─────────┬────────────┐\n",
      "│ version ┆ ts_utc                      ┆ mono_ns  ┆ op              ┆ … ┆ result ┆ vertex_id ┆ layer   ┆ attributes │\n",
      "│ ---     ┆ ---                         ┆ ---      ┆ ---             ┆   ┆ ---    ┆ ---       ┆ ---     ┆ ---        │\n",
      "│ i64     ┆ str                         ┆ i64      ┆ str             ┆   ┆ str    ┆ str       ┆ str     ┆ struct[1]  │\n",
      "╞═════════╪═════════════════════════════╪══════════╪═════════════════╪═══╪════════╪═══════════╪═════════╪════════════╡\n",
      "│ 1       ┆ 2025-10-13T11:34:07.839001Z ┆ 44764700 ┆ set_layer_attrs ┆ … ┆ null   ┆ null      ┆ null    ┆ null       │\n",
      "│ 2       ┆ 2025-10-13T11:34:07.840061Z ┆ 45896500 ┆ set_layer_attrs ┆ … ┆ null   ┆ null      ┆ null    ┆ null       │\n",
      "│ 3       ┆ 2025-10-13T11:34:07.841887Z ┆ 47243200 ┆ set_layer_attrs ┆ … ┆ null   ┆ null      ┆ null    ┆ null       │\n",
      "│ 4       ┆ 2025-10-13T11:34:07.844190Z ┆ 49650900 ┆ add_vertex      ┆ … ┆ P1     ┆ P1        ┆ Healthy ┆ {\"kinase\"} │\n",
      "│ 5       ┆ 2025-10-13T11:34:07.845741Z ┆ 51595200 ┆ add_vertex      ┆ … ┆ P2     ┆ P2        ┆ Healthy ┆ {\"kinase\"} │\n",
      "└─────────┴─────────────────────────────┴──────────┴─────────────────┴───┴────────┴───────────┴─────────┴────────────┘\n"
     ]
    },
    {
     "data": {
      "text/plain": [
       "[{'version': 1,\n",
       "  'ts_utc': '2025-10-13T11:34:07.839001Z',\n",
       "  'mono_ns': 44764700,\n",
       "  'op': 'set_layer_attrs',\n",
       "  'layer_id': 'Healthy',\n",
       "  'attrs': {'condition': 'Healthy'},\n",
       "  'result': None},\n",
       " {'version': 2,\n",
       "  'ts_utc': '2025-10-13T11:34:07.840061Z',\n",
       "  'mono_ns': 45896500,\n",
       "  'op': 'set_layer_attrs',\n",
       "  'layer_id': 'Stressed',\n",
       "  'attrs': {'condition': 'Stressed'},\n",
       "  'result': None},\n",
       " {'version': 3,\n",
       "  'ts_utc': '2025-10-13T11:34:07.841887Z',\n",
       "  'mono_ns': 47243200,\n",
       "  'op': 'set_layer_attrs',\n",
       "  'layer_id': 'Disease',\n",
       "  'attrs': {'condition': 'Disease'},\n",
       "  'result': None}]"
      ]
     },
     "execution_count": 35,
     "metadata": {},
     "output_type": "execute_result"
    }
   ],
   "source": [
    "print(df.head())\n",
    "events[:3]"
   ]
  },
  {
   "cell_type": "code",
   "execution_count": 37,
   "id": "114cf8d8-e753-43dc-a22e-e676e2b98bbb",
   "metadata": {},
   "outputs": [],
   "source": [
    "import sys, pathlib\n",
    "\n",
    "# add repo root to Python path\n",
    "sys.path.append(str(pathlib.Path.cwd().parent))\n",
    "from graphglue.io import csv as graph_csv"
   ]
  },
  {
   "cell_type": "code",
   "execution_count": 39,
   "id": "2b8ccfbe-9531-4fa3-8422-849ae843f472",
   "metadata": {},
   "outputs": [
    {
     "data": {
      "text/html": [
       "<div><style>\n",
       ".dataframe > thead > tr,\n",
       ".dataframe > tbody > tr {\n",
       "  text-align: right;\n",
       "  white-space: pre-wrap;\n",
       "}\n",
       "</style>\n",
       "<small>shape: (5, 5)</small><table border=\"1\" class=\"dataframe\"><thead><tr><th>source</th><th>target</th><th>weight</th><th>directed</th><th>layer</th></tr><tr><td>str</td><td>str</td><td>i64</td><td>bool</td><td>str</td></tr></thead><tbody><tr><td>&quot;A&quot;</td><td>&quot;B&quot;</td><td>1</td><td>true</td><td>&quot;L1&quot;</td></tr><tr><td>&quot;A&quot;</td><td>&quot;C&quot;</td><td>2</td><td>true</td><td>&quot;L1&quot;</td></tr><tr><td>&quot;B&quot;</td><td>&quot;C&quot;</td><td>3</td><td>false</td><td>&quot;L1&quot;</td></tr><tr><td>&quot;C&quot;</td><td>&quot;D&quot;</td><td>1</td><td>true</td><td>&quot;L2&quot;</td></tr><tr><td>&quot;D&quot;</td><td>&quot;A&quot;</td><td>5</td><td>true</td><td>&quot;L2&quot;</td></tr></tbody></table></div>"
      ],
      "text/plain": [
       "shape: (5, 5)\n",
       "┌────────┬────────┬────────┬──────────┬───────┐\n",
       "│ source ┆ target ┆ weight ┆ directed ┆ layer │\n",
       "│ ---    ┆ ---    ┆ ---    ┆ ---      ┆ ---   │\n",
       "│ str    ┆ str    ┆ i64    ┆ bool     ┆ str   │\n",
       "╞════════╪════════╪════════╪══════════╪═══════╡\n",
       "│ A      ┆ B      ┆ 1      ┆ true     ┆ L1    │\n",
       "│ A      ┆ C      ┆ 2      ┆ true     ┆ L1    │\n",
       "│ B      ┆ C      ┆ 3      ┆ false    ┆ L1    │\n",
       "│ C      ┆ D      ┆ 1      ┆ true     ┆ L2    │\n",
       "│ D      ┆ A      ┆ 5      ┆ true     ┆ L2    │\n",
       "└────────┴────────┴────────┴──────────┴───────┘"
      ]
     },
     "execution_count": 39,
     "metadata": {},
     "output_type": "execute_result"
    }
   ],
   "source": [
    "csv1_path = \"csv1_edges.csv\"\n",
    "pl.DataFrame({\n",
    "    \"source\": [\"A\",\"A\",\"B\",\"C\",\"D\"],\n",
    "    \"target\": [\"B\",\"C\",\"C\",\"D\",\"A\"],\n",
    "    \"weight\": [1, 2, 3, 1, 5],\n",
    "    \"directed\": [True, True, False, True, True],\n",
    "    \"layer\": [\"L1\",\"L1\",\"L1\",\"L2\",\"L2\"],\n",
    "}) #.write_csv(csv1_path)\n",
    "\n",
    "#pl.read_csv(csv1_path).head()\n"
   ]
  },
  {
   "cell_type": "code",
   "execution_count": 41,
   "id": "75ff48e1-fe7f-4984-b545-6762c0fa8205",
   "metadata": {},
   "outputs": [
    {
     "data": {
      "text/plain": [
       "'G = graph_csv.load_csv_to_graph(\\n    csv1_path,\\n    schema=\"auto\",            # or \\'edge_list\\'/\\'incidence\\'/\\'adjacency\\'/\\'hyperedge\\'/\\'lil\\'\\n    default_layer=None,       # fallback if no layer column is present\\n    default_directed=None,    # fallback if no directed column and cannot infer\\n    default_weight=1.0,\\n)\\n\\n# Quick sanity: show first rows of an edges view (columns depend on your Graph implementation)\\nedges = G.edges_view(layer=None, include_directed=True, resolved_weight=True)\\nedges.head()\\n'"
      ]
     },
     "execution_count": 41,
     "metadata": {},
     "output_type": "execute_result"
    }
   ],
   "source": [
    "\"\"\"G = graph_csv.load_csv_to_graph(\n",
    "    csv1_path,\n",
    "    schema=\"auto\",            # or 'edge_list'/'incidence'/'adjacency'/'hyperedge'/'lil'\n",
    "    default_layer=None,       # fallback if no layer column is present\n",
    "    default_directed=None,    # fallback if no directed column and cannot infer\n",
    "    default_weight=1.0,\n",
    ")\n",
    "\n",
    "# Quick sanity: show first rows of an edges view (columns depend on your Graph implementation)\n",
    "edges = G.edges_view(layer=None, include_directed=True, resolved_weight=True)\n",
    "edges.head()\n",
    "\"\"\""
   ]
  },
  {
   "cell_type": "code",
   "execution_count": 43,
   "id": "1e5a569a-9453-4db7-bebd-5d5f95e3f44e",
   "metadata": {},
   "outputs": [
    {
     "name": "stdout",
     "output_type": "stream",
     "text": [
      "entities: <bound method Graph.global_entity_count of <graphglue.core.graph.Graph object at 0x000001DAB96D3BC0>> edges: <bound method Graph.global_edge_count of <graphglue.core.graph.Graph object at 0x000001DAB96D3BC0>>\n"
     ]
    },
    {
     "name": "stderr",
     "output_type": "stream",
     "text": [
      "C:\\Users\\pc\\AppData\\Local\\Temp\\ipykernel_30372\\2468729116.py:20: DeprecationWarning: use of `how='outer'` should be replaced with `how='full'`.\n",
      "(Deprecated in version 0.20.29)\n",
      "  deg = out_deg.join(in_deg, on=\"vertex\", how=\"outer\").fill_null(0)\n"
     ]
    }
   ],
   "source": [
    "# Count entities and edges (attribute names based on your class; adjust if different)\n",
    "num_entities = G.global_entity_count        # vertices + edge-entities\n",
    "num_edges    = G.global_edge_count          # binary + hyper\n",
    "\n",
    "print(\"entities:\", num_entities, \"edges:\", num_edges)\n",
    "\n",
    "# A light “degree” summary from edges_view for binary edges only (skip hyper)\n",
    "df = G.edges_view(include_directed=True, resolved_weight=True)\n",
    "\n",
    "# Try to find endpoint column names robustly\n",
    "cols = {c.lower(): c for c in df.columns}\n",
    "# Common possibilities:\n",
    "src_col = next((cols[c] for c in [\"source\",\"src\",\"u\",\"from\"]), None)\n",
    "dst_col = next((cols[c] for c in [\"target\",\"dst\",\"v\",\"to\"]), None)\n",
    "\n",
    "if src_col and dst_col:\n",
    "    # out-degree (directed) / degree (undirected)\n",
    "    out_deg = df.group_by(src_col).len().rename({src_col: \"vertex\", \"len\": \"out_degree\"})\n",
    "    in_deg  = df.group_by(dst_col).len().rename({dst_col: \"vertex\", \"len\": \"in_degree\"})\n",
    "    deg = out_deg.join(in_deg, on=\"vertex\", how=\"outer\").fill_null(0)\n",
    "    deg = deg.with_columns((pl.col(\"out_degree\")+pl.col(\"in_degree\")).alias(\"total_degree\"))\n",
    "    deg.sort(\"total_degree\", descending=True).head(10)\n",
    "else:\n",
    "    print(\"Skip degree summary: endpoint columns not found in edges_view output (likely hyperedge-only or different schema).\")\n"
   ]
  },
  {
   "cell_type": "code",
   "execution_count": 45,
   "id": "e3e5fbcb-2a34-4072-9d7c-9c7f4c1bb8bb",
   "metadata": {},
   "outputs": [
    {
     "data": {
      "text/html": [
       "<div><style>\n",
       ".dataframe > thead > tr,\n",
       ".dataframe > tbody > tr {\n",
       "  text-align: right;\n",
       "  white-space: pre-wrap;\n",
       "}\n",
       "</style>\n",
       "<small>shape: (5, 8)</small><table border=\"1\" class=\"dataframe\"><thead><tr><th>edge_id</th><th>kind</th><th>directed</th><th>global_weight</th><th>effective_weight</th><th>source</th><th>target</th><th>edge_type</th></tr><tr><td>str</td><td>str</td><td>bool</td><td>f64</td><td>f64</td><td>str</td><td>str</td><td>str</td></tr></thead><tbody><tr><td>&quot;edge_355&quot;</td><td>&quot;binary&quot;</td><td>true</td><td>1.863431</td><td>1.863431</td><td>&quot;edge_rxn_8&quot;</td><td>&quot;P135&quot;</td><td>&quot;vertex_edge&quot;</td></tr><tr><td>&quot;edge_357&quot;</td><td>&quot;binary&quot;</td><td>true</td><td>1.271529</td><td>1.271529</td><td>&quot;edge_rxn_9&quot;</td><td>&quot;P120&quot;</td><td>&quot;vertex_edge&quot;</td></tr><tr><td>&quot;edge_358&quot;</td><td>&quot;binary&quot;</td><td>true</td><td>1.576317</td><td>1.576317</td><td>&quot;P114&quot;</td><td>&quot;edge_rxn_10&quot;</td><td>&quot;vertex_edge&quot;</td></tr><tr><td>&quot;edge_359&quot;</td><td>&quot;binary&quot;</td><td>true</td><td>1.345649</td><td>1.345649</td><td>&quot;edge_rxn_10&quot;</td><td>&quot;P124&quot;</td><td>&quot;vertex_edge&quot;</td></tr><tr><td>&quot;edge_360&quot;</td><td>&quot;binary&quot;</td><td>true</td><td>2.5</td><td>2.5</td><td>&quot;E&quot;</td><td>&quot;A&quot;</td><td>&quot;regular&quot;</td></tr></tbody></table></div>"
      ],
      "text/plain": [
       "shape: (5, 8)\n",
       "┌──────────┬────────┬──────────┬───────────────┬──────────────────┬─────────────┬─────────────┬─────────────┐\n",
       "│ edge_id  ┆ kind   ┆ directed ┆ global_weight ┆ effective_weight ┆ source      ┆ target      ┆ edge_type   │\n",
       "│ ---      ┆ ---    ┆ ---      ┆ ---           ┆ ---              ┆ ---         ┆ ---         ┆ ---         │\n",
       "│ str      ┆ str    ┆ bool     ┆ f64           ┆ f64              ┆ str         ┆ str         ┆ str         │\n",
       "╞══════════╪════════╪══════════╪═══════════════╪══════════════════╪═════════════╪═════════════╪═════════════╡\n",
       "│ edge_355 ┆ binary ┆ true     ┆ 1.863431      ┆ 1.863431         ┆ edge_rxn_8  ┆ P135        ┆ vertex_edge │\n",
       "│ edge_357 ┆ binary ┆ true     ┆ 1.271529      ┆ 1.271529         ┆ edge_rxn_9  ┆ P120        ┆ vertex_edge │\n",
       "│ edge_358 ┆ binary ┆ true     ┆ 1.576317      ┆ 1.576317         ┆ P114        ┆ edge_rxn_10 ┆ vertex_edge │\n",
       "│ edge_359 ┆ binary ┆ true     ┆ 1.345649      ┆ 1.345649         ┆ edge_rxn_10 ┆ P124        ┆ vertex_edge │\n",
       "│ edge_360 ┆ binary ┆ true     ┆ 2.5           ┆ 2.5              ┆ E           ┆ A           ┆ regular     │\n",
       "└──────────┴────────┴──────────┴───────────────┴──────────────────┴─────────────┴─────────────┴─────────────┘"
      ]
     },
     "execution_count": 45,
     "metadata": {},
     "output_type": "execute_result"
    }
   ],
   "source": [
    "# Add a new vertex and an edge on layer L3\n",
    "G.add_vertex(\"E\")\n",
    "eid = G.add_edge(\"E\", \"A\", layer=\"L3\", directed=True, weight=2.5)\n",
    "\n",
    "# Per-layer weight override example:\n",
    "G.set_edge_layer_attrs(\"L3\", eid, weight=3.0)\n",
    "\n",
    "# Inspect the updated edges\n",
    "G.edges_view(include_directed=True, resolved_weight=True).tail()\n"
   ]
  },
  {
   "cell_type": "code",
   "execution_count": 47,
   "id": "d4ef7aca-df81-4a77-a87a-47cd59fb7630",
   "metadata": {},
   "outputs": [
    {
     "data": {
      "text/plain": [
       "'csv2_edges_view.csv'"
      ]
     },
     "execution_count": 47,
     "metadata": {},
     "output_type": "execute_result"
    }
   ],
   "source": [
    "csv2_path = \"csv2_edges_view.csv\"\n",
    "G.edges_view(layer=None, include_directed=True, resolved_weight=True)\n",
    "csv2_path\n"
   ]
  },
  {
   "cell_type": "code",
   "execution_count": 49,
   "id": "a5dad730-682b-4732-a9b4-8c65b1027746",
   "metadata": {},
   "outputs": [
    {
     "data": {
      "text/plain": [
       "'csv2_edge_list.csv'"
      ]
     },
     "execution_count": 49,
     "metadata": {},
     "output_type": "execute_result"
    }
   ],
   "source": [
    "def export_edge_list_csv(G, path, layer=None):\n",
    "    df = G.edges_view(layer=layer, include_directed=True, resolved_weight=True)\n",
    "    cols = {c.lower(): c for c in df.columns}\n",
    "    src_col = next((cols[c] for c in [\"source\",\"src\",\"u\",\"from\"]), None)\n",
    "    dst_col = next((cols[c] for c in [\"target\",\"dst\",\"v\",\"to\"]), None)\n",
    "    dir_col = next((cols[c] for c in [\"directed\"]), None)\n",
    "    w_eff   = next((cols[c] for c in [\"effective_weight\",\"weight\",\"w\"]), None)\n",
    "\n",
    "    if not (src_col and dst_col):\n",
    "        raise ValueError(\"No binary endpoint columns found; the view may be hyperedge-only. Try the generic edges_view export.\")\n",
    "\n",
    "    out = pl.DataFrame({\n",
    "        \"source\": df[src_col],\n",
    "        \"target\": df[dst_col],\n",
    "        \"weight\": df[w_eff] if w_eff else pl.Series([1.0]*df.height),\n",
    "        \"directed\": df[dir_col] if dir_col in df.columns else pl.Series([None]*df.height),\n",
    "        \"layer\": pl.Series([layer]*df.height) if layer else pl.Series([None]*df.height),\n",
    "    })\n",
    "    out #.write_csv(path)\n",
    "\n",
    "# Usage:\n",
    "csv2_edge_list_path = \"csv2_edge_list.csv\"\n",
    "export_edge_list_csv(G, csv2_edge_list_path, layer=None)\n",
    "csv2_edge_list_path\n"
   ]
  },
  {
   "cell_type": "code",
   "execution_count": 51,
   "id": "92103630-b4d1-4701-9c82-57c949b5ecdb",
   "metadata": {},
   "outputs": [
    {
     "data": {
      "text/plain": [
       "1277"
      ]
     },
     "execution_count": 51,
     "metadata": {},
     "output_type": "execute_result"
    }
   ],
   "source": [
    "# In-memory look at last few events\n",
    "hist = G.history(as_df=True)   # DF [DataFrame]\n",
    "hist.tail()\n",
    "\n",
    "# Save to Parquet/CSV/JSON [JavaScript Object Notation]/NDJSON [Newline-Delimited JSON]\n",
    "G.export_history(\"graph_history.parquet\")\n"
   ]
  },
  {
   "cell_type": "code",
   "execution_count": 53,
   "id": "6d6485cd-62c2-4d49-bf5a-6cf897345f7d",
   "metadata": {},
   "outputs": [],
   "source": [
    "import sys, pathlib\n",
    "sys.path.append(str(pathlib.Path.cwd().parent))\n",
    "\n",
    "from graphglue.io import excel as graph_excel\n",
    "from graphglue.core.graph import Graph\n"
   ]
  },
  {
   "cell_type": "code",
   "execution_count": 55,
   "id": "bf7f25bc-aa20-41b7-b67e-67558d0cbc0c",
   "metadata": {},
   "outputs": [],
   "source": [
    "G = graph_excel.load_excel_to_graph(\"graph_input.xlsx\", schema=\"auto\")"
   ]
  },
  {
   "cell_type": "code",
   "execution_count": 56,
   "id": "fed58738-643c-4281-9656-d42e9e88d264",
   "metadata": {},
   "outputs": [
    {
     "data": {
      "text/plain": [
       "60"
      ]
     },
     "execution_count": 56,
     "metadata": {},
     "output_type": "execute_result"
    }
   ],
   "source": [
    "G.global_entity_count()"
   ]
  },
  {
   "cell_type": "code",
   "execution_count": 59,
   "id": "8ee21e50-62cf-4f7b-85f2-bc8b3ddb9603",
   "metadata": {},
   "outputs": [],
   "source": [
    "from graphglue.adapters.networkx import to_backend, to_nx, from_nx"
   ]
  },
  {
   "cell_type": "code",
   "execution_count": 61,
   "id": "0763c570-7088-425a-9192-857cfbb4183a",
   "metadata": {},
   "outputs": [],
   "source": [
    "nxG, man = to_nx(G, directed=True, hyperedge_mode=\"skip\")"
   ]
  },
  {
   "cell_type": "code",
   "execution_count": 63,
   "id": "08965196-2488-4c7b-85f5-e2cae0d5eac3",
   "metadata": {},
   "outputs": [],
   "source": [
    "from graphglue.adapters.igraph import to_backend, to_igraph, from_igraph"
   ]
  },
  {
   "cell_type": "code",
   "execution_count": 65,
   "id": "7abddc41-0249-47d7-b7cf-782fa594cbc1",
   "metadata": {},
   "outputs": [],
   "source": [
    "nxG, man = to_igraph(G, directed=True, hyperedge_mode=\"skip\")"
   ]
  },
  {
   "cell_type": "code",
   "execution_count": 67,
   "id": "29fc0bcd-60b0-46ed-88f6-2baf6e65d533",
   "metadata": {},
   "outputs": [
    {
     "data": {
      "text/plain": [
       "(60, 767)"
      ]
     },
     "execution_count": 67,
     "metadata": {},
     "output_type": "execute_result"
    }
   ],
   "source": [
    "G.shape"
   ]
  },
  {
   "cell_type": "code",
   "execution_count": 69,
   "id": "d3d11553-a26c-462c-bbe1-9f0a0d171499",
   "metadata": {},
   "outputs": [],
   "source": [
    "parts = G.nx.louvain_communities(G)                          # warns on loss if neededparts = G.nx.louvain_communities(G, _nx_directed=False)      # force undirected NX backendparts = G.nx.louvain_communities(G, _nx_hyperedge=\"expand\")  # expand hyperedges"
   ]
  },
  {
   "cell_type": "code",
   "execution_count": 71,
   "id": "8d02406c-fb9b-4d85-97bc-d1b094c2324b",
   "metadata": {},
   "outputs": [],
   "source": [
    "path = G.nx.shortest_path(G, source=\"B701\", target=\"MS6 8\")\n",
    "dist = G.nx.shortest_path_length(G, source=\"B701\", target=\"MS6 8\")"
   ]
  },
  {
   "cell_type": "code",
   "execution_count": 73,
   "id": "a2aef28f-f60b-4afd-a0ac-d69b4ed76fb5",
   "metadata": {},
   "outputs": [
    {
     "name": "stdout",
     "output_type": "stream",
     "text": [
      "2\n"
     ]
    },
    {
     "data": {
      "text/plain": [
       "['B701', 'MS8 21', 'MS6 8']"
      ]
     },
     "execution_count": 73,
     "metadata": {},
     "output_type": "execute_result"
    }
   ],
   "source": [
    "print(dist)\n",
    "path"
   ]
  },
  {
   "cell_type": "code",
   "execution_count": 75,
   "id": "938a8e8a-e4c2-4a1f-8b18-5411b0d26e13",
   "metadata": {},
   "outputs": [],
   "source": [
    "G.nx.clear()   "
   ]
  },
  {
   "cell_type": "code",
   "execution_count": 89,
   "id": "4ce91e53-9b7e-4eab-94de-778aed246643",
   "metadata": {},
   "outputs": [
    {
     "name": "stdout",
     "output_type": "stream",
     "text": [
      "[G1:dijkstra weighted] alpha->phi: 11 (expect 11.0)\n",
      "[G1:unweighted hops] a->f: 5 (expect 5)\n",
      "[G1:after mutation] a->f: 2 (expect 2.0)\n",
      "[G2:louvain] sizes: [4, 6] (expect [4, 6])\n",
      "[G2:betweenness] top: e (expect 'e' or 'x')\n",
      "[G2:pagerank] top: e (expect 'e')\n",
      "[G2:connected components]: [['a', 'b', 'c', 'd', 'e', 'f', 'w', 'x', 'y', 'z']] (expect one component of size 10)\n"
     ]
    }
   ],
   "source": [
    "# Deterministic smoke tests for the lazy NX (NetworkX) proxy\n",
    "\n",
    "# ---------- G1: PATH GRAPH (for weighted/unweighted shortest paths) ----------\n",
    "def build_path_graph() -> Graph:\n",
    "    \"\"\"\n",
    "    Directed chain a→b→c→d→e→f with weights on each edge.\n",
    "    - Weighted shortest path a→f = 1+2+3+1+4 = 11\n",
    "    - Unweighted hops a→f = 5\n",
    "    \"\"\"\n",
    "    G = Graph(directed=True)\n",
    "    # vertices (+ labels for the label→ID mapping)\n",
    "    G.add_vertex(\"a\", name=\"alpha\")\n",
    "    G.add_vertex(\"b\", name=\"bravo\")\n",
    "    G.add_vertex(\"c\", name=\"charlie\")\n",
    "    G.add_vertex(\"d\", name=\"delta\")\n",
    "    G.add_vertex(\"e\", name=\"echo\")\n",
    "    G.add_vertex(\"f\", name=\"phi\")\n",
    "\n",
    "    # pure chain (NO chords)\n",
    "    G.add_edge(\"a\", \"b\", weight=1)\n",
    "    G.add_edge(\"b\", \"c\", weight=2)\n",
    "    G.add_edge(\"c\", \"d\", weight=3)\n",
    "    G.add_edge(\"d\", \"e\", weight=1)\n",
    "    G.add_edge(\"e\", \"f\", weight=4)\n",
    "\n",
    "    return G\n",
    "\n",
    "\n",
    "# ---------- G2: COMMUNITY GRAPH (two cliques + weak bridge) ----------\n",
    "def build_community_graph() -> Graph:\n",
    "    \"\"\"\n",
    "    Two undirected cliques: K6 on {a..f} and K4 on {w,x,y,z}, joined by a single weak bridge e--x (weight=0.01).\n",
    "    Louvain should give communities of sizes [4,6] (stable with seed); betweenness top in {'e','x'};\n",
    "    PR (PageRank) top is 'e' in undirected view (highest degree).\n",
    "    \"\"\"\n",
    "    G = Graph(directed=True)  # we’ll add undirected edges explicitly\n",
    "\n",
    "    for v in [\"a\",\"b\",\"c\",\"d\",\"e\",\"f\",\"w\",\"x\",\"y\",\"z\"]:\n",
    "        G.add_vertex(v)\n",
    "\n",
    "    # K6 clique on a..f (undirected, weight=1)\n",
    "    k6 = [\"a\",\"b\",\"c\",\"d\",\"e\",\"f\"]\n",
    "    for i in range(len(k6)):\n",
    "        for j in range(i+1, len(k6)):\n",
    "            G.add_edge(k6[i], k6[j], weight=1, edge_directed=False)\n",
    "\n",
    "    # K4 clique on w,x,y,z (undirected, weight=1)\n",
    "    k4 = [\"w\",\"x\",\"y\",\"z\"]\n",
    "    for i in range(len(k4)):\n",
    "        for j in range(i+1, len(k4)):\n",
    "            G.add_edge(k4[i], k4[j], weight=1, edge_directed=False)\n",
    "\n",
    "    # Single weak bridge e--x\n",
    "    G.add_edge(\"e\", \"x\", weight=0.01, edge_directed=False)\n",
    "\n",
    "    return G\n",
    "\n",
    "def run_tests():\n",
    "    # ----- G1: shortest paths -----\n",
    "    G1 = build_path_graph()\n",
    "\n",
    "    # Weighted Dijkstra via labels -> expect 11.0\n",
    "    dist_w = G1.nx.shortest_path_length(\n",
    "        G1, source=\"alpha\", target=\"phi\", weight=\"weight\", _nx_label_field=\"name\"\n",
    "    )\n",
    "    print(\"[G1:dijkstra weighted] alpha->phi:\", dist_w, \"(expect 11.0)\")\n",
    "\n",
    "    # Unweighted hop count -> expect 5 (a-b-c-d-e-f)\n",
    "    dist_hops = G1.nx.shortest_path_length(G1, source=\"a\", target=\"f\", weight=None)\n",
    "    print(\"[G1:unweighted hops] a->f:\", dist_hops, \"(expect 5)\")\n",
    "\n",
    "    # Cache invalidation: add fast a->f edge (weight=2) and re-check -> expect 2.0\n",
    "    G1.add_edge(\"a\", \"f\", weight=2)\n",
    "    dist_new = G1.nx.shortest_path_length(G1, source=\"a\", target=\"f\", weight=\"weight\")\n",
    "    print(\"[G1:after mutation] a->f:\", dist_new, \"(expect 2.0)\")\n",
    "\n",
    "    # ----- G2: communities / centrality / PR / components -----\n",
    "    G2 = build_community_graph()\n",
    "\n",
    "    # Louvain on undirected view -> expect sizes [4, 6]\n",
    "    comms = G2.nx.louvain_communities(G2, _nx_directed=False, seed=42, weight=\"weight\")\n",
    "    sizes = sorted(len(c) for c in comms)\n",
    "    print(\"[G2:louvain] sizes:\", sizes, \"(expect [4, 6])\")\n",
    "\n",
    "    # Betweenness centrality (unweighted, undirected) -> bridge endpoints dominate\n",
    "    bc = G2.nx.betweenness_centrality(G2, _nx_directed=False, normalized=True)\n",
    "    top_bc = max(bc, key=bc.get)\n",
    "    print(\"[G2:betweenness] top:\", top_bc, \"(expect 'e' or 'x')\")\n",
    "\n",
    "    # PageRank (PR) on undirected view (unweighted edges) -> highest degree node is 'e'\n",
    "    pr = G2.nx.pagerank(G2, _nx_directed=False)\n",
    "    top_pr = max(pr, key=pr.get)\n",
    "    print(\"[G2:pagerank] top:\", top_pr, \"(expect 'e')\")\n",
    "\n",
    "    # Connected components (undirected) -> single component of size 10\n",
    "    comps = list(G2.nx.connected_components(G2, _nx_directed=False))\n",
    "    print(\"[G2:connected components]:\", [sorted(c) for c in comps], \"(expect one component of size 10)\")\n",
    "\n",
    "\n",
    "if __name__ == \"__main__\":\n",
    "    run_tests()\n"
   ]
  },
  {
   "cell_type": "code",
   "execution_count": 101,
   "id": "5339b2a5-18a6-4cac-92be-3bfd97cd83a1",
   "metadata": {},
   "outputs": [
    {
     "name": "stdout",
     "output_type": "stream",
     "text": [
      "[IG:G1 dijkstra weighted] alpha->phi: 11.0 (expect 11.0)\n",
      "[IG:G1 unweighted hops] alpha->phi: 5 (expect 5)\n",
      "[IG:G1 after mutation] alpha->phi: 2.0 (expect 2.0)\n",
      "[IG:G2 multilevel] sizes: [4, 6] (expect [4, 6])\n",
      "[IG:G2 betweenness] top: e (expect 'e' or 'x')\n",
      "[IG:G2 pagerank] top: e (expect 'e')\n",
      "[IG:G2 connected components]: [10] (expect [10])\n",
      "[IG:G3 collapse agg via simplify] weight: 2 capacity: 10.0 (expect 2, 10)\n"
     ]
    }
   ],
   "source": [
    "# Deterministic smoke tests for the lazy ig (igraph) proxy\n",
    "\n",
    "from graphglue.core.graph import Graph\n",
    "\n",
    "# ---------- G1: PATH GRAPH (for weighted/unweighted shortest paths) ----------\n",
    "def build_path_graph() -> Graph:\n",
    "    \"\"\"\n",
    "    Directed chain a→b→c→d→e→f with weights on each edge.\n",
    "    - Weighted shortest path a→f = 1+2+3+1+4 = 11\n",
    "    - Unweighted hops a→f = 5\n",
    "    \"\"\"\n",
    "    G = Graph(directed=True)\n",
    "    # vertices (+ labels for the label→ID mapping)\n",
    "    G.add_vertex(\"a\", name=\"alpha\")\n",
    "    G.add_vertex(\"b\", name=\"bravo\")\n",
    "    G.add_vertex(\"c\", name=\"charlie\")\n",
    "    G.add_vertex(\"d\", name=\"delta\")\n",
    "    G.add_vertex(\"e\", name=\"echo\")\n",
    "    G.add_vertex(\"f\", name=\"phi\")\n",
    "\n",
    "    # pure chain (NO chords)\n",
    "    G.add_edge(\"a\", \"b\", weight=1)\n",
    "    G.add_edge(\"b\", \"c\", weight=2)\n",
    "    G.add_edge(\"c\", \"d\", weight=3)\n",
    "    G.add_edge(\"d\", \"e\", weight=1)\n",
    "    G.add_edge(\"e\", \"f\", weight=4)\n",
    "    return G\n",
    "\n",
    "\n",
    "# ---------- G2: COMMUNITY GRAPH (two cliques + weak bridge) ----------\n",
    "def build_community_graph() -> Graph:\n",
    "    \"\"\"\n",
    "    Two undirected cliques: K6 on {a..f} and K4 on {w,x,y,z}, joined by a single weak bridge e--x (weight=0.01).\n",
    "    multilevel (Louvain-like) should give communities of sizes [4,6] (stable with seed);\n",
    "    betweenness top in {'e','x'}; PageRank (PR) top is 'e'.\n",
    "    \"\"\"\n",
    "    G = Graph(directed=True)  # add undirected edges explicitly\n",
    "\n",
    "    for v in [\"a\",\"b\",\"c\",\"d\",\"e\",\"f\",\"w\",\"x\",\"y\",\"z\"]:\n",
    "        G.add_vertex(v)\n",
    "\n",
    "    # K6 clique on a..f (undirected, weight=1)\n",
    "    k6 = [\"a\",\"b\",\"c\",\"d\",\"e\",\"f\"]\n",
    "    for i in range(len(k6)):\n",
    "        for j in range(i + 1, len(k6)):\n",
    "            G.add_edge(k6[i], k6[j], weight=1, edge_directed=False)\n",
    "\n",
    "    # K4 clique on w,x,y,z (undirected, weight=1)\n",
    "    k4 = [\"w\",\"x\",\"y\",\"z\"]\n",
    "    for i in range(len(k4)):\n",
    "        for j in range(i + 1, len(k4)):\n",
    "            G.add_edge(k4[i], k4[j], weight=1, edge_directed=False)\n",
    "\n",
    "    # Single weak bridge e--x\n",
    "    G.add_edge(\"e\", \"x\", weight=0.01, edge_directed=False)\n",
    "    return G\n",
    "\n",
    "\n",
    "# ---------- helpers ----------\n",
    "def _unwrap_ig_distance(obj):\n",
    "    \"\"\"igraph returns [[dist]] for single source/target; unwrap to a scalar.\"\"\"\n",
    "    if isinstance(obj, (list, tuple)) and len(obj) == 1:\n",
    "        inner = obj[0]\n",
    "        if isinstance(inner, (list, tuple)) and len(inner) == 1:\n",
    "            return inner[0]\n",
    "        return inner\n",
    "    return obj\n",
    "\n",
    "\n",
    "def run_tests():\n",
    "    # ----- G1: shortest paths -----\n",
    "    G1 = build_path_graph()\n",
    "\n",
    "    # Weighted Dijkstra via labels -> expect 11.0\n",
    "    dist_w = G1.ig.shortest_paths_dijkstra(\n",
    "        source=\"alpha\", target=\"phi\", weights=\"weight\", _ig_guess_labels=False\n",
    "    )\n",
    "    dist_w = _unwrap_ig_distance(dist_w)\n",
    "    print(\"[IG:G1 dijkstra weighted] alpha->phi:\", dist_w, \"(expect 11.0)\")\n",
    "\n",
    "    # Unweighted hop count -> expect 5 (alpha→phi)\n",
    "    dist_hops = G1.ig.distances(\n",
    "        source=\"alpha\", target=\"phi\", weights=None, _ig_guess_labels=False\n",
    "    )\n",
    "    dist_hops = _unwrap_ig_distance(dist_hops)\n",
    "    print(\"[IG:G1 unweighted hops] alpha->phi:\", dist_hops, \"(expect 5)\")\n",
    "\n",
    "    # Cache invalidation: add fast a->f edge (weight=2) and re-check -> expect 2.0\n",
    "    G1.add_edge(\"a\", \"f\", weight=2)\n",
    "    dist_new = G1.ig.shortest_paths_dijkstra(\n",
    "        source=\"alpha\", target=\"phi\", weights=\"weight\", _ig_guess_labels=False\n",
    "    )\n",
    "    dist_new = _unwrap_ig_distance(dist_new)\n",
    "    print(\"[IG:G1 after mutation] alpha->phi:\", dist_new, \"(expect 2.0)\")\n",
    "\n",
    "    # ----- G2: communities / betweenness / PR / components -----\n",
    "    G2 = build_community_graph()\n",
    "\n",
    "    # multilevel (Louvain-like) on undirected view -> expect sizes [4, 6]\n",
    "    vc = G2.ig.community_multilevel(weights=\"weight\", _ig_directed=False)\n",
    "    sizes = sorted(vc.sizes())\n",
    "    print(\"[IG:G2 multilevel] sizes:\", sizes, \"(expect [4, 6])\")\n",
    "\n",
    "    # Betweenness centrality (undirected). igraph returns list aligned to vertex order.\n",
    "    igG_und = G2.ig.backend(directed=False)  # no simple=True needed here\n",
    "    names = igG_und.vs[\"name\"] if \"name\" in igG_und.vs.attributes() else list(range(igG_und.vcount()))\n",
    "    bc_vals = G2.ig.betweenness(directed=False, weights=None)\n",
    "    top_bc = max(dict(zip(names, bc_vals)), key=lambda k: dict(zip(names, bc_vals))[k])\n",
    "    print(\"[IG:G2 betweenness] top:\", top_bc, \"(expect 'e' or 'x')\")\n",
    "\n",
    "    # PageRank (undirected, unweighted) -> 'e' should dominate\n",
    "    pr_vals = G2.ig.pagerank(directed=False)\n",
    "    top_pr = max(dict(zip(names, pr_vals)), key=lambda k: dict(zip(names, pr_vals))[k])\n",
    "    print(\"[IG:G2 pagerank] top:\", top_pr, \"(expect 'e')\")\n",
    "\n",
    "    # Connected components (undirected) -> single component of size 10\n",
    "    comps = G2.ig.components(_ig_directed=False)  # VertexClustering\n",
    "    comp_sizes = sorted(comps.sizes())\n",
    "    print(\"[IG:G2 connected components]:\", comp_sizes, \"(expect [10])\")\n",
    "\n",
    "    # ----- Optional: verify simple collapse + aggregation policy -----\n",
    "    G3 = Graph(directed=True)\n",
    "    G3.add_vertex(\"u\"); G3.add_vertex(\"v\")\n",
    "    # parallel undirected edges with attrs\n",
    "    G3.add_edge(\"u\", \"v\", weight=5, capacity=3, edge_directed=False)\n",
    "    G3.add_edge(\"u\", \"v\", weight=2, capacity=7, edge_directed=False)\n",
    "\n",
    "    try:\n",
    "        # Preferred: via proxy (needs the one-line proxy patch shown above)\n",
    "        igG_simple = G3.ig.backend(\n",
    "            directed=False, simple=True,\n",
    "            needed_attrs={\"weight\", \"capacity\"},\n",
    "            edge_aggs={\"weight\": \"min\", \"capacity\": \"sum\"}\n",
    "        )\n",
    "        e = igG_simple.es[0]\n",
    "        print(\"[IG:G3 collapse agg via proxy] weight:\", e[\"weight\"], \"capacity:\", e[\"capacity\"], \"(expect 2, 10)\")\n",
    "    except Exception:\n",
    "        # Fallback: ensure attrs exist, then collapse using igraph.simplify\n",
    "        igG_raw = G3.ig.backend(directed=False, needed_attrs={\"weight\", \"capacity\"})\n",
    "        igG_raw.simplify(multiple=True, loops=True,\n",
    "                         combine_edges={\"weight\": \"min\", \"capacity\": \"sum\"})\n",
    "        e = igG_raw.es[0]\n",
    "        # after simplify, attrs may be missing if combine didn't carry them; handle safely\n",
    "        w = e[\"weight\"] if \"weight\" in igG_raw.es.attributes() else None\n",
    "        c = e[\"capacity\"] if \"capacity\" in igG_raw.es.attributes() else None\n",
    "        print(\"[IG:G3 collapse agg via simplify] weight:\", w, \"capacity:\", c, \"(expect 2, 10)\")\n",
    "\n",
    "\n",
    "if __name__ == \"__main__\":\n",
    "    run_tests()\n"
   ]
  },
  {
   "cell_type": "code",
   "execution_count": null,
   "id": "3b98daca-9c5c-4ee3-8eb5-5b407dc51f0e",
   "metadata": {},
   "outputs": [],
   "source": []
  }
 ],
 "metadata": {
  "kernelspec": {
   "display_name": "Python [conda env:base] *",
   "language": "python",
   "name": "conda-base-py"
  },
  "language_info": {
   "codemirror_mode": {
    "name": "ipython",
    "version": 3
   },
   "file_extension": ".py",
   "mimetype": "text/x-python",
   "name": "python",
   "nbconvert_exporter": "python",
   "pygments_lexer": "ipython3",
   "version": "3.12.7"
  }
 },
 "nbformat": 4,
 "nbformat_minor": 5
}
