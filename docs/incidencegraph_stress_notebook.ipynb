{
 "cells": [
  {
   "cell_type": "markdown",
   "id": "1042de8d",
   "metadata": {},
   "source": [
    "# Graph — End‑to‑End Stress Notebook\n",
    "\n",
    "**Goal:** build a realistic, multi‑layer biological interaction graph with **tens of thousands** of vertices and a mix of **binary edges, hyperedges, and vertex–edge (edge‑entity) links**, then **exercise every public API**: layers, presence queries, propagation (`shared` / `all`), views, analytics, set operations, aggregations, subgraph/copy, deletions, auditing, and memory usage."
   ]
  },
  {
   "cell_type": "code",
   "execution_count": 2,
   "id": "0184fa8d",
   "metadata": {},
   "outputs": [],
   "source": [
    "# Robust import of Graph\n",
    "import os\n",
    "import random\n",
    "import sys\n",
    "from time import perf_counter\n",
    "\n",
    "sys.path.insert(0, os.path.abspath(\"..\"))  # must be the parent folder that CONTAINS 'annnet'\n",
    "\n",
    "from annnet.core.graph import Graph\n",
    "\n",
    "G = Graph(directed=True)\n",
    "\n",
    "\n",
    "import polars as pl"
   ]
  },
  {
   "cell_type": "code",
   "execution_count": 4,
   "id": "3ab386c2",
   "metadata": {},
   "outputs": [],
   "source": [
    "# Parameters — choose a scale\n",
    "# - DEMO runs fast on laptops\n",
    "# - STRESS creates 10^4–10^5 scale objects; adjust upward to your machine limits\n",
    "\n",
    "SCALE = \"DEMO\"  # \"DEMO\" or \"STRESS\"\n",
    "\n",
    "if SCALE.upper() == \"DEMO\":\n",
    "    N_PROTEINS = 5_00\n",
    "    N_TRANSCRIPTS = 2_00\n",
    "    N_METABOLITES = 1_00\n",
    "    N_EDGE_ENTITIES = 40\n",
    "    N_BIN_EDGES = 25_00  # binary protein-protein interactions (base layer)\n",
    "    N_HYPER_COMPLEX = 1_00  # undirected complexes\n",
    "    N_HYPER_CASCADE = 1_00  # directed signaling cascades\n",
    "    N_vertex_EDGE_BIDIR = 2_00  # vertex<->edge-entity links (counted as pairs)\n",
    "else:\n",
    "    N_PROTEINS = 30_000\n",
    "    N_TRANSCRIPTS = 12_000\n",
    "    N_METABOLITES = 8_000\n",
    "    N_EDGE_ENTITIES = 2_500\n",
    "    N_BIN_EDGES = 160_000\n",
    "    N_HYPER_COMPLEX = 4, 000  # use commas? We'll correct below to int\n",
    "    N_HYPER_CASCADE = 4_000\n",
    "    N_vertex_EDGE_BIDIR = 10_000\n",
    "\n",
    "# fix typo for N_HYPER_COMPLEX in STRESS case\n",
    "if isinstance(N_HYPER_COMPLEX, tuple):\n",
    "    N_HYPER_COMPLEX = 4000\n",
    "\n",
    "LAYERS = [\"Healthy\", \"Stressed\", \"Disease\", \"DrugA\", \"DrugB\"]\n",
    "ORDERED_FOR_TEMPORAL = [\"Healthy\", \"Stressed\", \"Disease\", \"DrugA\", \"DrugB\"]\n",
    "\n",
    "# How many parallel edges to create as duplicates between random pairs\n",
    "N_PARALLEL_DUPES = max(1, N_BIN_EDGES // 20)\n",
    "\n",
    "# Fraction of vertices seeded into each non-default layer (to make propagate='shared'/'all' meaningful)\n",
    "SEED_FRAC_PER_LAYER = 0.6"
   ]
  },
  {
   "cell_type": "code",
   "execution_count": 6,
   "id": "8886718d",
   "metadata": {},
   "outputs": [],
   "source": [
    "# Helpers\n",
    "\n",
    "\n",
    "def rand_weight(base=1.0, jitter=0.5):\n",
    "    # positive weight with variability\n",
    "    w = base + (random.random() - 0.5) * 2 * jitter\n",
    "    return max(0.01, w)\n",
    "\n",
    "\n",
    "def try_to_pandas(df):\n",
    "    if df is None:\n",
    "        return None\n",
    "    if \"polars\" in type(df).__module__.lower():\n",
    "        return df.to_pandas() if hasattr(df, \"to_pandas\") else None\n",
    "    return df  # assume already pandas-like\n",
    "\n",
    "\n",
    "def head_df(df, n=5):\n",
    "    p = try_to_pandas(df)\n",
    "    return p.head(n) if p is not None else None"
   ]
  },
  {
   "cell_type": "code",
   "execution_count": 8,
   "id": "0a1f5394",
   "metadata": {},
   "outputs": [
    {
     "name": "stdout",
     "output_type": "stream",
     "text": [
      "Layers ready: ['Healthy', 'Stressed', 'Disease', 'DrugA', 'DrugB'] active: Healthy\n"
     ]
    }
   ],
   "source": [
    "# Build graph & layers\n",
    "t0 = perf_counter()\n",
    "G = Graph(directed=True)\n",
    "\n",
    "for lid in LAYERS:\n",
    "    G.add_layer(lid, desc=f\"condition={lid}\")\n",
    "G.set_active_layer(LAYERS[0])\n",
    "build_layers_time = perf_counter() - t0\n",
    "print(\"Layers ready:\", G.list_layers(), \"active:\", G.get_active_layer())"
   ]
  },
  {
   "cell_type": "code",
   "execution_count": 10,
   "id": "d1c91253-6eb4-4273-a1ee-a3991284af9d",
   "metadata": {},
   "outputs": [],
   "source": [
    "# ---- progress helpers ----\n",
    "from time import perf_counter\n",
    "\n",
    "try:\n",
    "    from tqdm.auto import tqdm  # uses notebook bar if available\n",
    "\n",
    "    _TQDM = True\n",
    "except Exception:\n",
    "    _TQDM = False\n",
    "\n",
    "\n",
    "def prog_iter(it, total=None, desc=\"\", mininterval=0.25):\n",
    "    \"\"\"Wrap any iterable with a progress display (tqdm if available, else no-op).\"\"\"\n",
    "    if _TQDM:\n",
    "        return tqdm(it, total=total, desc=desc, mininterval=mininterval, leave=False)\n",
    "    return it\n",
    "\n",
    "\n",
    "def batched(iterable, batch_size):\n",
    "    \"\"\"Yield lists of size <= batch_size (Py<3.12 compatible).\"\"\"\n",
    "    buf = []\n",
    "    for x in iterable:\n",
    "        buf.append(x)\n",
    "        if len(buf) == batch_size:\n",
    "            yield buf\n",
    "            buf = []\n",
    "    if buf:\n",
    "        yield buf"
   ]
  },
  {
   "cell_type": "code",
   "execution_count": 12,
   "id": "a46b7589",
   "metadata": {},
   "outputs": [
    {
     "name": "stdout",
     "output_type": "stream",
     "text": [
      "vertices done. #vertices: 800 Edge-entities: 40 time(s)= 0.542\n"
     ]
    }
   ],
   "source": [
    "import numpy as np\n",
    "\n",
    "rng = np.random.default_rng(42)\n",
    "\n",
    "t = perf_counter()\n",
    "\n",
    "proteins = [f\"P{i}\" for i in range(1, N_PROTEINS + 1)]\n",
    "transcripts = [f\"T{i}\" for i in range(1, N_TRANSCRIPTS + 1)]\n",
    "metabolites = [f\"M{i}\" for i in range(1, N_METABOLITES + 1)]\n",
    "edge_entities = [f\"EE{i}\" for i in range(1, N_EDGE_ENTITIES + 1)]\n",
    "\n",
    "# --- Seed vertices in \"Healthy\" ---\n",
    "kinase_mask = rng.random(len(proteins)) < 0.15\n",
    "G.add_vertices_bulk(\n",
    "    (\n",
    "        {\"vertex_id\": p, \"kind\": \"protein\", **({\"family\": \"kinase\"} if km else {})}\n",
    "        for p, km in zip(proteins, kinase_mask)\n",
    "    ),\n",
    "    layer=\"Healthy\",\n",
    ")\n",
    "G.add_vertices_bulk(({\"vertex_id\": t, \"kind\": \"transcript\"} for t in transcripts), layer=\"Healthy\")\n",
    "G.add_vertices_bulk(({\"vertex_id\": m, \"kind\": \"metabolite\"} for m in metabolites), layer=\"Healthy\")\n",
    "\n",
    "# --- Edge-entities in \"Healthy\" (bulk) ---\n",
    "pathways = np.array([\"glycolysis\", \"tca\", \"mapk\", \"pi3k\"])\n",
    "drawn_pathways = pathways[rng.integers(0, len(pathways), size=len(edge_entities))]\n",
    "G.add_edge_entities_bulk(\n",
    "    (\n",
    "        {\"edge_entity_id\": ee, \"role\": \"enzyme\", \"pathway\": pw}\n",
    "        for ee, pw in zip(edge_entities, drawn_pathways)\n",
    "    ),\n",
    "    layer=\"Healthy\",\n",
    ")\n",
    "\n",
    "# --- Seed presence into other layers (bulk per layer) ---\n",
    "p_keep = SEED_FRAC_PER_LAYER\n",
    "for lid in LAYERS[1:]:\n",
    "    pmask = rng.random(len(proteins)) < p_keep\n",
    "    tmask = rng.random(len(transcripts)) < p_keep\n",
    "    mmask = rng.random(len(metabolites)) < p_keep\n",
    "\n",
    "    G.add_vertices_bulk(\n",
    "        ({\"vertex_id\": p, \"kind\": \"protein\"} for p, keep in zip(proteins, pmask) if keep),\n",
    "        layer=lid,\n",
    "    )\n",
    "    G.add_vertices_bulk(\n",
    "        ({\"vertex_id\": t, \"kind\": \"transcript\"} for t, keep in zip(transcripts, tmask) if keep),\n",
    "        layer=lid,\n",
    "    )\n",
    "    G.add_vertices_bulk(\n",
    "        ({\"vertex_id\": m, \"kind\": \"metabolite\"} for m, keep in zip(metabolites, mmask) if keep),\n",
    "        layer=lid,\n",
    "    )\n",
    "\n",
    "build_vertices_time = perf_counter() - t\n",
    "print(\n",
    "    \"vertices done. #vertices:\",\n",
    "    G.number_of_vertices(),\n",
    "    \"Edge-entities:\",\n",
    "    sum(1 for k, v in G.entity_types.items() if v == \"edge\"),\n",
    "    \"time(s)=\",\n",
    "    round(build_vertices_time, 3),\n",
    ")"
   ]
  },
  {
   "cell_type": "code",
   "execution_count": 13,
   "id": "8b171451",
   "metadata": {},
   "outputs": [
    {
     "name": "stdout",
     "output_type": "stream",
     "text": [
      "Binary edges built: 2500 total edges now: 2625 time(s)= 0.16\n"
     ]
    }
   ],
   "source": [
    "# Binary edges (PPIs mostly among proteins), defined in Healthy then layered variants\n",
    "from time import perf_counter\n",
    "\n",
    "t = perf_counter()\n",
    "\n",
    "# ---------- 1) Bulk create binary edges on \"Healthy\" ----------\n",
    "pairs = []\n",
    "need = N_BIN_EDGES\n",
    "names = proteins\n",
    "n = len(names)\n",
    "\n",
    "# Generate candidate pairs quickly; reject self-loops\n",
    "while len(pairs) < need:\n",
    "    k = min(need - len(pairs), max(1024, need // 4))\n",
    "    us = random.choices(names, k=k)\n",
    "    vs = random.choices(names, k=k)\n",
    "    for u, v in zip(us, vs):\n",
    "        if u != v:\n",
    "            pairs.append((u, v))\n",
    "        if len(pairs) == need:\n",
    "            break\n",
    "\n",
    "dirs = [random.random() < 0.8 for _ in range(need)]\n",
    "ws = [rand_weight(1.2, 0.6) for _ in range(need)]\n",
    "\n",
    "bulk = [\n",
    "    {\n",
    "        \"source\": u,\n",
    "        \"target\": v,\n",
    "        \"weight\": w,\n",
    "        \"edge_directed\": d,\n",
    "        \"edge_type\": \"regular\",\n",
    "        \"layer\": \"Healthy\",\n",
    "    }\n",
    "    for (u, v), w, d in zip(pairs, ws, dirs)\n",
    "]\n",
    "ppis = G.add_edges_bulk(bulk, layer=\"Healthy\")  # list of edge_ids\n",
    "\n",
    "# ---------- 2) Bulk add parallel dupes ----------\n",
    "if ppis and N_PARALLEL_DUPES > 0:\n",
    "    chosen = random.choices(ppis, k=N_PARALLEL_DUPES)\n",
    "    par_edges = []\n",
    "    for eid in chosen:\n",
    "        u, v, _ = G.edge_definitions[eid]\n",
    "        par_edges.append(\n",
    "            {\n",
    "                \"source\": u,\n",
    "                \"target\": v,\n",
    "                \"weight\": rand_weight(1.0, 0.3),\n",
    "                \"edge_type\": \"regular\",\n",
    "                \"layer\": \"Healthy\",\n",
    "            }\n",
    "        )\n",
    "    G.add_edges_bulk(par_edges, layer=\"Healthy\")\n",
    "\n",
    "# ---------- 3) Bulk per-layer variants ----------\n",
    "base_w = {eid: G.edge_weights[eid] for eid in ppis}\n",
    "\n",
    "for lid in LAYERS[1:]:\n",
    "    # Add all PPI edges to this layer in one shot\n",
    "    G.add_edges_to_layer_bulk(lid, ppis)\n",
    "\n",
    "    # Compute modifiers and upsert all weights for this layer at once\n",
    "    weights_rows = []\n",
    "    for eid in ppis:\n",
    "        bw = base_w[eid]\n",
    "        factor = {\n",
    "            \"Stressed\": rand_weight(1.10, 0.10),\n",
    "            \"Disease\": (0.7 if random.random() < 0.4 else rand_weight(1.30, 0.15)),\n",
    "            \"DrugA\": rand_weight(0.9, 0.25),\n",
    "            \"DrugB\": rand_weight(1.2, 0.20),\n",
    "        }[lid]\n",
    "        weights_rows.append((eid, {\"weight\": bw * factor, \"note\": f\"layer={lid}\"}))\n",
    "\n",
    "    G.set_edge_layer_attrs_bulk(lid, weights_rows)\n",
    "\n",
    "build_binary_time = perf_counter() - t\n",
    "print(\n",
    "    \"Binary edges built:\",\n",
    "    len(ppis),\n",
    "    \"total edges now:\",\n",
    "    G.number_of_edges(),\n",
    "    \"time(s)=\",\n",
    "    round(build_binary_time, 3),\n",
    ")"
   ]
  },
  {
   "cell_type": "code",
   "execution_count": 15,
   "id": "0fb9c145",
   "metadata": {},
   "outputs": [
    {
     "name": "stdout",
     "output_type": "stream",
     "text": [
      "Propagation examples added (shared/all).\n"
     ]
    }
   ],
   "source": [
    "# Propagation semantics via add_edge(..., propagate=...)\n",
    "t = perf_counter()\n",
    "# Ensure varied vertex presence across layers for a few pairs\n",
    "pairs = [(random.choice(proteins), random.choice(transcripts)) for _ in range(2000)]\n",
    "for u, v in pairs:\n",
    "    # 'shared': only layers where both endpoints already present\n",
    "    G.add_edge(\n",
    "        u, v, layer=\"Healthy\", edge_type=\"regular\", weight=rand_weight(0.8, 0.2), propagate=\"shared\"\n",
    "    )\n",
    "pairs2 = [(random.choice(proteins), random.choice(metabolites)) for _ in range(2000)]\n",
    "for u, v in pairs2:\n",
    "    # 'all': appears everywhere either endpoint exists (pulls other endpoint in)\n",
    "    G.add_edge(\n",
    "        u, v, layer=\"Healthy\", edge_type=\"regular\", weight=rand_weight(0.8, 0.2), propagate=\"all\"\n",
    "    )\n",
    "\n",
    "build_propagation_time = perf_counter() - t\n",
    "print(\"Propagation examples added (shared/all).\")"
   ]
  },
  {
   "cell_type": "code",
   "execution_count": 18,
   "id": "79d79ae5",
   "metadata": {},
   "outputs": [
    {
     "name": "stdout",
     "output_type": "stream",
     "text": [
      "Hyperedges built: complexes= 100 cascades= 100\n"
     ]
    }
   ],
   "source": [
    "# Hyperedges: undirected complexes, directed cascades\n",
    "t = perf_counter()\n",
    "\n",
    "complex_ids = []\n",
    "for _ in range(N_HYPER_COMPLEX):\n",
    "    size = random.choice([3, 4, 5, 6])\n",
    "    members = set(random.sample(proteins, size))\n",
    "    hid = G.add_hyperedge(\n",
    "        members=members, layer=\"Healthy\", weight=rand_weight(1.0, 0.2), tag=\"complex\"\n",
    "    )\n",
    "    complex_ids.append(hid)\n",
    "    for lid in LAYERS[1:]:\n",
    "        G.add_edge_to_layer(lid, hid)\n",
    "\n",
    "cascade_ids = []\n",
    "tries = 0\n",
    "while len(cascade_ids) < N_HYPER_CASCADE and tries < N_HYPER_CASCADE * 5:\n",
    "    tries += 1\n",
    "    head = set(random.sample(proteins, random.choice([1, 2])))\n",
    "    tail = set(random.sample(proteins, random.choice([2, 3, 4])))\n",
    "    if head & tail:\n",
    "        continue\n",
    "    hid = G.add_hyperedge(\n",
    "        head=head, tail=tail, layer=\"Healthy\", weight=rand_weight(1.0, 0.4), tag=\"cascade\"\n",
    "    )\n",
    "    cascade_ids.append(hid)\n",
    "    for lid in LAYERS[1:]:\n",
    "        G.add_edge_to_layer(lid, hid)\n",
    "\n",
    "build_hyper_time = perf_counter() - t\n",
    "print(\"Hyperedges built: complexes=\", len(complex_ids), \"cascades=\", len(cascade_ids))"
   ]
  },
  {
   "cell_type": "code",
   "execution_count": 20,
   "id": "5bdd0509",
   "metadata": {},
   "outputs": [
    {
     "name": "stdout",
     "output_type": "stream",
     "text": [
      "vertex–edge reaction links added (pairs): 200\n"
     ]
    }
   ],
   "source": [
    "# vertex–edge (edge-entity) reactions: A -> EE -> B (bidir variants)\n",
    "t = perf_counter()\n",
    "for _ in range(N_vertex_EDGE_BIDIR):\n",
    "    ee = random.choice(edge_entities)\n",
    "    s = random.choice(proteins + transcripts + metabolites)\n",
    "    tvertex = random.choice(proteins + transcripts + metabolites)\n",
    "    G.add_edge(s, ee, layer=\"Healthy\", edge_type=\"vertex_edge\", weight=rand_weight(1.0, 0.5))\n",
    "    G.add_edge(ee, tvertex, layer=\"Healthy\", edge_type=\"vertex_edge\", weight=rand_weight(1.0, 0.5))\n",
    "    # reflect into other layers\n",
    "    for lid in LAYERS[1:]:\n",
    "        G.add_edge_to_layer(lid, list(G.get_edge_ids(s, ee))[-1])\n",
    "        G.add_edge_to_layer(lid, list(G.get_edge_ids(ee, tvertex))[-1])\n",
    "\n",
    "build_vertexedge_time = perf_counter() - t\n",
    "print(\"vertex–edge reaction links added (pairs):\", N_vertex_EDGE_BIDIR)"
   ]
  },
  {
   "cell_type": "code",
   "execution_count": 22,
   "id": "30b56ae3",
   "metadata": {},
   "outputs": [
    {
     "name": "stdout",
     "output_type": "stream",
     "text": [
      "vertices: 800 Edges: 7225\n",
      "Edge-entities: 40\n"
     ]
    }
   ],
   "source": [
    "# Sanity & counts\n",
    "print(\"vertices:\", G.number_of_vertices(), \"Edges:\", G.number_of_edges())\n",
    "assert G.number_of_vertices() > 0 and G.number_of_edges() > 0\n",
    "\n",
    "# Edge-entity count\n",
    "edge_entity_count = sum(\n",
    "    1 for _id, et in G.entity_types.items() if et == \"edge\" and _id in set(edge_entities)\n",
    ")\n",
    "print(\"Edge-entities:\", edge_entity_count)\n",
    "assert edge_entity_count == len(edge_entities)"
   ]
  },
  {
   "cell_type": "code",
   "execution_count": 24,
   "id": "178d772a",
   "metadata": {},
   "outputs": [
    {
     "name": "stdout",
     "output_type": "stream",
     "text": [
      "[Healthy] edges_view rows: 7225\n",
      "Top 5 binary edges in Healthy:\n",
      " shape: (5, 4)\n",
      "┌───────────┬────────┬────────┬──────────────────┐\n",
      "│ edge_id   ┆ source ┆ target ┆ effective_weight │\n",
      "│ ---       ┆ ---    ┆ ---    ┆ ---              │\n",
      "│ str       ┆ str    ┆ str    ┆ f64              │\n",
      "╞═══════════╪════════╪════════╪══════════════════╡\n",
      "│ edge_2032 ┆ P236   ┆ P414   ┆ 1.799886         │\n",
      "│ edge_2290 ┆ P278   ┆ P457   ┆ 1.799854         │\n",
      "│ edge_1104 ┆ P214   ┆ P97    ┆ 1.799768         │\n",
      "│ edge_553  ┆ P423   ┆ P17    ┆ 1.799437         │\n",
      "│ edge_1793 ┆ P126   ┆ P153   ┆ 1.799046         │\n",
      "└───────────┴────────┴────────┴──────────────────┘\n",
      "[Stressed] edges_view rows: 7225\n",
      "Top 5 binary edges in Stressed:\n",
      " shape: (5, 4)\n",
      "┌───────────┬────────┬────────┬──────────────────┐\n",
      "│ edge_id   ┆ source ┆ target ┆ effective_weight │\n",
      "│ ---       ┆ ---    ┆ ---    ┆ ---              │\n",
      "│ str       ┆ str    ┆ str    ┆ f64              │\n",
      "╞═══════════╪════════╪════════╪══════════════════╡\n",
      "│ edge_795  ┆ P380   ┆ P104   ┆ 2.139739         │\n",
      "│ edge_512  ┆ P183   ┆ P250   ┆ 2.135615         │\n",
      "│ edge_1718 ┆ P89    ┆ P108   ┆ 2.128291         │\n",
      "│ edge_415  ┆ P9     ┆ P174   ┆ 2.124131         │\n",
      "│ edge_583  ┆ P262   ┆ P246   ┆ 2.120039         │\n",
      "└───────────┴────────┴────────┴──────────────────┘\n",
      "[Disease] edges_view rows: 7225\n",
      "Top 5 binary edges in Disease:\n",
      " shape: (5, 4)\n",
      "┌───────────┬────────┬────────┬──────────────────┐\n",
      "│ edge_id   ┆ source ┆ target ┆ effective_weight │\n",
      "│ ---       ┆ ---    ┆ ---    ┆ ---              │\n",
      "│ str       ┆ str    ┆ str    ┆ f64              │\n",
      "╞═══════════╪════════╪════════╪══════════════════╡\n",
      "│ edge_1439 ┆ P296   ┆ P290   ┆ 2.571838         │\n",
      "│ edge_340  ┆ P477   ┆ P436   ┆ 2.570128         │\n",
      "│ edge_332  ┆ P155   ┆ P361   ┆ 2.563298         │\n",
      "│ edge_1655 ┆ P145   ┆ P225   ┆ 2.553499         │\n",
      "│ edge_329  ┆ P372   ┆ P273   ┆ 2.534552         │\n",
      "└───────────┴────────┴────────┴──────────────────┘\n",
      "[DrugA] edges_view rows: 7225\n",
      "Top 5 binary edges in DrugA:\n",
      " shape: (5, 4)\n",
      "┌───────────┬────────┬────────┬──────────────────┐\n",
      "│ edge_id   ┆ source ┆ target ┆ effective_weight │\n",
      "│ ---       ┆ ---    ┆ ---    ┆ ---              │\n",
      "│ str       ┆ str    ┆ str    ┆ f64              │\n",
      "╞═══════════╪════════╪════════╪══════════════════╡\n",
      "│ edge_1718 ┆ P89    ┆ P108   ┆ 2.031373         │\n",
      "│ edge_2289 ┆ P406   ┆ P43    ┆ 2.02231          │\n",
      "│ edge_280  ┆ P181   ┆ P170   ┆ 2.018484         │\n",
      "│ edge_744  ┆ P153   ┆ P76    ┆ 2.013033         │\n",
      "│ edge_336  ┆ P261   ┆ P379   ┆ 2.00076          │\n",
      "└───────────┴────────┴────────┴──────────────────┘\n",
      "[DrugB] edges_view rows: 7225\n",
      "Top 5 binary edges in DrugB:\n",
      " shape: (5, 4)\n",
      "┌───────────┬────────┬────────┬──────────────────┐\n",
      "│ edge_id   ┆ source ┆ target ┆ effective_weight │\n",
      "│ ---       ┆ ---    ┆ ---    ┆ ---              │\n",
      "│ str       ┆ str    ┆ str    ┆ f64              │\n",
      "╞═══════════╪════════╪════════╪══════════════════╡\n",
      "│ edge_2416 ┆ P301   ┆ P193   ┆ 2.485206         │\n",
      "│ edge_1278 ┆ P450   ┆ P297   ┆ 2.483381         │\n",
      "│ edge_1302 ┆ P150   ┆ P386   ┆ 2.470031         │\n",
      "│ edge_2470 ┆ P450   ┆ P389   ┆ 2.468401         │\n",
      "│ edge_1535 ┆ P313   ┆ P327   ┆ 2.467258         │\n",
      "└───────────┴────────┴────────┴──────────────────┘\n",
      "vertices view cols: ['vertex_id', 'family', 'kind', 'role', 'pathway']\n",
      "Layers view cols: ['layer_id', 'desc']\n"
     ]
    }
   ],
   "source": [
    "# Views & Top edges per layer\n",
    "try:\n",
    "    for lid in LAYERS:\n",
    "        EV = G.edges_view(layer=lid, resolved_weight=True)\n",
    "        print(\n",
    "            f\"[{lid}] edges_view rows:\", getattr(EV, \"height\", getattr(EV, \"shape\", [\"?\", \"?\"])[0])\n",
    "        )\n",
    "        # filter binary only, sort by effective weight\n",
    "        if pl is not None and isinstance(EV, pl.DataFrame):\n",
    "            top = (\n",
    "                EV.filter(pl.col(\"kind\") == \"binary\")\n",
    "                .sort(\"effective_weight\", descending=True)\n",
    "                .select([\"edge_id\", \"source\", \"target\", \"effective_weight\"])\n",
    "                .head(5)\n",
    "            )\n",
    "            print(f\"Top 5 binary edges in {lid}:\\n\", top)\n",
    "        else:\n",
    "            # Try pandas-like\n",
    "            try:\n",
    "                df = EV\n",
    "                if hasattr(df, \"query\"):\n",
    "                    bf = (\n",
    "                        df.query(\"kind == 'binary'\")\n",
    "                        .sort_values(\"effective_weight\", ascending=False)\n",
    "                        .head(5)\n",
    "                    )\n",
    "                    print(bf[[\"edge_id\", \"source\", \"target\", \"effective_weight\"]])\n",
    "            except Exception:\n",
    "                pass\n",
    "except Exception as e:\n",
    "    print(\"edges_view failed softly:\", e)\n",
    "\n",
    "try:\n",
    "    NV = G.vertices_view()\n",
    "    LV = G.layers_view()\n",
    "    print(\"vertices view cols:\", getattr(NV, \"columns\", None))\n",
    "    print(\"Layers view cols:\", getattr(LV, \"columns\", None))\n",
    "except Exception as e:\n",
    "    print(\"vertices_view/layers_view failed softly:\", e)"
   ]
  },
  {
   "cell_type": "code",
   "execution_count": 26,
   "id": "b57cd148",
   "metadata": {},
   "outputs": [
    {
     "name": "stdout",
     "output_type": "stream",
     "text": [
      "Edge presence across layers: ['Healthy', 'Stressed', 'Disease', 'DrugA', 'DrugB']\n",
      "vertex presence across layers: ['Healthy', 'Stressed', 'Disease', 'DrugA', 'DrugB']\n",
      "Hyperedge presence (members): {'Healthy': ['edge_6648'], 'Stressed': ['edge_6648'], 'Disease': ['edge_6648'], 'DrugA': ['edge_6648'], 'DrugB': ['edge_6648']}\n",
      "Hyperedge presence (head/tail): {'Healthy': ['edge_6754'], 'Stressed': ['edge_6754'], 'Disease': ['edge_6754'], 'DrugA': ['edge_6754'], 'DrugB': ['edge_6754']}\n"
     ]
    }
   ],
   "source": [
    "# Presence queries\n",
    "any_e = next(iter(G.edge_to_idx.keys()))\n",
    "print(\"Edge presence across layers:\", G.edge_presence_across_layers(edge_id=any_e))\n",
    "\n",
    "any_p = random.choice(proteins)\n",
    "print(\"vertex presence across layers:\", G.vertex_presence_across_layers(any_p))\n",
    "\n",
    "# Hyperedge presence by members and head/tail\n",
    "if complex_ids:\n",
    "    m = random.choice(complex_ids)\n",
    "    members = G.hyperedge_definitions[m].get(\"members\", set())\n",
    "    if members:\n",
    "        print(\n",
    "            \"Hyperedge presence (members):\",\n",
    "            G.hyperedge_presence_across_layers(members=set(members)),\n",
    "        )\n",
    "if cascade_ids:\n",
    "    h = random.choice(cascade_ids)\n",
    "    hd = G.hyperedge_definitions[h]\n",
    "    if hd.get(\"head\") and hd.get(\"tail\"):\n",
    "        print(\n",
    "            \"Hyperedge presence (head/tail):\",\n",
    "            G.hyperedge_presence_across_layers(head=set(hd[\"head\"]), tail=set(hd[\"tail\"])),\n",
    "        )"
   ]
  },
  {
   "cell_type": "code",
   "execution_count": 28,
   "id": "da23aa0d",
   "metadata": {},
   "outputs": [
    {
     "name": "stdout",
     "output_type": "stream",
     "text": [
      "Neighbors(P125) sample: ['P334', 'P39', 'P317', 'P381', 'T85', 'M80', 'P316', 'T179', 'P299', 'T83']\n",
      "Out(P125) sample: ['P334', 'P39', 'P317', 'P381', 'T85', 'M80', 'P316', 'T179', 'P299', 'T83']\n",
      "In(P125) sample: ['P120', 'P30', 'P334', 'P317', 'P155', 'P299', 'P20', 'P147', 'P309', 'P181']\n"
     ]
    }
   ],
   "source": [
    "# Traversal\n",
    "q = random.choice(proteins)\n",
    "print(f\"Neighbors({q}) sample:\", G.neighbors(q)[:10])\n",
    "print(f\"Out({q}) sample:\", G.out_neighbors(q)[:10])\n",
    "print(f\"In({q}) sample:\", G.in_neighbors(q)[:10])"
   ]
  },
  {
   "cell_type": "code",
   "execution_count": 30,
   "id": "721928c0",
   "metadata": {},
   "outputs": [
    {
     "name": "stdout",
     "output_type": "stream",
     "text": [
      "Layer stats keys: ['Healthy', 'Stressed', 'Disease', 'DrugA', 'DrugB']\n",
      "Conserved edges (present in all layers): 5321\n",
      "Disease-specific edges: 0\n",
      "Temporal edge changes entries: 4 vertex changes entries: 4\n"
     ]
    }
   ],
   "source": [
    "# Layer analytics, conserved/specific, temporal\n",
    "stats = G.layer_statistics()\n",
    "print(\"Layer stats keys:\", list(stats.keys())[:5])\n",
    "\n",
    "conserved = G.conserved_edges(min_layers=len(LAYERS))\n",
    "print(\"Conserved edges (present in all layers):\", len(conserved))\n",
    "\n",
    "disease_specific = G.layer_specific_edges(\"Disease\")\n",
    "print(\"Disease-specific edges:\", len(disease_specific))\n",
    "\n",
    "changes_e = G.temporal_dynamics(ORDERED_FOR_TEMPORAL, metric=\"edge_change\")\n",
    "changes_n = G.temporal_dynamics(ORDERED_FOR_TEMPORAL, metric=\"vertex_change\")\n",
    "print(\"Temporal edge changes entries:\", len(changes_e), \"vertex changes entries:\", len(changes_n))"
   ]
  },
  {
   "cell_type": "code",
   "execution_count": 32,
   "id": "7953cd88",
   "metadata": {},
   "outputs": [
    {
     "name": "stdout",
     "output_type": "stream",
     "text": [
      "Union edges>=intersection edges: True\n",
      "Derived layers exist: True True True\n",
      "Aggregated layers added.\n"
     ]
    }
   ],
   "source": [
    "# Layer set ops and derived layers\n",
    "u = G.layer_union([\"Healthy\", \"Stressed\"])\n",
    "i = G.layer_intersection([\"Healthy\", \"Stressed\"])\n",
    "d = G.layer_difference(\"Healthy\", \"Stressed\")\n",
    "print(\"Union edges>=intersection edges:\", len(u[\"edges\"]) >= len(i[\"edges\"]))\n",
    "\n",
    "lid_u = G.create_layer_from_operation(\"HS_union\", u, desc=\"H∪S\")\n",
    "lid_i = G.create_layer_from_operation(\"HS_intersection\", i, desc=\"H∩S\")\n",
    "lid_d = G.create_layer_from_operation(\"H_minus_S\", d, desc=\"H\\\\S\")\n",
    "print(\n",
    "    \"Derived layers exist:\",\n",
    "    G.has_layer(\"HS_union\"),\n",
    "    G.has_layer(\"HS_intersection\"),\n",
    "    G.has_layer(\"H_minus_S\"),\n",
    ")\n",
    "\n",
    "# Aggregations\n",
    "G.create_aggregated_layer([\"Healthy\", \"Stressed\"], \"Agg_union\", method=\"union\", tag=\"agg_u\")\n",
    "G.create_aggregated_layer(\n",
    "    [\"Healthy\", \"Stressed\"], \"Agg_intersection\", method=\"intersection\", tag=\"agg_i\"\n",
    ")\n",
    "print(\"Aggregated layers added.\")"
   ]
  },
  {
   "cell_type": "code",
   "execution_count": 34,
   "id": "5ac0baaf",
   "metadata": {},
   "outputs": [
    {
     "name": "stdout",
     "output_type": "stream",
     "text": [
      "Edge list tuple length check (u,v,kind,id): True\n",
      "Global entity/edge counts: 840 7225\n"
     ]
    }
   ],
   "source": [
    "# Edge list & global counts\n",
    "el = G.edge_list()\n",
    "print(\"Edge list tuple length check (u,v,kind,id):\", all(len(t) == 4 for t in el))\n",
    "print(\"Global entity/edge counts:\", G.global_entity_count(), G.global_edge_count())"
   ]
  },
  {
   "cell_type": "code",
   "execution_count": 36,
   "id": "41a4cf72",
   "metadata": {},
   "outputs": [
    {
     "name": "stdout",
     "output_type": "stream",
     "text": [
      "DrugB subgraph vertices/edges: 786 6192\n",
      "Deep copy OK.\n"
     ]
    }
   ],
   "source": [
    "# Subgraph & copy\n",
    "SG = G.subgraph_from_layer(\"DrugB\", resolve_layer_weights=True)\n",
    "print(\"DrugB subgraph vertices/edges:\", SG.number_of_vertices(), SG.number_of_edges())\n",
    "\n",
    "CP = G.copy()\n",
    "# quick consistency checks\n",
    "assert set(CP.vertices()) == set(G.vertices())\n",
    "assert set(CP.edges()) == set(G.edges())\n",
    "any_hyper = next(e for e, k in G.edge_kind.items() if k == \"hyper\")\n",
    "assert CP.edge_kind.get(any_hyper) == \"hyper\"\n",
    "for lid in G.list_layers(include_default=True):\n",
    "    assert CP._layers[lid][\"vertices\"] == G._layers[lid][\"vertices\"]\n",
    "    assert CP._layers[lid][\"edges\"] == G._layers[lid][\"edges\"]\n",
    "print(\"Deep copy OK.\")"
   ]
  },
  {
   "cell_type": "code",
   "execution_count": 37,
   "id": "038a3853",
   "metadata": {},
   "outputs": [
    {
     "name": "stdout",
     "output_type": "stream",
     "text": [
      "After removals: vertices= 795 edges= 6625\n"
     ]
    }
   ],
   "source": [
    "# Removals: drop a slice of vertices/edges\n",
    "\n",
    "# Drop ~1% of proteins\n",
    "drop_vertices = random.sample(proteins, max(1, len(proteins) // 100))\n",
    "G.remove_vertices(drop_vertices)  # one pass\n",
    "\n",
    "# Drop up to 500 edges\n",
    "drop_edges = list(G.edge_to_idx.keys())[: min(500, len(G.edge_to_idx))]\n",
    "G.remove_edges(drop_edges)  # one pass\n",
    "\n",
    "print(\"After removals: vertices=\", G.number_of_vertices(), \"edges=\", G.number_of_edges())"
   ]
  },
  {
   "cell_type": "code",
   "execution_count": 39,
   "id": "cdbf52ee",
   "metadata": {},
   "outputs": [
    {
     "name": "stdout",
     "output_type": "stream",
     "text": [
      "Audit keys: ['extra_vertex_rows', 'extra_edge_rows', 'missing_vertex_rows', 'missing_edge_rows', 'invalid_edge_layer_rows']\n",
      "Approx memory usage (bytes): 1589336\n"
     ]
    }
   ],
   "source": [
    "# Audit & memory\n",
    "audit = G.audit_attributes()\n",
    "mem_bytes = G.memory_usage()\n",
    "print(\"Audit keys:\", list(audit.keys())[:10])\n",
    "print(\"Approx memory usage (bytes):\", int(mem_bytes))"
   ]
  },
  {
   "cell_type": "code",
   "execution_count": 42,
   "id": "1d0a6f56",
   "metadata": {},
   "outputs": [
    {
     "name": "stdout",
     "output_type": "stream",
     "text": [
      "Build timings (seconds)                 stage   seconds\n",
      "0  build_binary_edges  0.159825\n",
      "1    build_hyperedges  0.057469\n",
      "2        build_layers  0.006262\n",
      "3    build_vertexedge  0.507820\n",
      "4      build_vertices  0.542040\n"
     ]
    },
    {
     "data": {
      "image/png": "[encoded data removed]",
      "text/plain": [
       "<Figure size 640x480 with 1 Axes>"
      ]
     },
     "metadata": {},
     "output_type": "display_data"
    }
   ],
   "source": [
    "# Timing summary\n",
    "import pandas as pd\n",
    "\n",
    "timings = {\n",
    "    \"build_layers\": build_layers_time,\n",
    "    \"build_vertices\": build_vertices_time,\n",
    "    \"build_binary_edges\": build_binary_time,\n",
    "    \"build_hyperedges\": build_hyper_time,\n",
    "    \"build_vertexedge\": build_vertexedge_time,\n",
    "}\n",
    "\n",
    "df = pd.DataFrame(sorted(timings.items(), key=lambda x: x[0]), columns=[\"stage\", \"seconds\"])\n",
    "\n",
    "print(\"Build timings (seconds)\", df)\n",
    "\n",
    "# Simple chart\n",
    "import matplotlib.pyplot as plt\n",
    "\n",
    "plt.figure()\n",
    "plt.bar(df[\"stage\"], df[\"seconds\"])\n",
    "plt.xticks(rotation=45, ha=\"right\")\n",
    "plt.ylabel(\"seconds\")\n",
    "plt.title(\"Graph Build Timings\")\n",
    "plt.tight_layout()\n",
    "plt.show()"
   ]
  },
  {
   "cell_type": "code",
   "execution_count": null,
   "id": "5b9caf79-3ebf-4afb-8fe9-3dd76c2409c2",
   "metadata": {},
   "outputs": [],
   "source": []
  },
  {
   "cell_type": "code",
   "execution_count": null,
   "id": "28c41f1c-f2d9-4ff6-9ed6-93def612410a",
   "metadata": {},
   "outputs": [],
   "source": []
  }
 ],
 "metadata": {
  "kernelspec": {
   "display_name": "Python [conda env:base] *",
   "language": "python",
   "name": "conda-base-py"
  },
  "language_info": {
   "codemirror_mode": {
    "name": "ipython",
    "version": 3
   },
   "file_extension": ".py",
   "mimetype": "text/x-python",
   "name": "python",
   "nbconvert_exporter": "python",
   "pygments_lexer": "ipython3",
   "version": "3.12.7"
  }
 },
 "nbformat": 4,
 "nbformat_minor": 5
}
