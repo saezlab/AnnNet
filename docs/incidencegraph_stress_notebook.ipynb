{
 "cells": [
  {
   "cell_type": "markdown",
   "id": "1042de8d",
   "metadata": {},
   "source": [
    "# Graph — End‑to‑End Stress Notebook\n",
    "\n",
    "**Goal:** build a realistic, multi‑layer biological interaction graph with **tens of thousands** of vertices and a mix of **binary edges, hyperedges, and vertex–edge (edge‑entity) links**, then **exercise every public API**: layers, presence queries, propagation (`shared` / `all`), views, analytics, set operations, aggregations, temporal dynamics, subgraph/copy, deletions, auditing, and memory usage."
   ]
  },
  {
   "cell_type": "code",
   "execution_count": 10,
   "id": "0184fa8d",
   "metadata": {},
   "outputs": [],
   "source": [
    "# Robust import of Graph\n",
    "import os, importlib.util, random, math, time\n",
    "from time import perf_counter\n",
    "\n",
    "import sys, os\n",
    "sys.path.insert(0, os.path.abspath(\"..\"))  # must be the parent folder that CONTAINS 'graphglue'\n",
    "\n",
    "from graphglue.core.graph import Graph\n",
    "from graphglue.adapters.networkx import to_backend, to_nx, from_nx\n",
    "\n",
    "G = Graph(directed=True)\n",
    "\n",
    "\n",
    "import polars as pl"
   ]
  },
  {
   "cell_type": "code",
   "execution_count": 12,
   "id": "3ab386c2",
   "metadata": {},
   "outputs": [],
   "source": [
    "# Parameters — choose a scale\n",
    "# - DEMO runs fast on laptops\n",
    "# - STRESS creates 10^4–10^5 scale objects; adjust upward to your machine limits\n",
    "\n",
    "SCALE = \"DEMO\"  # \"DEMO\" or \"STRESS\"\n",
    "\n",
    "if SCALE.upper() == \"DEMO\":\n",
    "    N_PROTEINS = 5_00\n",
    "    N_TRANSCRIPTS = 2_00\n",
    "    N_METABOLITES = 1_00\n",
    "    N_EDGE_ENTITIES = 40\n",
    "    N_BIN_EDGES = 25_00       # binary protein-protein interactions (base layer)\n",
    "    N_HYPER_COMPLEX = 1_00    # undirected complexes\n",
    "    N_HYPER_CASCADE = 1_00    # directed signaling cascades\n",
    "    N_vertex_EDGE_BIDIR = 2_00  # vertex<->edge-entity links (counted as pairs)\n",
    "else:\n",
    "    N_PROTEINS = 30_000\n",
    "    N_TRANSCRIPTS = 12_000\n",
    "    N_METABOLITES = 8_000\n",
    "    N_EDGE_ENTITIES = 2_500\n",
    "    N_BIN_EDGES = 160_000\n",
    "    N_HYPER_COMPLEX = 4,000    # use commas? We'll correct below to int\n",
    "    N_HYPER_CASCADE = 4_000\n",
    "    N_vertex_EDGE_BIDIR = 10_000\n",
    "\n",
    "# fix typo for N_HYPER_COMPLEX in STRESS case\n",
    "if isinstance(N_HYPER_COMPLEX, tuple):\n",
    "    N_HYPER_COMPLEX = 4000\n",
    "\n",
    "LAYERS = [\"Healthy\",\"Stressed\",\"Disease\",\"DrugA\",\"DrugB\"]\n",
    "ORDERED_FOR_TEMPORAL = [\"Healthy\",\"Stressed\",\"Disease\",\"DrugA\",\"DrugB\"]\n",
    "\n",
    "# How many parallel edges to create as duplicates between random pairs\n",
    "N_PARALLEL_DUPES = max(1, N_BIN_EDGES // 20)\n",
    "\n",
    "# Fraction of vertices seeded into each non-default layer (to make propagate='shared'/'all' meaningful)\n",
    "SEED_FRAC_PER_LAYER = 0.6\n"
   ]
  },
  {
   "cell_type": "code",
   "execution_count": 14,
   "id": "8886718d",
   "metadata": {},
   "outputs": [],
   "source": [
    "# Helpers\n",
    "\n",
    "def rand_weight(base=1.0, jitter=0.5):\n",
    "    # positive weight with variability\n",
    "    w = base + (random.random() - 0.5) * 2 * jitter\n",
    "    return max(0.01, w)\n",
    "\n",
    "def try_to_pandas(df):\n",
    "    if df is None:\n",
    "        return None\n",
    "    if 'polars' in type(df).__module__.lower():\n",
    "        return df.to_pandas() if hasattr(df, \"to_pandas\") else None\n",
    "    return df  # assume already pandas-like\n",
    "\n",
    "def head_df(df, n=5):\n",
    "    p = try_to_pandas(df)\n",
    "    return p.head(n) if p is not None else None\n"
   ]
  },
  {
   "cell_type": "code",
   "execution_count": 16,
   "id": "0a1f5394",
   "metadata": {},
   "outputs": [
    {
     "name": "stdout",
     "output_type": "stream",
     "text": [
      "Layers ready: ['Healthy', 'Stressed', 'Disease', 'DrugA', 'DrugB'] active: Healthy\n"
     ]
    }
   ],
   "source": [
    "# Build graph & layers\n",
    "t0 = perf_counter()\n",
    "G = Graph(directed=True)\n",
    "\n",
    "for lid in LAYERS:\n",
    "    G.add_layer(lid, desc=f\"condition={lid}\")\n",
    "G.set_active_layer(LAYERS[0])\n",
    "build_layers_time = perf_counter() - t0\n",
    "print(\"Layers ready:\", G.list_layers(), \"active:\", G.get_active_layer())\n"
   ]
  },
  {
   "cell_type": "code",
   "execution_count": 18,
   "id": "d1c91253-6eb4-4273-a1ee-a3991284af9d",
   "metadata": {},
   "outputs": [],
   "source": [
    "# ---- progress helpers ----\n",
    "from time import perf_counter\n",
    "try:\n",
    "    from tqdm.auto import tqdm  # uses notebook bar if available\n",
    "    _TQDM = True\n",
    "except Exception:\n",
    "    _TQDM = False\n",
    "\n",
    "def prog_iter(it, total=None, desc=\"\", mininterval=0.25):\n",
    "    \"\"\"Wrap any iterable with a progress display (tqdm if available, else no-op).\"\"\"\n",
    "    if _TQDM:\n",
    "        return tqdm(it, total=total, desc=desc, mininterval=mininterval, leave=False)\n",
    "    return it\n",
    "\n",
    "def batched(iterable, batch_size):\n",
    "    \"\"\"Yield lists of size <= batch_size (Py<3.12 compatible).\"\"\"\n",
    "    buf = []\n",
    "    for x in iterable:\n",
    "        buf.append(x)\n",
    "        if len(buf) == batch_size:\n",
    "            yield buf\n",
    "            buf = []\n",
    "    if buf:\n",
    "        yield buf"
   ]
  },
  {
   "cell_type": "code",
   "execution_count": 20,
   "id": "a46b7589",
   "metadata": {},
   "outputs": [
    {
     "data": {
      "application/vnd.jupyter.widget-view+json": {
       "model_id": "60394cde0d2a41b795d6d1e25be03426",
       "version_major": 2,
       "version_minor": 0
      },
      "text/plain": [
       "Healthy: proteins:   0%|          | 0/1 [00:00<?, ?it/s]"
      ]
     },
     "metadata": {},
     "output_type": "display_data"
    },
    {
     "data": {
      "application/vnd.jupyter.widget-view+json": {
       "model_id": "ad2668225e6c4a80801e55304cc59dbf",
       "version_major": 2,
       "version_minor": 0
      },
      "text/plain": [
       "Healthy: transcripts:   0%|          | 0/1 [00:00<?, ?it/s]"
      ]
     },
     "metadata": {},
     "output_type": "display_data"
    },
    {
     "data": {
      "application/vnd.jupyter.widget-view+json": {
       "model_id": "b7fcd662592b45d9a6d659023883a936",
       "version_major": 2,
       "version_minor": 0
      },
      "text/plain": [
       "Healthy: metabolites:   0%|          | 0/1 [00:00<?, ?it/s]"
      ]
     },
     "metadata": {},
     "output_type": "display_data"
    },
    {
     "data": {
      "application/vnd.jupyter.widget-view+json": {
       "model_id": "07ff22799e0e4004b330a4db5cd4b7f8",
       "version_major": 2,
       "version_minor": 0
      },
      "text/plain": [
       "Healthy: edge-entities:   0%|          | 0/1 [00:00<?, ?it/s]"
      ]
     },
     "metadata": {},
     "output_type": "display_data"
    },
    {
     "data": {
      "application/vnd.jupyter.widget-view+json": {
       "model_id": "1fc82ef37a3441d7be142661181f0409",
       "version_major": 2,
       "version_minor": 0
      },
      "text/plain": [
       "Seeding other layers:   0%|          | 0/4 [00:00<?, ?it/s]"
      ]
     },
     "metadata": {},
     "output_type": "display_data"
    },
    {
     "data": {
      "application/vnd.jupyter.widget-view+json": {
       "model_id": "24bbfd77a80d45efbea070ab5192a481",
       "version_major": 2,
       "version_minor": 0
      },
      "text/plain": [
       "Stressed: proteins:   0%|          | 0/1 [00:00<?, ?it/s]"
      ]
     },
     "metadata": {},
     "output_type": "display_data"
    },
    {
     "data": {
      "application/vnd.jupyter.widget-view+json": {
       "model_id": "a588f324dd6c47bba1173904be748b79",
       "version_major": 2,
       "version_minor": 0
      },
      "text/plain": [
       "Stressed: transcripts:   0%|          | 0/1 [00:00<?, ?it/s]"
      ]
     },
     "metadata": {},
     "output_type": "display_data"
    },
    {
     "data": {
      "application/vnd.jupyter.widget-view+json": {
       "model_id": "98bc96e9d47f4824a8cb7ec12aede9ba",
       "version_major": 2,
       "version_minor": 0
      },
      "text/plain": [
       "Stressed: metabolites:   0%|          | 0/1 [00:00<?, ?it/s]"
      ]
     },
     "metadata": {},
     "output_type": "display_data"
    },
    {
     "data": {
      "application/vnd.jupyter.widget-view+json": {
       "model_id": "4a0ca12af7334931b0d98751791385c3",
       "version_major": 2,
       "version_minor": 0
      },
      "text/plain": [
       "Disease: proteins:   0%|          | 0/1 [00:00<?, ?it/s]"
      ]
     },
     "metadata": {},
     "output_type": "display_data"
    },
    {
     "data": {
      "application/vnd.jupyter.widget-view+json": {
       "model_id": "61768e1dac934e79a6aa55b6562070aa",
       "version_major": 2,
       "version_minor": 0
      },
      "text/plain": [
       "Disease: transcripts:   0%|          | 0/1 [00:00<?, ?it/s]"
      ]
     },
     "metadata": {},
     "output_type": "display_data"
    },
    {
     "data": {
      "application/vnd.jupyter.widget-view+json": {
       "model_id": "68c540d4f1bc4a81a0738db9ad2782bb",
       "version_major": 2,
       "version_minor": 0
      },
      "text/plain": [
       "Disease: metabolites:   0%|          | 0/1 [00:00<?, ?it/s]"
      ]
     },
     "metadata": {},
     "output_type": "display_data"
    },
    {
     "data": {
      "application/vnd.jupyter.widget-view+json": {
       "model_id": "4fb7a34b2c0a48ea956adfde45f08609",
       "version_major": 2,
       "version_minor": 0
      },
      "text/plain": [
       "DrugA: proteins:   0%|          | 0/1 [00:00<?, ?it/s]"
      ]
     },
     "metadata": {},
     "output_type": "display_data"
    },
    {
     "data": {
      "application/vnd.jupyter.widget-view+json": {
       "model_id": "cd7937bd3e074af3aff7050f3097561e",
       "version_major": 2,
       "version_minor": 0
      },
      "text/plain": [
       "DrugA: transcripts:   0%|          | 0/1 [00:00<?, ?it/s]"
      ]
     },
     "metadata": {},
     "output_type": "display_data"
    },
    {
     "data": {
      "application/vnd.jupyter.widget-view+json": {
       "model_id": "087970bfeb1e4a3e8bf9b828db815c4e",
       "version_major": 2,
       "version_minor": 0
      },
      "text/plain": [
       "DrugA: metabolites:   0%|          | 0/1 [00:00<?, ?it/s]"
      ]
     },
     "metadata": {},
     "output_type": "display_data"
    },
    {
     "data": {
      "application/vnd.jupyter.widget-view+json": {
       "model_id": "14de521a7b864454b65c8ee37c221fd2",
       "version_major": 2,
       "version_minor": 0
      },
      "text/plain": [
       "DrugB: proteins:   0%|          | 0/1 [00:00<?, ?it/s]"
      ]
     },
     "metadata": {},
     "output_type": "display_data"
    },
    {
     "data": {
      "application/vnd.jupyter.widget-view+json": {
       "model_id": "c07f444a9779436faf0254a2281a2608",
       "version_major": 2,
       "version_minor": 0
      },
      "text/plain": [
       "DrugB: transcripts:   0%|          | 0/1 [00:00<?, ?it/s]"
      ]
     },
     "metadata": {},
     "output_type": "display_data"
    },
    {
     "data": {
      "application/vnd.jupyter.widget-view+json": {
       "model_id": "057d7e92256c426294ae4bd1e95d4b66",
       "version_major": 2,
       "version_minor": 0
      },
      "text/plain": [
       "DrugB: metabolites:   0%|          | 0/1 [00:00<?, ?it/s]"
      ]
     },
     "metadata": {},
     "output_type": "display_data"
    },
    {
     "name": "stdout",
     "output_type": "stream",
     "text": [
      "vertices done. #vertices: 800 Edge-entities: 40 time(s)= 20.612\n"
     ]
    }
   ],
   "source": [
    "import numpy as np\n",
    "rng = np.random.default_rng(42)\n",
    "\n",
    "t = perf_counter()\n",
    "\n",
    "proteins    = [f\"P{i}\"  for i in range(1, N_PROTEINS+1)]\n",
    "transcripts = [f\"T{i}\"  for i in range(1, N_TRANSCRIPTS+1)]\n",
    "metabolites = [f\"M{i}\"  for i in range(1, N_METABOLITES+1)]\n",
    "edge_entities = [f\"EE{i}\" for i in range(1, N_EDGE_ENTITIES+1)]\n",
    "\n",
    "add_vertex = G.add_vertex\n",
    "add_edge_entity = G.add_edge_entity\n",
    "\n",
    "# --- Seed vertices in \"Healthy\" (progress) ---\n",
    "kinase_mask = rng.random(len(proteins)) < 0.15\n",
    "for batch in prog_iter(batched(list(zip(proteins, kinase_mask)), 2000),\n",
    "                       total=(len(proteins)+1999)//2000, desc=\"Healthy: proteins\"):\n",
    "    for p, is_kinase in batch:\n",
    "        if is_kinase:\n",
    "            add_vertex(p, layer=\"Healthy\", family=\"kinase\", kind=\"protein\")\n",
    "        else:\n",
    "            add_vertex(p, layer=\"Healthy\", kind=\"protein\")\n",
    "\n",
    "for batch in prog_iter(batched(transcripts, 4000),\n",
    "                       total=(len(transcripts)+3999)//4000, desc=\"Healthy: transcripts\"):\n",
    "    for tvertex in batch:\n",
    "        add_vertex(tvertex, layer=\"Healthy\", kind=\"transcript\")\n",
    "\n",
    "for batch in prog_iter(batched(metabolites, 4000),\n",
    "                       total=(len(metabolites)+3999)//4000, desc=\"Healthy: metabolites\"):\n",
    "    for m in batch:\n",
    "        add_vertex(m, layer=\"Healthy\", kind=\"metabolite\")\n",
    "\n",
    "# --- Edge-entities (progress) ---\n",
    "pathways = np.array([\"glycolysis\",\"tca\",\"mapk\",\"pi3k\"])\n",
    "drawn_pathways = pathways[rng.integers(0, len(pathways), size=len(edge_entities))]\n",
    "for batch in prog_iter(batched(list(zip(edge_entities, drawn_pathways)), 5000),\n",
    "                       total=(len(edge_entities)+4999)//5000, desc=\"Healthy: edge-entities\"):\n",
    "    for ee, pw in batch:\n",
    "        add_edge_entity(ee, layer=\"Healthy\", role=\"enzyme\", pathway=pw)\n",
    "\n",
    "# --- Seed presence into other layers (progress per layer) ---\n",
    "p_keep = SEED_FRAC_PER_LAYER\n",
    "for lid in prog_iter(LAYERS[1:], total=len(LAYERS)-1, desc=\"Seeding other layers\"):\n",
    "    pmask = rng.random(len(proteins))    < p_keep\n",
    "    tmask = rng.random(len(transcripts)) < p_keep\n",
    "    mmask = rng.random(len(metabolites)) < p_keep\n",
    "\n",
    "    for batch in prog_iter(batched(list(zip(proteins, pmask)), 4000),\n",
    "                           total=(len(proteins)+3999)//4000, desc=f\"{lid}: proteins\", mininterval=0.3):\n",
    "        for n, keep in batch:\n",
    "            if keep:\n",
    "                add_vertex(n, layer=lid, kind=\"protein\")\n",
    "\n",
    "    for batch in prog_iter(batched(list(zip(transcripts, tmask)), 4000),\n",
    "                           total=(len(transcripts)+3999)//4000, desc=f\"{lid}: transcripts\", mininterval=0.3):\n",
    "        for n, keep in batch:\n",
    "            if keep:\n",
    "                add_vertex(n, layer=lid, kind=\"transcript\")\n",
    "\n",
    "    for batch in prog_iter(batched(list(zip(metabolites, mmask)), 4000),\n",
    "                           total=(len(metabolites)+3999)//4000, desc=f\"{lid}: metabolites\", mininterval=0.3):\n",
    "        for n, keep in batch:\n",
    "            if keep:\n",
    "                add_vertex(n, layer=lid, kind=\"metabolite\")\n",
    "\n",
    "build_vertices_time = perf_counter() - t\n",
    "print(\"vertices done. #vertices:\", G.number_of_vertices(),\n",
    "      \"Edge-entities:\", sum(1 for k,v in G.entity_types.items() if v=='edge'),\n",
    "      \"time(s)=\", round(build_vertices_time, 3))"
   ]
  },
  {
   "cell_type": "code",
   "execution_count": 14,
   "id": "8b171451",
   "metadata": {},
   "outputs": [
    {
     "name": "stdout",
     "output_type": "stream",
     "text": [
      "Binary edges built: 2494 total edges now: 2619\n"
     ]
    }
   ],
   "source": [
    "# Binary edges (PPIs mostly among proteins), defined in Healthy then layered variants\n",
    "t = perf_counter()\n",
    "ppis = []\n",
    "for _ in range(N_BIN_EDGES):\n",
    "    u = random.choice(proteins)\n",
    "    v = random.choice(proteins)\n",
    "    if u == v:\n",
    "        continue\n",
    "    # random directedness: ~80% directed, 20% undirected\n",
    "    directed = (random.random() < 0.8)\n",
    "    e = G.add_edge(u, v, layer=\"Healthy\", weight=rand_weight(1.2, 0.6), edge_directed=directed)\n",
    "    ppis.append(e)\n",
    "\n",
    "# parallel dupes between random pairs\n",
    "for _ in range(N_PARALLEL_DUPES):\n",
    "    # pick a previously created edge id, and add another parallel edge for same (u,v)\n",
    "    # We'll sample pair via G.edge_definitions\n",
    "    eid = random.choice(ppis)\n",
    "    u, v = G.edge_definitions[eid][0], G.edge_definitions[eid][1]\n",
    "    G.add_parallel_edge(u, v, weight=rand_weight(1.0, 0.3))\n",
    "\n",
    "# Per-layer variants: copy presence and tweak weights\n",
    "for eid in ppis:\n",
    "    base_w = G.edge_weights[eid]\n",
    "    for lid in LAYERS[1:]:\n",
    "        G.add_edge_to_layer(lid, eid)\n",
    "        # apply layer-specific weight modifier\n",
    "        factor = {\n",
    "            \"Stressed\": rand_weight(1.10, 0.10),\n",
    "            \"Disease\":  0.7 if random.random() < 0.4 else rand_weight(1.30, 0.15),\n",
    "            \"DrugA\":    rand_weight(0.9, 0.25),\n",
    "            \"DrugB\":    rand_weight(1.2, 0.20),\n",
    "        }[lid]\n",
    "        G.set_edge_layer_attrs(lid, eid, weight=base_w * factor, note=f\"layer={lid}\")\n",
    "build_binary_time = perf_counter() - t\n",
    "print(\"Binary edges built:\", len(ppis), \"total edges now:\", G.number_of_edges())\n"
   ]
  },
  {
   "cell_type": "code",
   "execution_count": 16,
   "id": "0fb9c145",
   "metadata": {
    "collapsed": true,
    "jupyter": {
     "outputs_hidden": true
    }
   },
   "outputs": [
    {
     "ename": "ValueError",
     "evalue": "edge_type must be 'regular' or 'node_edge', got None",
     "output_type": "error",
     "traceback": [
      "\u001b[1;31m---------------------------------------------------------------------------\u001b[0m",
      "\u001b[1;31mValueError\u001b[0m                                Traceback (most recent call last)",
      "Cell \u001b[1;32mIn[16], line 7\u001b[0m\n\u001b[0;32m      4\u001b[0m pairs \u001b[38;5;241m=\u001b[39m [(random\u001b[38;5;241m.\u001b[39mchoice(proteins), random\u001b[38;5;241m.\u001b[39mchoice(transcripts)) \u001b[38;5;28;01mfor\u001b[39;00m _ \u001b[38;5;129;01min\u001b[39;00m \u001b[38;5;28mrange\u001b[39m(\u001b[38;5;241m2000\u001b[39m)]\n\u001b[0;32m      5\u001b[0m \u001b[38;5;28;01mfor\u001b[39;00m u,v \u001b[38;5;129;01min\u001b[39;00m pairs:\n\u001b[0;32m      6\u001b[0m     \u001b[38;5;66;03m# 'shared': only layers where both endpoints already present\u001b[39;00m\n\u001b[1;32m----> 7\u001b[0m     G\u001b[38;5;241m.\u001b[39madd_edge(u, v, layer\u001b[38;5;241m=\u001b[39m\u001b[38;5;124m\"\u001b[39m\u001b[38;5;124mHealthy\u001b[39m\u001b[38;5;124m\"\u001b[39m, edge_type\u001b[38;5;241m=\u001b[39m\u001b[38;5;28;01mNone\u001b[39;00m, weight\u001b[38;5;241m=\u001b[39mrand_weight(\u001b[38;5;241m0.8\u001b[39m,\u001b[38;5;241m0.2\u001b[39m), propagate\u001b[38;5;241m=\u001b[39m\u001b[38;5;124m\"\u001b[39m\u001b[38;5;124mshared\u001b[39m\u001b[38;5;124m\"\u001b[39m)\n\u001b[0;32m      8\u001b[0m pairs2 \u001b[38;5;241m=\u001b[39m [(random\u001b[38;5;241m.\u001b[39mchoice(proteins), random\u001b[38;5;241m.\u001b[39mchoice(metabolites)) \u001b[38;5;28;01mfor\u001b[39;00m _ \u001b[38;5;129;01min\u001b[39;00m \u001b[38;5;28mrange\u001b[39m(\u001b[38;5;241m2000\u001b[39m)]\n\u001b[0;32m      9\u001b[0m \u001b[38;5;28;01mfor\u001b[39;00m u,v \u001b[38;5;129;01min\u001b[39;00m pairs2:\n\u001b[0;32m     10\u001b[0m     \u001b[38;5;66;03m# 'all': appears everywhere either endpoint exists (pulls other endpoint in)\u001b[39;00m\n",
      "File \u001b[1;32m~\\Desktop\\graphglue - Copie - Copie\\graphglue\\core\\incgraph.py:483\u001b[0m, in \u001b[0;36madd_edge\u001b[1;34m(self, source, target, layer, weight, edge_id, edge_type, propagate, layer_weight, edge_directed, **attributes)\u001b[0m\n\u001b[0;32m    428\u001b[0m \u001b[38;5;28;01mdef\u001b[39;00m \u001b[38;5;21madd_edge\u001b[39m(\n\u001b[0;32m    429\u001b[0m     \u001b[38;5;28mself\u001b[39m,\n\u001b[0;32m    430\u001b[0m     source,\n\u001b[1;32m   (...)\u001b[0m\n\u001b[0;32m    439\u001b[0m     \u001b[38;5;241m*\u001b[39m\u001b[38;5;241m*\u001b[39mattributes,\n\u001b[0;32m    440\u001b[0m ):\n\u001b[0;32m    441\u001b[0m \u001b[38;5;250m        \u001b[39m\u001b[38;5;124;03m\"\"\"\u001b[39;00m\n\u001b[0;32m    442\u001b[0m \u001b[38;5;124;03m        Add or update a binary edge between two entities.\u001b[39;00m\n\u001b[0;32m    443\u001b[0m \n\u001b[0;32m    444\u001b[0m \u001b[38;5;124;03m        Parameters\u001b[39;00m\n\u001b[0;32m    445\u001b[0m \u001b[38;5;124;03m        ----------\u001b[39;00m\n\u001b[0;32m    446\u001b[0m \u001b[38;5;124;03m        source : str\u001b[39;00m\n\u001b[0;32m    447\u001b[0m \u001b[38;5;124;03m            Source entity ID (node or edge-entity for node-edge mode).\u001b[39;00m\n\u001b[0;32m    448\u001b[0m \u001b[38;5;124;03m        target : str\u001b[39;00m\n\u001b[0;32m    449\u001b[0m \u001b[38;5;124;03m            Target entity ID.\u001b[39;00m\n\u001b[0;32m    450\u001b[0m \u001b[38;5;124;03m        layer : str, optional\u001b[39;00m\n\u001b[0;32m    451\u001b[0m \u001b[38;5;124;03m            Layer to place the edge into. Defaults to the active layer.\u001b[39;00m\n\u001b[0;32m    452\u001b[0m \u001b[38;5;124;03m        weight : float, optional\u001b[39;00m\n\u001b[0;32m    453\u001b[0m \u001b[38;5;124;03m            Global edge weight stored in the incidence column (default 1.0).\u001b[39;00m\n\u001b[0;32m    454\u001b[0m \u001b[38;5;124;03m        edge_id : str, optional\u001b[39;00m\n\u001b[0;32m    455\u001b[0m \u001b[38;5;124;03m            Explicit edge ID. If omitted, a fresh ID is generated.\u001b[39;00m\n\u001b[0;32m    456\u001b[0m \u001b[38;5;124;03m        edge_type : {'regular', 'node_edge'}, optional\u001b[39;00m\n\u001b[0;32m    457\u001b[0m \u001b[38;5;124;03m            Edge kind. ``'node_edge'`` allows connecting to an edge-entity.\u001b[39;00m\n\u001b[0;32m    458\u001b[0m \u001b[38;5;124;03m        propagate : {'none', 'shared', 'all'}, optional\u001b[39;00m\n\u001b[0;32m    459\u001b[0m \u001b[38;5;124;03m            Layer propagation:\u001b[39;00m\n\u001b[0;32m    460\u001b[0m \u001b[38;5;124;03m            - ``'none'`` : only the specified layer\u001b[39;00m\n\u001b[0;32m    461\u001b[0m \u001b[38;5;124;03m            - ``'shared'`` : all layers that already contain **both** endpoints\u001b[39;00m\n\u001b[0;32m    462\u001b[0m \u001b[38;5;124;03m            - ``'all'`` : all layers that contain **either** endpoint (and add the other)\u001b[39;00m\n\u001b[0;32m    463\u001b[0m \u001b[38;5;124;03m        layer_weight : float, optional\u001b[39;00m\n\u001b[0;32m    464\u001b[0m \u001b[38;5;124;03m            Per-layer weight override for this edge (stored in edge-layer DF).\u001b[39;00m\n\u001b[0;32m    465\u001b[0m \u001b[38;5;124;03m        edge_directed : bool, optional\u001b[39;00m\n\u001b[0;32m    466\u001b[0m \u001b[38;5;124;03m            Override default directedness for this edge. If None, uses graph default.\u001b[39;00m\n\u001b[0;32m    467\u001b[0m \u001b[38;5;124;03m        **attributes\u001b[39;00m\n\u001b[0;32m    468\u001b[0m \u001b[38;5;124;03m            Pure edge attributes to upsert.\u001b[39;00m\n\u001b[0;32m    469\u001b[0m \n\u001b[0;32m    470\u001b[0m \u001b[38;5;124;03m        Returns\u001b[39;00m\n\u001b[0;32m    471\u001b[0m \u001b[38;5;124;03m        -------\u001b[39;00m\n\u001b[0;32m    472\u001b[0m \u001b[38;5;124;03m        str\u001b[39;00m\n\u001b[0;32m    473\u001b[0m \u001b[38;5;124;03m            The edge ID (new or updated).\u001b[39;00m\n\u001b[0;32m    474\u001b[0m \n\u001b[0;32m    475\u001b[0m \u001b[38;5;124;03m        Raises\u001b[39;00m\n\u001b[0;32m    476\u001b[0m \u001b[38;5;124;03m        ------\u001b[39;00m\n\u001b[0;32m    477\u001b[0m \u001b[38;5;124;03m        ValueError\u001b[39;00m\n\u001b[0;32m    478\u001b[0m \u001b[38;5;124;03m            If ``propagate`` or ``edge_type`` is invalid.\u001b[39;00m\n\u001b[0;32m    479\u001b[0m \u001b[38;5;124;03m        TypeError\u001b[39;00m\n\u001b[0;32m    480\u001b[0m \u001b[38;5;124;03m            If ``weight`` is not numeric.\u001b[39;00m\n\u001b[0;32m    481\u001b[0m \n\u001b[0;32m    482\u001b[0m \u001b[38;5;124;03m        Notes\u001b[39;00m\n\u001b[1;32m--> 483\u001b[0m \u001b[38;5;124;03m        -----\u001b[39;00m\n\u001b[0;32m    484\u001b[0m \u001b[38;5;124;03m        - Directed edges write ``+weight`` at source row and ``-weight`` at target row.\u001b[39;00m\n\u001b[0;32m    485\u001b[0m \u001b[38;5;124;03m        - Undirected edges write ``+weight`` at both endpoints.\u001b[39;00m\n\u001b[0;32m    486\u001b[0m \u001b[38;5;124;03m        - Updating an existing edge ID overwrites its matrix column and metadata.\u001b[39;00m\n\u001b[0;32m    487\u001b[0m \u001b[38;5;124;03m        \"\"\"\u001b[39;00m\n\u001b[0;32m    488\u001b[0m         \u001b[38;5;66;03m# validate inputs\u001b[39;00m\n\u001b[0;32m    489\u001b[0m         \u001b[38;5;28;01mif\u001b[39;00m propagate \u001b[38;5;129;01mnot\u001b[39;00m \u001b[38;5;129;01min\u001b[39;00m {\u001b[38;5;124m\"\u001b[39m\u001b[38;5;124mnone\u001b[39m\u001b[38;5;124m\"\u001b[39m, \u001b[38;5;124m\"\u001b[39m\u001b[38;5;124mshared\u001b[39m\u001b[38;5;124m\"\u001b[39m, \u001b[38;5;124m\"\u001b[39m\u001b[38;5;124mall\u001b[39m\u001b[38;5;124m\"\u001b[39m}:\n",
      "\u001b[1;31mValueError\u001b[0m: edge_type must be 'regular' or 'node_edge', got None"
     ]
    }
   ],
   "source": [
    "# Propagation semantics via add_edge(..., propagate=...)\n",
    "t = perf_counter()\n",
    "# Ensure varied vertex presence across layers for a few pairs\n",
    "pairs = [(random.choice(proteins), random.choice(transcripts)) for _ in range(2000)]\n",
    "for u,v in pairs:\n",
    "    # 'shared': only layers where both endpoints already present\n",
    "    G.add_edge(u, v, layer=\"Healthy\", edge_type=None, weight=rand_weight(0.8,0.2), propagate=\"shared\")\n",
    "pairs2 = [(random.choice(proteins), random.choice(metabolites)) for _ in range(2000)]\n",
    "for u,v in pairs2:\n",
    "    # 'all': appears everywhere either endpoint exists (pulls other endpoint in)\n",
    "    G.add_edge(u, v, layer=\"Healthy\", edge_type=None, weight=rand_weight(0.8,0.2), propagate=\"all\")\n",
    "\n",
    "build_propagation_time = perf_counter() - t\n",
    "print(\"Propagation examples added (shared/all).\")\n"
   ]
  },
  {
   "cell_type": "code",
   "execution_count": 18,
   "id": "79d79ae5",
   "metadata": {},
   "outputs": [
    {
     "name": "stdout",
     "output_type": "stream",
     "text": [
      "Hyperedges built: complexes= 100 cascades= 100\n"
     ]
    }
   ],
   "source": [
    "# Hyperedges: undirected complexes, directed cascades\n",
    "t = perf_counter()\n",
    "\n",
    "complex_ids = []\n",
    "for _ in range(N_HYPER_COMPLEX):\n",
    "    size = random.choice([3,4,5,6])\n",
    "    members = set(random.sample(proteins, size))\n",
    "    hid = G.add_hyperedge(members=members, layer=\"Healthy\", weight=rand_weight(1.0, 0.2), tag=\"complex\")\n",
    "    complex_ids.append(hid)\n",
    "    for lid in LAYERS[1:]:\n",
    "        G.add_edge_to_layer(lid, hid)\n",
    "\n",
    "cascade_ids = []\n",
    "tries = 0\n",
    "while len(cascade_ids) < N_HYPER_CASCADE and tries < N_HYPER_CASCADE*5:\n",
    "    tries += 1\n",
    "    head = set(random.sample(proteins, random.choice([1,2])))\n",
    "    tail = set(random.sample(proteins, random.choice([2,3,4])))\n",
    "    if head & tail:\n",
    "        continue\n",
    "    hid = G.add_hyperedge(head=head, tail=tail, layer=\"Healthy\", weight=rand_weight(1.0,0.4), tag=\"cascade\")\n",
    "    cascade_ids.append(hid)\n",
    "    for lid in LAYERS[1:]:\n",
    "        G.add_edge_to_layer(lid, hid)\n",
    "\n",
    "build_hyper_time = perf_counter() - t\n",
    "print(\"Hyperedges built: complexes=\", len(complex_ids), \"cascades=\", len(cascade_ids))\n"
   ]
  },
  {
   "cell_type": "code",
   "execution_count": 20,
   "id": "5bdd0509",
   "metadata": {},
   "outputs": [
    {
     "name": "stdout",
     "output_type": "stream",
     "text": [
      "Node–edge reaction links added (pairs): 200\n"
     ]
    }
   ],
   "source": [
    "# vertex–edge (edge-entity) reactions: A -> EE -> B (bidir variants)\n",
    "t = perf_counter()\n",
    "for _ in range(N_vertex_EDGE_BIDIR):\n",
    "    ee = random.choice(edge_entities)\n",
    "    s = random.choice(proteins + transcripts + metabolites)\n",
    "    tvertex = random.choice(proteins + transcripts + metabolites)\n",
    "    G.add_edge(s, ee, layer=\"Healthy\", edge_type=\"vertex_edge\", weight=rand_weight(1.0,0.5))\n",
    "    G.add_edge(ee, tvertex, layer=\"Healthy\", edge_type=\"vertex_edge\", weight=rand_weight(1.0,0.5))\n",
    "    # reflect into other layers\n",
    "    for lid in LAYERS[1:]:\n",
    "        G.add_edge_to_layer(lid, list(G.get_edge_ids(s, ee))[-1])\n",
    "        G.add_edge_to_layer(lid, list(G.get_edge_ids(ee, tvertex))[-1])\n",
    "\n",
    "build_vertexedge_time = perf_counter() - t\n",
    "print(\"vertex–edge reaction links added (pairs):\", N_vertex_EDGE_BIDIR)\n"
   ]
  },
  {
   "cell_type": "code",
   "execution_count": 22,
   "id": "30b56ae3",
   "metadata": {},
   "outputs": [
    {
     "name": "stdout",
     "output_type": "stream",
     "text": [
      "Nodes: 800 Edges: 3219\n",
      "Edge-entities: 40\n"
     ]
    }
   ],
   "source": [
    "# Sanity & counts\n",
    "print(\"vertices:\", G.number_of_vertices(), \"Edges:\", G.number_of_edges())\n",
    "assert G.number_of_vertices() > 0 and G.number_of_edges() > 0\n",
    "\n",
    "# Edge-entity count\n",
    "edge_entity_count = sum(1 for _id, et in G.entity_types.items() if et == \"edge\" and _id in set(edge_entities))\n",
    "print(\"Edge-entities:\", edge_entity_count)\n",
    "assert edge_entity_count == len(edge_entities)\n"
   ]
  },
  {
   "cell_type": "code",
   "execution_count": 24,
   "id": "178d772a",
   "metadata": {},
   "outputs": [
    {
     "name": "stdout",
     "output_type": "stream",
     "text": [
      "[Healthy] edges_view rows: 3219\n",
      "Top 5 binary edges in Healthy:\n",
      " shape: (5, 4)\n",
      "┌───────────┬────────┬────────┬──────────────────┐\n",
      "│ edge_id   ┆ source ┆ target ┆ effective_weight │\n",
      "│ ---       ┆ ---    ┆ ---    ┆ ---              │\n",
      "│ str       ┆ str    ┆ str    ┆ f64              │\n",
      "╞═══════════╪════════╪════════╪══════════════════╡\n",
      "│ edge_2074 ┆ P383   ┆ P365   ┆ 1.799976         │\n",
      "│ edge_863  ┆ P363   ┆ P273   ┆ 1.799889         │\n",
      "│ edge_1197 ┆ P105   ┆ P313   ┆ 1.798404         │\n",
      "│ edge_2346 ┆ P300   ┆ P497   ┆ 1.796087         │\n",
      "│ edge_2215 ┆ P132   ┆ P497   ┆ 1.795897         │\n",
      "└───────────┴────────┴────────┴──────────────────┘\n",
      "[Stressed] edges_view rows: 3219\n",
      "Top 5 binary edges in Stressed:\n",
      " shape: (5, 4)\n",
      "┌───────────┬────────┬────────┬──────────────────┐\n",
      "│ edge_id   ┆ source ┆ target ┆ effective_weight │\n",
      "│ ---       ┆ ---    ┆ ---    ┆ ---              │\n",
      "│ str       ┆ str    ┆ str    ┆ f64              │\n",
      "╞═══════════╪════════╪════════╪══════════════════╡\n",
      "│ edge_2074 ┆ P383   ┆ P365   ┆ 1.799976         │\n",
      "│ edge_863  ┆ P363   ┆ P273   ┆ 1.799889         │\n",
      "│ edge_1197 ┆ P105   ┆ P313   ┆ 1.798404         │\n",
      "│ edge_2346 ┆ P300   ┆ P497   ┆ 1.796087         │\n",
      "│ edge_2215 ┆ P132   ┆ P497   ┆ 1.795897         │\n",
      "└───────────┴────────┴────────┴──────────────────┘\n",
      "[Disease] edges_view rows: 3219\n",
      "Top 5 binary edges in Disease:\n",
      " shape: (5, 4)\n",
      "┌───────────┬────────┬────────┬──────────────────┐\n",
      "│ edge_id   ┆ source ┆ target ┆ effective_weight │\n",
      "│ ---       ┆ ---    ┆ ---    ┆ ---              │\n",
      "│ str       ┆ str    ┆ str    ┆ f64              │\n",
      "╞═══════════╪════════╪════════╪══════════════════╡\n",
      "│ edge_2074 ┆ P383   ┆ P365   ┆ 1.799976         │\n",
      "│ edge_863  ┆ P363   ┆ P273   ┆ 1.799889         │\n",
      "│ edge_1197 ┆ P105   ┆ P313   ┆ 1.798404         │\n",
      "│ edge_2346 ┆ P300   ┆ P497   ┆ 1.796087         │\n",
      "│ edge_2215 ┆ P132   ┆ P497   ┆ 1.795897         │\n",
      "└───────────┴────────┴────────┴──────────────────┘\n",
      "[DrugA] edges_view rows: 3219\n",
      "Top 5 binary edges in DrugA:\n",
      " shape: (5, 4)\n",
      "┌───────────┬────────┬────────┬──────────────────┐\n",
      "│ edge_id   ┆ source ┆ target ┆ effective_weight │\n",
      "│ ---       ┆ ---    ┆ ---    ┆ ---              │\n",
      "│ str       ┆ str    ┆ str    ┆ f64              │\n",
      "╞═══════════╪════════╪════════╪══════════════════╡\n",
      "│ edge_2074 ┆ P383   ┆ P365   ┆ 1.799976         │\n",
      "│ edge_863  ┆ P363   ┆ P273   ┆ 1.799889         │\n",
      "│ edge_1197 ┆ P105   ┆ P313   ┆ 1.798404         │\n",
      "│ edge_2346 ┆ P300   ┆ P497   ┆ 1.796087         │\n",
      "│ edge_2215 ┆ P132   ┆ P497   ┆ 1.795897         │\n",
      "└───────────┴────────┴────────┴──────────────────┘\n",
      "[DrugB] edges_view rows: 3219\n",
      "Top 5 binary edges in DrugB:\n",
      " shape: (5, 4)\n",
      "┌───────────┬────────┬────────┬──────────────────┐\n",
      "│ edge_id   ┆ source ┆ target ┆ effective_weight │\n",
      "│ ---       ┆ ---    ┆ ---    ┆ ---              │\n",
      "│ str       ┆ str    ┆ str    ┆ f64              │\n",
      "╞═══════════╪════════╪════════╪══════════════════╡\n",
      "│ edge_2074 ┆ P383   ┆ P365   ┆ 1.799976         │\n",
      "│ edge_863  ┆ P363   ┆ P273   ┆ 1.799889         │\n",
      "│ edge_1197 ┆ P105   ┆ P313   ┆ 1.798404         │\n",
      "│ edge_2346 ┆ P300   ┆ P497   ┆ 1.796087         │\n",
      "│ edge_2215 ┆ P132   ┆ P497   ┆ 1.795897         │\n",
      "└───────────┴────────┴────────┴──────────────────┘\n",
      "Nodes view cols: ['node_id', 'kind', 'family', 'role', 'pathway']\n",
      "Layers view cols: ['layer_id', 'desc']\n"
     ]
    }
   ],
   "source": [
    "# Views & Top edges per layer\n",
    "try:\n",
    "    for lid in LAYERS:\n",
    "        EV = G.edges_view(layer=lid, resolved_weight=True)\n",
    "        print(f\"[{lid}] edges_view rows:\", getattr(EV, 'height', getattr(EV, 'shape', ['?','?'])[0]))\n",
    "        # filter binary only, sort by effective weight\n",
    "        if pl is not None and isinstance(EV, pl.DataFrame):\n",
    "            top = (EV.filter(pl.col(\"kind\")==\"binary\")\n",
    "                     .sort(\"effective_weight\", descending=True)\n",
    "                     .select([\"edge_id\",\"source\",\"target\",\"effective_weight\"])\n",
    "                     .head(5))\n",
    "            print(f\"Top 5 binary edges in {lid}:\\n\", top)\n",
    "        else:\n",
    "            # Try pandas-like\n",
    "            try:\n",
    "                df = EV\n",
    "                if hasattr(df, \"query\"):\n",
    "                    bf = df.query(\"kind == 'binary'\").sort_values(\"effective_weight\", ascending=False).head(5)\n",
    "                    print(bf[[\"edge_id\",\"source\",\"target\",\"effective_weight\"]])\n",
    "            except Exception:\n",
    "                pass\n",
    "except Exception as e:\n",
    "    print(\"edges_view failed softly:\", e)\n",
    "\n",
    "try:\n",
    "    NV = G.vertices_view()\n",
    "    LV = G.layers_view()\n",
    "    print(\"vertices view cols:\", getattr(NV, 'columns', None))\n",
    "    print(\"Layers view cols:\", getattr(LV, 'columns', None))\n",
    "except Exception as e:\n",
    "    print(\"vertices_view/layers_view failed softly:\", e)\n"
   ]
  },
  {
   "cell_type": "code",
   "execution_count": 26,
   "id": "b57cd148",
   "metadata": {},
   "outputs": [
    {
     "name": "stdout",
     "output_type": "stream",
     "text": [
      "Edge presence across layers: ['Healthy', 'Stressed', 'Disease', 'DrugA', 'DrugB']\n",
      "Node presence across layers: ['Healthy', 'Stressed', 'Disease', 'DrugA']\n",
      "Hyperedge presence (members): {'Healthy': ['edge_2672'], 'Stressed': ['edge_2672'], 'Disease': ['edge_2672'], 'DrugA': ['edge_2672'], 'DrugB': ['edge_2672']}\n",
      "Hyperedge presence (head/tail): {'Healthy': ['edge_2769'], 'Stressed': ['edge_2769'], 'Disease': ['edge_2769'], 'DrugA': ['edge_2769'], 'DrugB': ['edge_2769']}\n"
     ]
    }
   ],
   "source": [
    "# Presence queries\n",
    "any_e = next(iter(G.edge_to_idx.keys()))\n",
    "print(\"Edge presence across layers:\", G.edge_presence_across_layers(edge_id=any_e))\n",
    "\n",
    "any_p = random.choice(proteins)\n",
    "print(\"vertex presence across layers:\", G.vertex_presence_across_layers(any_p))\n",
    "\n",
    "# Hyperedge presence by members and head/tail\n",
    "if complex_ids:\n",
    "    m = random.choice(complex_ids)\n",
    "    members = G.hyperedge_definitions[m].get(\"members\", set())\n",
    "    if members:\n",
    "        print(\"Hyperedge presence (members):\", G.hyperedge_presence_across_layers(members=set(members)))\n",
    "if cascade_ids:\n",
    "    h = random.choice(cascade_ids)\n",
    "    hd = G.hyperedge_definitions[h]\n",
    "    if hd.get(\"head\") and hd.get(\"tail\"):\n",
    "        print(\"Hyperedge presence (head/tail):\", G.hyperedge_presence_across_layers(head=set(hd[\"head\"]), tail=set(hd[\"tail\"])))\n"
   ]
  },
  {
   "cell_type": "code",
   "execution_count": 28,
   "id": "da23aa0d",
   "metadata": {},
   "outputs": [
    {
     "name": "stdout",
     "output_type": "stream",
     "text": [
      "Neighbors(P416) sample: ['P164', 'P150', 'P72', 'P184', 'P140', 'P355', 'P262', 'P429', 'P317', 'P360']\n",
      "Out(P416) sample: ['P150', 'P72', 'P184', 'P140', 'P355', 'P262', 'P429', 'P317', 'P309', 'P127']\n",
      "In(P416) sample: ['P164', 'P72', 'P373', 'P140', 'P355', 'P111', 'P262', 'P317', 'P360', 'P309']\n"
     ]
    }
   ],
   "source": [
    "# Traversal\n",
    "q = random.choice(proteins)\n",
    "print(f\"Neighbors({q}) sample:\", G.neighbors(q)[:10])\n",
    "print(f\"Out({q}) sample:\", G.out_neighbors(q)[:10])\n",
    "print(f\"In({q}) sample:\", G.in_neighbors(q)[:10])\n"
   ]
  },
  {
   "cell_type": "code",
   "execution_count": 30,
   "id": "721928c0",
   "metadata": {},
   "outputs": [
    {
     "name": "stdout",
     "output_type": "stream",
     "text": [
      "Layer stats keys: ['Healthy', 'Stressed', 'Disease', 'DrugA', 'DrugB']\n",
      "Conserved edges (present in all layers): 3094\n",
      "Disease-specific edges: 0\n",
      "Temporal edge changes entries: 4 node changes entries: 4\n"
     ]
    }
   ],
   "source": [
    "# Layer analytics, conserved/specific, temporal\n",
    "stats = G.layer_statistics()\n",
    "print(\"Layer stats keys:\", list(stats.keys())[:5])\n",
    "\n",
    "conserved = G.conserved_edges(min_layers=len(LAYERS))\n",
    "print(\"Conserved edges (present in all layers):\", len(conserved))\n",
    "\n",
    "disease_specific = G.layer_specific_edges(\"Disease\")\n",
    "print(\"Disease-specific edges:\", len(disease_specific))\n",
    "\n",
    "changes_e = G.temporal_dynamics(ORDERED_FOR_TEMPORAL, metric=\"edge_change\")\n",
    "changes_n = G.temporal_dynamics(ORDERED_FOR_TEMPORAL, metric=\"vertex_change\")\n",
    "print(\"Temporal edge changes entries:\", len(changes_e), \"vertex changes entries:\", len(changes_n))\n"
   ]
  },
  {
   "cell_type": "code",
   "execution_count": 32,
   "id": "7953cd88",
   "metadata": {},
   "outputs": [
    {
     "name": "stdout",
     "output_type": "stream",
     "text": [
      "Union edges>=intersection edges: True\n",
      "Derived layers exist: True True True\n",
      "Aggregated layers added.\n"
     ]
    }
   ],
   "source": [
    "# Layer set ops and derived layers\n",
    "u = G.layer_union([\"Healthy\",\"Stressed\"])\n",
    "i = G.layer_intersection([\"Healthy\",\"Stressed\"])\n",
    "d = G.layer_difference(\"Healthy\",\"Stressed\")\n",
    "print(\"Union edges>=intersection edges:\", len(u[\"edges\"]) >= len(i[\"edges\"]))\n",
    "\n",
    "lid_u = G.create_layer_from_operation(\"HS_union\", u, desc=\"H∪S\")\n",
    "lid_i = G.create_layer_from_operation(\"HS_intersection\", i, desc=\"H∩S\")\n",
    "lid_d = G.create_layer_from_operation(\"H_minus_S\", d, desc=\"H\\\\S\")\n",
    "print(\"Derived layers exist:\", G.has_layer(\"HS_union\"), G.has_layer(\"HS_intersection\"), G.has_layer(\"H_minus_S\"))\n",
    "\n",
    "# Aggregations\n",
    "G.create_aggregated_layer([\"Healthy\",\"Stressed\"], \"Agg_union\", method=\"union\", tag=\"agg_u\")\n",
    "G.create_aggregated_layer([\"Healthy\",\"Stressed\"], \"Agg_intersection\", method=\"intersection\", tag=\"agg_i\")\n",
    "print(\"Aggregated layers added.\")\n"
   ]
  },
  {
   "cell_type": "code",
   "execution_count": 34,
   "id": "5ac0baaf",
   "metadata": {},
   "outputs": [
    {
     "name": "stdout",
     "output_type": "stream",
     "text": [
      "Edge list tuple length check (u,v,kind,id): True\n",
      "Global entity/edge counts: 840 3219\n"
     ]
    }
   ],
   "source": [
    "# Edge list & global counts\n",
    "el = G.edge_list()\n",
    "print(\"Edge list tuple length check (u,v,kind,id):\", all(len(t)==4 for t in el))\n",
    "print(\"Global entity/edge counts:\", G.global_entity_count(), G.global_edge_count())\n"
   ]
  },
  {
   "cell_type": "code",
   "execution_count": 36,
   "id": "41a4cf72",
   "metadata": {},
   "outputs": [
    {
     "name": "stdout",
     "output_type": "stream",
     "text": [
      "DrugB subgraph nodes/edges: 763 3094\n",
      "Deep copy OK.\n"
     ]
    }
   ],
   "source": [
    "# Subgraph & copy\n",
    "SG = G.subgraph_from_layer(\"DrugB\", resolve_layer_weights=True)\n",
    "print(\"DrugB subgraph vertices/edges:\", SG.number_of_vertices(), SG.number_of_edges())\n",
    "\n",
    "CP = G.copy()\n",
    "# quick consistency checks\n",
    "assert set(CP.vertices()) == set(G.vertices())\n",
    "assert set(CP.edges()) == set(G.edges())\n",
    "any_hyper = next(e for e,k in G.edge_kind.items() if k == \"hyper\")\n",
    "assert CP.edge_kind.get(any_hyper) == \"hyper\"\n",
    "for lid in G.list_layers(include_default=True):\n",
    "    assert CP._layers[lid][\"vertices\"] == G._layers[lid][\"vertices\"]\n",
    "    assert CP._layers[lid][\"edges\"] == G._layers[lid][\"edges\"]\n",
    "print(\"Deep copy OK.\")\n"
   ]
  },
  {
   "cell_type": "code",
   "execution_count": 38,
   "id": "038a3853",
   "metadata": {},
   "outputs": [
    {
     "name": "stdout",
     "output_type": "stream",
     "text": [
      "After removals: nodes= 795 edges= 2653\n"
     ]
    }
   ],
   "source": [
    "# Removals: drop a slice of vertices/edges\n",
    "drop_vertices = random.sample(proteins, max(1, len(proteins)//100))  # ~1%\n",
    "for n in drop_vertices:\n",
    "    if n in G.entity_to_idx:\n",
    "        G.remove_vertex(n)\n",
    "\n",
    "drop_edges = list(G.edge_to_idx.keys())[: min(500, len(G.edge_to_idx))]\n",
    "for eid in drop_edges:\n",
    "    if eid in G.edge_to_idx:\n",
    "        G.remove_edge(eid)\n",
    "\n",
    "print(\"After removals: vertices=\", G.number_of_vertices(), \"edges=\", G.number_of_edges())\n"
   ]
  },
  {
   "cell_type": "code",
   "execution_count": 40,
   "id": "cdbf52ee",
   "metadata": {},
   "outputs": [
    {
     "name": "stdout",
     "output_type": "stream",
     "text": [
      "Audit keys: ['extra_node_rows', 'extra_edge_rows', 'missing_node_rows', 'missing_edge_rows', 'invalid_edge_layer_rows']\n",
      "Approx memory usage (bytes): 697144\n"
     ]
    }
   ],
   "source": [
    "# Audit & memory\n",
    "audit = G.audit_attributes()\n",
    "mem_bytes = G.memory_usage()\n",
    "print(\"Audit keys:\", list(audit.keys())[:10])\n",
    "print(\"Approx memory usage (bytes):\", int(mem_bytes))\n"
   ]
  },
  {
   "cell_type": "code",
   "execution_count": 44,
   "id": "1d0a6f56",
   "metadata": {},
   "outputs": [
    {
     "name": "stdout",
     "output_type": "stream",
     "text": [
      "Propagation examples added (shared/all).\n"
     ]
    },
    {
     "ename": "ModuleNotFoundError",
     "evalue": "No module named 'caas_jupyter_tools'",
     "output_type": "error",
     "traceback": [
      "\u001b[1;31m---------------------------------------------------------------------------\u001b[0m",
      "\u001b[1;31mModuleNotFoundError\u001b[0m                       Traceback (most recent call last)",
      "Cell \u001b[1;32mIn[44], line 16\u001b[0m\n\u001b[0;32m      6\u001b[0m timings \u001b[38;5;241m=\u001b[39m {\n\u001b[0;32m      7\u001b[0m     \u001b[38;5;124m\"\u001b[39m\u001b[38;5;124mbuild_layers\u001b[39m\u001b[38;5;124m\"\u001b[39m: build_layers_time,\n\u001b[0;32m      8\u001b[0m     \u001b[38;5;124m\"\u001b[39m\u001b[38;5;124mbuild_nodes\u001b[39m\u001b[38;5;124m\"\u001b[39m: build_nodes_time,\n\u001b[1;32m   (...)\u001b[0m\n\u001b[0;32m     12\u001b[0m     \u001b[38;5;124m\"\u001b[39m\u001b[38;5;124mbuild_nodeedge\u001b[39m\u001b[38;5;124m\"\u001b[39m: build_nodeedge_time,\n\u001b[0;32m     13\u001b[0m }\n\u001b[0;32m     15\u001b[0m df \u001b[38;5;241m=\u001b[39m pd\u001b[38;5;241m.\u001b[39mDataFrame(\u001b[38;5;28msorted\u001b[39m(timings\u001b[38;5;241m.\u001b[39mitems(), key\u001b[38;5;241m=\u001b[39m\u001b[38;5;28;01mlambda\u001b[39;00m x: x[\u001b[38;5;241m0\u001b[39m]), columns\u001b[38;5;241m=\u001b[39m[\u001b[38;5;124m\"\u001b[39m\u001b[38;5;124mstage\u001b[39m\u001b[38;5;124m\"\u001b[39m,\u001b[38;5;124m\"\u001b[39m\u001b[38;5;124mseconds\u001b[39m\u001b[38;5;124m\"\u001b[39m])\n\u001b[1;32m---> 16\u001b[0m \u001b[38;5;28;01mfrom\u001b[39;00m \u001b[38;5;21;01mcaas_jupyter_tools\u001b[39;00m \u001b[38;5;28;01mimport\u001b[39;00m display_dataframe_to_user\n\u001b[0;32m     17\u001b[0m display_dataframe_to_user(\u001b[38;5;124m\"\u001b[39m\u001b[38;5;124mBuild timings (seconds)\u001b[39m\u001b[38;5;124m\"\u001b[39m, df)\n\u001b[0;32m     19\u001b[0m \u001b[38;5;66;03m# Simple chart\u001b[39;00m\n",
      "\u001b[1;31mModuleNotFoundError\u001b[0m: No module named 'caas_jupyter_tools'"
     ]
    }
   ],
   "source": [
    "# Timing summary\n",
    "import pandas as pd\n",
    "\n",
    "timings = {\n",
    "    \"build_layers\": build_layers_time,\n",
    "    \"build_vertices\": build_vertices_time,\n",
    "    \"build_binary_edges\": build_binary_time,\n",
    "    \"build_propagation\": build_propagation_time,\n",
    "    \"build_hyperedges\": build_hyper_time,\n",
    "    \"build_vertexedge\": build_vertexedge_time,\n",
    "}\n",
    "\n",
    "df = pd.DataFrame(sorted(timings.items(), key=lambda x: x[0]), columns=[\"stage\",\"seconds\"])\n",
    "from caas_jupyter_tools import display_dataframe_to_user\n",
    "display_dataframe_to_user(\"Build timings (seconds)\", df)\n",
    "\n",
    "# Simple chart\n",
    "import matplotlib.pyplot as plt\n",
    "plt.figure()\n",
    "plt.bar(df[\"stage\"], df[\"seconds\"])\n",
    "plt.xticks(rotation=45, ha=\"right\")\n",
    "plt.ylabel(\"seconds\")\n",
    "plt.title(\"Graph Build Timings\")\n",
    "plt.tight_layout()\n",
    "plt.show()\n"
   ]
  },
  {
   "cell_type": "code",
   "execution_count": null,
   "id": "5b9caf79-3ebf-4afb-8fe9-3dd76c2409c2",
   "metadata": {},
   "outputs": [],
   "source": []
  },
  {
   "cell_type": "code",
   "execution_count": null,
   "id": "022b8740-a83e-41de-80df-b3da45c4bbd4",
   "metadata": {},
   "outputs": [],
   "source": []
  },
  {
   "cell_type": "code",
   "execution_count": null,
   "id": "28c41f1c-f2d9-4ff6-9ed6-93def612410a",
   "metadata": {},
   "outputs": [],
   "source": []
  }
 ],
 "metadata": {
  "kernelspec": {
   "display_name": "Python [conda env:base] *",
   "language": "python",
   "name": "conda-base-py"
  },
  "language_info": {
   "codemirror_mode": {
    "name": "ipython",
    "version": 3
   },
   "file_extension": ".py",
   "mimetype": "text/x-python",
   "name": "python",
   "nbconvert_exporter": "python",
   "pygments_lexer": "ipython3",
   "version": "3.12.7"
  }
 },
 "nbformat": 4,
 "nbformat_minor": 5
}
