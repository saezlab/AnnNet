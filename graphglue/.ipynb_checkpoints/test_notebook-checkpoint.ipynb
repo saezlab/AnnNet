{
 "cells": [
  {
   "cell_type": "code",
   "execution_count": 1,
   "id": "72e1e402-9ac5-4233-8c50-d57b36f606f2",
   "metadata": {},
   "outputs": [],
   "source": [
    "# preferred public surface\n",
    "import os, sys\n",
    "sys.path.insert(0, os.path.abspath(\"..\"))  # add repo root\n",
    "\n",
    "from graphglue.core import IncidenceAdapter\n",
    "from graphglue.adapters.networkx import to_backend, to_nx, from_nx\n"
   ]
  },
  {
   "cell_type": "code",
   "execution_count": 3,
   "id": "3eb48902-63d8-4c4b-85db-06f844a4b2b1",
   "metadata": {},
   "outputs": [],
   "source": [
    "G = IncidenceAdapter()\n",
    "G.add_vertex(\"A\")\n",
    "G.add_vertex(\"B\")\n",
    "G.add_edge({\"A\"}, {\"B\"})  # uses BaseGraph semantics\n",
    "list(G.deep.edge_definitions.items())\n",
    "G.deep.add_layer(\"t0\")\n",
    "G.deep.set_layer_edge_weight(\"t0\", \"edge_0\", 2.0)"
   ]
  },
  {
   "cell_type": "code",
   "execution_count": 5,
   "id": "b1d3c62c-1f93-4c54-989e-fb8c74cbb44b",
   "metadata": {},
   "outputs": [
    {
     "name": "stdout",
     "output_type": "stream",
     "text": [
      "=== Basic graph creation ===\n",
      "Vertices: ['A', 'B']\n",
      "Edges (index, (s,t)): [(0, (frozenset({'A'}), frozenset({'B'})))]\n",
      "Number of vertices: 2\n",
      "Number of edges: 1\n",
      "Shape (|V|,|E|): (2, 1)\n",
      "\n",
      "=== Accessing edge info ===\n",
      "Edge definition: frozenset({'A'}) -> frozenset({'B'})\n",
      "\n",
      "=== BFS / Successors / Neighbors ===\n",
      "BFS layers from A: {'A': 0, 'B': 1, 'C': 2}\n",
      "Successors(A): ['B']\n",
      "Predecessors(C): ['B']\n",
      "Neighbors(B): ['A', 'C']\n",
      "\n",
      "=== Incidence matrix with per-vertex coefficients ===\n",
      "Vertices: ['X', 'Y']\n",
      "Incidence matrix:\n",
      " [[-3.]\n",
      " [ 2.]]\n",
      "\n",
      "=== Subgraph and prune ===\n",
      "Edge-subgraph edges: [(0, (frozenset({'A'}), frozenset({'B'})))]\n",
      "Pruned graph edges: [(0, (frozenset({'A'}), frozenset({'B'}))), (1, (frozenset({'B'}), frozenset({'C'})))]\n",
      "\n",
      "=== Deep access: layers and per-layer weights ===\n",
      "Edge definitions: [('edge_0', ('A', 'B', 'regular'))]\n",
      "Global edge weight: 1.5\n",
      "Layer t0 weight: 2.0\n",
      "Layers containing edge: ['default', 't0']\n"
     ]
    }
   ],
   "source": [
    "# demo_adapter.py\n",
    "\n",
    "print(\"=== Basic graph creation ===\")\n",
    "G = IncidenceAdapter()\n",
    "G.add_vertex(\"A\")\n",
    "G.add_vertex(\"B\")\n",
    "eidx = G.add_edge({\"A\"}, {\"B\"})\n",
    "print(\"Vertices:\", list(G.V))\n",
    "print(\"Edges (index, (s,t)):\", list(G.edges()))\n",
    "print(\"Number of vertices:\", G.num_vertices)\n",
    "print(\"Number of edges:\", G.num_edges)\n",
    "print(\"Shape (|V|,|E|):\", G.shape)\n",
    "print()\n",
    "\n",
    "print(\"=== Accessing edge info ===\")\n",
    "s, t = G.get_edge(eidx)\n",
    "print(\"Edge definition:\", s, \"->\", t)\n",
    "print()\n",
    "\n",
    "print(\"=== BFS / Successors / Neighbors ===\")\n",
    "G.add_vertex(\"C\")\n",
    "G.add_edge({\"B\"}, {\"C\"})\n",
    "layers = G.bfs(\"A\")\n",
    "print(\"BFS layers from A:\", layers)\n",
    "print(\"Successors(A):\", list(G.successors(\"A\")))\n",
    "print(\"Predecessors(C):\", list(G.predecessors(\"C\")))\n",
    "print(\"Neighbors(B):\", list(G.neighbors_exclusive(\"B\")))\n",
    "print()\n",
    "\n",
    "print(\"=== Incidence matrix with per-vertex coefficients ===\")\n",
    "H = IncidenceAdapter()\n",
    "H.add_vertices([\"X\", \"Y\"])\n",
    "H.add_edge({\"X\": 3}, {\"Y\": 2})\n",
    "mat = H.vertex_incidence_matrix(values=True, sparse=False)\n",
    "print(\"Vertices:\", list(H.V))\n",
    "print(\"Incidence matrix:\\n\", mat)\n",
    "print()\n",
    "\n",
    "print(\"=== Subgraph and prune ===\")\n",
    "SG = G.edge_subgraph([0])  # keep only first edge\n",
    "print(\"Edge-subgraph edges:\", list(SG.edges()))\n",
    "P = G.prune(source=[\"A\"], target=[\"C\"])\n",
    "print(\"Pruned graph edges:\", list(P.edges()))\n",
    "print()\n",
    "\n",
    "print(\"=== Deep access: layers and per-layer weights ===\")\n",
    "D = IncidenceAdapter()\n",
    "D.deep.add_layer(\"t0\")\n",
    "e = D.add_edge({\"A\"}, {\"B\"}, weight=1.5, label=\"ab\")\n",
    "eid = D.deep.idx_to_edge[e]\n",
    "# attach same edge to layer\n",
    "w = D.deep.edge_weights[eid]\n",
    "D.deep.add_edge(\"A\", \"B\", layer=\"t0\", edge_id=eid, edge_directed=True, weight = w)\n",
    "D.deep.set_layer_edge_weight(\"t0\", eid, 2.0)\n",
    "\n",
    "print(\"Edge definitions:\", list(D.deep.edge_definitions.items()))\n",
    "print(\"Global edge weight:\", D.deep.edge_weights[eid])\n",
    "print(\"Layer t0 weight:\", D.deep.get_effective_edge_weight(eid, layer=\"t0\"))\n",
    "print(\"Layers containing edge:\", D.deep.edge_presence_across_layers(eid, include_default=True))\n"
   ]
  },
  {
   "cell_type": "code",
   "execution_count": 7,
   "id": "ce2d65d6-e2cb-4d39-888f-6208ef34155d",
   "metadata": {},
   "outputs": [
    {
     "data": {
      "text/plain": [
       "1"
      ]
     },
     "execution_count": 7,
     "metadata": {},
     "output_type": "execute_result"
    }
   ],
   "source": [
    "G = IncidenceAdapter()\n",
    "G.add_vertices([\"A\", \"B\", \"C\"])\n",
    "G.add_edge({\"A\"}, {\"B\"}, weight=2.0)\n",
    "G.add_edge({\"B\"}, {\"C\"}, weight=3.0)"
   ]
  },
  {
   "cell_type": "code",
   "execution_count": 9,
   "id": "a45c1c8c-c0c6-429c-ba98-270ff7b6fb62",
   "metadata": {},
   "outputs": [
    {
     "name": "stdout",
     "output_type": "stream",
     "text": [
      "Nodes: [('A', {}), ('B', {}), ('C', {})]\n",
      "Edges: [('A', 'B', {'__edge_type': 'directed', '__weight': 2.0, '__source_attr': {'A': {'__value': {}}}, '__target_attr': {'B': {'__value': {}}}}), ('B', 'C', {'__edge_type': 'directed', '__weight': 3.0, '__source_attr': {'B': {'__value': {}}}, '__target_attr': {'C': {'__value': {}}}})]\n"
     ]
    },
    {
     "data": {
      "image/png": "[encoded data removed]",
      "text/plain": [
       "<Figure size 640x480 with 1 Axes>"
      ]
     },
     "metadata": {},
     "output_type": "display_data"
    }
   ],
   "source": [
    "# convert to a networkx graph\n",
    "import networkx as nx\n",
    "nxG = to_backend(G, directed=True)  # or directed=False if you prefer\n",
    "\n",
    "print(\"Nodes:\", nxG.nodes(data=True))\n",
    "print(\"Edges:\", nxG.edges(data=True))\n",
    "\n",
    "# quick visualization\n",
    "import matplotlib.pyplot as plt\n",
    "pos = nx.spring_layout(nxG)\n",
    "nx.draw(nxG, pos, with_labels=True, node_color=\"lightblue\")\n",
    "nx.draw_networkx_edge_labels(nxG, pos, edge_labels=nx.get_edge_attributes(nxG, \"weight\"))\n",
    "plt.show()"
   ]
  },
  {
   "cell_type": "code",
   "execution_count": 11,
   "id": "2f88fba5-d73b-49c0-a0d3-c135a8ba54ea",
   "metadata": {},
   "outputs": [],
   "source": [
    "nxG, man = to_nx(G, directed=True, hyperedge_mode=\"skip\")\n"
   ]
  },
  {
   "cell_type": "code",
   "execution_count": 13,
   "id": "6bb28817-de91-4af4-b9fb-444c6bf96998",
   "metadata": {},
   "outputs": [
    {
     "name": "stdout",
     "output_type": "stream",
     "text": [
      "[(0, (frozenset({'A'}), frozenset({'B'}))), (1, (frozenset({'B'}), frozenset({'C'})))]\n"
     ]
    }
   ],
   "source": [
    "\n",
    "H2 = from_nx(nxG, man)\n",
    "print(list(H2.edges()))\n"
   ]
  },
  {
   "cell_type": "code",
   "execution_count": 15,
   "id": "b0b89e65-e565-4b06-baa3-b3c62eb66ea3",
   "metadata": {},
   "outputs": [
    {
     "name": "stdout",
     "output_type": "stream",
     "text": [
      "0 frozenset({'A'}) frozenset({'B'}) {'__edge_type': 'directed', '__weight': 2.0, '__source_attr': {'A': {'__value': {}}}, '__target_attr': {'B': {'__value': {}}}}\n",
      "1 frozenset({'B'}) frozenset({'C'}) {'__edge_type': 'directed', '__weight': 3.0, '__source_attr': {'B': {'__value': {}}}, '__target_attr': {'C': {'__value': {}}}}\n"
     ]
    }
   ],
   "source": [
    "for eid, (s, t) in H2.edges():\n",
    "    print(eid, s, t, H2.get_attr_edge(eid))\n"
   ]
  },
  {
   "cell_type": "code",
   "execution_count": 17,
   "id": "5e6a7583-600c-4efb-b9e8-abbb0270b5d6",
   "metadata": {},
   "outputs": [
    {
     "name": "stdout",
     "output_type": "stream",
     "text": [
      "Empty DataFrame\n",
      "Columns: []\n",
      "Index: []\n",
      "        __edge_type  __weight           __source_attr           __target_attr\n",
      "edge_id                                                                      \n",
      "edge_0     directed       2.0  {'A': {'__value': {}}}  {'B': {'__value': {}}}\n",
      "edge_1     directed       3.0  {'B': {'__value': {}}}  {'C': {'__value': {}}}\n"
     ]
    }
   ],
   "source": [
    "print(H2.deep.node_attributes.head())  # attrs present\n",
    "print(H2.deep.edge_attributes.head())    # attrs present\n"
   ]
  },
  {
   "cell_type": "code",
   "execution_count": 19,
   "id": "c4dc066b-dd1b-4649-9a4b-3c1a519caa55",
   "metadata": {},
   "outputs": [
    {
     "data": {
      "text/html": [
       "<div>\n",
       "<style scoped>\n",
       "    .dataframe tbody tr th:only-of-type {\n",
       "        vertical-align: middle;\n",
       "    }\n",
       "\n",
       "    .dataframe tbody tr th {\n",
       "        vertical-align: top;\n",
       "    }\n",
       "\n",
       "    .dataframe thead th {\n",
       "        text-align: right;\n",
       "    }\n",
       "</style>\n",
       "<table border=\"1\" class=\"dataframe\">\n",
       "  <thead>\n",
       "    <tr style=\"text-align: right;\">\n",
       "      <th></th>\n",
       "      <th>__edge_type</th>\n",
       "      <th>__weight</th>\n",
       "      <th>__source_attr</th>\n",
       "      <th>__target_attr</th>\n",
       "    </tr>\n",
       "    <tr>\n",
       "      <th>edge_id</th>\n",
       "      <th></th>\n",
       "      <th></th>\n",
       "      <th></th>\n",
       "      <th></th>\n",
       "    </tr>\n",
       "  </thead>\n",
       "  <tbody>\n",
       "    <tr>\n",
       "      <th>edge_0</th>\n",
       "      <td>directed</td>\n",
       "      <td>2.0</td>\n",
       "      <td>{'A': {'__value': {}}}</td>\n",
       "      <td>{'B': {'__value': {}}}</td>\n",
       "    </tr>\n",
       "    <tr>\n",
       "      <th>edge_1</th>\n",
       "      <td>directed</td>\n",
       "      <td>3.0</td>\n",
       "      <td>{'B': {'__value': {}}}</td>\n",
       "      <td>{'C': {'__value': {}}}</td>\n",
       "    </tr>\n",
       "  </tbody>\n",
       "</table>\n",
       "</div>"
      ],
      "text/plain": [
       "        __edge_type  __weight           __source_attr           __target_attr\n",
       "edge_id                                                                      \n",
       "edge_0     directed       2.0  {'A': {'__value': {}}}  {'B': {'__value': {}}}\n",
       "edge_1     directed       3.0  {'B': {'__value': {}}}  {'C': {'__value': {}}}"
      ]
     },
     "execution_count": 19,
     "metadata": {},
     "output_type": "execute_result"
    }
   ],
   "source": [
    "H2.deep.edge_attributes.head()"
   ]
  },
  {
   "cell_type": "code",
   "execution_count": 21,
   "id": "2a493bbb-94bb-4c1f-9bbf-e768f9182e4e",
   "metadata": {},
   "outputs": [],
   "source": [
    "from graphglue.utils.plotting import plot, render\n",
    "\n",
    "G = IncidenceAdapter()\n",
    "G.add_vertices([\"A\",\"B\",\"C\"])\n",
    "G.add_edge({\"A\"}, {\"B\"}, weight=2.5, label=\"ab\")\n",
    "G.add_edge({\"B\"}, {\"C\"}, weight=-1.3, label=\"bc\")\n",
    "G.deep.add_layer(\"L1\")\n",
    "# attach AB to L1 with heavier per-layer weight\n",
    "eid = G.deep.idx_to_edge[0]\n",
    "G.deep.add_edge(\"A\",\"B\", layer=\"L1\", edge_id=eid, edge_directed=True)\n",
    "G.deep.set_layer_edge_weight(\"L1\", eid, 4.0)\n",
    "\n",
    "\n"
   ]
  },
  {
   "cell_type": "code",
   "execution_count": 23,
   "id": "89a4eb47-4e44-43bc-b422-83e23b25a9dc",
   "metadata": {},
   "outputs": [],
   "source": [
    "import os\n",
    "graphviz_path = r\"C:\\Program Files\\Graphviz\\bin\"\n",
    "if graphviz_path not in os.environ[\"PATH\"]:\n",
    "    os.environ[\"PATH\"] += os.pathsep + graphviz_path\n",
    "\n",
    "from graphviz import Digraph"
   ]
  },
  {
   "cell_type": "code",
   "execution_count": 25,
   "id": "89dedfaf-a25a-4983-8b71-ff270340c2e0",
   "metadata": {},
   "outputs": [],
   "source": [
    "# 1) quick graphviz view (layer-aware weights, with edge labels)\n",
    "g = plot(G, backend=\"graphviz\", layer=\"L1\",\n",
    "         show_edge_labels=True, edge_label_keys=[\"label\"],\n",
    "         show_vertex_labels=True, use_weight_style=True)\n"
   ]
  },
  {
   "cell_type": "code",
   "execution_count": 27,
   "id": "585b244d-a55c-461e-a540-3810b5e4987e",
   "metadata": {},
   "outputs": [
    {
     "data": {
      "image/svg+xml": [
       "<?xml version=\"1.0\" encoding=\"UTF-8\" standalone=\"no\"?>\n",
       "<!DOCTYPE svg PUBLIC \"-//W3C//DTD SVG 1.1//EN\"\n",
       " \"http://www.w3.org/Graphics/SVG/1.1/DTD/svg11.dtd\">\n",
       "<!-- Generated by graphviz version 13.1.2 (20250808.2320)\n",
       " -->\n",
       "<!-- Pages: 1 -->\n",
       "<svg width=\"73pt\" height=\"254pt\"\n",
       " viewBox=\"0.00 0.00 73.00 254.00\" xmlns=\"http://www.w3.org/2000/svg\" xmlns:xlink=\"http://www.w3.org/1999/xlink\">\n",
       "<g id=\"graph0\" class=\"graph\" transform=\"scale(1 1) rotate(0) translate(4 250)\">\n",
       "<polygon fill=\"white\" stroke=\"none\" points=\"-4,4 -4,-250 69.25,-250 69.25,4 -4,4\"/>\n",
       "<!-- A -->\n",
       "<g id=\"node1\" class=\"node\">\n",
       "<title>A</title>\n",
       "<ellipse fill=\"none\" stroke=\"black\" cx=\"18\" cy=\"-228\" rx=\"18\" ry=\"18\"/>\n",
       "<text xml:space=\"preserve\" text-anchor=\"middle\" x=\"18\" y=\"-222.95\" font-family=\"Times New Roman,serif\" font-size=\"14.00\">A</text>\n",
       "</g>\n",
       "<!-- B -->\n",
       "<g id=\"node2\" class=\"node\">\n",
       "<title>B</title>\n",
       "<ellipse fill=\"none\" stroke=\"black\" cx=\"18\" cy=\"-123\" rx=\"18\" ry=\"18\"/>\n",
       "<text xml:space=\"preserve\" text-anchor=\"middle\" x=\"18\" y=\"-117.95\" font-family=\"Times New Roman,serif\" font-size=\"14.00\">B</text>\n",
       "</g>\n",
       "<!-- A&#45;&gt;B -->\n",
       "<g id=\"edge1\" class=\"edge\">\n",
       "<title>A&#45;&gt;B</title>\n",
       "<path fill=\"none\" stroke=\"#000000\" stroke-width=\"5\" d=\"M18,-209.53C18,-195.24 18,-174.62 18,-157.2\"/>\n",
       "<polygon fill=\"#000000\" stroke=\"#000000\" stroke-width=\"5\" points=\"22.38,-157.45 18,-147.45 13.63,-157.45 22.38,-157.45\"/>\n",
       "<text xml:space=\"preserve\" text-anchor=\"middle\" x=\"41.62\" y=\"-178.7\" font-family=\"Times New Roman,serif\" font-size=\"14.00\">w=4</text>\n",
       "<text xml:space=\"preserve\" text-anchor=\"middle\" x=\"41.62\" y=\"-162.2\" font-family=\"Times New Roman,serif\" font-size=\"14.00\">label=ab</text>\n",
       "</g>\n",
       "<!-- C -->\n",
       "<g id=\"node3\" class=\"node\">\n",
       "<title>C</title>\n",
       "<ellipse fill=\"none\" stroke=\"black\" cx=\"18\" cy=\"-18\" rx=\"18\" ry=\"18\"/>\n",
       "<text xml:space=\"preserve\" text-anchor=\"middle\" x=\"18\" y=\"-12.95\" font-family=\"Times New Roman,serif\" font-size=\"14.00\">C</text>\n",
       "</g>\n",
       "<!-- B&#45;&gt;C -->\n",
       "<g id=\"edge2\" class=\"edge\">\n",
       "<title>B&#45;&gt;C</title>\n",
       "<path fill=\"none\" stroke=\"#ffffff\" stroke-width=\"0.5\" d=\"M18,-104.53C18,-88.75 18,-65.25 18,-46.88\"/>\n",
       "<polygon fill=\"#ffffff\" stroke=\"#ffffff\" stroke-width=\"0.5\" points=\"21.5,-46.97 18,-36.97 14.5,-46.97 21.5,-46.97\"/>\n",
       "<text xml:space=\"preserve\" text-anchor=\"middle\" x=\"41.62\" y=\"-73.7\" font-family=\"Times New Roman,serif\" font-size=\"14.00\">w=&#45;1.3</text>\n",
       "<text xml:space=\"preserve\" text-anchor=\"middle\" x=\"41.62\" y=\"-57.2\" font-family=\"Times New Roman,serif\" font-size=\"14.00\">label=bc</text>\n",
       "</g>\n",
       "</g>\n",
       "</svg>\n"
      ],
      "text/plain": [
       "<graphviz.graphs.Digraph at 0x20ee217fd70>"
      ]
     },
     "execution_count": 27,
     "metadata": {},
     "output_type": "execute_result"
    }
   ],
   "source": [
    "g"
   ]
  },
  {
   "cell_type": "code",
   "execution_count": 29,
   "id": "f5a84148-7cd0-4083-823f-a8219f3f2ec8",
   "metadata": {},
   "outputs": [],
   "source": [
    "from graphglue.adapters.igraph import to_igraph, from_igraph, save_manifest, load_manifest"
   ]
  },
  {
   "cell_type": "code",
   "execution_count": 31,
   "id": "e4f5429d-f993-44ee-82a2-12dc801fb6ad",
   "metadata": {},
   "outputs": [],
   "source": [
    "igG, manifest = to_igraph(G, directed=True, hyperedge_mode=\"skip\", public_only=False)\n",
    "H = from_igraph(igG, manifest)"
   ]
  },
  {
   "cell_type": "code",
   "execution_count": 33,
   "id": "48dd250c-6788-42ed-bcf0-89a350a79368",
   "metadata": {},
   "outputs": [],
   "source": [
    "igGp = plot(H, backend=\"graphviz\", layer=\"L1\",\n",
    "         show_edge_labels=True, edge_label_keys=[\"label\"],\n",
    "         show_vertex_labels=True, use_weight_style=True)\n"
   ]
  },
  {
   "cell_type": "code",
   "execution_count": 35,
   "id": "5dc3ff3a-e2d9-4486-95f8-4a8a33517297",
   "metadata": {},
   "outputs": [
    {
     "data": {
      "text/plain": [
       "<graphglue.core.adapter.IncidenceAdapter at 0x20ee2a9a4e0>"
      ]
     },
     "execution_count": 35,
     "metadata": {},
     "output_type": "execute_result"
    }
   ],
   "source": [
    "H"
   ]
  },
  {
   "cell_type": "code",
   "execution_count": null,
   "id": "3cfb9d29-1cbb-436f-935a-7c1fd0be70ee",
   "metadata": {},
   "outputs": [],
   "source": []
  },
  {
   "cell_type": "code",
   "execution_count": null,
   "id": "a5cacd89-09e7-4e7c-8c5d-1bdf7741edfa",
   "metadata": {},
   "outputs": [],
   "source": []
  }
 ],
 "metadata": {
  "kernelspec": {
   "display_name": "Python [conda env:base] *",
   "language": "python",
   "name": "conda-base-py"
  },
  "language_info": {
   "codemirror_mode": {
    "name": "ipython",
    "version": 3
   },
   "file_extension": ".py",
   "mimetype": "text/x-python",
   "name": "python",
   "nbconvert_exporter": "python",
   "pygments_lexer": "ipython3",
   "version": "3.12.7"
  }
 },
 "nbformat": 4,
 "nbformat_minor": 5
}
