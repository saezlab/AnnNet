{
 "cells": [
  {
   "cell_type": "code",
   "execution_count": 31,
   "id": "2dcdeb30-e714-4d65-86ca-855c07a6760d",
   "metadata": {},
   "outputs": [],
   "source": [
    "# ---------- Import ----------\n",
    "import os, sys\n",
    "sys.path.insert(0, os.path.abspath(\"..\"))  # adds .../src to sys.path\n",
    "from graphglue.core import IncidenceAdapter"
   ]
  },
  {
   "cell_type": "code",
   "execution_count": 3,
   "id": "cf2037ef-99fb-4d18-957e-7eeb20ec9cfe",
   "metadata": {},
   "outputs": [],
   "source": [
    "# ---------- Setup ----------\n",
    "G = IncidenceGraph(directed=True)\n",
    "conditions = [\"Healthy\", \"Stressed\", \"Disease\"]\n",
    "for c in conditions:\n",
    "    G.add_layer(c, condition=c)\n",
    "\n",
    "# Entities\n",
    "proteins = [f\"P{i}\" for i in range(1, 151)]   # P1..P150\n",
    "transcripts = [f\"T{i}\" for i in range(1, 61)]  # T1..T60 (treat as nodes)\n",
    "enz_edge_entities = [f\"edge_rxn_{i}\" for i in range(1, 11)]  # edge-entities for reactions\n",
    "\n",
    "# Seed some node attributes\n",
    "for p in proteins[:10]:\n",
    "    G.add_node(p, layer=\"Healthy\", family=\"kinase\")\n",
    "for p in proteins[10:]:\n",
    "    G.add_node(p, layer=\"Healthy\")\n",
    "for t in transcripts:\n",
    "    G.add_node(t, layer=\"Healthy\", kind=\"transcript\")\n",
    "for ee in enz_edge_entities:\n",
    "    G.add_edge_entity(ee, layer=\"Healthy\", role=\"enzyme\")\n",
    "\n",
    "# Propagate initial nodes to all layers (cheaply)\n",
    "for lid in [\"Stressed\", \"Disease\"]:\n",
    "    G._layers[lid][\"nodes\"].update(G._layers[\"Healthy\"][\"nodes\"])"
   ]
  },
  {
   "cell_type": "code",
   "execution_count": 5,
   "id": "5a76d0ff-c7a1-421d-afc7-0f4de468c52f",
   "metadata": {},
   "outputs": [],
   "source": [
    "# ---------- Build PPI edges in all layers ----------\n",
    "import random\n",
    "\n",
    "def rand_weight(base=1.0, jitter=0.5):\n",
    "    return max(0.05, base + (random.random() - 0.5) * 2 * jitter)\n",
    "\n",
    "ppis = []\n",
    "for _ in range(320):\n",
    "    u, v = random.sample(proteins, 2)\n",
    "    w = rand_weight(1.2, 0.6)\n",
    "    e = G.add_edge(u, v, layer=\"Healthy\", weight=w, edge_directed=False)\n",
    "    ppis.append(e)\n",
    "\n",
    "# Stress/disease layer variants (override per-layer weights)\n",
    "for eid in ppis:\n",
    "    # Stressed: mostly +10% with jitter\n",
    "    G.add_edge_to_layer(\"Stressed\", eid)\n",
    "    G.set_edge_layer_attrs(\"Stressed\", eid, weight=G.edge_weights[eid] * rand_weight(1.10, 0.1))\n",
    "    # Disease: some edges get weaker; others stronger\n",
    "    G.add_edge_to_layer(\"Disease\", eid)\n",
    "    factor = 0.7 if random.random() < 0.4 else 1.3\n",
    "    G.set_edge_layer_attrs(\"Disease\", eid, weight=G.edge_weights[eid] * rand_weight(factor, 0.15))"
   ]
  },
  {
   "cell_type": "code",
   "execution_count": 7,
   "id": "f984ac51-9a21-4e8d-85c2-c0fafb0121f8",
   "metadata": {},
   "outputs": [],
   "source": [
    "# ---------- Complexes as undirected hyperedges ----------\n",
    "complexes = []\n",
    "for _ in range(12):\n",
    "    members = set(random.sample(proteins, random.choice([3, 4, 5])))\n",
    "    hid = G.add_hyperedge(members=members, layer=\"Healthy\", weight=rand_weight(1.0, 0.2))\n",
    "    complexes.append(hid)\n",
    "    # complex exists in all layers (same membership)\n",
    "    for lid in [\"Stressed\", \"Disease\"]:\n",
    "        G.add_edge_to_layer(lid, hid)"
   ]
  },
  {
   "cell_type": "code",
   "execution_count": 9,
   "id": "d846cbf1-c5ed-4a17-a65c-89bd8620ae50",
   "metadata": {},
   "outputs": [],
   "source": [
    "# ---------- Directed signaling cascades as hyperedges ----------\n",
    "cascades = []\n",
    "while len(cascades) < 8:\n",
    "    head = set(random.sample(proteins, random.choice([1, 2])))\n",
    "    tail = set(random.sample(proteins, random.choice([2, 3, 4])))\n",
    "    if head & tail:\n",
    "        continue  # resample until disjoint\n",
    "    hid = G.add_hyperedge(head=head, tail=tail, layer=\"Healthy\", weight=rand_weight(1.0, 0.4))\n",
    "    cascades.append(hid)\n",
    "    for lid in [\"Stressed\", \"Disease\"]:\n",
    "        G.add_edge_to_layer(lid, hid)"
   ]
  },
  {
   "cell_type": "code",
   "execution_count": 11,
   "id": "f4ccdd12-bedf-4270-99f6-ea0afe05f00e",
   "metadata": {},
   "outputs": [],
   "source": [
    "# ---------- Reactions connecting nodes to edge-entities ----------\n",
    "for ee in enz_edge_entities:\n",
    "    s, t = random.sample(proteins, 2)\n",
    "    G.add_edge(s, ee, layer=\"Healthy\", edge_type=\"node_edge\", weight=1.0 + random.random())\n",
    "    G.add_edge(ee, t, layer=\"Healthy\", edge_type=\"node_edge\", weight=1.0 + random.random())\n",
    "    # propagate across layers\n",
    "    for lid in [\"Stressed\", \"Disease\"]:\n",
    "        G._layers[lid][\"edges\"].update(G._layers[\"Healthy\"][\"edges\"])"
   ]
  },
  {
   "cell_type": "code",
   "execution_count": 13,
   "id": "b840d04f-0650-41e7-857c-05f9e057aa5b",
   "metadata": {},
   "outputs": [
    {
     "name": "stdout",
     "output_type": "stream",
     "text": [
      "Nodes: 210 Edges: 360\n"
     ]
    }
   ],
   "source": [
    "# ---------- Basic sanity ----------\n",
    "print(\"Nodes:\", G.number_of_nodes(), \"Edges:\", G.number_of_edges())\n",
    "\n",
    "# Only true \"nodes\" are counted by number_of_nodes() (proteins + transcripts)\n",
    "expected_nodes = len(set(proteins)) + len(set(transcripts))  # 150 + 60 = 210\n",
    "assert G.number_of_nodes() >= expected_nodes, f\"Expected ≥{expected_nodes}, got {G.number_of_nodes()}\"\n",
    "\n",
    "# Edge-entities are tracked as entity_type == 'edge' (not included in number_of_nodes)\n",
    "edge_entity_ids = set(enz_edge_entities)\n",
    "edge_entity_count = sum(1 for _id, et in G.entity_types.items() if et == \"edge\" and _id in edge_entity_ids)\n",
    "assert edge_entity_count == len(edge_entity_ids), f\"Expected {len(edge_entity_ids)} edge-entities, got {edge_entity_count}\"\n",
    "\n",
    "# Edges: PPIs (320) + complexes (12) + cascades (8) + reaction links (10*2) = 360 minimum\n",
    "assert G.number_of_edges() >= 320 + 12 + 8 + (10 * 2)\n"
   ]
  },
  {
   "cell_type": "code",
   "execution_count": 15,
   "id": "65e3e20e-0e21-43a2-a464-733819c326a8",
   "metadata": {},
   "outputs": [
    {
     "name": "stdout",
     "output_type": "stream",
     "text": [
      "[Healthy] edges_view rows = 360\n",
      "\n",
      "Top 5 binary edges by effective_weight in Healthy:\n",
      "shape: (5, 4)\n",
      "┌──────────┬────────────┬────────────┬──────────────────┐\n",
      "│ edge_id  ┆ source     ┆ target     ┆ effective_weight │\n",
      "│ ---      ┆ ---        ┆ ---        ┆ ---              │\n",
      "│ str      ┆ str        ┆ str        ┆ f64              │\n",
      "╞══════════╪════════════╪════════════╪══════════════════╡\n",
      "│ edge_357 ┆ edge_rxn_9 ┆ P149       ┆ 1.947506         │\n",
      "│ edge_344 ┆ P142       ┆ edge_rxn_3 ┆ 1.910745         │\n",
      "│ edge_345 ┆ edge_rxn_3 ┆ P31        ┆ 1.87319          │\n",
      "│ edge_352 ┆ P110       ┆ edge_rxn_7 ┆ 1.827472         │\n",
      "│ edge_342 ┆ P116       ┆ edge_rxn_2 ┆ 1.821367         │\n",
      "└──────────┴────────────┴────────────┴──────────────────┘\n",
      "[Stressed] edges_view rows = 360\n",
      "\n",
      "Top 5 binary edges by effective_weight in Stressed:\n",
      "shape: (5, 4)\n",
      "┌──────────┬────────────┬────────────┬──────────────────┐\n",
      "│ edge_id  ┆ source     ┆ target     ┆ effective_weight │\n",
      "│ ---      ┆ ---        ┆ ---        ┆ ---              │\n",
      "│ str      ┆ str        ┆ str        ┆ f64              │\n",
      "╞══════════╪════════════╪════════════╪══════════════════╡\n",
      "│ edge_357 ┆ edge_rxn_9 ┆ P149       ┆ 1.947506         │\n",
      "│ edge_344 ┆ P142       ┆ edge_rxn_3 ┆ 1.910745         │\n",
      "│ edge_345 ┆ edge_rxn_3 ┆ P31        ┆ 1.87319          │\n",
      "│ edge_352 ┆ P110       ┆ edge_rxn_7 ┆ 1.827472         │\n",
      "│ edge_342 ┆ P116       ┆ edge_rxn_2 ┆ 1.821367         │\n",
      "└──────────┴────────────┴────────────┴──────────────────┘\n",
      "[Disease] edges_view rows = 360\n",
      "\n",
      "Top 5 binary edges by effective_weight in Disease:\n",
      "shape: (5, 4)\n",
      "┌──────────┬────────────┬────────────┬──────────────────┐\n",
      "│ edge_id  ┆ source     ┆ target     ┆ effective_weight │\n",
      "│ ---      ┆ ---        ┆ ---        ┆ ---              │\n",
      "│ str      ┆ str        ┆ str        ┆ f64              │\n",
      "╞══════════╪════════════╪════════════╪══════════════════╡\n",
      "│ edge_357 ┆ edge_rxn_9 ┆ P149       ┆ 1.947506         │\n",
      "│ edge_344 ┆ P142       ┆ edge_rxn_3 ┆ 1.910745         │\n",
      "│ edge_345 ┆ edge_rxn_3 ┆ P31        ┆ 1.87319          │\n",
      "│ edge_352 ┆ P110       ┆ edge_rxn_7 ┆ 1.827472         │\n",
      "│ edge_342 ┆ P116       ┆ edge_rxn_2 ┆ 1.821367         │\n",
      "└──────────┴────────────┴────────────┴──────────────────┘\n"
     ]
    }
   ],
   "source": [
    "# ---------- Views & top edges by condition ----------\n",
    "import polars as pl\n",
    "\n",
    "for cond in conditions:\n",
    "    EV = G.edges_view(layer=cond, resolved_weight=True)\n",
    "    print(f\"[{cond}] edges_view rows =\", EV.height)\n",
    "    top = (\n",
    "        EV\n",
    "        .filter(pl.col(\"kind\") == \"binary\")\n",
    "        .sort(\"effective_weight\", descending=True)\n",
    "        .select([\"edge_id\", \"source\", \"target\", \"effective_weight\"])\n",
    "        .head(5)\n",
    "    )\n",
    "    print(f\"\\nTop 5 binary edges by effective_weight in {cond}:\")\n",
    "    print(top)"
   ]
  },
  {
   "cell_type": "code",
   "execution_count": 17,
   "id": "cdb4c103-a4f3-4f12-9584-a738a76c7bbc",
   "metadata": {},
   "outputs": [
    {
     "name": "stdout",
     "output_type": "stream",
     "text": [
      "\n",
      "Layer stats: {'Healthy': {'nodes': 220, 'edges': 360, 'attributes': {'condition': 'Healthy'}}, 'Stressed': {'nodes': 220, 'edges': 360, 'attributes': {'condition': 'Stressed'}}, 'Disease': {'nodes': 220, 'edges': 360, 'attributes': {'condition': 'Disease'}}}\n",
      "\n",
      "Conserved edges (in all conditions): 360\n",
      "Disease-specific edges: 0\n",
      "\n",
      "Temporal edge changes (Healthy→Stressed→Disease): [{'added': 0, 'removed': 0, 'net_change': 0}, {'added': 0, 'removed': 0, 'net_change': 0}]\n"
     ]
    }
   ],
   "source": [
    "# ---------- Layer analytics ----------\n",
    "stats = G.layer_statistics()\n",
    "print(\"\\nLayer stats:\", stats)\n",
    "\n",
    "conserved = G.conserved_edges(min_layers=3)  # present in all 3 conditions\n",
    "print(\"\\nConserved edges (in all conditions):\", len(conserved))\n",
    "\n",
    "disease_specific = G.layer_specific_edges(\"Disease\")\n",
    "print(\"Disease-specific edges:\", len(disease_specific))\n",
    "\n",
    "changes = G.temporal_dynamics([\"Healthy\", \"Stressed\", \"Disease\"], metric=\"edge_change\")\n",
    "print(\"\\nTemporal edge changes (Healthy→Stressed→Disease):\", changes)\n",
    "assert len(changes) == 2"
   ]
  },
  {
   "cell_type": "code",
   "execution_count": 19,
   "id": "572a4375-daff-41eb-8a3c-833640143ea9",
   "metadata": {},
   "outputs": [
    {
     "name": "stdout",
     "output_type": "stream",
     "text": [
      "\n",
      "Edge presence for edge_0 : ['Healthy', 'Stressed', 'Disease']\n",
      "Node presence for P81 : ['Healthy', 'Stressed', 'Disease']\n"
     ]
    }
   ],
   "source": [
    "# ---------- Presence queries ----------\n",
    "some_e = next(iter(G.edge_to_idx.keys()))\n",
    "print(\"\\nEdge presence for\", some_e, \":\", G.edge_presence_across_layers(edge_id=some_e))\n",
    "some_p = random.choice(proteins)\n",
    "print(\"Node presence for\", some_p, \":\", G.node_presence_across_layers(some_p))"
   ]
  },
  {
   "cell_type": "code",
   "execution_count": 21,
   "id": "04da2d8f-d24f-4346-9716-3441f7180cb2",
   "metadata": {},
   "outputs": [
    {
     "name": "stdout",
     "output_type": "stream",
     "text": [
      "\n",
      "Neighbors(P95) => ['P100', 'P93', 'P62', 'P89', 'P142']\n",
      "Out(P95) => ['P100', 'P93', 'P62', 'P89', 'P142']\n",
      "In(P95) => ['P100', 'P93', 'P62', 'P89', 'P142']\n"
     ]
    }
   ],
   "source": [
    "# ---------- Traversal checks ----------\n",
    "q = random.choice(proteins)\n",
    "print(f\"\\nNeighbors({q}) =>\", G.neighbors(q)[:10])\n",
    "print(f\"Out({q}) =>\", G.out_neighbors(q)[:10])\n",
    "print(f\"In({q}) =>\", G.in_neighbors(q)[:10])"
   ]
  },
  {
   "cell_type": "code",
   "execution_count": 23,
   "id": "13b50a3e-11d4-4e72-9172-c82884cabecd",
   "metadata": {},
   "outputs": [
    {
     "name": "stdout",
     "output_type": "stream",
     "text": [
      "\n",
      "Disease subgraph: nodes = 210 edges = 360\n",
      "copy() OK\n"
     ]
    }
   ],
   "source": [
    "# ---------- Subgraph slice & copy ----------\n",
    "H = G.subgraph_from_layer(\"Disease\", resolve_layer_weights=True)\n",
    "assert set(H.nodes()).issubset(set(G.nodes()))\n",
    "assert set(H.edges()).issubset(set(G.edges()))\n",
    "print(\"\\nDisease subgraph: nodes =\", H.number_of_nodes(), \"edges =\", H.number_of_edges())\n",
    "\n",
    "K = G.copy()\n",
    "assert set(K.nodes()) == set(G.nodes())\n",
    "assert set(K.edges()) == set(G.edges())\n",
    "# hyperedge shape preserved\n",
    "any_hyper = next(e for e,k in G.edge_kind.items() if k == \"hyper\")\n",
    "assert K.edge_kind.get(any_hyper) == \"hyper\"\n",
    "# layer sets preserved\n",
    "for lid in G.list_layers(include_default=True):\n",
    "    assert K._layers[lid][\"nodes\"] == G._layers[lid][\"nodes\"]\n",
    "    assert K._layers[lid][\"edges\"] == G._layers[lid][\"edges\"]\n",
    "print(\"copy() OK\")"
   ]
  },
  {
   "cell_type": "code",
   "execution_count": 25,
   "id": "8e623fd2-a05f-411b-8774-0070b0be84ca",
   "metadata": {},
   "outputs": [
    {
     "name": "stdout",
     "output_type": "stream",
     "text": [
      "\n",
      "After removing 5 proteins: nodes = 205 edges = 337\n",
      "After removing 10 edges: nodes = 205 edges = 327\n"
     ]
    }
   ],
   "source": [
    "# ---------- Remove operations stress ----------\n",
    "to_drop_nodes = random.sample(proteins, 5)\n",
    "for n in to_drop_nodes:\n",
    "    if n in G.entity_to_idx:\n",
    "        G.remove_node(n)\n",
    "print(\"\\nAfter removing 5 proteins: nodes =\", G.number_of_nodes(), \"edges =\", G.number_of_edges())\n",
    "\n",
    "to_drop_edges = list(G.edge_to_idx.keys())[:10]\n",
    "for eid in to_drop_edges:\n",
    "    if eid in G.edge_to_idx:\n",
    "        G.remove_edge(eid)\n",
    "print(\"After removing 10 edges: nodes =\", G.number_of_nodes(), \"edges =\", G.number_of_edges())"
   ]
  },
  {
   "cell_type": "code",
   "execution_count": 27,
   "id": "c37e303c-1f8b-452e-8df2-98f282382fd8",
   "metadata": {},
   "outputs": [
    {
     "name": "stdout",
     "output_type": "stream",
     "text": [
      "\n",
      "Audit: {'extra_node_rows': ['edge_rxn_8', 'edge_rxn_10', 'edge_rxn_7', 'edge_rxn_1', 'edge_rxn_4', 'edge_rxn_2', 'edge_rxn_6', 'edge_rxn_9', 'edge_rxn_5', 'edge_rxn_3'], 'extra_edge_rows': [], 'missing_node_rows': [], 'missing_edge_rows': ['edge_114', 'edge_63', 'edge_46', 'edge_201', 'edge_328', 'edge_346', 'edge_227', 'edge_41', 'edge_73', 'edge_325', 'edge_85', 'edge_141', 'edge_218', 'edge_313', 'edge_68', 'edge_248', 'edge_238', 'edge_349', 'edge_176', 'edge_308', 'edge_155', 'edge_35', 'edge_279', 'edge_152', 'edge_121', 'edge_342', 'edge_237', 'edge_194', 'edge_158', 'edge_24', 'edge_327', 'edge_340', 'edge_189', 'edge_294', 'edge_269', 'edge_301', 'edge_80', 'edge_171', 'edge_72', 'edge_262', 'edge_350', 'edge_240', 'edge_95', 'edge_276', 'edge_27', 'edge_22', 'edge_341', 'edge_319', 'edge_25', 'edge_177', 'edge_357', 'edge_129', 'edge_67', 'edge_96', 'edge_47', 'edge_331', 'edge_214', 'edge_274', 'edge_124', 'edge_159', 'edge_19', 'edge_267', 'edge_86', 'edge_297', 'edge_97', 'edge_178', 'edge_228', 'edge_11', 'edge_312', 'edge_79', 'edge_300', 'edge_241', 'edge_345', 'edge_98', 'edge_84', 'edge_183', 'edge_285', 'edge_55', 'edge_250', 'edge_347', 'edge_144', 'edge_281', 'edge_18', 'edge_247', 'edge_145', 'edge_40', 'edge_283', 'edge_188', 'edge_122', 'edge_275', 'edge_343', 'edge_48', 'edge_280', 'edge_261', 'edge_351', 'edge_355', 'edge_39', 'edge_37', 'edge_100', 'edge_208', 'edge_106', 'edge_310', 'edge_140', 'edge_320', 'edge_213', 'edge_56', 'edge_306', 'edge_234', 'edge_116', 'edge_199', 'edge_186', 'edge_83', 'edge_147', 'edge_136', 'edge_139', 'edge_260', 'edge_290', 'edge_242', 'edge_142', 'edge_148', 'edge_324', 'edge_266', 'edge_31', 'edge_45', 'edge_316', 'edge_271', 'edge_223', 'edge_160', 'edge_108', 'edge_172', 'edge_314', 'edge_57', 'edge_335', 'edge_273', 'edge_66', 'edge_339', 'edge_110', 'edge_163', 'edge_257', 'edge_304', 'edge_54', 'edge_332', 'edge_157', 'edge_150', 'edge_107', 'edge_353', 'edge_252', 'edge_90', 'edge_13', 'edge_133', 'edge_21', 'edge_71', 'edge_284', 'edge_149', 'edge_348', 'edge_29', 'edge_336', 'edge_263', 'edge_333', 'edge_185', 'edge_196', 'edge_295', 'edge_131', 'edge_181', 'edge_272', 'edge_337', 'edge_235', 'edge_151', 'edge_359', 'edge_236', 'edge_197', 'edge_287', 'edge_138', 'edge_220', 'edge_61', 'edge_286', 'edge_226', 'edge_113', 'edge_119', 'edge_191', 'edge_28', 'edge_338', 'edge_167', 'edge_356', 'edge_244', 'edge_265', 'edge_78', 'edge_209', 'edge_164', 'edge_146', 'edge_225', 'edge_270', 'edge_101', 'edge_334', 'edge_120', 'edge_200', 'edge_215', 'edge_102', 'edge_169', 'edge_239', 'edge_105', 'edge_298', 'edge_182', 'edge_206', 'edge_323', 'edge_70', 'edge_246', 'edge_125', 'edge_354', 'edge_195', 'edge_198', 'edge_321', 'edge_69', 'edge_12', 'edge_309', 'edge_251', 'edge_305', 'edge_17', 'edge_82', 'edge_233', 'edge_253', 'edge_94', 'edge_132', 'edge_249', 'edge_180', 'edge_229', 'edge_10', 'edge_104', 'edge_358', 'edge_115', 'edge_156', 'edge_232', 'edge_74', 'edge_264', 'edge_77', 'edge_137', 'edge_193', 'edge_259', 'edge_111', 'edge_33', 'edge_128', 'edge_254', 'edge_288', 'edge_202', 'edge_64', 'edge_91', 'edge_230', 'edge_109', 'edge_217', 'edge_15', 'edge_103', 'edge_299', 'edge_322', 'edge_210', 'edge_190', 'edge_154', 'edge_256', 'edge_30', 'edge_130', 'edge_179', 'edge_231', 'edge_20', 'edge_50', 'edge_330', 'edge_127', 'edge_204', 'edge_162', 'edge_291', 'edge_216', 'edge_36', 'edge_307', 'edge_192', 'edge_289', 'edge_134', 'edge_329', 'edge_243', 'edge_92', 'edge_221', 'edge_292', 'edge_245', 'edge_53', 'edge_112', 'edge_88', 'edge_60', 'edge_143', 'edge_224', 'edge_277', 'edge_212', 'edge_344', 'edge_207', 'edge_222', 'edge_153', 'edge_76', 'edge_174', 'edge_93', 'edge_302', 'edge_87', 'edge_117', 'edge_317', 'edge_126', 'edge_166', 'edge_293', 'edge_311', 'edge_175', 'edge_258', 'edge_23', 'edge_135', 'edge_16', 'edge_65', 'edge_81', 'edge_26', 'edge_170', 'edge_42', 'edge_168', 'edge_219', 'edge_161', 'edge_99', 'edge_205', 'edge_184', 'edge_89', 'edge_165', 'edge_75', 'edge_173', 'edge_43', 'edge_315', 'edge_352', 'edge_255'], 'invalid_edge_layer_rows': []}\n",
      "Approx memory usage (bytes): 96641\n",
      "\n",
      "Reality-check finished ✅\n"
     ]
    }
   ],
   "source": [
    "# ---------- Audit & memory ----------\n",
    "audit = G.audit_attributes()\n",
    "print(\"\\nAudit:\", audit)\n",
    "mem_bytes = G.memory_usage()\n",
    "print(\"Approx memory usage (bytes):\", int(mem_bytes))\n",
    "assert mem_bytes > 0\n",
    "\n",
    "print(\"\\nReality-check finished ✅\")"
   ]
  },
  {
   "cell_type": "code",
   "execution_count": null,
   "id": "e680db4e-a024-4ee0-afc6-f32759ba3ea7",
   "metadata": {},
   "outputs": [],
   "source": []
  },
  {
   "cell_type": "code",
   "execution_count": null,
   "id": "0f43c65f-803c-4901-bede-e67b6ca48768",
   "metadata": {},
   "outputs": [],
   "source": []
  },
  {
   "cell_type": "code",
   "execution_count": null,
   "id": "966147b5-42c6-493e-8c61-4bba0e32da09",
   "metadata": {},
   "outputs": [],
   "source": []
  },
  {
   "cell_type": "code",
   "execution_count": null,
   "id": "114cf8d8-e753-43dc-a22e-e676e2b98bbb",
   "metadata": {},
   "outputs": [],
   "source": []
  },
  {
   "cell_type": "code",
   "execution_count": null,
   "id": "2b8ccfbe-9531-4fa3-8422-849ae843f472",
   "metadata": {},
   "outputs": [],
   "source": []
  },
  {
   "cell_type": "code",
   "execution_count": null,
   "id": "75ff48e1-fe7f-4984-b545-6762c0fa8205",
   "metadata": {},
   "outputs": [],
   "source": []
  },
  {
   "cell_type": "code",
   "execution_count": null,
   "id": "1e5a569a-9453-4db7-bebd-5d5f95e3f44e",
   "metadata": {},
   "outputs": [],
   "source": []
  },
  {
   "cell_type": "code",
   "execution_count": null,
   "id": "e3e5fbcb-2a34-4072-9d7c-9c7f4c1bb8bb",
   "metadata": {},
   "outputs": [],
   "source": []
  },
  {
   "cell_type": "code",
   "execution_count": null,
   "id": "d4ef7aca-df81-4a77-a87a-47cd59fb7630",
   "metadata": {},
   "outputs": [],
   "source": []
  }
 ],
 "metadata": {
  "kernelspec": {
   "display_name": "Python [conda env:base] *",
   "language": "python",
   "name": "conda-base-py"
  },
  "language_info": {
   "codemirror_mode": {
    "name": "ipython",
    "version": 3
   },
   "file_extension": ".py",
   "mimetype": "text/x-python",
   "name": "python",
   "nbconvert_exporter": "python",
   "pygments_lexer": "ipython3",
   "version": "3.12.7"
  }
 },
 "nbformat": 4,
 "nbformat_minor": 5
}
