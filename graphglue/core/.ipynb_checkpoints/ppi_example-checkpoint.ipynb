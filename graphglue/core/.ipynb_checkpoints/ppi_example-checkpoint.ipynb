{
 "cells": [
  {
   "cell_type": "code",
   "execution_count": 1,
   "id": "2dcdeb30-e714-4d65-86ca-855c07a6760d",
   "metadata": {},
   "outputs": [],
   "source": [
    "import sys\n",
    "sys.path.insert(0, r\"C:\\Users\\PC\\Desktop\\graphglue - Copie - Copie\")\n",
    "from graphglue.core.incgraph import IncidenceGraph\n"
   ]
  },
  {
   "cell_type": "code",
   "execution_count": 3,
   "id": "cf2037ef-99fb-4d18-957e-7eeb20ec9cfe",
   "metadata": {},
   "outputs": [],
   "source": [
    "# ---------- Setup ----------\n",
    "G = IncidenceGraph(directed=True)\n",
    "conditions = [\"Healthy\", \"Stressed\", \"Disease\"]\n",
    "for c in conditions:\n",
    "    G.add_layer(c, condition=c)\n",
    "\n",
    "# Entities\n",
    "proteins = [f\"P{i}\" for i in range(1, 151)]   # P1..P150\n",
    "transcripts = [f\"T{i}\" for i in range(1, 61)]  # T1..T60 (treat as nodes)\n",
    "enz_edge_entities = [f\"edge_rxn_{i}\" for i in range(1, 11)]  # edge-entities for reactions\n",
    "\n",
    "# Seed some node attributes\n",
    "for p in proteins[:10]:\n",
    "    G.add_node(p, layer=\"Healthy\", family=\"kinase\")\n",
    "for p in proteins[10:]:\n",
    "    G.add_node(p, layer=\"Healthy\")\n",
    "for t in transcripts:\n",
    "    G.add_node(t, layer=\"Healthy\", kind=\"transcript\")\n",
    "for ee in enz_edge_entities:\n",
    "    G.add_edge_entity(ee, layer=\"Healthy\", role=\"enzyme\")\n",
    "\n",
    "# Propagate initial nodes to all layers (cheaply)\n",
    "for lid in [\"Stressed\", \"Disease\"]:\n",
    "    G._layers[lid][\"nodes\"].update(G._layers[\"Healthy\"][\"nodes\"])"
   ]
  },
  {
   "cell_type": "code",
   "execution_count": 5,
   "id": "5a76d0ff-c7a1-421d-afc7-0f4de468c52f",
   "metadata": {},
   "outputs": [],
   "source": [
    "# ---------- Build PPI edges in all layers ----------\n",
    "import random\n",
    "\n",
    "def rand_weight(base=1.0, jitter=0.5):\n",
    "    return max(0.05, base + (random.random() - 0.5) * 2 * jitter)\n",
    "\n",
    "ppis = []\n",
    "for _ in range(320):\n",
    "    u, v = random.sample(proteins, 2)\n",
    "    w = rand_weight(1.2, 0.6)\n",
    "    e = G.add_edge(u, v, layer=\"Healthy\", weight=w, edge_directed=False)\n",
    "    ppis.append(e)\n",
    "\n",
    "# Stress/disease layer variants (override per-layer weights)\n",
    "for eid in ppis:\n",
    "    # Stressed: mostly +10% with jitter\n",
    "    G.add_edge_to_layer(\"Stressed\", eid)\n",
    "    G.set_edge_layer_attrs(\"Stressed\", eid, weight=G.edge_weights[eid] * rand_weight(1.10, 0.1))\n",
    "    # Disease: some edges get weaker; others stronger\n",
    "    G.add_edge_to_layer(\"Disease\", eid)\n",
    "    factor = 0.7 if random.random() < 0.4 else 1.3\n",
    "    G.set_edge_layer_attrs(\"Disease\", eid, weight=G.edge_weights[eid] * rand_weight(factor, 0.15))"
   ]
  },
  {
   "cell_type": "code",
   "execution_count": 7,
   "id": "f984ac51-9a21-4e8d-85c2-c0fafb0121f8",
   "metadata": {},
   "outputs": [],
   "source": [
    "# ---------- Complexes as undirected hyperedges ----------\n",
    "complexes = []\n",
    "for _ in range(12):\n",
    "    members = set(random.sample(proteins, random.choice([3, 4, 5])))\n",
    "    hid = G.add_hyperedge(members=members, layer=\"Healthy\", weight=rand_weight(1.0, 0.2))\n",
    "    complexes.append(hid)\n",
    "    # complex exists in all layers (same membership)\n",
    "    for lid in [\"Stressed\", \"Disease\"]:\n",
    "        G.add_edge_to_layer(lid, hid)"
   ]
  },
  {
   "cell_type": "code",
   "execution_count": 9,
   "id": "d846cbf1-c5ed-4a17-a65c-89bd8620ae50",
   "metadata": {},
   "outputs": [],
   "source": [
    "# ---------- Directed signaling cascades as hyperedges ----------\n",
    "cascades = []\n",
    "while len(cascades) < 8:\n",
    "    head = set(random.sample(proteins, random.choice([1, 2])))\n",
    "    tail = set(random.sample(proteins, random.choice([2, 3, 4])))\n",
    "    if head & tail:\n",
    "        continue  # resample until disjoint\n",
    "    hid = G.add_hyperedge(head=head, tail=tail, layer=\"Healthy\", weight=rand_weight(1.0, 0.4))\n",
    "    cascades.append(hid)\n",
    "    for lid in [\"Stressed\", \"Disease\"]:\n",
    "        G.add_edge_to_layer(lid, hid)"
   ]
  },
  {
   "cell_type": "code",
   "execution_count": 11,
   "id": "f4ccdd12-bedf-4270-99f6-ea0afe05f00e",
   "metadata": {},
   "outputs": [],
   "source": [
    "# ---------- Reactions connecting nodes to edge-entities ----------\n",
    "for ee in enz_edge_entities:\n",
    "    s, t = random.sample(proteins, 2)\n",
    "    G.add_edge(s, ee, layer=\"Healthy\", edge_type=\"node_edge\", weight=1.0 + random.random())\n",
    "    G.add_edge(ee, t, layer=\"Healthy\", edge_type=\"node_edge\", weight=1.0 + random.random())\n",
    "    # propagate across layers\n",
    "    for lid in [\"Stressed\", \"Disease\"]:\n",
    "        G._layers[lid][\"edges\"].update(G._layers[\"Healthy\"][\"edges\"])"
   ]
  },
  {
   "cell_type": "code",
   "execution_count": 13,
   "id": "b840d04f-0650-41e7-857c-05f9e057aa5b",
   "metadata": {},
   "outputs": [
    {
     "name": "stdout",
     "output_type": "stream",
     "text": [
      "Nodes: 210 Edges: 360\n"
     ]
    }
   ],
   "source": [
    "# ---------- Basic sanity ----------\n",
    "print(\"Nodes:\", G.number_of_nodes(), \"Edges:\", G.number_of_edges())\n",
    "\n",
    "# Only true \"nodes\" are counted by number_of_nodes() (proteins + transcripts)\n",
    "expected_nodes = len(set(proteins)) + len(set(transcripts))  # 150 + 60 = 210\n",
    "assert G.number_of_nodes() >= expected_nodes, f\"Expected ≥{expected_nodes}, got {G.number_of_nodes()}\"\n",
    "\n",
    "# Edge-entities are tracked as entity_type == 'edge' (not included in number_of_nodes)\n",
    "edge_entity_ids = set(enz_edge_entities)\n",
    "edge_entity_count = sum(1 for _id, et in G.entity_types.items() if et == \"edge\" and _id in edge_entity_ids)\n",
    "assert edge_entity_count == len(edge_entity_ids), f\"Expected {len(edge_entity_ids)} edge-entities, got {edge_entity_count}\"\n",
    "\n",
    "# Edges: PPIs (320) + complexes (12) + cascades (8) + reaction links (10*2) = 360 minimum\n",
    "assert G.number_of_edges() >= 320 + 12 + 8 + (10 * 2)\n"
   ]
  },
  {
   "cell_type": "code",
   "execution_count": 15,
   "id": "65e3e20e-0e21-43a2-a464-733819c326a8",
   "metadata": {},
   "outputs": [
    {
     "name": "stdout",
     "output_type": "stream",
     "text": [
      "[Healthy] edges_view rows = 360\n",
      "\n",
      "Top 5 binary edges by effective_weight in Healthy:\n",
      "shape: (5, 4)\n",
      "┌──────────┬────────────┬────────────┬──────────────────┐\n",
      "│ edge_id  ┆ source     ┆ target     ┆ effective_weight │\n",
      "│ ---      ┆ ---        ┆ ---        ┆ ---              │\n",
      "│ str      ┆ str        ┆ str        ┆ f64              │\n",
      "╞══════════╪════════════╪════════════╪══════════════════╡\n",
      "│ edge_344 ┆ P119       ┆ edge_rxn_3 ┆ 1.925049         │\n",
      "│ edge_356 ┆ P13        ┆ edge_rxn_9 ┆ 1.870316         │\n",
      "│ edge_345 ┆ edge_rxn_3 ┆ P131       ┆ 1.823379         │\n",
      "│ edge_349 ┆ edge_rxn_5 ┆ P23        ┆ 1.800912         │\n",
      "│ edge_134 ┆ P27        ┆ P72        ┆ 1.793373         │\n",
      "└──────────┴────────────┴────────────┴──────────────────┘\n",
      "[Stressed] edges_view rows = 360\n",
      "\n",
      "Top 5 binary edges by effective_weight in Stressed:\n",
      "shape: (5, 4)\n",
      "┌──────────┬────────────┬────────────┬──────────────────┐\n",
      "│ edge_id  ┆ source     ┆ target     ┆ effective_weight │\n",
      "│ ---      ┆ ---        ┆ ---        ┆ ---              │\n",
      "│ str      ┆ str        ┆ str        ┆ f64              │\n",
      "╞══════════╪════════════╪════════════╪══════════════════╡\n",
      "│ edge_344 ┆ P119       ┆ edge_rxn_3 ┆ 1.925049         │\n",
      "│ edge_356 ┆ P13        ┆ edge_rxn_9 ┆ 1.870316         │\n",
      "│ edge_345 ┆ edge_rxn_3 ┆ P131       ┆ 1.823379         │\n",
      "│ edge_349 ┆ edge_rxn_5 ┆ P23        ┆ 1.800912         │\n",
      "│ edge_134 ┆ P27        ┆ P72        ┆ 1.793373         │\n",
      "└──────────┴────────────┴────────────┴──────────────────┘\n",
      "[Disease] edges_view rows = 360\n",
      "\n",
      "Top 5 binary edges by effective_weight in Disease:\n",
      "shape: (5, 4)\n",
      "┌──────────┬────────────┬────────────┬──────────────────┐\n",
      "│ edge_id  ┆ source     ┆ target     ┆ effective_weight │\n",
      "│ ---      ┆ ---        ┆ ---        ┆ ---              │\n",
      "│ str      ┆ str        ┆ str        ┆ f64              │\n",
      "╞══════════╪════════════╪════════════╪══════════════════╡\n",
      "│ edge_344 ┆ P119       ┆ edge_rxn_3 ┆ 1.925049         │\n",
      "│ edge_356 ┆ P13        ┆ edge_rxn_9 ┆ 1.870316         │\n",
      "│ edge_345 ┆ edge_rxn_3 ┆ P131       ┆ 1.823379         │\n",
      "│ edge_349 ┆ edge_rxn_5 ┆ P23        ┆ 1.800912         │\n",
      "│ edge_134 ┆ P27        ┆ P72        ┆ 1.793373         │\n",
      "└──────────┴────────────┴────────────┴──────────────────┘\n"
     ]
    }
   ],
   "source": [
    "# ---------- Views & top edges by condition ----------\n",
    "import polars as pl\n",
    "\n",
    "for cond in conditions:\n",
    "    EV = G.edges_view(layer=cond, resolved_weight=True)\n",
    "    print(f\"[{cond}] edges_view rows =\", EV.height)\n",
    "    top = (\n",
    "        EV\n",
    "        .filter(pl.col(\"kind\") == \"binary\")\n",
    "        .sort(\"effective_weight\", descending=True)\n",
    "        .select([\"edge_id\", \"source\", \"target\", \"effective_weight\"])\n",
    "        .head(5)\n",
    "    )\n",
    "    print(f\"\\nTop 5 binary edges by effective_weight in {cond}:\")\n",
    "    print(top)"
   ]
  },
  {
   "cell_type": "code",
   "execution_count": 17,
   "id": "cdb4c103-a4f3-4f12-9584-a738a76c7bbc",
   "metadata": {},
   "outputs": [
    {
     "name": "stdout",
     "output_type": "stream",
     "text": [
      "\n",
      "Layer stats: {'Healthy': {'nodes': 220, 'edges': 360, 'attributes': {'condition': 'Healthy'}}, 'Stressed': {'nodes': 220, 'edges': 360, 'attributes': {'condition': 'Stressed'}}, 'Disease': {'nodes': 220, 'edges': 360, 'attributes': {'condition': 'Disease'}}}\n",
      "\n",
      "Conserved edges (in all conditions): 360\n",
      "Disease-specific edges: 0\n",
      "\n",
      "Temporal edge changes (Healthy→Stressed→Disease): [{'added': 0, 'removed': 0, 'net_change': 0}, {'added': 0, 'removed': 0, 'net_change': 0}]\n"
     ]
    }
   ],
   "source": [
    "# ---------- Layer analytics ----------\n",
    "stats = G.layer_statistics()\n",
    "print(\"\\nLayer stats:\", stats)\n",
    "\n",
    "conserved = G.conserved_edges(min_layers=3)  # present in all 3 conditions\n",
    "print(\"\\nConserved edges (in all conditions):\", len(conserved))\n",
    "\n",
    "disease_specific = G.layer_specific_edges(\"Disease\")\n",
    "print(\"Disease-specific edges:\", len(disease_specific))\n",
    "\n",
    "changes = G.temporal_dynamics([\"Healthy\", \"Stressed\", \"Disease\"], metric=\"edge_change\")\n",
    "print(\"\\nTemporal edge changes (Healthy→Stressed→Disease):\", changes)\n",
    "assert len(changes) == 2"
   ]
  },
  {
   "cell_type": "code",
   "execution_count": 19,
   "id": "572a4375-daff-41eb-8a3c-833640143ea9",
   "metadata": {},
   "outputs": [
    {
     "name": "stdout",
     "output_type": "stream",
     "text": [
      "\n",
      "Edge presence for edge_0 : ['Healthy', 'Stressed', 'Disease']\n",
      "Node presence for P132 : ['Healthy', 'Stressed', 'Disease']\n"
     ]
    }
   ],
   "source": [
    "# ---------- Presence queries ----------\n",
    "some_e = next(iter(G.edge_to_idx.keys()))\n",
    "print(\"\\nEdge presence for\", some_e, \":\", G.edge_presence_across_layers(edge_id=some_e))\n",
    "some_p = random.choice(proteins)\n",
    "print(\"Node presence for\", some_p, \":\", G.node_presence_across_layers(some_p))"
   ]
  },
  {
   "cell_type": "code",
   "execution_count": 21,
   "id": "04da2d8f-d24f-4346-9716-3441f7180cb2",
   "metadata": {},
   "outputs": [
    {
     "name": "stdout",
     "output_type": "stream",
     "text": [
      "\n",
      "Neighbors(P10) => ['P43', 'P19', 'P73', 'P37', 'P46', 'P146', 'P124', 'P142', 'P71', 'P118']\n",
      "Out(P10) => ['P43', 'P19', 'P73', 'P37', 'P46', 'P146', 'P124', 'P142', 'P71', 'P118']\n",
      "In(P10) => ['P73', 'P43', 'P19', 'P37', 'P118', 'P142', 'P46', 'P25']\n"
     ]
    }
   ],
   "source": [
    "# ---------- Traversal checks ----------\n",
    "q = random.choice(proteins)\n",
    "print(f\"\\nNeighbors({q}) =>\", G.neighbors(q)[:10])\n",
    "print(f\"Out({q}) =>\", G.out_neighbors(q)[:10])\n",
    "print(f\"In({q}) =>\", G.in_neighbors(q)[:10])"
   ]
  },
  {
   "cell_type": "code",
   "execution_count": 23,
   "id": "13b50a3e-11d4-4e72-9172-c82884cabecd",
   "metadata": {},
   "outputs": [
    {
     "name": "stdout",
     "output_type": "stream",
     "text": [
      "\n",
      "Disease subgraph: nodes = 210 edges = 360\n",
      "copy() OK\n"
     ]
    }
   ],
   "source": [
    "# ---------- Subgraph slice & copy ----------\n",
    "H = G.subgraph_from_layer(\"Disease\", resolve_layer_weights=True)\n",
    "assert set(H.nodes()).issubset(set(G.nodes()))\n",
    "assert set(H.edges()).issubset(set(G.edges()))\n",
    "print(\"\\nDisease subgraph: nodes =\", H.number_of_nodes(), \"edges =\", H.number_of_edges())\n",
    "\n",
    "K = G.copy()\n",
    "assert set(K.nodes()) == set(G.nodes())\n",
    "assert set(K.edges()) == set(G.edges())\n",
    "# hyperedge shape preserved\n",
    "any_hyper = next(e for e,k in G.edge_kind.items() if k == \"hyper\")\n",
    "assert K.edge_kind.get(any_hyper) == \"hyper\"\n",
    "# layer sets preserved\n",
    "for lid in G.list_layers(include_default=True):\n",
    "    assert K._layers[lid][\"nodes\"] == G._layers[lid][\"nodes\"]\n",
    "    assert K._layers[lid][\"edges\"] == G._layers[lid][\"edges\"]\n",
    "print(\"copy() OK\")"
   ]
  },
  {
   "cell_type": "code",
   "execution_count": 25,
   "id": "8e623fd2-a05f-411b-8774-0070b0be84ca",
   "metadata": {},
   "outputs": [
    {
     "name": "stdout",
     "output_type": "stream",
     "text": [
      "\n",
      "After removing 5 proteins: nodes = 205 edges = 339\n",
      "After removing 10 edges: nodes = 205 edges = 329\n"
     ]
    }
   ],
   "source": [
    "# ---------- Remove operations stress ----------\n",
    "to_drop_nodes = random.sample(proteins, 5)\n",
    "for n in to_drop_nodes:\n",
    "    if n in G.entity_to_idx:\n",
    "        G.remove_node(n)\n",
    "print(\"\\nAfter removing 5 proteins: nodes =\", G.number_of_nodes(), \"edges =\", G.number_of_edges())\n",
    "\n",
    "to_drop_edges = list(G.edge_to_idx.keys())[:10]\n",
    "for eid in to_drop_edges:\n",
    "    if eid in G.edge_to_idx:\n",
    "        G.remove_edge(eid)\n",
    "print(\"After removing 10 edges: nodes =\", G.number_of_nodes(), \"edges =\", G.number_of_edges())"
   ]
  },
  {
   "cell_type": "code",
   "execution_count": 27,
   "id": "c37e303c-1f8b-452e-8df2-98f282382fd8",
   "metadata": {},
   "outputs": [
    {
     "name": "stdout",
     "output_type": "stream",
     "text": [
      "\n",
      "Audit: {'extra_node_rows': ['edge_rxn_7', 'edge_rxn_3', 'edge_rxn_6', 'edge_rxn_5', 'edge_rxn_1', 'edge_rxn_2', 'edge_rxn_10', 'edge_rxn_9', 'edge_rxn_8', 'edge_rxn_4'], 'extra_edge_rows': [], 'missing_node_rows': [], 'missing_edge_rows': ['edge_283', 'edge_15', 'edge_105', 'edge_53', 'edge_147', 'edge_133', 'edge_148', 'edge_249', 'edge_122', 'edge_336', 'edge_357', 'edge_305', 'edge_170', 'edge_58', 'edge_356', 'edge_125', 'edge_166', 'edge_224', 'edge_326', 'edge_32', 'edge_277', 'edge_61', 'edge_342', 'edge_98', 'edge_219', 'edge_210', 'edge_191', 'edge_108', 'edge_67', 'edge_266', 'edge_154', 'edge_142', 'edge_215', 'edge_168', 'edge_41', 'edge_36', 'edge_113', 'edge_49', 'edge_104', 'edge_43', 'edge_131', 'edge_114', 'edge_308', 'edge_331', 'edge_95', 'edge_188', 'edge_203', 'edge_116', 'edge_227', 'edge_298', 'edge_74', 'edge_153', 'edge_291', 'edge_16', 'edge_232', 'edge_284', 'edge_146', 'edge_82', 'edge_19', 'edge_24', 'edge_204', 'edge_228', 'edge_307', 'edge_121', 'edge_316', 'edge_22', 'edge_323', 'edge_264', 'edge_97', 'edge_236', 'edge_75', 'edge_290', 'edge_235', 'edge_194', 'edge_165', 'edge_102', 'edge_353', 'edge_23', 'edge_225', 'edge_313', 'edge_80', 'edge_242', 'edge_33', 'edge_337', 'edge_45', 'edge_288', 'edge_69', 'edge_251', 'edge_196', 'edge_195', 'edge_333', 'edge_81', 'edge_25', 'edge_20', 'edge_269', 'edge_59', 'edge_39', 'edge_213', 'edge_124', 'edge_252', 'edge_329', 'edge_109', 'edge_180', 'edge_341', 'edge_257', 'edge_71', 'edge_66', 'edge_40', 'edge_12', 'edge_199', 'edge_55', 'edge_201', 'edge_161', 'edge_126', 'edge_37', 'edge_253', 'edge_138', 'edge_278', 'edge_62', 'edge_202', 'edge_259', 'edge_280', 'edge_261', 'edge_54', 'edge_299', 'edge_120', 'edge_89', 'edge_86', 'edge_47', 'edge_141', 'edge_192', 'edge_211', 'edge_42', 'edge_229', 'edge_358', 'edge_155', 'edge_301', 'edge_198', 'edge_132', 'edge_83', 'edge_65', 'edge_164', 'edge_292', 'edge_106', 'edge_240', 'edge_238', 'edge_17', 'edge_172', 'edge_167', 'edge_127', 'edge_96', 'edge_92', 'edge_319', 'edge_294', 'edge_174', 'edge_206', 'edge_223', 'edge_150', 'edge_276', 'edge_233', 'edge_254', 'edge_156', 'edge_88', 'edge_115', 'edge_330', 'edge_258', 'edge_139', 'edge_355', 'edge_286', 'edge_200', 'edge_344', 'edge_327', 'edge_51', 'edge_112', 'edge_70', 'edge_255', 'edge_181', 'edge_152', 'edge_171', 'edge_214', 'edge_352', 'edge_26', 'edge_321', 'edge_123', 'edge_103', 'edge_185', 'edge_221', 'edge_11', 'edge_197', 'edge_350', 'edge_317', 'edge_346', 'edge_50', 'edge_349', 'edge_296', 'edge_143', 'edge_38', 'edge_144', 'edge_287', 'edge_182', 'edge_68', 'edge_56', 'edge_318', 'edge_335', 'edge_169', 'edge_218', 'edge_248', 'edge_107', 'edge_84', 'edge_79', 'edge_272', 'edge_309', 'edge_271', 'edge_343', 'edge_220', 'edge_231', 'edge_135', 'edge_247', 'edge_295', 'edge_18', 'edge_302', 'edge_184', 'edge_63', 'edge_159', 'edge_304', 'edge_312', 'edge_173', 'edge_351', 'edge_64', 'edge_332', 'edge_293', 'edge_241', 'edge_44', 'edge_48', 'edge_118', 'edge_158', 'edge_90', 'edge_282', 'edge_338', 'edge_311', 'edge_226', 'edge_93', 'edge_134', 'edge_14', 'edge_315', 'edge_140', 'edge_28', 'edge_119', 'edge_190', 'edge_34', 'edge_260', 'edge_78', 'edge_176', 'edge_285', 'edge_27', 'edge_274', 'edge_10', 'edge_111', 'edge_289', 'edge_262', 'edge_137', 'edge_209', 'edge_216', 'edge_145', 'edge_162', 'edge_35', 'edge_57', 'edge_160', 'edge_87', 'edge_250', 'edge_29', 'edge_100', 'edge_348', 'edge_347', 'edge_244', 'edge_208', 'edge_207', 'edge_73', 'edge_128', 'edge_243', 'edge_76', 'edge_217', 'edge_187', 'edge_334', 'edge_183', 'edge_359', 'edge_339', 'edge_300', 'edge_354', 'edge_324', 'edge_320', 'edge_245', 'edge_13', 'edge_163', 'edge_30', 'edge_178', 'edge_110', 'edge_268', 'edge_322', 'edge_136', 'edge_281', 'edge_310', 'edge_91', 'edge_263', 'edge_101', 'edge_234', 'edge_239', 'edge_325', 'edge_193', 'edge_212', 'edge_267', 'edge_273', 'edge_129', 'edge_205', 'edge_179', 'edge_237', 'edge_222', 'edge_345', 'edge_189', 'edge_117', 'edge_265', 'edge_151', 'edge_186', 'edge_31', 'edge_46', 'edge_149', 'edge_303', 'edge_230', 'edge_306'], 'invalid_edge_layer_rows': []}\n",
      "Approx memory usage (bytes): 97094\n",
      "\n",
      "Reality-check finished ✅\n"
     ]
    }
   ],
   "source": [
    "# ---------- Audit & memory ----------\n",
    "audit = G.audit_attributes()\n",
    "print(\"\\nAudit:\", audit)\n",
    "mem_bytes = G.memory_usage()\n",
    "print(\"Approx memory usage (bytes):\", int(mem_bytes))\n",
    "assert mem_bytes > 0\n",
    "\n",
    "print(\"\\nReality-check finished ✅\")"
   ]
  },
  {
   "cell_type": "code",
   "execution_count": 29,
   "id": "e680db4e-a024-4ee0-afc6-f32759ba3ea7",
   "metadata": {},
   "outputs": [],
   "source": [
    "events = G.history()           # list[dict]\n",
    "df = G.history(as_df=True)     # Polars DF [DataFrame]"
   ]
  },
  {
   "cell_type": "code",
   "execution_count": 31,
   "id": "0f43c65f-803c-4901-bede-e67b6ca48768",
   "metadata": {},
   "outputs": [
    {
     "name": "stdout",
     "output_type": "stream",
     "text": [
      "shape: (5, 10)\n",
      "┌─────────┬─────────────────────────────┬─────────┬─────────────────┬───┬────────┬─────────┬─────────┬────────────┐\n",
      "│ version ┆ ts_utc                      ┆ mono_ns ┆ op              ┆ … ┆ result ┆ node_id ┆ layer   ┆ attributes │\n",
      "│ ---     ┆ ---                         ┆ ---     ┆ ---             ┆   ┆ ---    ┆ ---     ┆ ---     ┆ ---        │\n",
      "│ i64     ┆ str                         ┆ i64     ┆ str             ┆   ┆ str    ┆ str     ┆ str     ┆ struct[1]  │\n",
      "╞═════════╪═════════════════════════════╪═════════╪═════════════════╪═══╪════════╪═════════╪═════════╪════════════╡\n",
      "│ 1       ┆ 2025-10-04T17:28:39.150961Z ┆ 2782600 ┆ set_layer_attrs ┆ … ┆ null   ┆ null    ┆ null    ┆ null       │\n",
      "│ 2       ┆ 2025-10-04T17:28:39.150961Z ┆ 3163600 ┆ set_layer_attrs ┆ … ┆ null   ┆ null    ┆ null    ┆ null       │\n",
      "│ 3       ┆ 2025-10-04T17:28:39.151953Z ┆ 3573300 ┆ set_layer_attrs ┆ … ┆ null   ┆ null    ┆ null    ┆ null       │\n",
      "│ 4       ┆ 2025-10-04T17:28:39.152987Z ┆ 4569100 ┆ add_node        ┆ … ┆ P1     ┆ P1      ┆ Healthy ┆ {\"kinase\"} │\n",
      "│ 5       ┆ 2025-10-04T17:28:39.153946Z ┆ 5578500 ┆ add_node        ┆ … ┆ P2     ┆ P2      ┆ Healthy ┆ {\"kinase\"} │\n",
      "└─────────┴─────────────────────────────┴─────────┴─────────────────┴───┴────────┴─────────┴─────────┴────────────┘\n"
     ]
    },
    {
     "data": {
      "text/plain": [
       "[{'version': 1,\n",
       "  'ts_utc': '2025-10-04T17:28:39.150961Z',\n",
       "  'mono_ns': 2782600,\n",
       "  'op': 'set_layer_attrs',\n",
       "  'layer_id': 'Healthy',\n",
       "  'attrs': {'condition': 'Healthy'},\n",
       "  'result': None},\n",
       " {'version': 2,\n",
       "  'ts_utc': '2025-10-04T17:28:39.150961Z',\n",
       "  'mono_ns': 3163600,\n",
       "  'op': 'set_layer_attrs',\n",
       "  'layer_id': 'Stressed',\n",
       "  'attrs': {'condition': 'Stressed'},\n",
       "  'result': None},\n",
       " {'version': 3,\n",
       "  'ts_utc': '2025-10-04T17:28:39.151953Z',\n",
       "  'mono_ns': 3573300,\n",
       "  'op': 'set_layer_attrs',\n",
       "  'layer_id': 'Disease',\n",
       "  'attrs': {'condition': 'Disease'},\n",
       "  'result': None}]"
      ]
     },
     "execution_count": 31,
     "metadata": {},
     "output_type": "execute_result"
    }
   ],
   "source": [
    "print(df.head())\n",
    "events[:3]"
   ]
  },
  {
   "cell_type": "code",
   "execution_count": 33,
   "id": "114cf8d8-e753-43dc-a22e-e676e2b98bbb",
   "metadata": {},
   "outputs": [],
   "source": [
    "import sys, pathlib\n",
    "\n",
    "# add repo root to Python path\n",
    "sys.path.append(str(pathlib.Path.cwd().parent))\n",
    "\n",
    "# replace `yourpkg` with the actual package name (folder name containing core/io)\n",
    "from graphglue.io import csv as graph_csv"
   ]
  },
  {
   "cell_type": "code",
   "execution_count": 35,
   "id": "2b8ccfbe-9531-4fa3-8422-849ae843f472",
   "metadata": {},
   "outputs": [
    {
     "data": {
      "text/html": [
       "<div><style>\n",
       ".dataframe > thead > tr,\n",
       ".dataframe > tbody > tr {\n",
       "  text-align: right;\n",
       "  white-space: pre-wrap;\n",
       "}\n",
       "</style>\n",
       "<small>shape: (5, 5)</small><table border=\"1\" class=\"dataframe\"><thead><tr><th>source</th><th>target</th><th>weight</th><th>directed</th><th>layer</th></tr><tr><td>str</td><td>str</td><td>i64</td><td>bool</td><td>str</td></tr></thead><tbody><tr><td>&quot;A&quot;</td><td>&quot;B&quot;</td><td>1</td><td>true</td><td>&quot;L1&quot;</td></tr><tr><td>&quot;A&quot;</td><td>&quot;C&quot;</td><td>2</td><td>true</td><td>&quot;L1&quot;</td></tr><tr><td>&quot;B&quot;</td><td>&quot;C&quot;</td><td>3</td><td>false</td><td>&quot;L1&quot;</td></tr><tr><td>&quot;C&quot;</td><td>&quot;D&quot;</td><td>1</td><td>true</td><td>&quot;L2&quot;</td></tr><tr><td>&quot;D&quot;</td><td>&quot;A&quot;</td><td>5</td><td>true</td><td>&quot;L2&quot;</td></tr></tbody></table></div>"
      ],
      "text/plain": [
       "shape: (5, 5)\n",
       "┌────────┬────────┬────────┬──────────┬───────┐\n",
       "│ source ┆ target ┆ weight ┆ directed ┆ layer │\n",
       "│ ---    ┆ ---    ┆ ---    ┆ ---      ┆ ---   │\n",
       "│ str    ┆ str    ┆ i64    ┆ bool     ┆ str   │\n",
       "╞════════╪════════╪════════╪══════════╪═══════╡\n",
       "│ A      ┆ B      ┆ 1      ┆ true     ┆ L1    │\n",
       "│ A      ┆ C      ┆ 2      ┆ true     ┆ L1    │\n",
       "│ B      ┆ C      ┆ 3      ┆ false    ┆ L1    │\n",
       "│ C      ┆ D      ┆ 1      ┆ true     ┆ L2    │\n",
       "│ D      ┆ A      ┆ 5      ┆ true     ┆ L2    │\n",
       "└────────┴────────┴────────┴──────────┴───────┘"
      ]
     },
     "execution_count": 35,
     "metadata": {},
     "output_type": "execute_result"
    }
   ],
   "source": [
    "csv1_path = \"csv1_edges.csv\"\n",
    "pl.DataFrame({\n",
    "    \"source\": [\"A\",\"A\",\"B\",\"C\",\"D\"],\n",
    "    \"target\": [\"B\",\"C\",\"C\",\"D\",\"A\"],\n",
    "    \"weight\": [1, 2, 3, 1, 5],\n",
    "    \"directed\": [True, True, False, True, True],\n",
    "    \"layer\": [\"L1\",\"L1\",\"L1\",\"L2\",\"L2\"],\n",
    "}).write_csv(csv1_path)\n",
    "\n",
    "pl.read_csv(csv1_path).head()\n"
   ]
  },
  {
   "cell_type": "code",
   "execution_count": 45,
   "id": "75ff48e1-fe7f-4984-b545-6762c0fa8205",
   "metadata": {},
   "outputs": [
    {
     "data": {
      "text/html": [
       "<div><style>\n",
       ".dataframe > thead > tr,\n",
       ".dataframe > tbody > tr {\n",
       "  text-align: right;\n",
       "  white-space: pre-wrap;\n",
       "}\n",
       "</style>\n",
       "<small>shape: (5, 8)</small><table border=\"1\" class=\"dataframe\"><thead><tr><th>edge_id</th><th>kind</th><th>directed</th><th>global_weight</th><th>effective_weight</th><th>source</th><th>target</th><th>edge_type</th></tr><tr><td>str</td><td>str</td><td>bool</td><td>f64</td><td>f64</td><td>str</td><td>str</td><td>str</td></tr></thead><tbody><tr><td>&quot;edge_0&quot;</td><td>&quot;binary&quot;</td><td>true</td><td>1.0</td><td>1.0</td><td>&quot;A&quot;</td><td>&quot;B&quot;</td><td>&quot;regular&quot;</td></tr><tr><td>&quot;edge_1&quot;</td><td>&quot;binary&quot;</td><td>true</td><td>2.0</td><td>2.0</td><td>&quot;A&quot;</td><td>&quot;C&quot;</td><td>&quot;regular&quot;</td></tr><tr><td>&quot;edge_2&quot;</td><td>&quot;binary&quot;</td><td>true</td><td>3.0</td><td>3.0</td><td>&quot;B&quot;</td><td>&quot;C&quot;</td><td>&quot;regular&quot;</td></tr><tr><td>&quot;edge_3&quot;</td><td>&quot;binary&quot;</td><td>true</td><td>1.0</td><td>1.0</td><td>&quot;C&quot;</td><td>&quot;D&quot;</td><td>&quot;regular&quot;</td></tr><tr><td>&quot;edge_4&quot;</td><td>&quot;binary&quot;</td><td>true</td><td>5.0</td><td>5.0</td><td>&quot;D&quot;</td><td>&quot;A&quot;</td><td>&quot;regular&quot;</td></tr></tbody></table></div>"
      ],
      "text/plain": [
       "shape: (5, 8)\n",
       "┌─────────┬────────┬──────────┬───────────────┬──────────────────┬────────┬────────┬───────────┐\n",
       "│ edge_id ┆ kind   ┆ directed ┆ global_weight ┆ effective_weight ┆ source ┆ target ┆ edge_type │\n",
       "│ ---     ┆ ---    ┆ ---      ┆ ---           ┆ ---              ┆ ---    ┆ ---    ┆ ---       │\n",
       "│ str     ┆ str    ┆ bool     ┆ f64           ┆ f64              ┆ str    ┆ str    ┆ str       │\n",
       "╞═════════╪════════╪══════════╪═══════════════╪══════════════════╪════════╪════════╪═══════════╡\n",
       "│ edge_0  ┆ binary ┆ true     ┆ 1.0           ┆ 1.0              ┆ A      ┆ B      ┆ regular   │\n",
       "│ edge_1  ┆ binary ┆ true     ┆ 2.0           ┆ 2.0              ┆ A      ┆ C      ┆ regular   │\n",
       "│ edge_2  ┆ binary ┆ true     ┆ 3.0           ┆ 3.0              ┆ B      ┆ C      ┆ regular   │\n",
       "│ edge_3  ┆ binary ┆ true     ┆ 1.0           ┆ 1.0              ┆ C      ┆ D      ┆ regular   │\n",
       "│ edge_4  ┆ binary ┆ true     ┆ 5.0           ┆ 5.0              ┆ D      ┆ A      ┆ regular   │\n",
       "└─────────┴────────┴──────────┴───────────────┴──────────────────┴────────┴────────┴───────────┘"
      ]
     },
     "execution_count": 45,
     "metadata": {},
     "output_type": "execute_result"
    }
   ],
   "source": [
    "G = graph_csv.load_csv_to_graph(\n",
    "    csv1_path,\n",
    "    schema=\"auto\",            # or 'edge_list'/'incidence'/'adjacency'/'hyperedge'/'lil'\n",
    "    default_layer=None,       # fallback if no layer column is present\n",
    "    default_directed=None,    # fallback if no directed column and cannot infer\n",
    "    default_weight=1.0,\n",
    ")\n",
    "\n",
    "# Quick sanity: show first rows of an edges view (columns depend on your IncidenceGraph implementation)\n",
    "edges = G.edges_view(layer=None, include_directed=True, resolved_weight=True)\n",
    "edges.head()\n"
   ]
  },
  {
   "cell_type": "code",
   "execution_count": 47,
   "id": "1e5a569a-9453-4db7-bebd-5d5f95e3f44e",
   "metadata": {},
   "outputs": [
    {
     "ename": "AttributeError",
     "evalue": "'IncidenceGraph' object has no attribute 'entity_index'",
     "output_type": "error",
     "traceback": [
      "\u001b[1;31m---------------------------------------------------------------------------\u001b[0m",
      "\u001b[1;31mAttributeError\u001b[0m                            Traceback (most recent call last)",
      "Cell \u001b[1;32mIn[47], line 2\u001b[0m\n\u001b[0;32m      1\u001b[0m \u001b[38;5;66;03m# Count entities and edges (attribute names based on your class; adjust if different)\u001b[39;00m\n\u001b[1;32m----> 2\u001b[0m num_entities \u001b[38;5;241m=\u001b[39m \u001b[38;5;28mlen\u001b[39m(G\u001b[38;5;241m.\u001b[39mentity_index)        \u001b[38;5;66;03m# nodes + edge-entities\u001b[39;00m\n\u001b[0;32m      3\u001b[0m num_edges    \u001b[38;5;241m=\u001b[39m \u001b[38;5;28mlen\u001b[39m(G\u001b[38;5;241m.\u001b[39medge_index)          \u001b[38;5;66;03m# binary + hyper\u001b[39;00m\n\u001b[0;32m      5\u001b[0m \u001b[38;5;28mprint\u001b[39m(\u001b[38;5;124m\"\u001b[39m\u001b[38;5;124mentities:\u001b[39m\u001b[38;5;124m\"\u001b[39m, num_entities, \u001b[38;5;124m\"\u001b[39m\u001b[38;5;124medges:\u001b[39m\u001b[38;5;124m\"\u001b[39m, num_edges)\n",
      "\u001b[1;31mAttributeError\u001b[0m: 'IncidenceGraph' object has no attribute 'entity_index'"
     ]
    }
   ],
   "source": [
    "# Count entities and edges (attribute names based on your class; adjust if different)\n",
    "num_entities = len(G.entity_index)        # nodes + edge-entities\n",
    "num_edges    = len(G.edge_index)          # binary + hyper\n",
    "\n",
    "print(\"entities:\", num_entities, \"edges:\", num_edges)\n",
    "\n",
    "# A light “degree” summary from edges_view for binary edges only (skip hyper)\n",
    "df = G.edges_view(include_directed=True, resolved_weight=True, with_attributes=False)\n",
    "\n",
    "# Try to find endpoint column names robustly\n",
    "cols = {c.lower(): c for c in df.columns}\n",
    "# Common possibilities:\n",
    "src_col = next((cols[c] for c in [\"source\",\"src\",\"u\",\"from\"]), None)\n",
    "dst_col = next((cols[c] for c in [\"target\",\"dst\",\"v\",\"to\"]), None)\n",
    "\n",
    "if src_col and dst_col:\n",
    "    # out-degree (directed) / degree (undirected)\n",
    "    out_deg = df.group_by(src_col).len().rename({src_col: \"node\", \"len\": \"out_degree\"})\n",
    "    in_deg  = df.group_by(dst_col).len().rename({dst_col: \"node\", \"len\": \"in_degree\"})\n",
    "    deg = out_deg.join(in_deg, on=\"node\", how=\"outer\").fill_null(0)\n",
    "    deg = deg.with_columns((pl.col(\"out_degree\")+pl.col(\"in_degree\")).alias(\"total_degree\"))\n",
    "    deg.sort(\"total_degree\", descending=True).head(10)\n",
    "else:\n",
    "    print(\"Skip degree summary: endpoint columns not found in edges_view output (likely hyperedge-only or different schema).\")\n"
   ]
  },
  {
   "cell_type": "code",
   "execution_count": 49,
   "id": "e3e5fbcb-2a34-4072-9d7c-9c7f4c1bb8bb",
   "metadata": {},
   "outputs": [
    {
     "data": {
      "text/html": [
       "<div><style>\n",
       ".dataframe > thead > tr,\n",
       ".dataframe > tbody > tr {\n",
       "  text-align: right;\n",
       "  white-space: pre-wrap;\n",
       "}\n",
       "</style>\n",
       "<small>shape: (5, 8)</small><table border=\"1\" class=\"dataframe\"><thead><tr><th>edge_id</th><th>kind</th><th>directed</th><th>global_weight</th><th>effective_weight</th><th>source</th><th>target</th><th>edge_type</th></tr><tr><td>str</td><td>str</td><td>bool</td><td>f64</td><td>f64</td><td>str</td><td>str</td><td>str</td></tr></thead><tbody><tr><td>&quot;edge_1&quot;</td><td>&quot;binary&quot;</td><td>true</td><td>2.0</td><td>2.0</td><td>&quot;A&quot;</td><td>&quot;C&quot;</td><td>&quot;regular&quot;</td></tr><tr><td>&quot;edge_2&quot;</td><td>&quot;binary&quot;</td><td>true</td><td>3.0</td><td>3.0</td><td>&quot;B&quot;</td><td>&quot;C&quot;</td><td>&quot;regular&quot;</td></tr><tr><td>&quot;edge_3&quot;</td><td>&quot;binary&quot;</td><td>true</td><td>1.0</td><td>1.0</td><td>&quot;C&quot;</td><td>&quot;D&quot;</td><td>&quot;regular&quot;</td></tr><tr><td>&quot;edge_4&quot;</td><td>&quot;binary&quot;</td><td>true</td><td>5.0</td><td>5.0</td><td>&quot;D&quot;</td><td>&quot;A&quot;</td><td>&quot;regular&quot;</td></tr><tr><td>&quot;edge_5&quot;</td><td>&quot;binary&quot;</td><td>true</td><td>2.5</td><td>2.5</td><td>&quot;E&quot;</td><td>&quot;A&quot;</td><td>&quot;regular&quot;</td></tr></tbody></table></div>"
      ],
      "text/plain": [
       "shape: (5, 8)\n",
       "┌─────────┬────────┬──────────┬───────────────┬──────────────────┬────────┬────────┬───────────┐\n",
       "│ edge_id ┆ kind   ┆ directed ┆ global_weight ┆ effective_weight ┆ source ┆ target ┆ edge_type │\n",
       "│ ---     ┆ ---    ┆ ---      ┆ ---           ┆ ---              ┆ ---    ┆ ---    ┆ ---       │\n",
       "│ str     ┆ str    ┆ bool     ┆ f64           ┆ f64              ┆ str    ┆ str    ┆ str       │\n",
       "╞═════════╪════════╪══════════╪═══════════════╪══════════════════╪════════╪════════╪═══════════╡\n",
       "│ edge_1  ┆ binary ┆ true     ┆ 2.0           ┆ 2.0              ┆ A      ┆ C      ┆ regular   │\n",
       "│ edge_2  ┆ binary ┆ true     ┆ 3.0           ┆ 3.0              ┆ B      ┆ C      ┆ regular   │\n",
       "│ edge_3  ┆ binary ┆ true     ┆ 1.0           ┆ 1.0              ┆ C      ┆ D      ┆ regular   │\n",
       "│ edge_4  ┆ binary ┆ true     ┆ 5.0           ┆ 5.0              ┆ D      ┆ A      ┆ regular   │\n",
       "│ edge_5  ┆ binary ┆ true     ┆ 2.5           ┆ 2.5              ┆ E      ┆ A      ┆ regular   │\n",
       "└─────────┴────────┴──────────┴───────────────┴──────────────────┴────────┴────────┴───────────┘"
      ]
     },
     "execution_count": 49,
     "metadata": {},
     "output_type": "execute_result"
    }
   ],
   "source": [
    "# Add a new node and an edge on layer L3\n",
    "G.add_node(\"E\")\n",
    "eid = G.add_edge(\"E\", \"A\", layer=\"L3\", directed=True, weight=2.5)\n",
    "\n",
    "# Per-layer weight override example:\n",
    "G.set_edge_layer_attrs(\"L3\", eid, weight=3.0)\n",
    "\n",
    "# Inspect the updated edges\n",
    "G.edges_view(include_directed=True, resolved_weight=True).tail()\n"
   ]
  },
  {
   "cell_type": "code",
   "execution_count": 53,
   "id": "d4ef7aca-df81-4a77-a87a-47cd59fb7630",
   "metadata": {},
   "outputs": [
    {
     "data": {
      "text/plain": [
       "'csv2_edges_view.csv'"
      ]
     },
     "execution_count": 53,
     "metadata": {},
     "output_type": "execute_result"
    }
   ],
   "source": [
    "csv2_path = \"csv2_edges_view.csv\"\n",
    "G.edges_view(layer=None, include_directed=True, resolved_weight=True).write_csv(csv2_path)\n",
    "csv2_path\n"
   ]
  },
  {
   "cell_type": "code",
   "execution_count": 57,
   "id": "a5dad730-682b-4732-a9b4-8c65b1027746",
   "metadata": {},
   "outputs": [
    {
     "data": {
      "text/plain": [
       "'csv2_edge_list.csv'"
      ]
     },
     "execution_count": 57,
     "metadata": {},
     "output_type": "execute_result"
    }
   ],
   "source": [
    "def export_edge_list_csv(G, path, layer=None):\n",
    "    df = G.edges_view(layer=layer, include_directed=True, resolved_weight=True)\n",
    "    cols = {c.lower(): c for c in df.columns}\n",
    "    src_col = next((cols[c] for c in [\"source\",\"src\",\"u\",\"from\"]), None)\n",
    "    dst_col = next((cols[c] for c in [\"target\",\"dst\",\"v\",\"to\"]), None)\n",
    "    dir_col = next((cols[c] for c in [\"directed\"]), None)\n",
    "    w_eff   = next((cols[c] for c in [\"effective_weight\",\"weight\",\"w\"]), None)\n",
    "\n",
    "    if not (src_col and dst_col):\n",
    "        raise ValueError(\"No binary endpoint columns found; the view may be hyperedge-only. Try the generic edges_view export.\")\n",
    "\n",
    "    out = pl.DataFrame({\n",
    "        \"source\": df[src_col],\n",
    "        \"target\": df[dst_col],\n",
    "        \"weight\": df[w_eff] if w_eff else pl.Series([1.0]*df.height),\n",
    "        \"directed\": df[dir_col] if dir_col in df.columns else pl.Series([None]*df.height),\n",
    "        \"layer\": pl.Series([layer]*df.height) if layer else pl.Series([None]*df.height),\n",
    "    })\n",
    "    out.write_csv(path)\n",
    "\n",
    "# Usage:\n",
    "csv2_edge_list_path = \"csv2_edge_list.csv\"\n",
    "export_edge_list_csv(G, csv2_edge_list_path, layer=None)\n",
    "csv2_edge_list_path\n"
   ]
  },
  {
   "cell_type": "code",
   "execution_count": 59,
   "id": "92103630-b4d1-4701-9c82-57c949b5ecdb",
   "metadata": {},
   "outputs": [
    {
     "data": {
      "text/plain": [
       "24"
      ]
     },
     "execution_count": 59,
     "metadata": {},
     "output_type": "execute_result"
    }
   ],
   "source": [
    "# In-memory look at last few events\n",
    "hist = G.history(as_df=True)   # DF [DataFrame]\n",
    "hist.tail()\n",
    "\n",
    "# Save to Parquet/CSV/JSON [JavaScript Object Notation]/NDJSON [Newline-Delimited JSON]\n",
    "G.export_history(\"graph_history.parquet\")\n"
   ]
  },
  {
   "cell_type": "code",
   "execution_count": null,
   "id": "6d6485cd-62c2-4d49-bf5a-6cf897345f7d",
   "metadata": {},
   "outputs": [],
   "source": []
  },
  {
   "cell_type": "code",
   "execution_count": null,
   "id": "bf7f25bc-aa20-41b7-b67e-67558d0cbc0c",
   "metadata": {},
   "outputs": [],
   "source": []
  },
  {
   "cell_type": "code",
   "execution_count": null,
   "id": "7f4b25ae-d36e-47f0-97b1-7ed3e18cce92",
   "metadata": {},
   "outputs": [],
   "source": []
  },
  {
   "cell_type": "code",
   "execution_count": null,
   "id": "8ee21e50-62cf-4f7b-85f2-bc8b3ddb9603",
   "metadata": {},
   "outputs": [],
   "source": []
  },
  {
   "cell_type": "code",
   "execution_count": null,
   "id": "0763c570-7088-425a-9192-857cfbb4183a",
   "metadata": {},
   "outputs": [],
   "source": []
  },
  {
   "cell_type": "code",
   "execution_count": null,
   "id": "b7acef2a-c20a-4f4b-83d6-ee1987171234",
   "metadata": {},
   "outputs": [],
   "source": []
  },
  {
   "cell_type": "code",
   "execution_count": null,
   "id": "e07b1405-bebd-40ac-a88a-f0bfa5ef1350",
   "metadata": {},
   "outputs": [],
   "source": []
  }
 ],
 "metadata": {
  "kernelspec": {
   "display_name": "Python [conda env:base] *",
   "language": "python",
   "name": "conda-base-py"
  },
  "language_info": {
   "codemirror_mode": {
    "name": "ipython",
    "version": 3
   },
   "file_extension": ".py",
   "mimetype": "text/x-python",
   "name": "python",
   "nbconvert_exporter": "python",
   "pygments_lexer": "ipython3",
   "version": "3.12.7"
  }
 },
 "nbformat": 4,
 "nbformat_minor": 5
}
